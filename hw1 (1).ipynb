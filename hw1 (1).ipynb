{
 "cells": [
  {
   "cell_type": "markdown",
   "metadata": {
    "deletable": false,
    "editable": false,
    "nbgrader": {
     "cell_type": "markdown",
     "checksum": "ede02c82f45b2fcc73387c4d8593b065",
     "grade": false,
     "grade_id": "introduction",
     "locked": true,
     "schema_version": 3,
     "solution": false
    }
   },
   "source": [
    "## Homework 1\n",
    " - ### Release Date: Sunday, February 2\n",
    " - ### Due Date: Saturday, February 15 at 12:00PM"
   ]
  },
  {
   "cell_type": "markdown",
   "metadata": {
    "deletable": false,
    "editable": false,
    "nbgrader": {
     "cell_type": "markdown",
     "checksum": "d27e633c334f1fb604376b1343dcf441",
     "grade": false,
     "grade_id": "intro",
     "locked": true,
     "schema_version": 3,
     "solution": false
    }
   },
   "source": [
    "### Introduction\n",
    "\n",
    "We want to get a better understanding of surveys for collecting data. Polling agencies use surveys extensively in forecasting elections. Since the outcome of the 2016 US presidential election surprised many people, we want to determine possible bias in the data collection employed by polling agencies. Why did the predictions differ to such an extent from the outcome? Using randomization, we will attempt to understand these differences. By completing Homework 1, you should get...\n",
    "\n",
    "- Practice with simple random samples to collect data from a population. How can the **volume** of data help with the predictions? \n",
    "\n",
    "- Awareness of selection bias in surveys arising from collection of **nonrepresentative** datasets. \n",
    "\n",
    "- Experience with plotting **histograms** to visualize occurences of numbers in ranges.  \n",
    "\n",
    "- Intuition about estimating **random numbers**. We want to enable you to study problems subject to uncertainty in rigorous and reproducible ways. So we will try to develop this intuition throughout this class for your future work in data science.\n",
    "\n",
    "We will guide you through the problems step by step. However, we encourage you to discuss with us in Office Hours and on Piazza so that we can work together through these steps. \n",
    "\n",
    "#### Submission Instructions\n",
    "\n",
    "Submission of homework requires two steps. See **Homework 0** for more information.\n",
    "\n",
    "##### _Step 1_\n",
    "You are required to **submit your notebook on JupyterHub**. Please navigate to the `Assignments` tab to  \n",
    "- fetch\n",
    "- modify \n",
    "- validate\n",
    "- submit \n",
    "\n",
    "your notebook. Consult the [instructional video](https://nbgrader.readthedocs.io/en/stable/user_guide/highlights.html#student-assignment-list-extension-for-jupyter-notebooks) for more information about JupyterHub.\n",
    "\n",
    "##### _Step 2_\n",
    "You are required to **submit a copy of your notebook to Gradescope**. Follow these steps\n",
    "\n",
    "##### _Formatting Instructions_\n",
    "\n",
    "\n",
    "1. Download as HTML (`File->Download As->HTML(.html)`). \n",
    "1. Open the HTML in the browser. Print to .pdf \n",
    "1. Upload to Gradescope. Consult the [instructional video](https://www.gradescope.com/get_started#student-submission) for more information about Gradescope. \n",
    "1. Map your responses on Gradescope. i.e. Tag your answer's page numbers to the appropriate question on Gradescope. See instructional video for more information.\n",
    "\n",
    "Note that \n",
    "\n",
    "- You should break long lines of code into multiple lines. Otherwise your code will extend out of view from the cell. Consider using `\\` followed by a new line. \n",
    "- For each textual response, please include relevant code that informed your response. \n",
    "- For each plotting question, please include the code used to generate the plot. If your plot does not appear in the HTML / pdf output, then use `Image('name_of_file')` to embed it.\n",
    "- You should not display large output cells such as all rows of a table. Instead convert the input cell from Code to Markdown back to Code to remove the output cell.\n",
    "\n",
    "**Important**: Gradescope points will be awarded if and only if all the formatting instructions are followed. \n",
    "\n",
    "#### Collaboration Policy\n",
    "\n",
    "Data science is a collaborative activity. While you may talk with others about\n",
    "the homework, we ask that you **write your solutions individually**. If you do\n",
    "discuss the assignments with others please **include their names** at the top\n",
    "of your solution.\n",
    "\n",
    "**Collaborators:** *list names here*"
   ]
  },
  {
   "cell_type": "markdown",
   "metadata": {
    "deletable": false,
    "editable": false,
    "nbgrader": {
     "cell_type": "markdown",
     "checksum": "9c89c970ba6b5913b7a705bc189d0334",
     "grade": false,
     "grade_id": "cell-c5d5d329af350582",
     "locked": true,
     "schema_version": 3,
     "solution": false,
     "task": false
    }
   },
   "source": [
    "#### Rubric\n",
    "\n",
    "|Question|Points|\n",
    "|---|---|\n",
    "|1.1|1|\n",
    "|1.2|1|\n",
    "|1.3|1|\n",
    "|2.1|1|\n",
    "|2.2|1|\n",
    "|2.3|1|\n",
    "|3.1|2|\n",
    "|3.2|2|\n",
    "|3.3|2|\n",
    "|4|0 (Optional)|\n",
    "|5.1|1|\n",
    "|5.2|1|\n",
    "|6|1|\n",
    "|7.1|2|\n",
    "|7.2|1|\n",
    "|7.3|1|\n",
    "|7.4|1|\n",
    "|7.5|2|\n",
    "|7.6|1|\n",
    "|8.1|2|\n",
    "|8.2|1|\n",
    "|8.3|2|\n",
    "|8.4|1|\n",
    "|9.1|1|\n",
    "|9.2|2|\n"
   ]
  },
  {
   "cell_type": "code",
   "execution_count": 48,
   "metadata": {
    "ExecuteTime": {
     "end_time": "2018-09-12T05:50:17.975391Z",
     "start_time": "2018-09-12T05:50:17.067217Z"
    },
    "deletable": false,
    "editable": false,
    "nbgrader": {
     "cell_type": "code",
     "checksum": "bc162a77bdd26f717a5d7b1c58f4bdb9",
     "grade": false,
     "grade_id": "cell-b3036c1461e914e2",
     "locked": true,
     "schema_version": 3,
     "solution": false,
     "task": false
    }
   },
   "outputs": [],
   "source": [
    "import numpy as np\n",
    "\n",
    "import matplotlib.pyplot as plt\n",
    "import seaborn as sns\n",
    "%matplotlib inline\n",
    "plt.rcParams['figure.figsize'] = (16,8)\n",
    "plt.rcParams['figure.dpi'] = 150\n",
    "sns.set()\n",
    "\n",
    "from IPython.display import display, Latex, Markdown, Image"
   ]
  },
  {
   "cell_type": "markdown",
   "metadata": {
    "deletable": false,
    "editable": false,
    "nbgrader": {
     "cell_type": "markdown",
     "checksum": "8478de3d64cc91147e1b86a8d7dddee5",
     "grade": false,
     "grade_id": "cell-2fd385078443f777",
     "locked": true,
     "schema_version": 3,
     "solution": false,
     "task": false
    }
   },
   "source": [
    "### Background\n",
    "\n",
    "In Pennsylvania, 6,165,478 people voted in the election.\n",
    "Trump received 48.18% of the vote and Clinton recieved 47.46%.\n",
    "This doesn't add up to 100% because other candidates received votes.\n",
    "All together these other candidates received 100% - 48.18% - 47.46% = 4.36% of the vote.\n",
    "\n",
    "Suppose we could select one person at random from the 6+ million voters in Pennsylvania . We are interested in the chance that we'd choose a Trump, Clinton, or Other voter.\n",
    "\n",
    "Below is a probability table for the choice in Pennsylvania:\n",
    "\n",
    "\n",
    "|   Voted for   |  Trump|    Clinton|    Other|\n",
    "|-----------|-----------|-----------|---------|\n",
    "| Probability      |   0.4818   | 0.4746  |   0.0436 |\n",
    "| Number of people | 2,970,733  | 2,926,441 | 268,304 |"
   ]
  },
  {
   "cell_type": "markdown",
   "metadata": {
    "deletable": false,
    "editable": false,
    "nbgrader": {
     "cell_type": "markdown",
     "checksum": "929db6db05729c4f06c29239a4bad7ff",
     "grade": false,
     "grade_id": "cell-da6c0c3a44536c43",
     "locked": true,
     "schema_version": 3,
     "solution": false,
     "task": false
    }
   },
   "source": [
    "### Question 1\n",
    "\n",
    "Suppose we take a simple random sample of $n = 1500$ voters from the 6+ million voters in Pennsylvania.\n",
    "\n",
    "- What is the expected number of Trump voters?\n",
    "- What is the expected number of Clinton voters?\n",
    "\n",
    "To answer these questions, let $T_1$ be 1 if the first voter chosen for the sample voted for Trump and 0 if they voted for Clinton or another candidate. Let $T_2$ be 1 if the second voter chosen for the sample voted for Trump and 0 if they voted for Clinton or another candidate, and so on.\n",
    "\n",
    "Let's start by finding: \n",
    "$$P(T_{1000} = 1)$$\n",
    "\n",
    "$$P(T_{1000} = 0)$$\n",
    "\n",
    "$$\\mathbb{E}(T_{17})$$\n",
    "\n",
    "\n",
    "\n",
    "\n"
   ]
  },
  {
   "cell_type": "markdown",
   "metadata": {
    "deletable": false,
    "editable": false,
    "nbgrader": {
     "cell_type": "markdown",
     "checksum": "7089551d702b8bd20b48abed43cf4700",
     "grade": false,
     "grade_id": "cell-942cd5339eb3e592",
     "locked": true,
     "schema_version": 3,
     "solution": false,
     "task": false
    }
   },
   "source": [
    "#### Part 1 ####\n",
    "$P(T_{1000} = 1)$:"
   ]
  },
  {
   "cell_type": "code",
   "execution_count": 49,
   "metadata": {
    "deletable": false,
    "nbgrader": {
     "cell_type": "code",
     "checksum": "0a1489e8b94fea3424211b09a356f7d7",
     "grade": false,
     "grade_id": "cell-0e536798177576e3",
     "locked": false,
     "schema_version": 3,
     "solution": true,
     "task": false
    }
   },
   "outputs": [
    {
     "data": {
      "text/plain": [
       "0.4818"
      ]
     },
     "execution_count": 49,
     "metadata": {},
     "output_type": "execute_result"
    }
   ],
   "source": [
    "q1a_answer = .4818\n",
    "q1a_answer\n",
    "# YOUR CODE HERE\n",
    "#raise NotImplementedError()"
   ]
  },
  {
   "cell_type": "code",
   "execution_count": 50,
   "metadata": {
    "deletable": false,
    "editable": false,
    "nbgrader": {
     "cell_type": "code",
     "checksum": "accab5db3e75fb6e751e5fe93dac1adc",
     "grade": true,
     "grade_id": "cell-529689174c678a11",
     "locked": true,
     "points": 1,
     "schema_version": 3,
     "solution": false,
     "task": false
    }
   },
   "outputs": [
    {
     "data": {
      "text/plain": [
       "True"
      ]
     },
     "execution_count": 50,
     "metadata": {},
     "output_type": "execute_result"
    }
   ],
   "source": [
    "# TEST\n",
    "0 <= q1a_answer <= 1\n"
   ]
  },
  {
   "cell_type": "markdown",
   "metadata": {
    "deletable": false,
    "editable": false,
    "nbgrader": {
     "cell_type": "markdown",
     "checksum": "70ac16b24c4ad7cc3f0a39e74c0b487d",
     "grade": false,
     "grade_id": "cell-2423061409dbf2b4",
     "locked": true,
     "schema_version": 3,
     "solution": false,
     "task": false
    }
   },
   "source": [
    "#### Part 2 ####\n",
    "$P(T_{1000} = 0)$:"
   ]
  },
  {
   "cell_type": "code",
   "execution_count": 51,
   "metadata": {
    "deletable": false,
    "nbgrader": {
     "cell_type": "code",
     "checksum": "0c2c97bc21666dbe48ec0f988e812a4f",
     "grade": false,
     "grade_id": "cell-5326b087c6823bf6",
     "locked": false,
     "schema_version": 3,
     "solution": true,
     "task": false
    }
   },
   "outputs": [
    {
     "data": {
      "text/plain": [
       "0.5182"
      ]
     },
     "execution_count": 51,
     "metadata": {},
     "output_type": "execute_result"
    }
   ],
   "source": [
    "# P(Not Trump) = 1 - trump\n",
    "q1b_answer = 1 - .4818\n",
    "q1b_answer\n",
    "# YOUR CODE HERE\n",
    "#raise NotImplementedError()"
   ]
  },
  {
   "cell_type": "code",
   "execution_count": 52,
   "metadata": {
    "deletable": false,
    "editable": false,
    "nbgrader": {
     "cell_type": "code",
     "checksum": "8b637e6ad13e08d88dbdb4b3facdb758",
     "grade": true,
     "grade_id": "cell-a2b774602249c976",
     "locked": true,
     "points": 1,
     "schema_version": 3,
     "solution": false,
     "task": false
    }
   },
   "outputs": [
    {
     "data": {
      "text/plain": [
       "True"
      ]
     },
     "execution_count": 52,
     "metadata": {},
     "output_type": "execute_result"
    }
   ],
   "source": [
    "# TEST\n",
    "0 <= q1b_answer <= 1\n"
   ]
  },
  {
   "cell_type": "markdown",
   "metadata": {
    "deletable": false,
    "editable": false,
    "nbgrader": {
     "cell_type": "markdown",
     "checksum": "6d93e55fcacf68aab2cfcba5079155cc",
     "grade": false,
     "grade_id": "cell-33bea5e5b92d7396",
     "locked": true,
     "schema_version": 3,
     "solution": false,
     "task": false
    }
   },
   "source": [
    "#### Part 3 ####\n",
    "$E(T_{17})$:\n"
   ]
  },
  {
   "cell_type": "code",
   "execution_count": 53,
   "metadata": {
    "deletable": false,
    "nbgrader": {
     "cell_type": "code",
     "checksum": "d8f7c0b5d78ec010d3dc6f6d6c3e2bdb",
     "grade": false,
     "grade_id": "cell-2fffd5f55b0d48d3",
     "locked": false,
     "schema_version": 3,
     "solution": true,
     "task": false
    }
   },
   "outputs": [
    {
     "data": {
      "text/plain": [
       "0.4818"
      ]
     },
     "execution_count": 53,
     "metadata": {},
     "output_type": "execute_result"
    }
   ],
   "source": [
    "q1c_answer = (1 * .4818) + (0 * .4716)\n",
    "q1c_answer\n",
    "# YOUR CODE HERE\n",
    "#raise NotImplementedError()"
   ]
  },
  {
   "cell_type": "code",
   "execution_count": 54,
   "metadata": {
    "deletable": false,
    "editable": false,
    "nbgrader": {
     "cell_type": "code",
     "checksum": "d3dcdc8d51a05b44afa3d1f83deb1b12",
     "grade": true,
     "grade_id": "cell-42f57bcaec136471",
     "locked": true,
     "points": 1,
     "schema_version": 3,
     "solution": false,
     "task": false
    }
   },
   "outputs": [
    {
     "data": {
      "text/plain": [
       "True"
      ]
     },
     "execution_count": 54,
     "metadata": {},
     "output_type": "execute_result"
    }
   ],
   "source": [
    "# TEST\n",
    "0 <= q1c_answer <= 1\n"
   ]
  },
  {
   "cell_type": "markdown",
   "metadata": {
    "deletable": false,
    "editable": false,
    "nbgrader": {
     "cell_type": "markdown",
     "checksum": "8802719a358893090db2e515d500b6dc",
     "grade": false,
     "grade_id": "cell-ecd4e83d06c3e9da",
     "locked": true,
     "schema_version": 3,
     "solution": false,
     "task": false
    }
   },
   "source": [
    "### Question 2\n",
    "\n",
    "For each voter chosen for the sample, let's keep track of whether they voted for Trump, Clinton, or another candidate.\n",
    "\n",
    "We can do this with the triple $(T_i, C_i, O_i)$, $i = 1, 2, \\ldots, 1500$, where \n",
    "\n",
    "- $T_i = 1$ if the $i$th voter sampled voted for Trump and 0 otherwise (this is the same random variable as in Question 1), <br>\n",
    "- $C_i = 1$ if the $i$th voter sampled voted for Clinton and 0 otherwise, and <br>\n",
    "- $O_i = 1$ if the $i$th voter sampled voted for another candidate and 0 otherwise.\n",
    "\n",
    "#### Part 1 ####\n",
    "\n",
    "Find\n",
    "\n",
    "$$ T_{17} + C_{17} + O_{17} = ?$$\n",
    "\n"
   ]
  },
  {
   "cell_type": "code",
   "execution_count": 55,
   "metadata": {
    "deletable": false,
    "nbgrader": {
     "cell_type": "code",
     "checksum": "3981a59d6ccc77920c69ce0c1cfe9073",
     "grade": false,
     "grade_id": "cell-878b474b69005060",
     "locked": false,
     "schema_version": 3,
     "solution": true,
     "task": false
    }
   },
   "outputs": [],
   "source": [
    "q2a_answer = 1\n",
    "\n",
    "# YOUR CODE HERE\n",
    "#raise NotImplementedError()"
   ]
  },
  {
   "cell_type": "code",
   "execution_count": 56,
   "metadata": {
    "deletable": false,
    "editable": false,
    "nbgrader": {
     "cell_type": "code",
     "checksum": "ea7db378ea50c8883f0fd6dbce99690d",
     "grade": true,
     "grade_id": "cell-91670246092fae7d",
     "locked": true,
     "points": 1,
     "schema_version": 3,
     "solution": false,
     "task": false
    }
   },
   "outputs": [
    {
     "data": {
      "text/plain": [
       "True"
      ]
     },
     "execution_count": 56,
     "metadata": {},
     "output_type": "execute_result"
    }
   ],
   "source": [
    "# TEST\n",
    "0 <= q2a_answer <= 1\n"
   ]
  },
  {
   "cell_type": "markdown",
   "metadata": {
    "deletable": false,
    "editable": false,
    "nbgrader": {
     "cell_type": "markdown",
     "checksum": "08a4306ede7d7f243f2a0e904b94dd5a",
     "grade": false,
     "grade_id": "cell-6167b90107d4c02a",
     "locked": true,
     "schema_version": 3,
     "solution": false,
     "task": false
    }
   },
   "source": [
    "#### Part 2 ####\n",
    "\n",
    "Define $N_T = \\sum_{i=1}^{1500} T_i$ and $N_C = \\sum_{i=1}^{1500} C_i$, and\n",
    "$N_O = \\sum_{i=1}^{1500} O_i$\n",
    "\n",
    "Notice that because they are sums of random variables, $N_T$ and $N_C$ and $N_O$ are random variables, too.\n",
    "\n",
    "Find the expected value of $N_T$, i.e.,\n",
    "\n",
    "$$\\mathbb{E}(N_T)$$\n",
    "\n",
    "In other words, find the expected number of Trump voters in our simple random sample of 1500 voters from Pennsylvania."
   ]
  },
  {
   "cell_type": "code",
   "execution_count": 57,
   "metadata": {
    "deletable": false,
    "nbgrader": {
     "cell_type": "code",
     "checksum": "283eb66e7056c6f816b60c712aa157b9",
     "grade": false,
     "grade_id": "cell-85e522d53831ef33",
     "locked": false,
     "schema_version": 3,
     "solution": true,
     "task": false
    }
   },
   "outputs": [
    {
     "data": {
      "text/plain": [
       "722.7"
      ]
     },
     "execution_count": 57,
     "metadata": {},
     "output_type": "execute_result"
    }
   ],
   "source": [
    "#sample\n",
    "n = 1500\n",
    "TP = .4818\n",
    "CP = .4746\n",
    "OP = .0436\n",
    "\n",
    "q2b_answer = (1 * TP) * n \n",
    "q2b_answer\n",
    "# YOUR CODE HERE\n",
    "#raise NotImplementedError()"
   ]
  },
  {
   "cell_type": "code",
   "execution_count": 58,
   "metadata": {
    "deletable": false,
    "editable": false,
    "nbgrader": {
     "cell_type": "code",
     "checksum": "1b9ed5b6a810e626e2dbff4adf278b2b",
     "grade": true,
     "grade_id": "cell-06a8fc62f10d6ebb",
     "locked": true,
     "points": 1,
     "schema_version": 3,
     "solution": false,
     "task": false
    }
   },
   "outputs": [
    {
     "data": {
      "text/plain": [
       "True"
      ]
     },
     "execution_count": 58,
     "metadata": {},
     "output_type": "execute_result"
    }
   ],
   "source": [
    "# TEST\n",
    "0 <= q2b_answer <= 4500\n"
   ]
  },
  {
   "cell_type": "markdown",
   "metadata": {
    "deletable": false,
    "editable": false,
    "nbgrader": {
     "cell_type": "markdown",
     "checksum": "2e3019e21affe13ef6fdb7eeb9bcfe0c",
     "grade": false,
     "grade_id": "cell-7d64a683eea1a175",
     "locked": true,
     "schema_version": 3,
     "solution": false,
     "task": false
    }
   },
   "source": [
    "#### Part 3 ####\n",
    "Find\n",
    "$$N_T + N_C + N_O = ?$$\n"
   ]
  },
  {
   "cell_type": "code",
   "execution_count": 59,
   "metadata": {
    "deletable": false,
    "nbgrader": {
     "cell_type": "code",
     "checksum": "eceed5ea69f9a69f36e5283690ec119d",
     "grade": false,
     "grade_id": "cell-b6ef2903d8d1f21b",
     "locked": false,
     "schema_version": 3,
     "solution": true,
     "task": false
    }
   },
   "outputs": [],
   "source": [
    "q2c_answer = 1500\n",
    "\n",
    "# YOUR CODE HERE\n",
    "#raise NotImplementedError()"
   ]
  },
  {
   "cell_type": "code",
   "execution_count": 60,
   "metadata": {
    "deletable": false,
    "editable": false,
    "nbgrader": {
     "cell_type": "code",
     "checksum": "60fe1c84a3a92bfbc3b0d8f32348e4d7",
     "grade": true,
     "grade_id": "cell-ebcd647ae5cb4110",
     "locked": true,
     "points": 1,
     "schema_version": 3,
     "solution": false,
     "task": false
    }
   },
   "outputs": [
    {
     "data": {
      "text/plain": [
       "True"
      ]
     },
     "execution_count": 60,
     "metadata": {},
     "output_type": "execute_result"
    }
   ],
   "source": [
    "# TEST\n",
    "0 <= q2c_answer <= 4500\n"
   ]
  },
  {
   "cell_type": "markdown",
   "metadata": {
    "deletable": false,
    "editable": false,
    "nbgrader": {
     "cell_type": "markdown",
     "checksum": "bf3f01ad27ceada873874561fb01423f",
     "grade": false,
     "grade_id": "cell-5f89eeab8b528e4e",
     "locked": true,
     "schema_version": 3,
     "solution": false,
     "task": false
    }
   },
   "source": [
    "### Question 3\n",
    "\n",
    "Given our population of Pennsylvania voters, every possible SRS has a certain well defined probability of occurring. For example, if we collected a SRS of only 2 voters without replacement (instead of 1500), the chance of each SRS is given in the probability distribution table below:\n",
    "\n",
    "|   $N_T$   |  $N_C$    |    $N_O$  |    $p$    |\n",
    "|-----------|-----------|-----------|-----------|\n",
    "|    0      |   0       |      2    |   0.00189373515   |\n",
    "|    0      |   1       |      1    |   0.04131080160    |\n",
    "|    1      |   0       |      1    |   0.04193604504   |\n",
    "|    0      |   2       |      0    |   0.22529213625   |\n",
    "|    1      |   1       |      0    |   0.45740422268   |\n",
    "|    2      |   0       |      0    |   0.23216338697   |\n",
    "\n",
    "\n",
    "\n",
    "As an exercise in probability, we will have you compute similar probabilities for a simple random sample of 4 people without replacement.\n",
    "\n",
    "#### Part 1 ####\n",
    "\n",
    "Find the following probability. \n",
    "\n",
    "$$ P(N_T = 4, N_C = 0, N_O = 0)$$\n",
    "\n",
    "Hint: It is a product of four fractions, each of which has a distinct numerator and denominator."
   ]
  },
  {
   "cell_type": "code",
   "execution_count": 61,
   "metadata": {
    "deletable": false,
    "nbgrader": {
     "cell_type": "code",
     "checksum": "63b7f6ec83f0db12e467dc67a3388a91",
     "grade": false,
     "grade_id": "cell-faafb206610a07b0",
     "locked": false,
     "schema_version": 3,
     "solution": true,
     "task": false
    }
   },
   "outputs": [
    {
     "name": "stdout",
     "output_type": "stream",
     "text": [
      "0.48183336312285924\n",
      "0.48183327907962353\n",
      "0.4818331950363605\n",
      "0.4818331109930703\n",
      "0.053899783163414004\n"
     ]
    },
    {
     "data": {
      "text/plain": [
       "'\\n#Testing to see if answer matches shown\\nprint((TV / n) * ((TV - 1) / (n - 1)))\\nprint(0.23216338697)\\n# It seems I was wrong\\n\\nprint((TV/n) * (1/4))\\nprint(((TV - 1) / (n - 1) * (1/3)))\\nprint(((TV - 2) / (n - 2) * (1/2)))\\nprint((TV - 3) / (n - 3) * 1)\\n\\nprint(((TV / n) * .5) * ((TV - 1) / (n - 1)))\\nprint(0.23216338697)\\n'"
      ]
     },
     "execution_count": 61,
     "metadata": {},
     "output_type": "execute_result"
    }
   ],
   "source": [
    "n = 6165478\n",
    "TV = 2970733\n",
    "# Since all the samples will contain 4 trump voters we don't need to consider different permuations \n",
    "q3a_answer = (TV / n) * ((TV - 1) / (n - 1)) * ((TV - 2)/(n - 2)) * ((TV - 3)/(n - 3))\n",
    "#Finding 4 TV in a SRS without Replacement\n",
    "print(TV/n)\n",
    "print((TV - 1) / (n - 1))\n",
    "print((TV - 2) / (n - 2))\n",
    "print((TV - 3) / (n - 3))\n",
    "\n",
    "#Printing answer\n",
    "print(q3a_answer)\n",
    "\"\"\"\n",
    "#Testing to see if answer matches shown\n",
    "print((TV / n) * ((TV - 1) / (n - 1)))\n",
    "print(0.23216338697)\n",
    "# It seems I was wrong\n",
    "\n",
    "print((TV/n) * (1/4))\n",
    "print(((TV - 1) / (n - 1) * (1/3)))\n",
    "print(((TV - 2) / (n - 2) * (1/2)))\n",
    "print((TV - 3) / (n - 3) * 1)\n",
    "\n",
    "print(((TV / n) * .5) * ((TV - 1) / (n - 1)))\n",
    "print(0.23216338697)\n",
    "\"\"\"\n",
    "# YOUR CODE HERE\n",
    "#raise NotImplementedError()"
   ]
  },
  {
   "cell_type": "code",
   "execution_count": 62,
   "metadata": {
    "deletable": false,
    "editable": false,
    "nbgrader": {
     "cell_type": "code",
     "checksum": "233a0b9ebd2958c6e8362f2c1e15b1cc",
     "grade": true,
     "grade_id": "cell-9a937fea4106f921",
     "locked": true,
     "points": 2,
     "schema_version": 3,
     "solution": false,
     "task": false
    }
   },
   "outputs": [
    {
     "data": {
      "text/plain": [
       "True"
      ]
     },
     "execution_count": 62,
     "metadata": {},
     "output_type": "execute_result"
    }
   ],
   "source": [
    "# TEST\n",
    "0 <= q3a_answer <= 1\n"
   ]
  },
  {
   "cell_type": "markdown",
   "metadata": {
    "deletable": false,
    "editable": false,
    "nbgrader": {
     "cell_type": "markdown",
     "checksum": "4ad85504ee94c51f3f02944371e645ba",
     "grade": false,
     "grade_id": "cell-ddcf1eaed8f76658",
     "locked": true,
     "schema_version": 3,
     "solution": false,
     "task": false
    }
   },
   "source": [
    "#### Part 2 ####\n",
    "\n",
    "The answer from part 1 was a bit unwieldy.\n",
    "\n",
    "We can simplify the problem by assuming that the draws are *with replacement*. That is, once a draw is picked as a sample, it can be picked again in the future. In this case, what is the following probability:\n",
    "\n",
    "$$ P(N_T = 4, N_C = 0, N_O = 0)$$\n"
   ]
  },
  {
   "cell_type": "code",
   "execution_count": 63,
   "metadata": {
    "deletable": false,
    "nbgrader": {
     "cell_type": "code",
     "checksum": "e3ac4785e11eee833a46edf9f4de2f1d",
     "grade": false,
     "grade_id": "cell-c4f464230d823be9",
     "locked": false,
     "schema_version": 3,
     "solution": true,
     "task": false
    }
   },
   "outputs": [],
   "source": [
    "TP = .4818\n",
    "CP = .4746\n",
    "OP = .0436\n",
    "# Since all the samples will contain 4 trump voters we don't need to consider different permuations \n",
    "q3b_answer = TP * TP * TP * TP\n",
    "\n",
    "# YOUR CODE HERE\n",
    "#raise NotImplementedError()"
   ]
  },
  {
   "cell_type": "code",
   "execution_count": 64,
   "metadata": {
    "deletable": false,
    "editable": false,
    "nbgrader": {
     "cell_type": "code",
     "checksum": "56e984e719b8f1bb083d5958f76a5b5c",
     "grade": true,
     "grade_id": "cell-c4f464230d823be11111",
     "locked": true,
     "points": 1,
     "schema_version": 3,
     "solution": false,
     "task": false
    }
   },
   "outputs": [
    {
     "data": {
      "text/plain": [
       "True"
      ]
     },
     "execution_count": 64,
     "metadata": {},
     "output_type": "execute_result"
    }
   ],
   "source": [
    "# TEST\n",
    "0 <= q3b_answer <= 1\n"
   ]
  },
  {
   "cell_type": "code",
   "execution_count": 65,
   "metadata": {
    "deletable": false,
    "editable": false,
    "nbgrader": {
     "cell_type": "code",
     "checksum": "7f0f484cbed1e6256744520710e94ae3",
     "grade": true,
     "grade_id": "cell-cf0af0efe77e093a",
     "locked": true,
     "points": 1,
     "schema_version": 3,
     "solution": false,
     "task": false
    }
   },
   "outputs": [
    {
     "data": {
      "text/plain": [
       "True"
      ]
     },
     "execution_count": 65,
     "metadata": {},
     "output_type": "execute_result"
    }
   ],
   "source": [
    "# TEST\n",
    "0 <= q3b_answer <= 1\n"
   ]
  },
  {
   "cell_type": "markdown",
   "metadata": {
    "deletable": false,
    "editable": false,
    "nbgrader": {
     "cell_type": "markdown",
     "checksum": "fad979d6dc3e202675776ff7df080098",
     "grade": false,
     "grade_id": "cell-a8b329be4a1cf943",
     "locked": true,
     "schema_version": 3,
     "solution": false,
     "task": false
    }
   },
   "source": [
    "#### Part 3 ####\n",
    "\n",
    "Under this same simplfying assumption (that we sample with replacement), find the following probabilities: \n",
    "\n",
    "$$ P(N_T = 2, N_C = 2, N_O = 0)$$\n"
   ]
  },
  {
   "cell_type": "code",
   "execution_count": 66,
   "metadata": {
    "deletable": false,
    "nbgrader": {
     "cell_type": "code",
     "checksum": "074d768c9ae3d9cbc910205d1b6fde6a",
     "grade": false,
     "grade_id": "cell-a98c0f932fa30b60",
     "locked": false,
     "schema_version": 3,
     "solution": true,
     "task": false
    }
   },
   "outputs": [
    {
     "data": {
      "text/plain": [
       "0.31371862976879045"
      ]
     },
     "execution_count": 66,
     "metadata": {},
     "output_type": "execute_result"
    }
   ],
   "source": [
    "TP = .4818\n",
    "CP = .4746\n",
    "OP = .0436\n",
    "sample = 4\n",
    "groups = 2\n",
    "factorial = np.math.factorial(4)/(np.math.factorial(2) * np.math.factorial(4-2))\n",
    "q3c1_answer = factorial * TP * TP * CP * CP\n",
    "q3c1_answer\n",
    "\n",
    "#(TP * (1/factorial)) + (TP * (1/factorial)) + (CP * (1/factorial)) + (CP * (1/factorial))\n",
    "\n",
    "# YOUR CODE HERE\n",
    "#raise NotImplementedError()"
   ]
  },
  {
   "cell_type": "code",
   "execution_count": 67,
   "metadata": {
    "deletable": false,
    "editable": false,
    "nbgrader": {
     "cell_type": "code",
     "checksum": "cc56e5d03b6bd2b857329391defea5b3",
     "grade": true,
     "grade_id": "cell-720c3da1a4d6cddb",
     "locked": true,
     "points": 1,
     "schema_version": 3,
     "solution": false,
     "task": false
    }
   },
   "outputs": [
    {
     "data": {
      "text/plain": [
       "True"
      ]
     },
     "execution_count": 67,
     "metadata": {},
     "output_type": "execute_result"
    }
   ],
   "source": [
    "# TEST\n",
    "0 <= q3c1_answer <= 1\n"
   ]
  },
  {
   "cell_type": "markdown",
   "metadata": {
    "deletable": false,
    "editable": false,
    "nbgrader": {
     "cell_type": "markdown",
     "checksum": "4d24ac0daaa3cb003bfd2fc44d4b7fec",
     "grade": false,
     "grade_id": "cell-6569d66444bd1cc4",
     "locked": true,
     "schema_version": 3,
     "solution": false,
     "task": false
    }
   },
   "source": [
    "$$ P(N_T = 2, N_C = 1, N_O = 1)$$\n",
    "\n"
   ]
  },
  {
   "cell_type": "code",
   "execution_count": 68,
   "metadata": {
    "deletable": false,
    "nbgrader": {
     "cell_type": "code",
     "checksum": "63080de5545faa60c2aa44144972c61c",
     "grade": false,
     "grade_id": "cell-e8c8461a4e6c774b",
     "locked": false,
     "schema_version": 3,
     "solution": true,
     "task": false
    }
   },
   "outputs": [
    {
     "name": "stdout",
     "output_type": "stream",
     "text": [
      "12.0\n"
     ]
    },
    {
     "data": {
      "text/plain": [
       "0.057640675338892805"
      ]
     },
     "execution_count": 68,
     "metadata": {},
     "output_type": "execute_result"
    }
   ],
   "source": [
    "factorial = np.math.factorial(4)/(np.math.factorial(2)* np.math.factorial(1) * np.math.factorial(1))\n",
    "q3c2_answer = TP * TP * CP * OP * factorial\n",
    "print(factorial)\n",
    "q3c2_answer\n",
    "# YOUR CODE HERE\n",
    "#raise NotImplementedError()"
   ]
  },
  {
   "cell_type": "code",
   "execution_count": 69,
   "metadata": {
    "deletable": false,
    "editable": false,
    "nbgrader": {
     "cell_type": "code",
     "checksum": "53c98023c97e555f7437566f8a9a11d2",
     "grade": true,
     "grade_id": "cell-e5f1ba58809c37fb",
     "locked": true,
     "points": 1,
     "schema_version": 3,
     "solution": false,
     "task": false
    }
   },
   "outputs": [
    {
     "data": {
      "text/plain": [
       "True"
      ]
     },
     "execution_count": 69,
     "metadata": {},
     "output_type": "execute_result"
    }
   ],
   "source": [
    "# TEST\n",
    "0 <= q3c2_answer <= 1\n"
   ]
  },
  {
   "cell_type": "markdown",
   "metadata": {
    "deletable": false,
    "editable": false,
    "nbgrader": {
     "cell_type": "markdown",
     "checksum": "f02675a74535f9eb6b4dd5c2c60013fa",
     "grade": false,
     "grade_id": "cell-bfa1c5c77a4804e2",
     "locked": true,
     "schema_version": 3,
     "solution": false,
     "task": false
    }
   },
   "source": [
    "### Question 4 (Optional)\n",
    "\n",
    "Can you generalize the above probability calculation and\n",
    "express the probability in terms of a probability mass function?\n",
    "\n",
    "To set up the problem, let random variables $N_1, N_2, N_3$ be the number of Trump, Clinton, and Other voters selected, respectively.\n",
    "\n",
    "Let $p_1, p_2, p_3$ be the chance of a Trump, Clinton, Other voter being chosen, respectively,\n",
    "and let $n$ be the size of the sample drawn (with replacement).\n",
    "\n",
    "In general, what is\n",
    "\n",
    "$$ P(N_1 = k_1, N_2 = k_2, N_3 = k_3) = ?$$\n",
    "\n",
    "Hint: The answer involves $n!, k_1!, k_2!, k_3!$ and $p_1, p_2, p_3$ raised to various powers. Also note this may be a particularly tough problem depending on your math background. Take your time, and please discuss with fellow students and instructors. You don't need to get this problem right to complete the questions later in this homework.\n"
   ]
  },
  {
   "cell_type": "markdown",
   "metadata": {},
   "source": [
    "##### YOUR ANSWER HERE\n",
    "\n"
   ]
  },
  {
   "cell_type": "markdown",
   "metadata": {
    "deletable": false,
    "editable": false,
    "nbgrader": {
     "cell_type": "markdown",
     "checksum": "fc70d81ccc7ce23c6728766d1a0c0216",
     "grade": false,
     "grade_id": "codebook",
     "locked": true,
     "schema_version": 3,
     "solution": false
    }
   },
   "source": [
    "## Election Polling\n",
    "\n",
    "Political polling is a type of public opinion polling that can at best represent a snapshot of public opinion at the particular moment in time. Voter opinion shifts from week to week, even day to day, as candidates battle it out on the campaign field.\n",
    "\n",
    "Polls usually start with a \"horse-race\" question, where respondents are asked whom they would vote for in a head-to-head race if the election were tomorrow: Candidate A or Candidate B. The survey begins with this question so that the respondent is not influenced by any of the other questions asked in the survey. Some of these other questions are asked to help assess how likely is it that the respondent will vote. Other questions are asked about age, education, and sex in order to adjust the findings if one group appears overly represented in the sample.\n",
    "\n",
    "Pollsters typically use [random digit dialing](https://en.wikipedia.org/wiki/Random_digit_dialing) to contact people."
   ]
  },
  {
   "cell_type": "markdown",
   "metadata": {
    "deletable": false,
    "editable": false,
    "nbgrader": {
     "cell_type": "markdown",
     "checksum": "ff58818b2fff0c5ccf7afc64e7e61948",
     "grade": false,
     "grade_id": "cell-eb8824a13661cbe8",
     "locked": true,
     "schema_version": 3,
     "solution": false,
     "task": false
    }
   },
   "source": [
    "### Question 5\n",
    "\n",
    "#### Part 1 ####\n",
    "\n",
    "If we're trying to predict the results of the Clinton vs. Trump presidential race, what is the population of interest? \n"
   ]
  },
  {
   "cell_type": "markdown",
   "metadata": {},
   "source": [
    "##### YOUR ANSWER HERE\n",
    "\n",
    "The eligible voting population"
   ]
  },
  {
   "cell_type": "markdown",
   "metadata": {
    "deletable": false,
    "editable": false,
    "nbgrader": {
     "cell_type": "markdown",
     "checksum": "2cf89beded7ce98454e79b584e155eb0",
     "grade": false,
     "grade_id": "cell-5a5f851db609367a",
     "locked": true,
     "schema_version": 3,
     "solution": false
    }
   },
   "source": [
    "#### Part 2 ####\n",
    "\n",
    "What is the sampling frame?"
   ]
  },
  {
   "cell_type": "markdown",
   "metadata": {},
   "source": [
    "##### YOUR ANSWER HERE\n",
    "\n",
    "People who have telephones in the United States"
   ]
  },
  {
   "cell_type": "markdown",
   "metadata": {
    "deletable": false,
    "editable": false,
    "nbgrader": {
     "cell_type": "markdown",
     "checksum": "c62cb3c86f4e5b50445029487f76d60d",
     "grade": false,
     "grade_id": "examine-contents",
     "locked": true,
     "schema_version": 3,
     "solution": false
    }
   },
   "source": [
    "### How might the sampling frame differ from the population?\n",
    "\n",
    "After the fact, many experts have studied the 2016 election results. For example, according to the American Association for Public Opinion Research (AAPOR), predictions made before the election were flawed for three key reasons:\n",
    "\n",
    "1. voters changed their preferences a few days before the election\n",
    "2. those sampled were not representative of the voting population, e.g., some said that there was an overrepresentation of college graduates in some poll samples \n",
    "3. voters kept their support for Trump to themselves (hidden from the pollsters)\n",
    "\n",
    "In the next two problems on this homework, we will do two things:\n",
    "\n",
    "+ HW Question 7: We will carry out a study of the sampling error when there is no bias. In other words, we will try to compute the chance that we get the election result wrong even if we collect our sample in a manner that is completely correct. In this case, any failure of our prediction is due entirely to random chance.\n",
    "+ HW Question 8: We will carry out a study of the sampling error when there is bias of the second type from the list above. In other words, we will try to compute the chance that we get the election result wrong if we have a small systematic bias. In this case, any failure of our prediction is due to a combination of random chance and our bias.\n"
   ]
  },
  {
   "cell_type": "markdown",
   "metadata": {
    "deletable": false,
    "editable": false,
    "nbgrader": {
     "cell_type": "markdown",
     "checksum": "ae46ece580454cabd58bf6cb8585c63f",
     "grade": false,
     "grade_id": "cell-879e79529ee04a71",
     "locked": true,
     "schema_version": 3,
     "solution": false,
     "task": false
    }
   },
   "source": [
    "### Question 6\n",
    "\n",
    "Why can't we assess the impact of the other two biases (voters changing preference and voters hiding their preference)? \n",
    "\n",
    "Note: You might find it easier to complete this question after you've completed the rest of the homework including the simulation study.\n"
   ]
  },
  {
   "cell_type": "markdown",
   "metadata": {},
   "source": [
    "##### YOUR ANSWER HERE\n",
    "It is impossible to prevent people from hiding their preference, we can't control if people are telling the truth. This is the main issue with response bias as the poller can only rely on what people tell us about how they feel or what their intentions are.\n",
    "Voters changing their preferences is a form of drift and is hard to account for because it is often not measurable after the sample/population has been collected. "
   ]
  },
  {
   "cell_type": "markdown",
   "metadata": {
    "deletable": false,
    "editable": false,
    "nbgrader": {
     "cell_type": "markdown",
     "checksum": "378c3a8e2cc6f1f5c0cf4855f3554769",
     "grade": false,
     "grade_id": "examine-size",
     "locked": true,
     "schema_version": 3,
     "solution": false
    }
   },
   "source": [
    "### How large was the sampling error?\n",
    "\n",
    "In some states the race was very close, and it may have been simply sampling error, i.e., random chance that the majority of the voters chosen for the sample voted for Clinton. \n",
    "\n",
    "One year after the 2016 election, Nate Silver wrote  in\n",
    "*The Media Has A Probability Problem* that\n",
    "the \"media’s demand for certainty -- and its lack of statistical rigor -- is a bad match for our complex world.\"\n",
    "FiveThirtyEight forecasted that Clinton had about a 70 percent chance of winning.  \n",
    "\n",
    "\n",
    "A 2- or 3-point polling error in Trump’s favor (typical error historically)  would likely be enough to tip the Electoral College to him. \n",
    "\n",
    "We will first carry out a simulation study to assess the impact of the sampling error on the predictions.\n"
   ]
  },
  {
   "cell_type": "markdown",
   "metadata": {
    "deletable": false,
    "editable": false,
    "nbgrader": {
     "cell_type": "markdown",
     "checksum": "9e6b15a2de27a825957a20dcef344c67",
     "grade": false,
     "grade_id": "load-data",
     "locked": true,
     "schema_version": 3,
     "solution": false
    }
   },
   "source": [
    "## The Electoral College\n",
    "\n",
    "The US president is chosen by the Electoral College, not by the\n",
    "popular vote. Each state is alotted a certan number of \n",
    "electoral college votes, as a function of their population.\n",
    "Whomever wins in the state gets all of the electoral college votes for that state.\n",
    "\n",
    "There are 538 electoral college votes (hence the name of the Nate Silver's site, FiveThirtyEight).\n",
    "\n",
    "Pollsters correctly predicted the election outcome in 46 of the 50 states. \n",
    "For these 46 states Trump received 231 and Clinton received 232 electoral college votes.\n",
    "\n",
    "The remaining 4 states accounted for a total of 75 votes, and \n",
    "whichever candidate received the majority of the electoral college votes in these states would win the election. \n",
    "\n",
    "These states were Florida, Michigan, Pennsylvania, and Wisconsin.\n",
    "\n",
    "|State |Electoral College Votes|\n",
    "| --- | --- |\n",
    "|Florida | 29 |\n",
    "|Michigan | 16 |\n",
    "|Pennsylvania | 20 |\n",
    "|Wisconsin | 10|\n",
    "\n",
    "For Donald Trump to win the election, he had to win either:\n",
    "* Florida + one (or more) other states\n",
    "* Michigan, Pennsylvania, and Wisconsin\n",
    "\n",
    "\n",
    "The electoral margins were very narrow in these four states, as seen below:\n",
    "\n",
    "\n",
    "|State | Trump |   Clinton | Total Voters |\n",
    "| --- | --- |  --- |  --- |\n",
    "|Florida | 49.02 | 47.82 | 9,419,886  | \n",
    "|Michigan | 47.50 | 47.27  |  4,799,284|\n",
    "|Pennsylvania | 48.18 | 47.46 |  6,165,478|\n",
    "|Wisconsin | 47.22 | 46.45  |  2,976,150|\n",
    "\n",
    "Those narrow electoral margins can make it hard to predict the outcome given the sample sizes that the polls used. "
   ]
  },
  {
   "cell_type": "markdown",
   "metadata": {
    "deletable": false,
    "editable": false,
    "nbgrader": {
     "cell_type": "markdown",
     "checksum": "7cbfb3783cdcd40b5c71314e200f0039",
     "grade": false,
     "grade_id": "cell-87d74f3a7b9e5c13",
     "locked": true,
     "schema_version": 3,
     "solution": false,
     "task": false
    }
   },
   "source": [
    "---\n",
    "## Simulation Study of the Sampling Error\n",
    "\n",
    "Now that we know how people actually voted, we can carry\n",
    "out a simulation study that imitates the polling.\n",
    "\n",
    "Our ultimate goal in this problem is to understand the chance that we will incorrectly call the election for Hillary Clinton even if our sample was collected with absolutely no bias."
   ]
  },
  {
   "cell_type": "markdown",
   "metadata": {},
   "source": [
    "### Question 7\n",
    "\n",
    "#### Part 1 \n",
    "\n",
    "For your convenience, the results of the vote in the four pivotal states is repeated below:\n",
    "\n",
    "|State | Trump |   Clinton | Total Voters |\n",
    "| --- | --- |  --- |  --- |\n",
    "|Florida | 49.02 | 47.82 | 9,419,886  | \n",
    "|Michigan | 47.50 | 47.27  |  4,799,284|\n",
    "|Pennsylvania | 48.18 | 47.46 |  6,165,478|\n",
    "|Wisconsin | 47.22 | 46.45  |  2,976,150|\n",
    "\n",
    "\n",
    "Using the table above, write a function `draw_state_sample(N, state)` that returns a sample with replacement of N voters from the given state. Your result should be returned as a list, where the first element is the number of Trump votes, the second element is the number of Clinton votes, and the third is the number of Other votes. For example, `draw_state_sample(1500, \"florida\")` could return `[727, 692, 81]`. You may assume that the state name is given in all lower case: `florida`, `pennsylvania`, `michigan`, `wisconsin`.\n",
    "\n",
    "You might find `np.random.multinomial` useful.\n"
   ]
  },
  {
   "cell_type": "code",
   "execution_count": 70,
   "metadata": {
    "deletable": false,
    "nbgrader": {
     "cell_type": "code",
     "checksum": "fa5b0e788ab2aa28165659a6f6cfa7f9",
     "grade": false,
     "grade_id": "cell-84a1d50538fc29fa",
     "locked": false,
     "schema_version": 3,
     "solution": true,
     "task": false
    }
   },
   "outputs": [
    {
     "data": {
      "text/plain": [
       "[746, 724, 30]"
      ]
     },
     "execution_count": 70,
     "metadata": {},
     "output_type": "execute_result"
    }
   ],
   "source": [
    "trump = { 'florida' : 49.02, 'michigan' : 47.50, 'pennsylvania' : 48.18, 'wisconsin' : 47.22}\n",
    "clinton = { 'florida' : 47.82, 'michigan' : 47.27, 'pennsylvania' : 47.46, 'wisconsin' : 46.45}\n",
    "other = { 'florida' : 3.13, 'michigan' : 5.23, 'pennsylvania' : 4.36, 'wisconsin' : 6.33}\n",
    "\n",
    "florida = {'trump': 49.02, 'clinton': 47.82, 'other' : 3.13 }\n",
    "michigan = {'trump': 47.5, 'clinton': 47.27, 'other' : 5.23 }\n",
    "pennsylvania = {'trump': 48.18, 'clinton': 47.46, 'other' : 4.36 }\n",
    "wisconsin = {'trump': 47.22, 'clinton': 46.45, 'other' : 6.33 }\n",
    "states = [florida, michigan, pennsylvania, wisconsin]\n",
    "\n",
    "\n",
    "\n",
    "def draw_state_sample(N, state):\n",
    "    outcome = []\n",
    "    if state ==  \"florida\":\n",
    "        votes = np.random.multinomial(N, [.4902, .4782, .0316], size = 1)\n",
    "        outcome.append(votes[0][0])\n",
    "        outcome.append(votes[0][1])\n",
    "        outcome.append(votes[0][2])\n",
    "        return outcome\n",
    "    if state ==  \"michigan\":\n",
    "        votes = np.random.multinomial(N, [.4750, .4727, .0523], size = 1)\n",
    "        outcome.append(votes[0][0])\n",
    "        outcome.append(votes[0][1])\n",
    "        outcome.append(votes[0][2])\n",
    "        return outcome\n",
    "    if state ==  \"pennsylvania\":\n",
    "        votes = np.random.multinomial(N, [.4818, .4746, .0436], size = 1)\n",
    "        outcome.append(votes[0][0])\n",
    "        outcome.append(votes[0][1])\n",
    "        outcome.append(votes[0][2])\n",
    "        return outcome\n",
    "    if state ==  \"wisconsin\":\n",
    "        votes = np.random.multinomial(N, [.4722, .4645, .0633], size = 1)\n",
    "        outcome.append(votes[0][0])\n",
    "        outcome.append(votes[0][1])\n",
    "        outcome.append(votes[0][2])\n",
    "        return outcome\n",
    "    # YOUR CODE HERE\n",
    "    #raise NotImplementedError()\n",
    "draw_state_sample(1500, \"florida\")"
   ]
  },
  {
   "cell_type": "code",
   "execution_count": 71,
   "metadata": {
    "deletable": false,
    "editable": false,
    "nbgrader": {
     "cell_type": "code",
     "checksum": "5e5bcdf773ba8f0d30171a74aa63cf03",
     "grade": true,
     "grade_id": "cell-3188b740ece016e3",
     "locked": true,
     "points": 1,
     "schema_version": 3,
     "solution": false,
     "task": false
    }
   },
   "outputs": [
    {
     "data": {
      "text/plain": [
       "True"
      ]
     },
     "execution_count": 71,
     "metadata": {},
     "output_type": "execute_result"
    }
   ],
   "source": [
    "# TEST\n",
    "len(draw_state_sample(1500, \"florida\")) == 3"
   ]
  },
  {
   "cell_type": "code",
   "execution_count": 72,
   "metadata": {
    "deletable": false,
    "editable": false,
    "nbgrader": {
     "cell_type": "code",
     "checksum": "8e020f2e417390e1d170ba9657d31e78",
     "grade": true,
     "grade_id": "cell-b2ac98c652b5e9fe",
     "locked": true,
     "points": 1,
     "schema_version": 3,
     "solution": false,
     "task": false
    }
   },
   "outputs": [
    {
     "data": {
      "text/plain": [
       "True"
      ]
     },
     "execution_count": 72,
     "metadata": {},
     "output_type": "execute_result"
    }
   ],
   "source": [
    "# TEST \n",
    "sum(draw_state_sample(1500, \"michigan\")) == 1500\n"
   ]
  },
  {
   "cell_type": "markdown",
   "metadata": {
    "deletable": false,
    "editable": false,
    "nbgrader": {
     "cell_type": "markdown",
     "checksum": "45a477d76f3c537e04c7a52ff9e198c9",
     "grade": false,
     "grade_id": "cell-9b86c7579178a05b",
     "locked": true,
     "schema_version": 3,
     "solution": false,
     "task": false
    }
   },
   "source": [
    "#### Part 2\n",
    "\n",
    "Now, create a function `trump_advantage` that takes in a sample of votes (like the one returned by `draw_state_sample`) and returns the difference in the proportion of votes between Trump and Clinton. For example `trump_advantage([100, 60, 40])` would return `0.2`, since Trump had 50% of the votes in this sample and Clinton had 30%."
   ]
  },
  {
   "cell_type": "code",
   "execution_count": 73,
   "metadata": {
    "deletable": false,
    "nbgrader": {
     "cell_type": "code",
     "checksum": "a3ec8fb03b818e922358a1dd33013087",
     "grade": false,
     "grade_id": "cell-4a274f1f95d84377",
     "locked": false,
     "schema_version": 3,
     "solution": true,
     "task": false
    }
   },
   "outputs": [
    {
     "data": {
      "text/plain": [
       "0.020000000000000018"
      ]
     },
     "execution_count": 73,
     "metadata": {},
     "output_type": "execute_result"
    }
   ],
   "source": [
    "\n",
    "def trump_advantage(voter_sample):\n",
    "    N = sum(voter_sample)\n",
    "    trump = voter_sample[0]/N\n",
    "    clinton = voter_sample[1]/N\n",
    "    difference = trump - clinton\n",
    "    return difference\n",
    "    #raise NotImplementedError()\n",
    "trump_advantage(draw_state_sample(1500, \"wisconsin\"))"
   ]
  },
  {
   "cell_type": "code",
   "execution_count": 74,
   "metadata": {
    "deletable": false,
    "editable": false,
    "nbgrader": {
     "cell_type": "code",
     "checksum": "b2aa279db5ffb7518212a646f4baa6a0",
     "grade": true,
     "grade_id": "cell-006a799dec0b0bbe",
     "locked": true,
     "points": 1,
     "schema_version": 3,
     "solution": false,
     "task": false
    }
   },
   "outputs": [
    {
     "data": {
      "text/plain": [
       "True"
      ]
     },
     "execution_count": 74,
     "metadata": {},
     "output_type": "execute_result"
    }
   ],
   "source": [
    "# TEST\n",
    "-1 < trump_advantage(draw_state_sample(1500, \"wisconsin\")) < 1\n",
    "\n",
    "# TEST\n",
    "np.isclose(trump_advantage([100, 60, 40]), 0.2)\n"
   ]
  },
  {
   "cell_type": "markdown",
   "metadata": {
    "deletable": false,
    "editable": false,
    "nbgrader": {
     "cell_type": "markdown",
     "checksum": "ade04fba2f65f36bbf61d565ac46d493",
     "grade": false,
     "grade_id": "cell-6ef3c393d4e940dc",
     "locked": true,
     "schema_version": 3,
     "solution": false,
     "task": false
    }
   },
   "source": [
    "#### Part 3\n",
    "\n",
    "Simulate Trump's advantage across 100,000 simple random samples of 1500 voters for the state of Pennsylvania and store the results of each simulation in a list called `pa_simulations`. \n",
    "\n",
    "That is, `pa_simulations[i]` should be Trump's percentage advantage for the `i`th simple random sample."
   ]
  },
  {
   "cell_type": "code",
   "execution_count": 75,
   "metadata": {
    "deletable": false,
    "nbgrader": {
     "cell_type": "code",
     "checksum": "b7631808d13512d8fe684eaa1fbf5eeb",
     "grade": false,
     "grade_id": "cell-4b09ceb3b7b677f6",
     "locked": false,
     "schema_version": 3,
     "solution": true,
     "task": false
    }
   },
   "outputs": [],
   "source": [
    "pa_simulations = []\n",
    "iterations = 100000\n",
    "sample = 1500\n",
    "state = 'pennsylvania'\n",
    "for i in range(iterations):\n",
    "    advantage = trump_advantage(draw_state_sample(sample, state))\n",
    "    pa_simulations.append(advantage)\n",
    "\n",
    "\n",
    "# YOUR CODE HERE\n",
    "#raise NotImplementedError()"
   ]
  },
  {
   "cell_type": "code",
   "execution_count": 76,
   "metadata": {
    "deletable": false,
    "editable": false,
    "nbgrader": {
     "cell_type": "code",
     "checksum": "7c32bb68dae6d3b25f02ad5ce661214f",
     "grade": true,
     "grade_id": "cell-a0645042211de462",
     "locked": true,
     "points": 1,
     "schema_version": 3,
     "solution": false,
     "task": false
    }
   },
   "outputs": [
    {
     "data": {
      "text/plain": [
       "True"
      ]
     },
     "execution_count": 76,
     "metadata": {},
     "output_type": "execute_result"
    }
   ],
   "source": [
    "# TEST\n",
    "len(pa_simulations) == 100000\n",
    "\n",
    "# TEST\n",
    "sum([-1 < x < 1 for x in pa_simulations]) == len(pa_simulations)\n"
   ]
  },
  {
   "cell_type": "markdown",
   "metadata": {
    "deletable": false,
    "editable": false,
    "nbgrader": {
     "cell_type": "markdown",
     "checksum": "963e9fb20c500acfc82d914f153840d2",
     "grade": false,
     "grade_id": "cell-d9e7de50a3600656",
     "locked": true,
     "schema_version": 3,
     "solution": false,
     "task": false
    }
   },
   "source": [
    "#### Part 4\n",
    "\n",
    "Make a histogram of the sampling distribution of Trump's percentage advantage in Pennsylvania. Make sure to give your plot a title and add labels where appropriate.\n",
    "Hint: You should use the [`plt.hist`](https://matplotlib.org/3.1.1/api/_as_gen/matplotlib.pyplot.hist.html) function in your code.\n",
    "\n",
    "Make sure to include a title as well as axis labels. You can do this using `plt.title`, `plt.xlabel`, and `plt.ylabel`."
   ]
  },
  {
   "cell_type": "code",
   "execution_count": 77,
   "metadata": {
    "deletable": false,
    "editable": false,
    "nbgrader": {
     "cell_type": "code",
     "checksum": "6b14870e794829cd8a21628a71cfee63",
     "grade": false,
     "grade_id": "cell-8bc5c1c8f51b8b71",
     "locked": true,
     "schema_version": 3,
     "solution": false,
     "task": false
    }
   },
   "outputs": [
    {
     "data": {
      "image/png": "[encoded data removed]",
      "text/plain": [
       "<IPython.core.display.Image object>"
      ]
     },
     "execution_count": 77,
     "metadata": {
      "image/png": {
       "width": 750
      }
     },
     "output_type": "execute_result"
    }
   ],
   "source": [
    "Image('q7d.png',width=750)"
   ]
  },
  {
   "cell_type": "code",
   "execution_count": 78,
   "metadata": {
    "deletable": false,
    "nbgrader": {
     "cell_type": "code",
     "checksum": "aecaa1c5f1d2811f1ef8bb76ad105d1a",
     "grade": false,
     "grade_id": "cell-42bc07aabbccbbfa",
     "locked": false,
     "schema_version": 3,
     "solution": true,
     "task": false
    }
   },
   "outputs": [
    {
     "data": {
      "text/plain": [
       "Text(0, 0.5, 'Number of Simualtions')"
      ]
     },
     "execution_count": 78,
     "metadata": {},
     "output_type": "execute_result"
    },
    {
     "data": {
      "image/png": "[encoded data removed]",
      "text/plain": [
       "<Figure size 2400x1200 with 1 Axes>"
      ]
     },
     "metadata": {},
     "output_type": "display_data"
    }
   ],
   "source": [
    "import matplotlib.pyplot as plt\n",
    "\n",
    "unbiased = plt.hist(pa_simulations, bins = 10)#, normed = True)\n",
    "plt.title(\"Trump Advantage distribution in Pennsylvania\")\n",
    "plt.xlabel('Sampling Distribution Advantage')\n",
    "plt.ylabel('Number of Simualtions')\n",
    "\n",
    "# YOUR CODE HERE\n",
    "#raise NotImplementedError()"
   ]
  },
  {
   "cell_type": "markdown",
   "metadata": {
    "deletable": false,
    "editable": false,
    "nbgrader": {
     "cell_type": "markdown",
     "checksum": "d26838d678faf3db4c53ddb47d54c086",
     "grade": false,
     "grade_id": "cell-8f60ab3b41b02e92",
     "locked": true,
     "schema_version": 3,
     "solution": false,
     "task": false
    }
   },
   "source": [
    "#### Part 5\n",
    "\n",
    "Now write a function `trump_wins(N)` that creates a sample of N voters for each of the four crucial states (Florida, Michigan, Pennsylvania, and Wisconsin) and returns 1 if Trump is predicted to win based on these samples and 0 if Trump is predicted to lose.\n",
    "\n",
    "Recall that for Trump to win the election, he must either:\n",
    "* Win the state of Florida and 1 or more other states\n",
    "* Win Michigan, Pennsylvania, and Wisconsin\n",
    "\n",
    "The output of `trump_advantage` needs to be greater than 0."
   ]
  },
  {
   "cell_type": "code",
   "execution_count": 79,
   "metadata": {
    "deletable": false,
    "nbgrader": {
     "cell_type": "code",
     "checksum": "fedea9e897ef5a148eb8ecea73dc7d0f",
     "grade": false,
     "grade_id": "cell-5f85cde85761edd1",
     "locked": false,
     "schema_version": 3,
     "solution": true,
     "task": false
    }
   },
   "outputs": [
    {
     "data": {
      "text/plain": [
       "0"
      ]
     },
     "execution_count": 79,
     "metadata": {},
     "output_type": "execute_result"
    }
   ],
   "source": [
    "def trump_wins(N):\n",
    "    florida = trump_advantage(draw_state_sample(N, 'florida'))\n",
    "    michigan = trump_advantage(draw_state_sample(N, 'michigan'))\n",
    "    wisconsin = trump_advantage(draw_state_sample(N, 'wisconsin'))\n",
    "    pennsylvania = trump_advantage(draw_state_sample(N, 'pennsylvania'))\n",
    "    \n",
    "    if florida > 0:\n",
    "        if michigan >0:\n",
    "            return 1\n",
    "        elif wisconsin >0:\n",
    "            return 1\n",
    "        elif pennsylvania >0:\n",
    "            return 1\n",
    "        else:\n",
    "            return 0\n",
    "    elif michigan >0 and wisconsin >0 and pennsylvania >0:\n",
    "        return 1\n",
    "    else:\n",
    "        return 0 \n",
    "    \n",
    "trump_wins(1500)"
   ]
  },
  {
   "cell_type": "code",
   "execution_count": null,
   "metadata": {
    "deletable": false,
    "editable": false,
    "nbgrader": {
     "cell_type": "code",
     "checksum": "5aa0dfebc972467946d19e0393740613",
     "grade": true,
     "grade_id": "cell-b93f0a23a3de2b05",
     "locked": true,
     "points": 2,
     "schema_version": 3,
     "solution": false,
     "task": false
    }
   },
   "outputs": [],
   "source": []
  },
  {
   "cell_type": "markdown",
   "metadata": {
    "deletable": false,
    "editable": false,
    "nbgrader": {
     "cell_type": "markdown",
     "checksum": "a97b4bb7e3a53f359882bbdfc667415a",
     "grade": false,
     "grade_id": "cell-7dec9ce68e3a46f4",
     "locked": true,
     "points": 0,
     "schema_version": 3,
     "solution": false,
     "task": true
    }
   },
   "source": [
    "#### Part 6\n",
    "\n",
    "If we repeat 100,000 simulations of the election, i.e. we call `trump_wins(1500)` 100,000 times, what proportion of these simulations predict a Trump victory? Give your answer as `percent_trump`.\n",
    "\n",
    "This number represents the percent chance that a given sample will correctly predict Trump's victory *even if the sample was collected with absoutely no bias*. Note that many people incorrectly assume that this number should be 1. "
   ]
  },
  {
   "cell_type": "code",
   "execution_count": 80,
   "metadata": {
    "deletable": false,
    "nbgrader": {
     "cell_type": "code",
     "checksum": "c3ec0275ff826b812c29b7d47d54430b",
     "grade": false,
     "grade_id": "cell-86a534289a290749",
     "locked": false,
     "schema_version": 3,
     "solution": true,
     "task": false
    }
   },
   "outputs": [
    {
     "name": "stdout",
     "output_type": "stream",
     "text": [
      "0.69305\n"
     ]
    }
   ],
   "source": [
    "iterations = 100000\n",
    "trump_win = 0\n",
    "for i in range(iterations):\n",
    "    election = []\n",
    "    election.append(trump_wins(1500))\n",
    "    if election[0] == 1:\n",
    "        trump_win += 1\n",
    "percent_trump = trump_win / 100000\n",
    "print(percent_trump)\n",
    "# YOUR CODE HERE\n",
    "#raise NotImplementedError()"
   ]
  },
  {
   "cell_type": "code",
   "execution_count": 81,
   "metadata": {
    "deletable": false,
    "editable": false,
    "nbgrader": {
     "cell_type": "code",
     "checksum": "c865c7b9c0834e4ac48e2e505d3a8050",
     "grade": true,
     "grade_id": "cell-cd3dee2218673ffc",
     "locked": true,
     "points": 1,
     "schema_version": 3,
     "solution": false,
     "task": false
    }
   },
   "outputs": [
    {
     "data": {
      "text/plain": [
       "True"
      ]
     },
     "execution_count": 81,
     "metadata": {},
     "output_type": "execute_result"
    }
   ],
   "source": [
    "# TEST\n",
    "0 < percent_trump < 1\n"
   ]
  },
  {
   "cell_type": "markdown",
   "metadata": {
    "deletable": false,
    "editable": false,
    "nbgrader": {
     "cell_type": "markdown",
     "checksum": "b7446f2335cb555637339f95b5aa3ca6",
     "grade": false,
     "grade_id": "cell-e660f3b906b99665",
     "locked": true,
     "schema_version": 3,
     "solution": false,
     "task": false
    }
   },
   "source": [
    "We have just studied the sampling error, and found how \n",
    "our predictions might look if there was no bias in our \n",
    "sampling process. \n",
    "Essentially, we assumed that the people surveyed didn't change their minds, \n",
    "didn't hide who they voted for, and were representative\n",
    "of those who voted on election day."
   ]
  },
  {
   "cell_type": "markdown",
   "metadata": {
    "deletable": false,
    "editable": false,
    "nbgrader": {
     "cell_type": "markdown",
     "checksum": "98bd6937a512366ea72be47bfb94679f",
     "grade": false,
     "grade_id": "cell-3765c8efe7ca7591",
     "locked": true,
     "schema_version": 3,
     "solution": false,
     "task": false
    }
   },
   "source": [
    "---\n",
    "## Simulation Study of Selection Bias\n",
    "\n",
    "According to an article by Grotenhuis, Subramanian, Nieuwenhuis, Pelzer and Eisinga (https://blogs.lse.ac.uk/usappblog/2018/02/01/better-poll-sampling-would-have-cast-more-doubt-on-the-potential-for-hillary-clinton-to-win-the-2016-election/#Author):\n",
    "\n",
    "\"In a perfect world, polls sample from the population of voters, who would state their political preference perfectly clearly and then vote accordingly.\"\n",
    "\n",
    "That's the simulation study that we just performed. \n",
    "\n",
    "\n",
    "It's difficult to control for every source of selection bias.\n",
    "And, it's not possible to control for some of the other sources of bias.\n",
    "\n",
    "Next we investigate the effect of small sampling bias on the polling results in these four battleground states.  \n",
    "\n",
    "Throughout this problem, we'll examine the impacts of a 0.5 percent bias in favor of Clinton in each state. Such a bias has been suggested because highly educated voters tend to be more willing to participate in polls."
   ]
  },
  {
   "cell_type": "markdown",
   "metadata": {
    "deletable": false,
    "editable": false,
    "nbgrader": {
     "cell_type": "markdown",
     "checksum": "2afc4820ac5fec3f1108373c8961dd47",
     "grade": false,
     "grade_id": "cell-02b3cfbbf36d2c37",
     "locked": true,
     "schema_version": 3,
     "solution": false,
     "task": false
    }
   },
   "source": [
    "### Question 8\n",
    "\n",
    "Throughout this problem, adjust the selection of voters so that there is a 0.5% bias in favor of Clinton in each of these states. \n",
    "\n",
    "For example, in Pennsylvania Clinton received 47.46 percent of the votes and Trump 48.18 percent. Increase the population of Clinton voters to 47.46 + 0.5  percent and correspondingly decrease the percent of Trump voters. \n",
    "\n",
    "#### Part 1\n",
    "\n",
    "Simulate Trump's advantage across 100,000 simple random samples of 1500 voters for the state of Pennsylvania and store the results of each simulation in a list called `biased_pa_simulations`.\n",
    "\n",
    "That is, `biased_pa_simulation[i]` should hold the result of the `i`th simulation.\n",
    "\n",
    "That is, your answer to this problem should be just like your answer from Question 7 part 3, but now using samples that are biased as described above."
   ]
  },
  {
   "cell_type": "code",
   "execution_count": 82,
   "metadata": {
    "deletable": false,
    "nbgrader": {
     "cell_type": "code",
     "checksum": "6e87f85b98a889a21051adef8e46aa16",
     "grade": false,
     "grade_id": "cell-2e0ba14e3b201974",
     "locked": false,
     "schema_version": 3,
     "solution": true,
     "task": false
    }
   },
   "outputs": [],
   "source": [
    "def draw_biased_state_sample(N, state):\n",
    "    outcome = []\n",
    "    if state ==  \"florida\":\n",
    "        votes = np.random.multinomial(N, [.4902 - .005, .4782 + .005, .0316], size = 1)\n",
    "        outcome.append(votes[0][0])\n",
    "        outcome.append(votes[0][1])\n",
    "        outcome.append(votes[0][2])\n",
    "        return outcome\n",
    "    if state ==  \"michigan\":\n",
    "        votes = np.random.multinomial(N, [.4750 - .005, .4727 + .005, .0523], size = 1)\n",
    "        outcome.append(votes[0][0])\n",
    "        outcome.append(votes[0][1])\n",
    "        outcome.append(votes[0][2])\n",
    "        return outcome\n",
    "    if state ==  \"pennsylvania\":\n",
    "        votes = np.random.multinomial(N, [.4818 - .005, .4746 + .005, .0436], size = 1)\n",
    "        outcome.append(votes[0][0])\n",
    "        outcome.append(votes[0][1])\n",
    "        outcome.append(votes[0][2])\n",
    "        return outcome\n",
    "    if state ==  \"wisconsin\":\n",
    "        votes = np.random.multinomial(N, [.4722 - .005, .4645 + .005, .0633], size = 1)\n",
    "        outcome.append(votes[0][0])\n",
    "        outcome.append(votes[0][1])\n",
    "        outcome.append(votes[0][2])\n",
    "        return outcome\n",
    "    raise NotImplementedError()\n",
    "    "
   ]
  },
  {
   "cell_type": "code",
   "execution_count": 83,
   "metadata": {
    "deletable": false,
    "editable": false,
    "nbgrader": {
     "cell_type": "code",
     "checksum": "708301e360fd5a6ad8254b70b0835b07",
     "grade": true,
     "grade_id": "cell-9886b18c2751f116",
     "locked": true,
     "points": 1,
     "schema_version": 3,
     "solution": false,
     "task": false
    }
   },
   "outputs": [
    {
     "data": {
      "text/plain": [
       "True"
      ]
     },
     "execution_count": 83,
     "metadata": {},
     "output_type": "execute_result"
    }
   ],
   "source": [
    "# TEST\n",
    "len(draw_biased_state_sample(1000, \"wisconsin\")) == 3\n",
    "\n",
    "# TEST\n",
    "sum(draw_biased_state_sample(1000, \"michigan\")) == 1000\n"
   ]
  },
  {
   "cell_type": "code",
   "execution_count": 84,
   "metadata": {
    "deletable": false,
    "nbgrader": {
     "cell_type": "code",
     "checksum": "8ac6d00349a9af499e2de70c181fc44f",
     "grade": false,
     "grade_id": "cell-461c9425e3c2ae66",
     "locked": false,
     "schema_version": 3,
     "solution": true,
     "task": false
    }
   },
   "outputs": [],
   "source": [
    "biased_pa_simulations = []\n",
    "iterations = 100000\n",
    "sample = 1500\n",
    "state = 'pennsylvania'\n",
    "for i in range(iterations):\n",
    "    advantage = trump_advantage(draw_biased_state_sample(sample, state))\n",
    "    biased_pa_simulations.append(advantage)\n",
    "\n",
    "\n",
    "# YOUR CODE HERE\n",
    "#raise NotImplementedError()"
   ]
  },
  {
   "cell_type": "code",
   "execution_count": 85,
   "metadata": {
    "deletable": false,
    "editable": false,
    "nbgrader": {
     "cell_type": "code",
     "checksum": "c148026adf12f86f2c957abd8f199844",
     "grade": true,
     "grade_id": "cell-d2766b354483a4f5",
     "locked": true,
     "points": 1,
     "schema_version": 3,
     "solution": false,
     "task": false
    }
   },
   "outputs": [
    {
     "data": {
      "text/plain": [
       "True"
      ]
     },
     "execution_count": 85,
     "metadata": {},
     "output_type": "execute_result"
    }
   ],
   "source": [
    "# TEST\n",
    "len(biased_pa_simulations) == 100000\n",
    "\n",
    "# TEST\n",
    "sum([-1 < x < 1 for x in biased_pa_simulations]) == len(biased_pa_simulations)\n"
   ]
  },
  {
   "cell_type": "markdown",
   "metadata": {
    "deletable": false,
    "editable": false,
    "nbgrader": {
     "cell_type": "markdown",
     "checksum": "a274c5b9cbadaba9a245309422ae8d38",
     "grade": false,
     "grade_id": "cell-388074f143290c62",
     "locked": true,
     "schema_version": 3,
     "solution": false,
     "task": false
    }
   },
   "source": [
    "#### Part 2\n",
    "\n",
    "Make a histogram of the new sampling distribution of Trump's advantage now using these biased samples. That is, your histogram should be the same as in Q8.4, but now using the biased samples.\n",
    "\n",
    "Make sure to give your plot a title and add labels where appropriate."
   ]
  },
  {
   "cell_type": "code",
   "execution_count": 86,
   "metadata": {
    "deletable": false,
    "editable": false,
    "nbgrader": {
     "cell_type": "code",
     "checksum": "2450790811c4922d4851b5956b0a87c9",
     "grade": false,
     "grade_id": "cell-7d56b3c9edde43c7",
     "locked": true,
     "schema_version": 3,
     "solution": false,
     "task": false
    }
   },
   "outputs": [
    {
     "data": {
      "image/png": "[encoded data removed]",
      "text/plain": [
       "<IPython.core.display.Image object>"
      ]
     },
     "execution_count": 86,
     "metadata": {
      "image/png": {
       "width": 750
      }
     },
     "output_type": "execute_result"
    }
   ],
   "source": [
    "Image('q8b.png', width=750)"
   ]
  },
  {
   "cell_type": "code",
   "execution_count": 87,
   "metadata": {
    "deletable": false,
    "nbgrader": {
     "cell_type": "code",
     "checksum": "217fe39d0312fde351d3df34dc6728f1",
     "grade": false,
     "grade_id": "cell-fa9a556aa42a3d19",
     "locked": false,
     "schema_version": 3,
     "solution": true,
     "task": false
    }
   },
   "outputs": [
    {
     "data": {
      "text/plain": [
       "Text(0, 0.5, 'Number of Simualtions')"
      ]
     },
     "execution_count": 87,
     "metadata": {},
     "output_type": "execute_result"
    },
    {
     "data": {
      "image/png": "[encoded data removed]",
      "text/plain": [
       "<Figure size 2400x1200 with 1 Axes>"
      ]
     },
     "metadata": {},
     "output_type": "display_data"
    }
   ],
   "source": [
    "# YOUR CODE HERE\n",
    "#raise NotImplementedError()\n",
    "biased = plt.hist(biased_pa_simulations, bins = 12)\n",
    "plt.title(\"Biased distribution in Pennsylvania\")\n",
    "plt.xlabel('Biased Sampling Distribution Advantage')\n",
    "plt.ylabel('Number of Simualtions')\n"
   ]
  },
  {
   "cell_type": "code",
   "execution_count": 88,
   "metadata": {},
   "outputs": [
    {
     "data": {
      "text/plain": [
       "Text(0, 0.5, 'Number of Simualtions')"
      ]
     },
     "execution_count": 88,
     "metadata": {},
     "output_type": "execute_result"
    },
    {
     "data": {
      "image/png": "[encoded data removed]",
      "text/plain": [
       "<Figure size 2400x1200 with 1 Axes>"
      ]
     },
     "metadata": {},
     "output_type": "display_data"
    }
   ],
   "source": [
    "unbiased = plt.hist(pa_simulations, bins = 12)\n",
    "plt.title(\"Trump Advantage distribution in Pennsylvania\")\n",
    "plt.xlabel('Sampling Distribution Advantage')\n",
    "plt.ylabel('Number of Simualtions')"
   ]
  },
  {
   "cell_type": "markdown",
   "metadata": {
    "deletable": false,
    "editable": false,
    "nbgrader": {
     "cell_type": "markdown",
     "checksum": "b48e81e17e9300c93a84760a0b7c23d3",
     "grade": false,
     "grade_id": "cell-f51e7f795402b1d6",
     "locked": true,
     "schema_version": 3,
     "solution": false,
     "task": false
    }
   },
   "source": [
    "#### Part 3\n",
    "\n",
    "Compare the histogram you created in Q8.2 to that in Q7.4. "
   ]
  },
  {
   "cell_type": "markdown",
   "metadata": {},
   "source": [
    "##### YOUR ANSWER HERE\n",
    "\n",
    "I seems in the biased sampling distribution shows that the majority of observed simulations have trump advantage below zero. This is not the case in the unbiased distrubution, where the major of trump advantages are positive\n"
   ]
  },
  {
   "cell_type": "markdown",
   "metadata": {
    "deletable": false,
    "editable": false,
    "nbgrader": {
     "cell_type": "markdown",
     "checksum": "c5816b36b98fd0baf6b6bdfccbc1abf3",
     "grade": false,
     "grade_id": "cell-dc7621d5b2921390",
     "locked": true,
     "schema_version": 3,
     "solution": false,
     "task": false
    }
   },
   "source": [
    "#### Part 4\n",
    "\n",
    "Now perform 100,000 simulations of all four states and return the proportion of these simulations that result in a Trump victory. This is the same fraction that you computed in Q7.6, but now using your biased samples.\n",
    "\n",
    "Give your answer as `percent_trump_biased`.\n",
    "\n",
    "This number represents the chance that a sample biased 0.5% in Hillary Clinton's favor will correctly predict Trump's victory. You should observe that the chance is signficantly lower than with an unbiased sample, i.e. your answer in Q7.6."
   ]
  },
  {
   "cell_type": "code",
   "execution_count": 89,
   "metadata": {
    "deletable": false,
    "nbgrader": {
     "cell_type": "code",
     "checksum": "89fd8dd86cd897b3f69651f27462701d",
     "grade": false,
     "grade_id": "cell-4c29fbd0997cd2b6",
     "locked": false,
     "schema_version": 3,
     "solution": true,
     "task": false
    }
   },
   "outputs": [
    {
     "data": {
      "text/plain": [
       "1"
      ]
     },
     "execution_count": 89,
     "metadata": {},
     "output_type": "execute_result"
    }
   ],
   "source": [
    "def trump_wins_biased(N): \n",
    "    florida = trump_advantage(draw_biased_state_sample(N, 'florida'))\n",
    "    michigan = trump_advantage(draw_biased_state_sample(N, 'michigan'))\n",
    "    wisconsin = trump_advantage(draw_biased_state_sample(N, 'wisconsin'))\n",
    "    pennsylvania = trump_advantage(draw_biased_state_sample(N, 'pennsylvania'))\n",
    "    \n",
    "    if florida > 0:\n",
    "        if michigan >0:\n",
    "            return 1\n",
    "        elif wisconsin >0:\n",
    "            return 1\n",
    "        elif pennsylvania >0:\n",
    "            return 1\n",
    "        else:\n",
    "            return 0\n",
    "    elif michigan >0 and wisconsin >0 and pennsylvania >0:\n",
    "        return 1\n",
    "    else:\n",
    "        return 0 \n",
    "    \n",
    "trump_wins(1500)\n",
    "    # YOUR CODE HERE\n",
    "    #raise NotImplementedError()"
   ]
  },
  {
   "cell_type": "code",
   "execution_count": 90,
   "metadata": {
    "deletable": false,
    "nbgrader": {
     "cell_type": "code",
     "checksum": "ae774fdc8b1f987bca8eee7d2fe64cc6",
     "grade": false,
     "grade_id": "cell-1e451eac56a4f38d",
     "locked": false,
     "schema_version": 3,
     "solution": true,
     "task": false
    }
   },
   "outputs": [
    {
     "name": "stdout",
     "output_type": "stream",
     "text": [
      "0.46312\n"
     ]
    }
   ],
   "source": [
    "iterations = 100000\n",
    "trump_win = 0\n",
    "for i in range(iterations):\n",
    "    election = []\n",
    "    election.append(trump_wins_biased(1500))\n",
    "    if election[0] == 1:\n",
    "        trump_win += 1\n",
    "percent_trump_biased = trump_win / 100000\n",
    "print(percent_trump_biased)\n",
    "\n",
    "# YOUR CODE HERE\n",
    "#raise NotImplementedError()"
   ]
  },
  {
   "cell_type": "code",
   "execution_count": 91,
   "metadata": {
    "deletable": false,
    "editable": false,
    "nbgrader": {
     "cell_type": "code",
     "checksum": "16df5d28717139f4b8a8fe06e60fd14e",
     "grade": true,
     "grade_id": "cell-1f115dad44051588",
     "locked": true,
     "points": 1,
     "schema_version": 3,
     "solution": false,
     "task": false
    }
   },
   "outputs": [
    {
     "data": {
      "text/plain": [
       "True"
      ]
     },
     "execution_count": 91,
     "metadata": {},
     "output_type": "execute_result"
    }
   ],
   "source": [
    "# TEST\n",
    "0 < percent_trump_biased < 1\n"
   ]
  },
  {
   "cell_type": "markdown",
   "metadata": {
    "deletable": false,
    "editable": false,
    "nbgrader": {
     "cell_type": "markdown",
     "checksum": "45e7c2d0d5f3973f7c959a3701f7a9e7",
     "grade": false,
     "grade_id": "cell-d8aac44da89cbed7",
     "locked": true,
     "schema_version": 3,
     "solution": false,
     "task": false
    }
   },
   "source": [
    "### Question 9\n",
    "\n",
    "Would increasing the sample size have helped?\n",
    "\n",
    "#### Part 1\n",
    "\n",
    "Try a sample size of 5,000 and run 100,000 simulations of a sample with replacement. What proportion of the 100,000 times is Trump predicted to win the election in the unbiased setting? In the biased setting?\n",
    "\n",
    "Give your answers as `high_sample_size_unbiased_percent_trump` and `high_sample_size_biased_percent_trump`."
   ]
  },
  {
   "cell_type": "code",
   "execution_count": 92,
   "metadata": {
    "deletable": false,
    "nbgrader": {
     "cell_type": "code",
     "checksum": "d6896926c11bc27529319ed2d40ad03f",
     "grade": false,
     "grade_id": "cell-318c555ea09b349b",
     "locked": false,
     "schema_version": 3,
     "solution": true,
     "task": false
    }
   },
   "outputs": [
    {
     "name": "stdout",
     "output_type": "stream",
     "text": [
      "0.82603\n",
      "0.4464\n"
     ]
    }
   ],
   "source": [
    "iterations = 100000\n",
    "trump_win = 0\n",
    "for i in range(iterations):\n",
    "    election = []\n",
    "    election.append(trump_wins(5000))\n",
    "    if election[0] == 1:\n",
    "        trump_win += 1\n",
    "high_sample_size_unbiased_percent_trump =  trump_win / 100000\n",
    "\n",
    "print(high_sample_size_unbiased_percent_trump )\n",
    "iterations = 100000\n",
    "trump_win = 0\n",
    "for i in range(iterations):\n",
    "    election = []\n",
    "    election.append(trump_wins_biased(5000))\n",
    "    if election[0] == 1:\n",
    "        trump_win += 1\n",
    "high_sample_size_biased_percent_trump = trump_win / 100000\n",
    "print(high_sample_size_biased_percent_trump)\n",
    "\n",
    "# YOUR CODE HERE\n",
    "#raise NotImplementedError()"
   ]
  },
  {
   "cell_type": "code",
   "execution_count": 93,
   "metadata": {
    "deletable": false,
    "editable": false,
    "nbgrader": {
     "cell_type": "code",
     "checksum": "66bec3267fecf39da3c3f34b4a211be8",
     "grade": true,
     "grade_id": "cell-cd629493cf711a4b",
     "locked": true,
     "points": 1,
     "schema_version": 3,
     "solution": false,
     "task": false
    }
   },
   "outputs": [
    {
     "data": {
      "text/plain": [
       "True"
      ]
     },
     "execution_count": 93,
     "metadata": {},
     "output_type": "execute_result"
    }
   ],
   "source": [
    "# TEST\n",
    "np.abs(high_sample_size_unbiased_percent_trump - 0.829) <= 0.02\n"
   ]
  },
  {
   "cell_type": "markdown",
   "metadata": {
    "deletable": false,
    "editable": false,
    "nbgrader": {
     "cell_type": "markdown",
     "checksum": "715c3b1e3d671342ad1868a888c9c0db",
     "grade": false,
     "grade_id": "cell-eff1d4d3faae8b42",
     "locked": true,
     "schema_version": 3,
     "solution": false,
     "task": false
    }
   },
   "source": [
    "#### Part 2\n",
    "\n",
    "What do your observations from part 1 say about the impact of sample size\n",
    "on the sampling error and on the bias?   \n",
    "\n",
    "Extra question for those who are curious: Just for fun, you might find it interesting to see what happens with even larger sample sizes (> 5000 voters) for both the unbiased and biased cases. Can you get them up to 99% success with sufficient large samples? How many? Why or why not? If you do this, include your observations in your answer."
   ]
  },
  {
   "cell_type": "code",
   "execution_count": null,
   "metadata": {},
   "outputs": [],
   "source": []
  },
  {
   "cell_type": "markdown",
   "metadata": {},
   "source": [
    "#### YOUR ANSWER HERE\n",
    "The increased sample size reduces the sampling error of our simulators and gets us closer and a more accurate description of the population paramter, that trump will win with our unbiased sampler. In terms of the bias it only makes the bias worse. The larger sample of the biased data only increases the bias effect on our simulator. The larger biased samples only increased the likelihood that clinton would narrowly win and we know that to be an incorrect conclusion"
   ]
  },
  {
   "cell_type": "markdown",
   "metadata": {},
   "source": [
    "According to FiveThirtyEight: \"... Polls of the November 2016 presidential election were about as accurate as polls of presidential elections have been on average since 1972.\"\n",
    "When the margin of victory may be relatively small as it was in 2016, why don't polling agencies simply gather significantly larger samples to bring this error close to zero?"
   ]
  },
  {
   "cell_type": "markdown",
   "metadata": {},
   "source": [
    "Well, we have seen that the predictions are driven by the sample size and the size of the bias. A larger sample size has reduced the sampling error. Unfortunately, if there is bias, then the predictions are close to the biased estimate. If the bias pushes the prediction from one candidate (Trump) to another (Clinton), then we have a \"surprise\" upset. "
   ]
  }
 ],
 "metadata": {
  "kernelspec": {
   "display_name": "Python [conda env:dsua-112]",
   "language": "python",
   "name": "conda-env-dsua-112-py"
  },
  "language_info": {
   "codemirror_mode": {
    "name": "ipython",
    "version": 3
   },
   "file_extension": ".py",
   "mimetype": "text/x-python",
   "name": "python",
   "nbconvert_exporter": "python",
   "pygments_lexer": "ipython3",
   "version": "3.7.6"
  }
 },
 "nbformat": 4,
 "nbformat_minor": 2
}
