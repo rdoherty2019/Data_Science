{
 "cells": [
  {
   "cell_type": "code",
   "execution_count": 1,
   "metadata": {
    "ExecuteTime": {
     "end_time": "2018-02-02T15:15:15.363920Z",
     "start_time": "2018-02-02T15:15:14.337886Z"
    }
   },
   "outputs": [],
   "source": [
    "import re\n",
    "import pandas as pd\n",
    "import numpy as np\n",
    "\n",
    "import matplotlib.pyplot as plt\n",
    "import seaborn as sns\n",
    "%matplotlib inline\n",
    "plt.rcParams['figure.figsize'] = (12,8)\n",
    "\n",
    "import os"
   ]
  },
  {
   "cell_type": "markdown",
   "metadata": {},
   "source": [
    "## Plotting\n",
    "\n",
    "In terms of population, wow can we understand the relative size of the boroughs of New York? "
   ]
  },
  {
   "cell_type": "code",
   "execution_count": 11,
   "metadata": {},
   "outputs": [
    {
     "name": "stdout",
     "output_type": "stream",
     "text": [
      "<class 'pandas.core.frame.DataFrame'>\n",
      "RangeIndex: 6 entries, 0 to 5\n",
      "Data columns (total 22 columns):\n",
      " #   Column                          Non-Null Count  Dtype \n",
      "---  ------                          --------------  ----- \n",
      " 0   Age Group                       6 non-null      object\n",
      " 1   Borough                         6 non-null      object\n",
      " 2   1950                            6 non-null      object\n",
      " 3   1950 - Boro share of NYC total  6 non-null      object\n",
      " 4   1960                            6 non-null      object\n",
      " 5   1960 - Boro share of NYC total  6 non-null      object\n",
      " 6   1970                            6 non-null      object\n",
      " 7   1970 - Boro share of NYC total  6 non-null      object\n",
      " 8   1980                            6 non-null      object\n",
      " 9   1980 - Boro share of NYC total  6 non-null      object\n",
      " 10  1990                            6 non-null      object\n",
      " 11  1990 - Boro share of NYC total  6 non-null      object\n",
      " 12  2000                            6 non-null      object\n",
      " 13  2000 - Boro share of NYC total  6 non-null      object\n",
      " 14  2010                            6 non-null      object\n",
      " 15  2010 - Boro share of NYC total  6 non-null      object\n",
      " 16  2020                            6 non-null      object\n",
      " 17  2020 - Boro share of NYC total  6 non-null      object\n",
      " 18  2030                            6 non-null      object\n",
      " 19  2030 - Boro share of NYC total  6 non-null      object\n",
      " 20  2040                            6 non-null      object\n",
      " 21  2040 - Boro share of NYC total  6 non-null      object\n",
      "dtypes: object(22)\n",
      "memory usage: 1.2+ KB\n"
     ]
    }
   ],
   "source": [
    "borough = pd.read_csv(\"Population_by_Borough_NYC.csv\")\n",
    "\n",
    "borough.info()"
   ]
  },
  {
   "cell_type": "code",
   "execution_count": 18,
   "metadata": {},
   "outputs": [
    {
     "data": {
      "text/html": [
       "<div>\n",
       "<style scoped>\n",
       "    .dataframe tbody tr th:only-of-type {\n",
       "        vertical-align: middle;\n",
       "    }\n",
       "\n",
       "    .dataframe tbody tr th {\n",
       "        vertical-align: top;\n",
       "    }\n",
       "\n",
       "    .dataframe thead th {\n",
       "        text-align: right;\n",
       "    }\n",
       "</style>\n",
       "<table border=\"1\" class=\"dataframe\">\n",
       "  <thead>\n",
       "    <tr style=\"text-align: right;\">\n",
       "      <th></th>\n",
       "      <th>Age Group</th>\n",
       "      <th>Borough</th>\n",
       "      <th>1950</th>\n",
       "      <th>1950 - Boro share of NYC total</th>\n",
       "      <th>1960</th>\n",
       "      <th>1960 - Boro share of NYC total</th>\n",
       "      <th>1970</th>\n",
       "      <th>1970 - Boro share of NYC total</th>\n",
       "      <th>1980</th>\n",
       "      <th>1980 - Boro share of NYC total</th>\n",
       "      <th>...</th>\n",
       "      <th>2000</th>\n",
       "      <th>2000 - Boro share of NYC total</th>\n",
       "      <th>2010</th>\n",
       "      <th>2010 - Boro share of NYC total</th>\n",
       "      <th>2020</th>\n",
       "      <th>2020 - Boro share of NYC total</th>\n",
       "      <th>2030</th>\n",
       "      <th>2030 - Boro share of NYC total</th>\n",
       "      <th>2040</th>\n",
       "      <th>2040 - Boro share of NYC total</th>\n",
       "    </tr>\n",
       "  </thead>\n",
       "  <tbody>\n",
       "    <tr>\n",
       "      <th>0</th>\n",
       "      <td>Total Population</td>\n",
       "      <td>NYC Total</td>\n",
       "      <td>7,891,957</td>\n",
       "      <td>100%</td>\n",
       "      <td>7,781,984</td>\n",
       "      <td>100%</td>\n",
       "      <td>7,894,862</td>\n",
       "      <td>100%</td>\n",
       "      <td>7,071,639</td>\n",
       "      <td>100%</td>\n",
       "      <td>...</td>\n",
       "      <td>8,008,278</td>\n",
       "      <td>100%</td>\n",
       "      <td>8,242,624</td>\n",
       "      <td>100%</td>\n",
       "      <td>8,550,971</td>\n",
       "      <td>100%</td>\n",
       "      <td>8,821,027</td>\n",
       "      <td>100%</td>\n",
       "      <td>9,025,145</td>\n",
       "      <td>100%</td>\n",
       "    </tr>\n",
       "    <tr>\n",
       "      <th>1</th>\n",
       "      <td>Total Population</td>\n",
       "      <td>Bronx</td>\n",
       "      <td>1,451,277</td>\n",
       "      <td>18.39%</td>\n",
       "      <td>1,424,815</td>\n",
       "      <td>18.31%</td>\n",
       "      <td>1,471,701</td>\n",
       "      <td>18.64%</td>\n",
       "      <td>1,168,972</td>\n",
       "      <td>16.53%</td>\n",
       "      <td>...</td>\n",
       "      <td>1,332,650</td>\n",
       "      <td>16.64%</td>\n",
       "      <td>1,385,108</td>\n",
       "      <td>16.8%</td>\n",
       "      <td>1,446,788</td>\n",
       "      <td>16.92%</td>\n",
       "      <td>1,518,998</td>\n",
       "      <td>17.22%</td>\n",
       "      <td>1,579,245</td>\n",
       "      <td>17.5%</td>\n",
       "    </tr>\n",
       "    <tr>\n",
       "      <th>2</th>\n",
       "      <td>Total Population</td>\n",
       "      <td>Brooklyn</td>\n",
       "      <td>2,738,175</td>\n",
       "      <td>34.7%</td>\n",
       "      <td>2,627,319</td>\n",
       "      <td>33.76%</td>\n",
       "      <td>2,602,012</td>\n",
       "      <td>32.96%</td>\n",
       "      <td>2,230,936</td>\n",
       "      <td>31.55%</td>\n",
       "      <td>...</td>\n",
       "      <td>2,465,326</td>\n",
       "      <td>30.78%</td>\n",
       "      <td>2,552,911</td>\n",
       "      <td>30.97%</td>\n",
       "      <td>2,648,452</td>\n",
       "      <td>30.97%</td>\n",
       "      <td>2,754,009</td>\n",
       "      <td>31.22%</td>\n",
       "      <td>2,840,525</td>\n",
       "      <td>31.47%</td>\n",
       "    </tr>\n",
       "    <tr>\n",
       "      <th>3</th>\n",
       "      <td>Total Population</td>\n",
       "      <td>Manhattan</td>\n",
       "      <td>1,960,101</td>\n",
       "      <td>24.84%</td>\n",
       "      <td>1,698,281</td>\n",
       "      <td>21.82%</td>\n",
       "      <td>1,539,233</td>\n",
       "      <td>19.5%</td>\n",
       "      <td>1,428,285</td>\n",
       "      <td>20.2%</td>\n",
       "      <td>...</td>\n",
       "      <td>1,537,195</td>\n",
       "      <td>19.2%</td>\n",
       "      <td>1,585,873</td>\n",
       "      <td>19.24%</td>\n",
       "      <td>1,638,281</td>\n",
       "      <td>19.16%</td>\n",
       "      <td>1,676,720</td>\n",
       "      <td>19.01%</td>\n",
       "      <td>1,691,617</td>\n",
       "      <td>18.74%</td>\n",
       "    </tr>\n",
       "    <tr>\n",
       "      <th>4</th>\n",
       "      <td>Total Population</td>\n",
       "      <td>Queens</td>\n",
       "      <td>1,550,849</td>\n",
       "      <td>19.65%</td>\n",
       "      <td>1,809,578</td>\n",
       "      <td>23.25%</td>\n",
       "      <td>1,986,473</td>\n",
       "      <td>25.16%</td>\n",
       "      <td>1,891,325</td>\n",
       "      <td>26.75%</td>\n",
       "      <td>...</td>\n",
       "      <td>2,229,379</td>\n",
       "      <td>27.84%</td>\n",
       "      <td>2,250,002</td>\n",
       "      <td>27.3%</td>\n",
       "      <td>2,330,295</td>\n",
       "      <td>27.25%</td>\n",
       "      <td>2,373,551</td>\n",
       "      <td>26.91%</td>\n",
       "      <td>2,412,649</td>\n",
       "      <td>26.73%</td>\n",
       "    </tr>\n",
       "    <tr>\n",
       "      <th>5</th>\n",
       "      <td>Total Population</td>\n",
       "      <td>Staten Island</td>\n",
       "      <td>191,555</td>\n",
       "      <td>2.43%</td>\n",
       "      <td>221,991</td>\n",
       "      <td>2.85%</td>\n",
       "      <td>295,443</td>\n",
       "      <td>3.74%</td>\n",
       "      <td>352,121</td>\n",
       "      <td>4.98%</td>\n",
       "      <td>...</td>\n",
       "      <td>443,728</td>\n",
       "      <td>5.54%</td>\n",
       "      <td>468,730</td>\n",
       "      <td>5.69%</td>\n",
       "      <td>487,155</td>\n",
       "      <td>5.7%</td>\n",
       "      <td>497,749</td>\n",
       "      <td>5.64%</td>\n",
       "      <td>501,109</td>\n",
       "      <td>5.55%</td>\n",
       "    </tr>\n",
       "  </tbody>\n",
       "</table>\n",
       "<p>6 rows × 22 columns</p>\n",
       "</div>"
      ],
      "text/plain": [
       "          Age Group           Borough       1950  \\\n",
       "0  Total Population         NYC Total  7,891,957   \n",
       "1  Total Population             Bronx  1,451,277   \n",
       "2  Total Population          Brooklyn  2,738,175   \n",
       "3  Total Population         Manhattan  1,960,101   \n",
       "4  Total Population            Queens  1,550,849   \n",
       "5  Total Population     Staten Island    191,555   \n",
       "\n",
       "  1950 - Boro share of NYC total       1960 1960 - Boro share of NYC total  \\\n",
       "0                           100%  7,781,984                           100%   \n",
       "1                         18.39%  1,424,815                         18.31%   \n",
       "2                          34.7%  2,627,319                         33.76%   \n",
       "3                         24.84%  1,698,281                         21.82%   \n",
       "4                         19.65%  1,809,578                         23.25%   \n",
       "5                          2.43%    221,991                          2.85%   \n",
       "\n",
       "        1970 1970 - Boro share of NYC total       1980  \\\n",
       "0  7,894,862                           100%  7,071,639   \n",
       "1  1,471,701                         18.64%  1,168,972   \n",
       "2  2,602,012                         32.96%  2,230,936   \n",
       "3  1,539,233                          19.5%  1,428,285   \n",
       "4  1,986,473                         25.16%  1,891,325   \n",
       "5    295,443                          3.74%    352,121   \n",
       "\n",
       "  1980 - Boro share of NYC total  ...       2000  \\\n",
       "0                           100%  ...  8,008,278   \n",
       "1                         16.53%  ...  1,332,650   \n",
       "2                         31.55%  ...  2,465,326   \n",
       "3                          20.2%  ...  1,537,195   \n",
       "4                         26.75%  ...  2,229,379   \n",
       "5                          4.98%  ...    443,728   \n",
       "\n",
       "  2000 - Boro share of NYC total       2010 2010 - Boro share of NYC total  \\\n",
       "0                           100%  8,242,624                           100%   \n",
       "1                         16.64%  1,385,108                          16.8%   \n",
       "2                         30.78%  2,552,911                         30.97%   \n",
       "3                          19.2%  1,585,873                         19.24%   \n",
       "4                         27.84%  2,250,002                          27.3%   \n",
       "5                          5.54%    468,730                          5.69%   \n",
       "\n",
       "        2020 2020 - Boro share of NYC total       2030  \\\n",
       "0  8,550,971                           100%  8,821,027   \n",
       "1  1,446,788                         16.92%  1,518,998   \n",
       "2  2,648,452                         30.97%  2,754,009   \n",
       "3  1,638,281                         19.16%  1,676,720   \n",
       "4  2,330,295                         27.25%  2,373,551   \n",
       "5    487,155                           5.7%    497,749   \n",
       "\n",
       "  2030 - Boro share of NYC total       2040 2040 - Boro share of NYC total  \n",
       "0                           100%  9,025,145                           100%  \n",
       "1                         17.22%  1,579,245                          17.5%  \n",
       "2                         31.22%  2,840,525                         31.47%  \n",
       "3                         19.01%  1,691,617                         18.74%  \n",
       "4                         26.91%  2,412,649                         26.73%  \n",
       "5                          5.64%    501,109                          5.55%  \n",
       "\n",
       "[6 rows x 22 columns]"
      ]
     },
     "execution_count": 18,
     "metadata": {},
     "output_type": "execute_result"
    }
   ],
   "source": [
    "borough.head(12)"
   ]
  },
  {
   "cell_type": "code",
   "execution_count": null,
   "metadata": {},
   "outputs": [],
   "source": []
  },
  {
   "cell_type": "markdown",
   "metadata": {},
   "source": [
    "Suppose we study the population of each borough. We need to remove commas from the strings before coverting to integers"
   ]
  },
  {
   "cell_type": "code",
   "execution_count": 19,
   "metadata": {},
   "outputs": [],
   "source": [
    "#years we want\n",
    "years = [str(year) for year in range(1950,2050,10)]\n",
    "#the borough column\n",
    "borough_pop = borough[years + [\"Borough\"]]\n",
    "borough_pop = borough_pop.set_index(\"Borough\")"
   ]
  },
  {
   "cell_type": "code",
   "execution_count": 20,
   "metadata": {},
   "outputs": [],
   "source": [
    "#iterating through every series\n",
    "#removing commas\n",
    "#transition string to int with astype\n",
    "for col in borough_pop.columns:\n",
    "    borough_pop[col] = borough_pop[col].str.replace(\",\", \"\")\n",
    "    borough_pop[col] = borough_pop[col].astype(int)"
   ]
  },
  {
   "cell_type": "markdown",
   "metadata": {},
   "source": [
    "We can think of the year as an ordinal variable. The population is the count for the year. We can stratify across New York by the boroughs. \n",
    "\n",
    "We should drop the `NYC Total` row. We should **transpose** rows and columns so the index is the year."
   ]
  },
  {
   "cell_type": "code",
   "execution_count": 21,
   "metadata": {},
   "outputs": [
    {
     "data": {
      "text/html": [
       "<div>\n",
       "<style scoped>\n",
       "    .dataframe tbody tr th:only-of-type {\n",
       "        vertical-align: middle;\n",
       "    }\n",
       "\n",
       "    .dataframe tbody tr th {\n",
       "        vertical-align: top;\n",
       "    }\n",
       "\n",
       "    .dataframe thead th {\n",
       "        text-align: right;\n",
       "    }\n",
       "</style>\n",
       "<table border=\"1\" class=\"dataframe\">\n",
       "  <thead>\n",
       "    <tr style=\"text-align: right;\">\n",
       "      <th>Borough</th>\n",
       "      <th>Bronx</th>\n",
       "      <th>Brooklyn</th>\n",
       "      <th>Manhattan</th>\n",
       "      <th>Queens</th>\n",
       "      <th>Staten Island</th>\n",
       "    </tr>\n",
       "  </thead>\n",
       "  <tbody>\n",
       "    <tr>\n",
       "      <th>1950</th>\n",
       "      <td>1451277</td>\n",
       "      <td>2738175</td>\n",
       "      <td>1960101</td>\n",
       "      <td>1550849</td>\n",
       "      <td>191555</td>\n",
       "    </tr>\n",
       "    <tr>\n",
       "      <th>1960</th>\n",
       "      <td>1424815</td>\n",
       "      <td>2627319</td>\n",
       "      <td>1698281</td>\n",
       "      <td>1809578</td>\n",
       "      <td>221991</td>\n",
       "    </tr>\n",
       "    <tr>\n",
       "      <th>1970</th>\n",
       "      <td>1471701</td>\n",
       "      <td>2602012</td>\n",
       "      <td>1539233</td>\n",
       "      <td>1986473</td>\n",
       "      <td>295443</td>\n",
       "    </tr>\n",
       "    <tr>\n",
       "      <th>1980</th>\n",
       "      <td>1168972</td>\n",
       "      <td>2230936</td>\n",
       "      <td>1428285</td>\n",
       "      <td>1891325</td>\n",
       "      <td>352121</td>\n",
       "    </tr>\n",
       "    <tr>\n",
       "      <th>1990</th>\n",
       "      <td>1203789</td>\n",
       "      <td>2300664</td>\n",
       "      <td>1487536</td>\n",
       "      <td>1951598</td>\n",
       "      <td>378977</td>\n",
       "    </tr>\n",
       "    <tr>\n",
       "      <th>2000</th>\n",
       "      <td>1332650</td>\n",
       "      <td>2465326</td>\n",
       "      <td>1537195</td>\n",
       "      <td>2229379</td>\n",
       "      <td>443728</td>\n",
       "    </tr>\n",
       "    <tr>\n",
       "      <th>2010</th>\n",
       "      <td>1385108</td>\n",
       "      <td>2552911</td>\n",
       "      <td>1585873</td>\n",
       "      <td>2250002</td>\n",
       "      <td>468730</td>\n",
       "    </tr>\n",
       "    <tr>\n",
       "      <th>2020</th>\n",
       "      <td>1446788</td>\n",
       "      <td>2648452</td>\n",
       "      <td>1638281</td>\n",
       "      <td>2330295</td>\n",
       "      <td>487155</td>\n",
       "    </tr>\n",
       "    <tr>\n",
       "      <th>2030</th>\n",
       "      <td>1518998</td>\n",
       "      <td>2754009</td>\n",
       "      <td>1676720</td>\n",
       "      <td>2373551</td>\n",
       "      <td>497749</td>\n",
       "    </tr>\n",
       "    <tr>\n",
       "      <th>2040</th>\n",
       "      <td>1579245</td>\n",
       "      <td>2840525</td>\n",
       "      <td>1691617</td>\n",
       "      <td>2412649</td>\n",
       "      <td>501109</td>\n",
       "    </tr>\n",
       "  </tbody>\n",
       "</table>\n",
       "</div>"
      ],
      "text/plain": [
       "Borough     Bronx     Brooklyn     Manhattan     Queens     Staten Island\n",
       "1950      1451277      2738175       1960101    1550849            191555\n",
       "1960      1424815      2627319       1698281    1809578            221991\n",
       "1970      1471701      2602012       1539233    1986473            295443\n",
       "1980      1168972      2230936       1428285    1891325            352121\n",
       "1990      1203789      2300664       1487536    1951598            378977\n",
       "2000      1332650      2465326       1537195    2229379            443728\n",
       "2010      1385108      2552911       1585873    2250002            468730\n",
       "2020      1446788      2648452       1638281    2330295            487155\n",
       "2030      1518998      2754009       1676720    2373551            497749\n",
       "2040      1579245      2840525       1691617    2412649            501109"
      ]
     },
     "execution_count": 21,
     "metadata": {},
     "output_type": "execute_result"
    }
   ],
   "source": [
    "borough_pop.drop(index = \"NYC Total\", inplace = True)\n",
    "#transposing table\n",
    "borough_pop = borough_pop.T\n",
    "borough_pop"
   ]
  },
  {
   "cell_type": "markdown",
   "metadata": {},
   "source": [
    "Should we try a stacked bar-chart?"
   ]
  },
  {
   "cell_type": "code",
   "execution_count": 22,
   "metadata": {},
   "outputs": [
    {
     "data": {
      "image/png": "[encoded data removed]",
      "text/plain": [
       "<Figure size 864x576 with 1 Axes>"
      ]
     },
     "metadata": {
      "needs_background": "light"
     },
     "output_type": "display_data"
    }
   ],
   "source": [
    "borough_pop.plot(kind='bar', stacked = True);"
   ]
  },
  {
   "cell_type": "markdown",
   "metadata": {},
   "source": [
    "Note that the T is for transpose. We need to flip rows and columns to have the horizontal axis correspond to years.\n",
    "\n",
    "Should we try multiple line-charts?"
   ]
  },
  {
   "cell_type": "code",
   "execution_count": 24,
   "metadata": {},
   "outputs": [
    {
     "data": {
      "image/png": "[encoded data removed]",
      "text/plain": [
       "<Figure size 864x576 with 1 Axes>"
      ]
     },
     "metadata": {
      "needs_background": "light"
     },
     "output_type": "display_data"
    }
   ],
   "source": [
    "#Adding the asteriks for each year\n",
    "borough_pop.plot(kind=\"line\", style = \"-*\");"
   ]
  },
  {
   "cell_type": "markdown",
   "metadata": {},
   "source": [
    "Considering we are trying to compare the population, it would make sense to use the percentages."
   ]
  },
  {
   "cell_type": "code",
   "execution_count": 25,
   "metadata": {},
   "outputs": [],
   "source": [
    "years_percent = [str(year) + \" - Boro share of NYC total\" for year in range(1950,2050,10)]\n",
    "\n",
    "borough_percent = borough[years_percent + [\"Borough\"]]\n",
    "borough_percent = borough_percent.set_index(\"Borough\")"
   ]
  },
  {
   "cell_type": "code",
   "execution_count": 26,
   "metadata": {},
   "outputs": [],
   "source": [
    "#replacing % sign\n",
    "#transfering to float\n",
    "for col in borough_percent.columns:\n",
    "    borough_percent[col] = borough_percent[col].str.replace(\"%\", \"\")\n",
    "    borough_percent[col] = borough_percent[col].astype(float)"
   ]
  },
  {
   "cell_type": "markdown",
   "metadata": {},
   "source": [
    "We should rename the columns, drop the `NYC Total` row, and transpose rows and columns"
   ]
  },
  {
   "cell_type": "code",
   "execution_count": 27,
   "metadata": {},
   "outputs": [],
   "source": [
    "#Dropping total columna and tranposing\n",
    "borough_percent.columns = years\n",
    "borough_percent.drop(index = \"NYC Total\", inplace = True)\n",
    "borough_percent = borough_percent.T"
   ]
  },
  {
   "cell_type": "markdown",
   "metadata": {},
   "source": [
    "Should we try a pie chart?"
   ]
  },
  {
   "cell_type": "code",
   "execution_count": 28,
   "metadata": {},
   "outputs": [
    {
     "data": {
      "image/png": "[encoded data removed]",
      "text/plain": [
       "<Figure size 864x576 with 1 Axes>"
      ]
     },
     "metadata": {},
     "output_type": "display_data"
    }
   ],
   "source": [
    "labels = borough_percent.columns.values\n",
    "sizes = borough_percent.loc[\"1950\",:]\n",
    "\n",
    "plt.pie(sizes, labels=labels, autopct='%1.1f%%', shadow=True, startangle=90)\n",
    "plt.title(\"NYC Population Distribution in 1950\");"
   ]
  },
  {
   "cell_type": "markdown",
   "metadata": {},
   "source": [
    "Should we try multiple line charts?"
   ]
  },
  {
   "cell_type": "code",
   "execution_count": 29,
   "metadata": {},
   "outputs": [
    {
     "data": {
      "image/png": "[encoded data removed]",
      "text/plain": [
       "<Figure size 864x576 with 1 Axes>"
      ]
     },
     "metadata": {
      "needs_background": "light"
     },
     "output_type": "display_data"
    }
   ],
   "source": [
    "borough_percent.plot(kind=\"line\", style = \"-*\");"
   ]
  },
  {
   "cell_type": "markdown",
   "metadata": {},
   "source": [
    "## Processing Strings"
   ]
  },
  {
   "cell_type": "code",
   "execution_count": 30,
   "metadata": {},
   "outputs": [],
   "source": [
    "county_and_state = pd.read_csv(\"county_and_state.csv\")\n",
    "county_and_pop = pd.read_csv(\"county_and_population.csv\")    "
   ]
  },
  {
   "cell_type": "markdown",
   "metadata": {},
   "source": [
    "Suppose we'd like to join these two tables. We can't, because the strings representing the county names don't match, as seen below."
   ]
  },
  {
   "cell_type": "code",
   "execution_count": 31,
   "metadata": {},
   "outputs": [
    {
     "data": {
      "text/html": [
       "<div>\n",
       "<style scoped>\n",
       "    .dataframe tbody tr th:only-of-type {\n",
       "        vertical-align: middle;\n",
       "    }\n",
       "\n",
       "    .dataframe tbody tr th {\n",
       "        vertical-align: top;\n",
       "    }\n",
       "\n",
       "    .dataframe thead th {\n",
       "        text-align: right;\n",
       "    }\n",
       "</style>\n",
       "<table border=\"1\" class=\"dataframe\">\n",
       "  <thead>\n",
       "    <tr style=\"text-align: right;\">\n",
       "      <th></th>\n",
       "      <th>County</th>\n",
       "      <th>State</th>\n",
       "    </tr>\n",
       "  </thead>\n",
       "  <tbody>\n",
       "    <tr>\n",
       "      <th>0</th>\n",
       "      <td>De Witt County</td>\n",
       "      <td>IL</td>\n",
       "    </tr>\n",
       "    <tr>\n",
       "      <th>1</th>\n",
       "      <td>Lac qui Parle County</td>\n",
       "      <td>MN</td>\n",
       "    </tr>\n",
       "    <tr>\n",
       "      <th>2</th>\n",
       "      <td>Lewis and Clark County</td>\n",
       "      <td>MT</td>\n",
       "    </tr>\n",
       "    <tr>\n",
       "      <th>3</th>\n",
       "      <td>St John the Baptist Parish</td>\n",
       "      <td>LS</td>\n",
       "    </tr>\n",
       "  </tbody>\n",
       "</table>\n",
       "</div>"
      ],
      "text/plain": [
       "                       County State\n",
       "0              De Witt County    IL\n",
       "1        Lac qui Parle County    MN\n",
       "2      Lewis and Clark County    MT\n",
       "3  St John the Baptist Parish    LS"
      ]
     },
     "execution_count": 31,
     "metadata": {},
     "output_type": "execute_result"
    }
   ],
   "source": [
    "county_and_state"
   ]
  },
  {
   "cell_type": "code",
   "execution_count": 32,
   "metadata": {},
   "outputs": [
    {
     "data": {
      "text/html": [
       "<div>\n",
       "<style scoped>\n",
       "    .dataframe tbody tr th:only-of-type {\n",
       "        vertical-align: middle;\n",
       "    }\n",
       "\n",
       "    .dataframe tbody tr th {\n",
       "        vertical-align: top;\n",
       "    }\n",
       "\n",
       "    .dataframe thead th {\n",
       "        text-align: right;\n",
       "    }\n",
       "</style>\n",
       "<table border=\"1\" class=\"dataframe\">\n",
       "  <thead>\n",
       "    <tr style=\"text-align: right;\">\n",
       "      <th></th>\n",
       "      <th>County</th>\n",
       "      <th>Population</th>\n",
       "    </tr>\n",
       "  </thead>\n",
       "  <tbody>\n",
       "    <tr>\n",
       "      <th>0</th>\n",
       "      <td>DeWitt</td>\n",
       "      <td>16798</td>\n",
       "    </tr>\n",
       "    <tr>\n",
       "      <th>1</th>\n",
       "      <td>Lac Qui Parle</td>\n",
       "      <td>8067</td>\n",
       "    </tr>\n",
       "    <tr>\n",
       "      <th>2</th>\n",
       "      <td>Lewis &amp; Clark</td>\n",
       "      <td>55716</td>\n",
       "    </tr>\n",
       "    <tr>\n",
       "      <th>3</th>\n",
       "      <td>St. John the Baptist</td>\n",
       "      <td>43044</td>\n",
       "    </tr>\n",
       "  </tbody>\n",
       "</table>\n",
       "</div>"
      ],
      "text/plain": [
       "                 County  Population\n",
       "0                DeWitt       16798\n",
       "1         Lac Qui Parle        8067\n",
       "2         Lewis & Clark       55716\n",
       "3  St. John the Baptist       43044"
      ]
     },
     "execution_count": 32,
     "metadata": {},
     "output_type": "execute_result"
    }
   ],
   "source": [
    "county_and_pop"
   ]
  },
  {
   "cell_type": "markdown",
   "metadata": {},
   "source": [
    " Before we can join them, we need to standardize them.\n",
    "\n",
    "Standardize means converting data that has more than one possible representation into a canonical form."
   ]
  },
  {
   "cell_type": "code",
   "execution_count": 33,
   "metadata": {},
   "outputs": [],
   "source": [
    "def standardize_county(county_name):\n",
    "    return (\n",
    "        county_name\n",
    "        .lower()               # lower case\n",
    "        .replace(' ', '')      # remove spaces\n",
    "        .replace('&', 'and')   # replace &\n",
    "        .replace('.', '')      # remove dot\n",
    "        .replace('county', '') # remove county\n",
    "        .replace('parish', '') # remove parish\n",
    "    )"
   ]
  },
  {
   "cell_type": "code",
   "execution_count": 34,
   "metadata": {},
   "outputs": [],
   "source": [
    "county_and_pop['clean_county'] = county_and_pop['County'].map(standardize_county)\n",
    "county_and_state['clean_county'] = county_and_state['County'].map(standardize_county)"
   ]
  },
  {
   "cell_type": "code",
   "execution_count": 35,
   "metadata": {},
   "outputs": [
    {
     "data": {
      "text/html": [
       "<div>\n",
       "<style scoped>\n",
       "    .dataframe tbody tr th:only-of-type {\n",
       "        vertical-align: middle;\n",
       "    }\n",
       "\n",
       "    .dataframe tbody tr th {\n",
       "        vertical-align: top;\n",
       "    }\n",
       "\n",
       "    .dataframe thead th {\n",
       "        text-align: right;\n",
       "    }\n",
       "</style>\n",
       "<table border=\"1\" class=\"dataframe\">\n",
       "  <thead>\n",
       "    <tr style=\"text-align: right;\">\n",
       "      <th></th>\n",
       "      <th>County_x</th>\n",
       "      <th>Population</th>\n",
       "      <th>clean_county</th>\n",
       "      <th>County_y</th>\n",
       "      <th>State</th>\n",
       "    </tr>\n",
       "  </thead>\n",
       "  <tbody>\n",
       "    <tr>\n",
       "      <th>0</th>\n",
       "      <td>DeWitt</td>\n",
       "      <td>16798</td>\n",
       "      <td>dewitt</td>\n",
       "      <td>De Witt County</td>\n",
       "      <td>IL</td>\n",
       "    </tr>\n",
       "    <tr>\n",
       "      <th>1</th>\n",
       "      <td>Lac Qui Parle</td>\n",
       "      <td>8067</td>\n",
       "      <td>lacquiparle</td>\n",
       "      <td>Lac qui Parle County</td>\n",
       "      <td>MN</td>\n",
       "    </tr>\n",
       "    <tr>\n",
       "      <th>2</th>\n",
       "      <td>Lewis &amp; Clark</td>\n",
       "      <td>55716</td>\n",
       "      <td>lewisandclark</td>\n",
       "      <td>Lewis and Clark County</td>\n",
       "      <td>MT</td>\n",
       "    </tr>\n",
       "    <tr>\n",
       "      <th>3</th>\n",
       "      <td>St. John the Baptist</td>\n",
       "      <td>43044</td>\n",
       "      <td>stjohnthebaptist</td>\n",
       "      <td>St John the Baptist Parish</td>\n",
       "      <td>LS</td>\n",
       "    </tr>\n",
       "  </tbody>\n",
       "</table>\n",
       "</div>"
      ],
      "text/plain": [
       "               County_x  Population      clean_county  \\\n",
       "0                DeWitt       16798            dewitt   \n",
       "1         Lac Qui Parle        8067       lacquiparle   \n",
       "2         Lewis & Clark       55716     lewisandclark   \n",
       "3  St. John the Baptist       43044  stjohnthebaptist   \n",
       "\n",
       "                     County_y State  \n",
       "0              De Witt County    IL  \n",
       "1        Lac qui Parle County    MN  \n",
       "2      Lewis and Clark County    MT  \n",
       "3  St John the Baptist Parish    LS  "
      ]
     },
     "execution_count": 35,
     "metadata": {},
     "output_type": "execute_result"
    }
   ],
   "source": [
    "county_and_pop.merge(county_and_state,\n",
    "                     left_on = 'clean_county', right_on = 'clean_county')"
   ]
  },
  {
   "cell_type": "markdown",
   "metadata": {},
   "source": [
    "## Regular Expressions"
   ]
  },
  {
   "cell_type": "code",
   "execution_count": 36,
   "metadata": {
    "scrolled": true
   },
   "outputs": [],
   "source": [
    "with open('log.txt', 'r') as f:\n",
    "    log_lines = f.readlines()"
   ]
  },
  {
   "cell_type": "code",
   "execution_count": 37,
   "metadata": {},
   "outputs": [
    {
     "data": {
      "text/plain": [
       "['169.237.46.168 - - [26/Jan/2014:10:47:58 -0800] \"GET /stat141/Winter04/ HTTP/1.1\" 200 2585 \"http://anson.ucdavis.edu/courses/\"\\n',\n",
       " '193.205.203.3 - - [2/Feb/2005:17:23:6 -0800] \"GET /stat141/Notes/dim.html HTTP/1.0\" 404 302 \"http://eeyore.ucdavis.edu/stat141/Notes/session.html\"\\n',\n",
       " '169.237.46.240 - \"\" [3/Feb/2006:10:18:37 -0800] \"GET /stat141/homework/Solutions/hw1Sol.pdf HTTP/1.1\"\\n']"
      ]
     },
     "execution_count": 37,
     "metadata": {},
     "output_type": "execute_result"
    }
   ],
   "source": [
    "log_lines"
   ]
  },
  {
   "cell_type": "markdown",
   "metadata": {},
   "source": [
    "Suppose we want to extract the day, month, year, hour, minutes, seconds, and timezone. \n",
    "\n",
    "Looking at the data, we see that these items are not in a fixed position relative to the beginning of the string. That is, slicing by some fixed offset isn't going to work."
   ]
  },
  {
   "cell_type": "code",
   "execution_count": 38,
   "metadata": {},
   "outputs": [
    {
     "data": {
      "text/plain": [
       "'26/Jan/2014'"
      ]
     },
     "execution_count": 38,
     "metadata": {},
     "output_type": "execute_result"
    }
   ],
   "source": [
    "log_lines[0][20:31]"
   ]
  },
  {
   "cell_type": "code",
   "execution_count": 39,
   "metadata": {},
   "outputs": [
    {
     "data": {
      "text/plain": [
       "'/Feb/2005:1'"
      ]
     },
     "execution_count": 39,
     "metadata": {},
     "output_type": "execute_result"
    }
   ],
   "source": [
    "log_lines[1][20:31]"
   ]
  },
  {
   "cell_type": "markdown",
   "metadata": {},
   "source": [
    "Instead, we'll need to use some more sophisticated thinking. Let's focus on only the first line of the file."
   ]
  },
  {
   "cell_type": "code",
   "execution_count": 40,
   "metadata": {
    "scrolled": true
   },
   "outputs": [
    {
     "data": {
      "text/plain": [
       "'169.237.46.168 - - [26/Jan/2014:10:47:58 -0800] \"GET /stat141/Winter04/ HTTP/1.1\" 200 2585 \"http://anson.ucdavis.edu/courses/\"\\n'"
      ]
     },
     "execution_count": 40,
     "metadata": {},
     "output_type": "execute_result"
    }
   ],
   "source": [
    "first = log_lines[0]\n",
    "first"
   ]
  },
  {
   "cell_type": "code",
   "execution_count": 41,
   "metadata": {},
   "outputs": [
    {
     "data": {
      "text/plain": [
       "('26', 'Jan', '2014', '10', '47', '58', '-0800')"
      ]
     },
     "execution_count": 41,
     "metadata": {},
     "output_type": "execute_result"
    }
   ],
   "source": [
    "pertinent = first.split(\"[\")[1].split(']')[0]\n",
    "day, month, rest = pertinent.split('/')\n",
    "year, hour, minute, rest = rest.split(':')\n",
    "seconds, time_zone = rest.split(' ')\n",
    "day, month, year, hour, minute, seconds, time_zone"
   ]
  },
  {
   "cell_type": "markdown",
   "metadata": {},
   "source": [
    "A much more sophisticated but common approach is to extract the information we need using a regular expression. "
   ]
  },
  {
   "cell_type": "code",
   "execution_count": 42,
   "metadata": {
    "scrolled": true
   },
   "outputs": [
    {
     "data": {
      "text/plain": [
       "('2014', 'Jan', '26', '10', '47', '58', '-0800')"
      ]
     },
     "execution_count": 42,
     "metadata": {},
     "output_type": "execute_result"
    }
   ],
   "source": [
    "#re.search\n",
    "pattern = r'\\[(\\d+)/(\\w+)/(\\d+):(\\d+):(\\d+):(\\d+) (.+)\\]'\n",
    "day, month, year, hour, minute, second, time_zone = re.search(pattern, first).groups()\n",
    "year, month, day, hour, minute, second, time_zone"
   ]
  },
  {
   "cell_type": "markdown",
   "metadata": {},
   "source": [
    "Or alternately using the `findall` method:"
   ]
  },
  {
   "cell_type": "code",
   "execution_count": 43,
   "metadata": {},
   "outputs": [
    {
     "data": {
      "text/plain": [
       "('2014', 'Jan', '26', '10', '47', '58', '-0800')"
      ]
     },
     "execution_count": 43,
     "metadata": {},
     "output_type": "execute_result"
    }
   ],
   "source": [
    "#re.findall\n",
    "pattern = r'\\[(\\d+)/(\\w+)/(\\d+):(\\d+):(\\d+):(\\d+) (.+)\\]'\n",
    "day, month, year, hour, minute, second, time_zone = re.findall(pattern, first)[0]\n",
    "year, month, day, hour, minute, second, time_zone"
   ]
  },
  {
   "cell_type": "markdown",
   "metadata": {},
   "source": [
    "##### Exercise"
   ]
  },
  {
   "cell_type": "markdown",
   "metadata": {},
   "source": [
    "Fill in the regex below so that after code executes, day is “26”, month is “Jan”, and year is “2014”. "
   ]
  },
  {
   "cell_type": "code",
   "execution_count": 44,
   "metadata": {},
   "outputs": [
    {
     "data": {
      "text/plain": [
       "'169.237.46.168 - - [26/Jan/2014:10:47:58 -0800] \"GET /stat141/Winter04/ HTTP/1.1\" 200 2585 \"http://anson.ucdavis.edu/courses/\"\\n'"
      ]
     },
     "execution_count": 44,
     "metadata": {},
     "output_type": "execute_result"
    }
   ],
   "source": [
    "log_lines[0]"
   ]
  },
  {
   "cell_type": "code",
   "execution_count": 48,
   "metadata": {
    "scrolled": true
   },
   "outputs": [
    {
     "ename": "ValueError",
     "evalue": "not enough values to unpack (expected 3, got 0)",
     "output_type": "error",
     "traceback": [
      "\u001b[0;31m---------------------------------------------------------------------------\u001b[0m",
      "\u001b[0;31mValueError\u001b[0m                                Traceback (most recent call last)",
      "\u001b[0;32m<ipython-input-48-b25e8f532a25>\u001b[0m in \u001b[0;36m<module>\u001b[0;34m\u001b[0m\n\u001b[1;32m      1\u001b[0m \u001b[0mpattern\u001b[0m \u001b[0;34m=\u001b[0m \u001b[0;34mr\"\"\u001b[0m\u001b[0;34m\u001b[0m\u001b[0;34m\u001b[0m\u001b[0m\n\u001b[1;32m      2\u001b[0m \u001b[0mmatches\u001b[0m \u001b[0;34m=\u001b[0m \u001b[0mre\u001b[0m\u001b[0;34m.\u001b[0m\u001b[0mfindall\u001b[0m\u001b[0;34m(\u001b[0m\u001b[0mpattern\u001b[0m\u001b[0;34m,\u001b[0m \u001b[0mlog_lines\u001b[0m\u001b[0;34m[\u001b[0m\u001b[0;36m0\u001b[0m\u001b[0;34m]\u001b[0m\u001b[0;34m)\u001b[0m\u001b[0;34m\u001b[0m\u001b[0;34m\u001b[0m\u001b[0m\n\u001b[0;32m----> 3\u001b[0;31m \u001b[0mday\u001b[0m\u001b[0;34m,\u001b[0m \u001b[0mmonth\u001b[0m\u001b[0;34m,\u001b[0m \u001b[0myear\u001b[0m \u001b[0;34m=\u001b[0m \u001b[0mmatches\u001b[0m\u001b[0;34m[\u001b[0m\u001b[0;36m0\u001b[0m\u001b[0;34m]\u001b[0m\u001b[0;34m\u001b[0m\u001b[0;34m\u001b[0m\u001b[0m\n\u001b[0m\u001b[1;32m      4\u001b[0m \u001b[0mday\u001b[0m\u001b[0;34m,\u001b[0m \u001b[0mmonth\u001b[0m\u001b[0;34m,\u001b[0m \u001b[0myear\u001b[0m\u001b[0;34m\u001b[0m\u001b[0;34m\u001b[0m\u001b[0m\n",
      "\u001b[0;31mValueError\u001b[0m: not enough values to unpack (expected 3, got 0)"
     ]
    }
   ],
   "source": [
    "pattern = r\"\"\n",
    "matches = re.findall(pattern, log_lines[0])\n",
    "day, month, year = matches[0]\n",
    "day, month, year"
   ]
  },
  {
   "cell_type": "markdown",
   "metadata": {},
   "source": [
    "## Restaurant Data\n",
    "\n",
    "In this example, we will show how regexes can allow us to track quantitative data across categories defined by the appearance of various text fields."
   ]
  },
  {
   "cell_type": "code",
   "execution_count": 50,
   "metadata": {},
   "outputs": [],
   "source": [
    "vio = pd.read_csv(os.environ[\"HOME\"] + \"/shared/nyc_restaurant_data_random_sample.csv\")\n",
    "#vio = pd.read_csv('nyc_restaurant_data_random_sample.csv')\n",
    "vio = vio[['CAMIS', 'RECORD DATE', 'VIOLATION DESCRIPTION', \"SCORE\"]]\n",
    "desc = vio['VIOLATION DESCRIPTION']"
   ]
  },
  {
   "cell_type": "markdown",
   "metadata": {},
   "source": [
    "How does the presence of certain keywords can affect quantitative data, e.g. how do restaurant health scores vary as a function of the number of violations that mention \"vermin\"?"
   ]
  },
  {
   "cell_type": "code",
   "execution_count": 51,
   "metadata": {},
   "outputs": [
    {
     "data": {
      "text/plain": [
       "Non-food contact surface improperly constructed. Unacceptable material used. Non-food contact surface or equipment improperly maintained and/or not properly sealed, raised, spaced or movable to allow accessibility for cleaning on all sides, above and underneath the unit.    2637\n",
       "Facility not vermin proof. Harborage or conditions conducive to attracting vermin to the premises and/or allowing vermin to exist.                                                                                                                                                 2091\n",
       "Evidence of mice or live mice present in facility's food and/or non-food areas.                                                                                                                                                                                                    1335\n",
       "Food not protected from potential source of contamination during storage, preparation, transportation, display or service.                                                                                                                                                         1277\n",
       "Food contact surface not properly washed, rinsed and sanitized after each use and following any activity when contamination may have occurred.                                                                                                                                     1262\n",
       "Name: VIOLATION DESCRIPTION, dtype: int64"
      ]
     },
     "execution_count": 51,
     "metadata": {},
     "output_type": "execute_result"
    }
   ],
   "source": [
    "counts = desc.value_counts()\n",
    "\n",
    "counts[:5]"
   ]
  },
  {
   "cell_type": "code",
   "execution_count": 52,
   "metadata": {},
   "outputs": [
    {
     "data": {
      "text/html": [
       "<div>\n",
       "<style scoped>\n",
       "    .dataframe tbody tr th:only-of-type {\n",
       "        vertical-align: middle;\n",
       "    }\n",
       "\n",
       "    .dataframe tbody tr th {\n",
       "        vertical-align: top;\n",
       "    }\n",
       "\n",
       "    .dataframe thead th {\n",
       "        text-align: right;\n",
       "    }\n",
       "</style>\n",
       "<table border=\"1\" class=\"dataframe\">\n",
       "  <thead>\n",
       "    <tr style=\"text-align: right;\">\n",
       "      <th></th>\n",
       "      <th>CAMIS</th>\n",
       "      <th>RECORD DATE</th>\n",
       "      <th>VIOLATION DESCRIPTION</th>\n",
       "      <th>SCORE</th>\n",
       "      <th>desc</th>\n",
       "    </tr>\n",
       "  </thead>\n",
       "  <tbody>\n",
       "    <tr>\n",
       "      <th>0</th>\n",
       "      <td>50018511</td>\n",
       "      <td>11/05/2018</td>\n",
       "      <td>Filth flies or food/refuse/sewage-associated (...</td>\n",
       "      <td>19.0</td>\n",
       "      <td>filth flies or food/refuse/sewage-associated f...</td>\n",
       "    </tr>\n",
       "    <tr>\n",
       "      <th>1</th>\n",
       "      <td>50012427</td>\n",
       "      <td>11/05/2018</td>\n",
       "      <td>Non-food contact surface improperly constructe...</td>\n",
       "      <td>19.0</td>\n",
       "      <td>non-food contact surface improperly constructe...</td>\n",
       "    </tr>\n",
       "    <tr>\n",
       "      <th>2</th>\n",
       "      <td>50075209</td>\n",
       "      <td>11/05/2018</td>\n",
       "      <td>Personal cleanliness inadequate. Outer garment...</td>\n",
       "      <td>13.0</td>\n",
       "      <td>personal cleanliness inadequate. outer garment...</td>\n",
       "    </tr>\n",
       "    <tr>\n",
       "      <th>3</th>\n",
       "      <td>50001110</td>\n",
       "      <td>11/05/2018</td>\n",
       "      <td>Non-food contact surface improperly constructe...</td>\n",
       "      <td>27.0</td>\n",
       "      <td>non-food contact surface improperly constructe...</td>\n",
       "    </tr>\n",
       "    <tr>\n",
       "      <th>4</th>\n",
       "      <td>41166868</td>\n",
       "      <td>11/05/2018</td>\n",
       "      <td>Food contact surface not properly washed, rins...</td>\n",
       "      <td>13.0</td>\n",
       "      <td>food contact surface not properly washed, rins...</td>\n",
       "    </tr>\n",
       "  </tbody>\n",
       "</table>\n",
       "</div>"
      ],
      "text/plain": [
       "      CAMIS RECORD DATE                              VIOLATION DESCRIPTION  \\\n",
       "0  50018511  11/05/2018  Filth flies or food/refuse/sewage-associated (...   \n",
       "1  50012427  11/05/2018  Non-food contact surface improperly constructe...   \n",
       "2  50075209  11/05/2018  Personal cleanliness inadequate. Outer garment...   \n",
       "3  50001110  11/05/2018  Non-food contact surface improperly constructe...   \n",
       "4  41166868  11/05/2018  Food contact surface not properly washed, rins...   \n",
       "\n",
       "   SCORE                                               desc  \n",
       "0   19.0  filth flies or food/refuse/sewage-associated f...  \n",
       "1   19.0  non-food contact surface improperly constructe...  \n",
       "2   13.0  personal cleanliness inadequate. outer garment...  \n",
       "3   27.0  non-food contact surface improperly constructe...  \n",
       "4   13.0  food contact surface not properly washed, rins...  "
      ]
     },
     "execution_count": 52,
     "metadata": {},
     "output_type": "execute_result"
    }
   ],
   "source": [
    "vio['desc'] = (vio['VIOLATION DESCRIPTION']\n",
    "             .str.replace(r'(\\(|\\))', '')\n",
    "             .str.strip()\n",
    "             .str.lower())\n",
    "vio.head()"
   ]
  },
  {
   "cell_type": "code",
   "execution_count": 53,
   "metadata": {},
   "outputs": [
    {
     "data": {
      "text/plain": [
       "non-food contact surface improperly constructed. unacceptable material used. non-food contact surface or equipment improperly maintained and/or not properly sealed, raised, spaced or movable to allow accessibility for cleaning on all sides, above and underneath the unit.    2637\n",
       "facility not vermin proof. harborage or conditions conducive to attracting vermin to the premises and/or allowing vermin to exist.                                                                                                                                                 2091\n",
       "evidence of mice or live mice present in facility's food and/or non-food areas.                                                                                                                                                                                                    1335\n",
       "food not protected from potential source of contamination during storage, preparation, transportation, display or service.                                                                                                                                                         1277\n",
       "food contact surface not properly washed, rinsed and sanitized after each use and following any activity when contamination may have occurred.                                                                                                                                     1262\n",
       "Name: desc, dtype: int64"
      ]
     },
     "execution_count": 53,
     "metadata": {},
     "output_type": "execute_result"
    }
   ],
   "source": [
    "vio['desc'].value_counts().head() "
   ]
  },
  {
   "cell_type": "code",
   "execution_count": 54,
   "metadata": {},
   "outputs": [],
   "source": [
    "# | pipe corresponds to or\n",
    "vio[\"is_clean\"] = vio['desc'].str.contains('clean|sanit').fillna(0).astype(int)\n",
    "vio[\"is_vermin\"] = vio['desc'].str.contains('vermin').fillna(0).astype(int) \n",
    "vio[\"is_surface\"] =  vio['desc'].str.contains('wall|ceiling|floor|surface').fillna(0).astype(int)\n",
    "vio[\"is_human\"] = vio['desc'].str.contains('hand|glove|hair|nail').fillna(0).astype(int)\n",
    "vio[\"is_permit\"] = vio['desc'].str.contains('permit|certif').fillna(0).astype(int)"
   ]
  },
  {
   "cell_type": "code",
   "execution_count": 55,
   "metadata": {},
   "outputs": [
    {
     "data": {
      "text/html": [
       "<div>\n",
       "<style scoped>\n",
       "    .dataframe tbody tr th:only-of-type {\n",
       "        vertical-align: middle;\n",
       "    }\n",
       "\n",
       "    .dataframe tbody tr th {\n",
       "        vertical-align: top;\n",
       "    }\n",
       "\n",
       "    .dataframe thead th {\n",
       "        text-align: right;\n",
       "    }\n",
       "</style>\n",
       "<table border=\"1\" class=\"dataframe\">\n",
       "  <thead>\n",
       "    <tr style=\"text-align: right;\">\n",
       "      <th></th>\n",
       "      <th>CAMIS</th>\n",
       "      <th>RECORD DATE</th>\n",
       "      <th>VIOLATION DESCRIPTION</th>\n",
       "      <th>SCORE</th>\n",
       "      <th>desc</th>\n",
       "      <th>is_clean</th>\n",
       "      <th>is_vermin</th>\n",
       "      <th>is_surface</th>\n",
       "      <th>is_human</th>\n",
       "      <th>is_permit</th>\n",
       "    </tr>\n",
       "  </thead>\n",
       "  <tbody>\n",
       "    <tr>\n",
       "      <th>0</th>\n",
       "      <td>50018511</td>\n",
       "      <td>11/05/2018</td>\n",
       "      <td>Filth flies or food/refuse/sewage-associated (...</td>\n",
       "      <td>19.0</td>\n",
       "      <td>filth flies or food/refuse/sewage-associated f...</td>\n",
       "      <td>0</td>\n",
       "      <td>0</td>\n",
       "      <td>0</td>\n",
       "      <td>0</td>\n",
       "      <td>0</td>\n",
       "    </tr>\n",
       "    <tr>\n",
       "      <th>1</th>\n",
       "      <td>50012427</td>\n",
       "      <td>11/05/2018</td>\n",
       "      <td>Non-food contact surface improperly constructe...</td>\n",
       "      <td>19.0</td>\n",
       "      <td>non-food contact surface improperly constructe...</td>\n",
       "      <td>1</td>\n",
       "      <td>0</td>\n",
       "      <td>1</td>\n",
       "      <td>0</td>\n",
       "      <td>0</td>\n",
       "    </tr>\n",
       "    <tr>\n",
       "      <th>2</th>\n",
       "      <td>50075209</td>\n",
       "      <td>11/05/2018</td>\n",
       "      <td>Personal cleanliness inadequate. Outer garment...</td>\n",
       "      <td>13.0</td>\n",
       "      <td>personal cleanliness inadequate. outer garment...</td>\n",
       "      <td>1</td>\n",
       "      <td>0</td>\n",
       "      <td>0</td>\n",
       "      <td>1</td>\n",
       "      <td>0</td>\n",
       "    </tr>\n",
       "    <tr>\n",
       "      <th>3</th>\n",
       "      <td>50001110</td>\n",
       "      <td>11/05/2018</td>\n",
       "      <td>Non-food contact surface improperly constructe...</td>\n",
       "      <td>27.0</td>\n",
       "      <td>non-food contact surface improperly constructe...</td>\n",
       "      <td>1</td>\n",
       "      <td>0</td>\n",
       "      <td>1</td>\n",
       "      <td>0</td>\n",
       "      <td>0</td>\n",
       "    </tr>\n",
       "    <tr>\n",
       "      <th>4</th>\n",
       "      <td>41166868</td>\n",
       "      <td>11/05/2018</td>\n",
       "      <td>Food contact surface not properly washed, rins...</td>\n",
       "      <td>13.0</td>\n",
       "      <td>food contact surface not properly washed, rins...</td>\n",
       "      <td>1</td>\n",
       "      <td>0</td>\n",
       "      <td>1</td>\n",
       "      <td>0</td>\n",
       "      <td>0</td>\n",
       "    </tr>\n",
       "  </tbody>\n",
       "</table>\n",
       "</div>"
      ],
      "text/plain": [
       "      CAMIS RECORD DATE                              VIOLATION DESCRIPTION  \\\n",
       "0  50018511  11/05/2018  Filth flies or food/refuse/sewage-associated (...   \n",
       "1  50012427  11/05/2018  Non-food contact surface improperly constructe...   \n",
       "2  50075209  11/05/2018  Personal cleanliness inadequate. Outer garment...   \n",
       "3  50001110  11/05/2018  Non-food contact surface improperly constructe...   \n",
       "4  41166868  11/05/2018  Food contact surface not properly washed, rins...   \n",
       "\n",
       "   SCORE                                               desc  is_clean  \\\n",
       "0   19.0  filth flies or food/refuse/sewage-associated f...         0   \n",
       "1   19.0  non-food contact surface improperly constructe...         1   \n",
       "2   13.0  personal cleanliness inadequate. outer garment...         1   \n",
       "3   27.0  non-food contact surface improperly constructe...         1   \n",
       "4   13.0  food contact surface not properly washed, rins...         1   \n",
       "\n",
       "   is_vermin  is_surface  is_human  is_permit  \n",
       "0          0           0         0          0  \n",
       "1          0           1         0          0  \n",
       "2          0           0         1          0  \n",
       "3          0           1         0          0  \n",
       "4          0           1         0          0  "
      ]
     },
     "execution_count": 55,
     "metadata": {},
     "output_type": "execute_result"
    }
   ],
   "source": [
    "vio.head()"
   ]
  },
  {
   "cell_type": "code",
   "execution_count": 68,
   "metadata": {},
   "outputs": [],
   "source": [
    "count_features = (vio\n",
    " .groupby(['CAMIS', 'RECORD DATE'])\n",
    " .sum()\n",
    " .reset_index()\n",
    ")"
   ]
  },
  {
   "cell_type": "code",
   "execution_count": 69,
   "metadata": {},
   "outputs": [
    {
     "data": {
      "text/html": [
       "<div>\n",
       "<style scoped>\n",
       "    .dataframe tbody tr th:only-of-type {\n",
       "        vertical-align: middle;\n",
       "    }\n",
       "\n",
       "    .dataframe tbody tr th {\n",
       "        vertical-align: top;\n",
       "    }\n",
       "\n",
       "    .dataframe thead th {\n",
       "        text-align: right;\n",
       "    }\n",
       "</style>\n",
       "<table border=\"1\" class=\"dataframe\">\n",
       "  <thead>\n",
       "    <tr style=\"text-align: right;\">\n",
       "      <th></th>\n",
       "      <th>CAMIS</th>\n",
       "      <th>RECORD DATE</th>\n",
       "      <th>SCORE</th>\n",
       "      <th>is_clean</th>\n",
       "      <th>is_vermin</th>\n",
       "      <th>is_surface</th>\n",
       "      <th>is_human</th>\n",
       "      <th>is_permit</th>\n",
       "    </tr>\n",
       "  </thead>\n",
       "  <tbody>\n",
       "    <tr>\n",
       "      <th>0</th>\n",
       "      <td>30075445</td>\n",
       "      <td>11/05/2018</td>\n",
       "      <td>5.0</td>\n",
       "      <td>0</td>\n",
       "      <td>0</td>\n",
       "      <td>0</td>\n",
       "      <td>0</td>\n",
       "      <td>0</td>\n",
       "    </tr>\n",
       "    <tr>\n",
       "      <th>1</th>\n",
       "      <td>30112340</td>\n",
       "      <td>11/05/2018</td>\n",
       "      <td>60.0</td>\n",
       "      <td>0</td>\n",
       "      <td>0</td>\n",
       "      <td>1</td>\n",
       "      <td>0</td>\n",
       "      <td>0</td>\n",
       "    </tr>\n",
       "    <tr>\n",
       "      <th>2</th>\n",
       "      <td>30191841</td>\n",
       "      <td>11/05/2018</td>\n",
       "      <td>12.0</td>\n",
       "      <td>0</td>\n",
       "      <td>0</td>\n",
       "      <td>0</td>\n",
       "      <td>0</td>\n",
       "      <td>0</td>\n",
       "    </tr>\n",
       "    <tr>\n",
       "      <th>3</th>\n",
       "      <td>40359480</td>\n",
       "      <td>11/05/2018</td>\n",
       "      <td>7.0</td>\n",
       "      <td>1</td>\n",
       "      <td>0</td>\n",
       "      <td>1</td>\n",
       "      <td>0</td>\n",
       "      <td>0</td>\n",
       "    </tr>\n",
       "    <tr>\n",
       "      <th>4</th>\n",
       "      <td>40359705</td>\n",
       "      <td>11/05/2018</td>\n",
       "      <td>32.0</td>\n",
       "      <td>1</td>\n",
       "      <td>0</td>\n",
       "      <td>1</td>\n",
       "      <td>0</td>\n",
       "      <td>0</td>\n",
       "    </tr>\n",
       "  </tbody>\n",
       "</table>\n",
       "</div>"
      ],
      "text/plain": [
       "      CAMIS RECORD DATE  SCORE  is_clean  is_vermin  is_surface  is_human  \\\n",
       "0  30075445  11/05/2018    5.0         0          0           0         0   \n",
       "1  30112340  11/05/2018   60.0         0          0           1         0   \n",
       "2  30191841  11/05/2018   12.0         0          0           0         0   \n",
       "3  40359480  11/05/2018    7.0         1          0           1         0   \n",
       "4  40359705  11/05/2018   32.0         1          0           1         0   \n",
       "\n",
       "   is_permit  \n",
       "0          0  \n",
       "1          0  \n",
       "2          0  \n",
       "3          0  \n",
       "4          0  "
      ]
     },
     "execution_count": 69,
     "metadata": {},
     "output_type": "execute_result"
    }
   ],
   "source": [
    "count_features.head()"
   ]
  },
  {
   "cell_type": "code",
   "execution_count": 70,
   "metadata": {},
   "outputs": [
    {
     "data": {
      "text/html": [
       "<div>\n",
       "<style scoped>\n",
       "    .dataframe tbody tr th:only-of-type {\n",
       "        vertical-align: middle;\n",
       "    }\n",
       "\n",
       "    .dataframe tbody tr th {\n",
       "        vertical-align: top;\n",
       "    }\n",
       "\n",
       "    .dataframe thead th {\n",
       "        text-align: right;\n",
       "    }\n",
       "</style>\n",
       "<table border=\"1\" class=\"dataframe\">\n",
       "  <thead>\n",
       "    <tr style=\"text-align: right;\">\n",
       "      <th></th>\n",
       "      <th>CAMIS</th>\n",
       "      <th>RECORD DATE</th>\n",
       "      <th>SCORE</th>\n",
       "      <th>is_clean</th>\n",
       "      <th>is_vermin</th>\n",
       "      <th>is_surface</th>\n",
       "      <th>is_human</th>\n",
       "      <th>is_permit</th>\n",
       "    </tr>\n",
       "  </thead>\n",
       "  <tbody>\n",
       "    <tr>\n",
       "      <th>255</th>\n",
       "      <td>40386793</td>\n",
       "      <td>11/05/2018</td>\n",
       "      <td>43.0</td>\n",
       "      <td>0</td>\n",
       "      <td>1</td>\n",
       "      <td>0</td>\n",
       "      <td>0</td>\n",
       "      <td>0</td>\n",
       "    </tr>\n",
       "    <tr>\n",
       "      <th>256</th>\n",
       "      <td>40386837</td>\n",
       "      <td>11/05/2018</td>\n",
       "      <td>4.0</td>\n",
       "      <td>0</td>\n",
       "      <td>0</td>\n",
       "      <td>0</td>\n",
       "      <td>0</td>\n",
       "      <td>0</td>\n",
       "    </tr>\n",
       "    <tr>\n",
       "      <th>257</th>\n",
       "      <td>40386976</td>\n",
       "      <td>11/05/2018</td>\n",
       "      <td>17.0</td>\n",
       "      <td>0</td>\n",
       "      <td>0</td>\n",
       "      <td>0</td>\n",
       "      <td>0</td>\n",
       "      <td>0</td>\n",
       "    </tr>\n",
       "    <tr>\n",
       "      <th>258</th>\n",
       "      <td>40386999</td>\n",
       "      <td>11/05/2018</td>\n",
       "      <td>8.0</td>\n",
       "      <td>1</td>\n",
       "      <td>0</td>\n",
       "      <td>0</td>\n",
       "      <td>0</td>\n",
       "      <td>0</td>\n",
       "    </tr>\n",
       "    <tr>\n",
       "      <th>259</th>\n",
       "      <td>40387162</td>\n",
       "      <td>11/05/2018</td>\n",
       "      <td>7.0</td>\n",
       "      <td>0</td>\n",
       "      <td>0</td>\n",
       "      <td>1</td>\n",
       "      <td>0</td>\n",
       "      <td>0</td>\n",
       "    </tr>\n",
       "  </tbody>\n",
       "</table>\n",
       "</div>"
      ],
      "text/plain": [
       "        CAMIS RECORD DATE  SCORE  is_clean  is_vermin  is_surface  is_human  \\\n",
       "255  40386793  11/05/2018   43.0         0          1           0         0   \n",
       "256  40386837  11/05/2018    4.0         0          0           0         0   \n",
       "257  40386976  11/05/2018   17.0         0          0           0         0   \n",
       "258  40386999  11/05/2018    8.0         1          0           0         0   \n",
       "259  40387162  11/05/2018    7.0         0          0           1         0   \n",
       "\n",
       "     is_permit  \n",
       "255          0  \n",
       "256          0  \n",
       "257          0  \n",
       "258          0  \n",
       "259          0  "
      ]
     },
     "execution_count": 70,
     "metadata": {},
     "output_type": "execute_result"
    }
   ],
   "source": [
    "count_features.iloc[255:260, :]"
   ]
  },
  {
   "cell_type": "code",
   "execution_count": 71,
   "metadata": {},
   "outputs": [
    {
     "data": {
      "text/html": [
       "<div>\n",
       "<style scoped>\n",
       "    .dataframe tbody tr th:only-of-type {\n",
       "        vertical-align: middle;\n",
       "    }\n",
       "\n",
       "    .dataframe tbody tr th {\n",
       "        vertical-align: top;\n",
       "    }\n",
       "\n",
       "    .dataframe thead th {\n",
       "        text-align: right;\n",
       "    }\n",
       "</style>\n",
       "<table border=\"1\" class=\"dataframe\">\n",
       "  <thead>\n",
       "    <tr style=\"text-align: right;\">\n",
       "      <th></th>\n",
       "      <th>CAMIS</th>\n",
       "      <th>RECORD DATE</th>\n",
       "      <th>SCORE</th>\n",
       "      <th>is_clean</th>\n",
       "      <th>is_vermin</th>\n",
       "      <th>is_surface</th>\n",
       "      <th>is_human</th>\n",
       "      <th>is_permit</th>\n",
       "    </tr>\n",
       "  </thead>\n",
       "  <tbody>\n",
       "    <tr>\n",
       "      <th>69</th>\n",
       "      <td>40366938</td>\n",
       "      <td>11/05/2018</td>\n",
       "      <td>76.0</td>\n",
       "      <td>0</td>\n",
       "      <td>2</td>\n",
       "      <td>0</td>\n",
       "      <td>0</td>\n",
       "      <td>0</td>\n",
       "    </tr>\n",
       "    <tr>\n",
       "      <th>85</th>\n",
       "      <td>40367790</td>\n",
       "      <td>11/05/2018</td>\n",
       "      <td>28.0</td>\n",
       "      <td>0</td>\n",
       "      <td>2</td>\n",
       "      <td>0</td>\n",
       "      <td>0</td>\n",
       "      <td>0</td>\n",
       "    </tr>\n",
       "    <tr>\n",
       "      <th>179</th>\n",
       "      <td>40378035</td>\n",
       "      <td>11/05/2018</td>\n",
       "      <td>39.0</td>\n",
       "      <td>0</td>\n",
       "      <td>2</td>\n",
       "      <td>0</td>\n",
       "      <td>0</td>\n",
       "      <td>0</td>\n",
       "    </tr>\n",
       "    <tr>\n",
       "      <th>226</th>\n",
       "      <td>40384525</td>\n",
       "      <td>11/05/2018</td>\n",
       "      <td>22.0</td>\n",
       "      <td>0</td>\n",
       "      <td>2</td>\n",
       "      <td>0</td>\n",
       "      <td>0</td>\n",
       "      <td>0</td>\n",
       "    </tr>\n",
       "    <tr>\n",
       "      <th>239</th>\n",
       "      <td>40385767</td>\n",
       "      <td>11/05/2018</td>\n",
       "      <td>25.0</td>\n",
       "      <td>0</td>\n",
       "      <td>2</td>\n",
       "      <td>0</td>\n",
       "      <td>0</td>\n",
       "      <td>0</td>\n",
       "    </tr>\n",
       "    <tr>\n",
       "      <th>...</th>\n",
       "      <td>...</td>\n",
       "      <td>...</td>\n",
       "      <td>...</td>\n",
       "      <td>...</td>\n",
       "      <td>...</td>\n",
       "      <td>...</td>\n",
       "      <td>...</td>\n",
       "      <td>...</td>\n",
       "    </tr>\n",
       "    <tr>\n",
       "      <th>10586</th>\n",
       "      <td>50060478</td>\n",
       "      <td>11/05/2018</td>\n",
       "      <td>25.0</td>\n",
       "      <td>0</td>\n",
       "      <td>2</td>\n",
       "      <td>0</td>\n",
       "      <td>0</td>\n",
       "      <td>0</td>\n",
       "    </tr>\n",
       "    <tr>\n",
       "      <th>10587</th>\n",
       "      <td>50060484</td>\n",
       "      <td>11/05/2018</td>\n",
       "      <td>65.0</td>\n",
       "      <td>0</td>\n",
       "      <td>2</td>\n",
       "      <td>0</td>\n",
       "      <td>0</td>\n",
       "      <td>0</td>\n",
       "    </tr>\n",
       "    <tr>\n",
       "      <th>11505</th>\n",
       "      <td>50072758</td>\n",
       "      <td>11/05/2018</td>\n",
       "      <td>276.0</td>\n",
       "      <td>0</td>\n",
       "      <td>2</td>\n",
       "      <td>0</td>\n",
       "      <td>0</td>\n",
       "      <td>0</td>\n",
       "    </tr>\n",
       "    <tr>\n",
       "      <th>11677</th>\n",
       "      <td>50074588</td>\n",
       "      <td>11/05/2018</td>\n",
       "      <td>66.0</td>\n",
       "      <td>0</td>\n",
       "      <td>2</td>\n",
       "      <td>0</td>\n",
       "      <td>0</td>\n",
       "      <td>0</td>\n",
       "    </tr>\n",
       "    <tr>\n",
       "      <th>11878</th>\n",
       "      <td>50078187</td>\n",
       "      <td>11/05/2018</td>\n",
       "      <td>227.0</td>\n",
       "      <td>0</td>\n",
       "      <td>2</td>\n",
       "      <td>1</td>\n",
       "      <td>0</td>\n",
       "      <td>0</td>\n",
       "    </tr>\n",
       "  </tbody>\n",
       "</table>\n",
       "<p>130 rows × 8 columns</p>\n",
       "</div>"
      ],
      "text/plain": [
       "          CAMIS RECORD DATE  SCORE  is_clean  is_vermin  is_surface  is_human  \\\n",
       "69     40366938  11/05/2018   76.0         0          2           0         0   \n",
       "85     40367790  11/05/2018   28.0         0          2           0         0   \n",
       "179    40378035  11/05/2018   39.0         0          2           0         0   \n",
       "226    40384525  11/05/2018   22.0         0          2           0         0   \n",
       "239    40385767  11/05/2018   25.0         0          2           0         0   \n",
       "...         ...         ...    ...       ...        ...         ...       ...   \n",
       "10586  50060478  11/05/2018   25.0         0          2           0         0   \n",
       "10587  50060484  11/05/2018   65.0         0          2           0         0   \n",
       "11505  50072758  11/05/2018  276.0         0          2           0         0   \n",
       "11677  50074588  11/05/2018   66.0         0          2           0         0   \n",
       "11878  50078187  11/05/2018  227.0         0          2           1         0   \n",
       "\n",
       "       is_permit  \n",
       "69             0  \n",
       "85             0  \n",
       "179            0  \n",
       "226            0  \n",
       "239            0  \n",
       "...          ...  \n",
       "10586          0  \n",
       "10587          0  \n",
       "11505          0  \n",
       "11677          0  \n",
       "11878          0  \n",
       "\n",
       "[130 rows x 8 columns]"
      ]
     },
     "execution_count": 71,
     "metadata": {},
     "output_type": "execute_result"
    }
   ],
   "source": [
    "count_features[count_features['is_vermin'] > 1]"
   ]
  },
  {
   "cell_type": "markdown",
   "metadata": {},
   "source": [
    "Use a new pandas feature called `melt`. The granularity of the resulting frame is a violation type in a given inspection"
   ]
  },
  {
   "cell_type": "code",
   "execution_count": 75,
   "metadata": {},
   "outputs": [],
   "source": [
    "cols = ['CAMIS', 'RECORD DATE', 'is_clean', 'is_vermin', 'is_surface', 'is_human', 'is_permit']\n",
    "\n",
    "broken_down_by_violation_type = pd.melt(count_features[cols], id_vars=['CAMIS', 'RECORD DATE'],\n",
    "            var_name='feature', value_name='num_vios')"
   ]
  },
  {
   "cell_type": "code",
   "execution_count": 76,
   "metadata": {},
   "outputs": [
    {
     "data": {
      "text/html": [
       "<div>\n",
       "<style scoped>\n",
       "    .dataframe tbody tr th:only-of-type {\n",
       "        vertical-align: middle;\n",
       "    }\n",
       "\n",
       "    .dataframe tbody tr th {\n",
       "        vertical-align: top;\n",
       "    }\n",
       "\n",
       "    .dataframe thead th {\n",
       "        text-align: right;\n",
       "    }\n",
       "</style>\n",
       "<table border=\"1\" class=\"dataframe\">\n",
       "  <thead>\n",
       "    <tr style=\"text-align: right;\">\n",
       "      <th></th>\n",
       "      <th>CAMIS</th>\n",
       "      <th>RECORD DATE</th>\n",
       "      <th>feature</th>\n",
       "      <th>num_vios</th>\n",
       "    </tr>\n",
       "  </thead>\n",
       "  <tbody>\n",
       "    <tr>\n",
       "      <th>0</th>\n",
       "      <td>30075445</td>\n",
       "      <td>11/05/2018</td>\n",
       "      <td>is_clean</td>\n",
       "      <td>0</td>\n",
       "    </tr>\n",
       "    <tr>\n",
       "      <th>12161</th>\n",
       "      <td>30075445</td>\n",
       "      <td>11/05/2018</td>\n",
       "      <td>is_vermin</td>\n",
       "      <td>0</td>\n",
       "    </tr>\n",
       "    <tr>\n",
       "      <th>24322</th>\n",
       "      <td>30075445</td>\n",
       "      <td>11/05/2018</td>\n",
       "      <td>is_surface</td>\n",
       "      <td>0</td>\n",
       "    </tr>\n",
       "    <tr>\n",
       "      <th>36483</th>\n",
       "      <td>30075445</td>\n",
       "      <td>11/05/2018</td>\n",
       "      <td>is_human</td>\n",
       "      <td>0</td>\n",
       "    </tr>\n",
       "    <tr>\n",
       "      <th>48644</th>\n",
       "      <td>30075445</td>\n",
       "      <td>11/05/2018</td>\n",
       "      <td>is_permit</td>\n",
       "      <td>0</td>\n",
       "    </tr>\n",
       "  </tbody>\n",
       "</table>\n",
       "</div>"
      ],
      "text/plain": [
       "          CAMIS RECORD DATE     feature  num_vios\n",
       "0      30075445  11/05/2018    is_clean         0\n",
       "12161  30075445  11/05/2018   is_vermin         0\n",
       "24322  30075445  11/05/2018  is_surface         0\n",
       "36483  30075445  11/05/2018    is_human         0\n",
       "48644  30075445  11/05/2018   is_permit         0"
      ]
     },
     "execution_count": 76,
     "metadata": {},
     "output_type": "execute_result"
    }
   ],
   "source": [
    "broken_down_by_violation_type.sort_values(['CAMIS', 'RECORD DATE']).head()"
   ]
  },
  {
   "cell_type": "code",
   "execution_count": 77,
   "metadata": {},
   "outputs": [
    {
     "data": {
      "text/html": [
       "<div>\n",
       "<style scoped>\n",
       "    .dataframe tbody tr th:only-of-type {\n",
       "        vertical-align: middle;\n",
       "    }\n",
       "\n",
       "    .dataframe tbody tr th {\n",
       "        vertical-align: top;\n",
       "    }\n",
       "\n",
       "    .dataframe thead th {\n",
       "        text-align: right;\n",
       "    }\n",
       "</style>\n",
       "<table border=\"1\" class=\"dataframe\">\n",
       "  <thead>\n",
       "    <tr style=\"text-align: right;\">\n",
       "      <th></th>\n",
       "      <th>CAMIS</th>\n",
       "      <th>RECORD DATE</th>\n",
       "      <th>SCORE</th>\n",
       "    </tr>\n",
       "  </thead>\n",
       "  <tbody>\n",
       "    <tr>\n",
       "      <th>0</th>\n",
       "      <td>50018511</td>\n",
       "      <td>11/05/2018</td>\n",
       "      <td>19.0</td>\n",
       "    </tr>\n",
       "    <tr>\n",
       "      <th>1</th>\n",
       "      <td>50012427</td>\n",
       "      <td>11/05/2018</td>\n",
       "      <td>19.0</td>\n",
       "    </tr>\n",
       "    <tr>\n",
       "      <th>2</th>\n",
       "      <td>50075209</td>\n",
       "      <td>11/05/2018</td>\n",
       "      <td>13.0</td>\n",
       "    </tr>\n",
       "    <tr>\n",
       "      <th>3</th>\n",
       "      <td>50001110</td>\n",
       "      <td>11/05/2018</td>\n",
       "      <td>27.0</td>\n",
       "    </tr>\n",
       "    <tr>\n",
       "      <th>4</th>\n",
       "      <td>41166868</td>\n",
       "      <td>11/05/2018</td>\n",
       "      <td>13.0</td>\n",
       "    </tr>\n",
       "  </tbody>\n",
       "</table>\n",
       "</div>"
      ],
      "text/plain": [
       "      CAMIS RECORD DATE  SCORE\n",
       "0  50018511  11/05/2018   19.0\n",
       "1  50012427  11/05/2018   19.0\n",
       "2  50075209  11/05/2018   13.0\n",
       "3  50001110  11/05/2018   27.0\n",
       "4  41166868  11/05/2018   13.0"
      ]
     },
     "execution_count": 77,
     "metadata": {},
     "output_type": "execute_result"
    }
   ],
   "source": [
    "#read in the scores\n",
    "ins = vio[[\"CAMIS\", \"RECORD DATE\", \"SCORE\"]]\n",
    "ins.head()"
   ]
  },
  {
   "cell_type": "markdown",
   "metadata": {},
   "source": [
    "Join scores with the table broken down by violation type"
   ]
  },
  {
   "cell_type": "code",
   "execution_count": 78,
   "metadata": {},
   "outputs": [
    {
     "data": {
      "text/html": [
       "<div>\n",
       "<style scoped>\n",
       "    .dataframe tbody tr th:only-of-type {\n",
       "        vertical-align: middle;\n",
       "    }\n",
       "\n",
       "    .dataframe tbody tr th {\n",
       "        vertical-align: top;\n",
       "    }\n",
       "\n",
       "    .dataframe thead th {\n",
       "        text-align: right;\n",
       "    }\n",
       "</style>\n",
       "<table border=\"1\" class=\"dataframe\">\n",
       "  <thead>\n",
       "    <tr style=\"text-align: right;\">\n",
       "      <th></th>\n",
       "      <th>CAMIS</th>\n",
       "      <th>RECORD DATE</th>\n",
       "      <th>feature</th>\n",
       "      <th>num_vios</th>\n",
       "      <th>SCORE</th>\n",
       "    </tr>\n",
       "  </thead>\n",
       "  <tbody>\n",
       "    <tr>\n",
       "      <th>0</th>\n",
       "      <td>30075445</td>\n",
       "      <td>11/05/2018</td>\n",
       "      <td>is_clean</td>\n",
       "      <td>0</td>\n",
       "      <td>5.0</td>\n",
       "    </tr>\n",
       "    <tr>\n",
       "      <th>1</th>\n",
       "      <td>30075445</td>\n",
       "      <td>11/05/2018</td>\n",
       "      <td>is_vermin</td>\n",
       "      <td>0</td>\n",
       "      <td>5.0</td>\n",
       "    </tr>\n",
       "    <tr>\n",
       "      <th>2</th>\n",
       "      <td>30075445</td>\n",
       "      <td>11/05/2018</td>\n",
       "      <td>is_surface</td>\n",
       "      <td>0</td>\n",
       "      <td>5.0</td>\n",
       "    </tr>\n",
       "    <tr>\n",
       "      <th>3</th>\n",
       "      <td>30075445</td>\n",
       "      <td>11/05/2018</td>\n",
       "      <td>is_human</td>\n",
       "      <td>0</td>\n",
       "      <td>5.0</td>\n",
       "    </tr>\n",
       "    <tr>\n",
       "      <th>4</th>\n",
       "      <td>30075445</td>\n",
       "      <td>11/05/2018</td>\n",
       "      <td>is_permit</td>\n",
       "      <td>0</td>\n",
       "      <td>5.0</td>\n",
       "    </tr>\n",
       "    <tr>\n",
       "      <th>5</th>\n",
       "      <td>30112340</td>\n",
       "      <td>11/05/2018</td>\n",
       "      <td>is_clean</td>\n",
       "      <td>0</td>\n",
       "      <td>12.0</td>\n",
       "    </tr>\n",
       "    <tr>\n",
       "      <th>6</th>\n",
       "      <td>30112340</td>\n",
       "      <td>11/05/2018</td>\n",
       "      <td>is_clean</td>\n",
       "      <td>0</td>\n",
       "      <td>48.0</td>\n",
       "    </tr>\n",
       "    <tr>\n",
       "      <th>7</th>\n",
       "      <td>30112340</td>\n",
       "      <td>11/05/2018</td>\n",
       "      <td>is_vermin</td>\n",
       "      <td>0</td>\n",
       "      <td>12.0</td>\n",
       "    </tr>\n",
       "    <tr>\n",
       "      <th>8</th>\n",
       "      <td>30112340</td>\n",
       "      <td>11/05/2018</td>\n",
       "      <td>is_vermin</td>\n",
       "      <td>0</td>\n",
       "      <td>48.0</td>\n",
       "    </tr>\n",
       "    <tr>\n",
       "      <th>9</th>\n",
       "      <td>30112340</td>\n",
       "      <td>11/05/2018</td>\n",
       "      <td>is_surface</td>\n",
       "      <td>1</td>\n",
       "      <td>12.0</td>\n",
       "    </tr>\n",
       "    <tr>\n",
       "      <th>10</th>\n",
       "      <td>30112340</td>\n",
       "      <td>11/05/2018</td>\n",
       "      <td>is_surface</td>\n",
       "      <td>1</td>\n",
       "      <td>48.0</td>\n",
       "    </tr>\n",
       "    <tr>\n",
       "      <th>11</th>\n",
       "      <td>30112340</td>\n",
       "      <td>11/05/2018</td>\n",
       "      <td>is_human</td>\n",
       "      <td>0</td>\n",
       "      <td>12.0</td>\n",
       "    </tr>\n",
       "  </tbody>\n",
       "</table>\n",
       "</div>"
      ],
      "text/plain": [
       "       CAMIS RECORD DATE     feature  num_vios  SCORE\n",
       "0   30075445  11/05/2018    is_clean         0    5.0\n",
       "1   30075445  11/05/2018   is_vermin         0    5.0\n",
       "2   30075445  11/05/2018  is_surface         0    5.0\n",
       "3   30075445  11/05/2018    is_human         0    5.0\n",
       "4   30075445  11/05/2018   is_permit         0    5.0\n",
       "5   30112340  11/05/2018    is_clean         0   12.0\n",
       "6   30112340  11/05/2018    is_clean         0   48.0\n",
       "7   30112340  11/05/2018   is_vermin         0   12.0\n",
       "8   30112340  11/05/2018   is_vermin         0   48.0\n",
       "9   30112340  11/05/2018  is_surface         1   12.0\n",
       "10  30112340  11/05/2018  is_surface         1   48.0\n",
       "11  30112340  11/05/2018    is_human         0   12.0"
      ]
     },
     "execution_count": 78,
     "metadata": {},
     "output_type": "execute_result"
    }
   ],
   "source": [
    "violation_type_and_scores = (\n",
    "    broken_down_by_violation_type\n",
    "    .merge(ins, left_on=['CAMIS', 'RECORD DATE'], right_on=['CAMIS', 'RECORD DATE'])\n",
    ")\n",
    "violation_type_and_scores.head(12)"
   ]
  },
  {
   "cell_type": "code",
   "execution_count": 79,
   "metadata": {},
   "outputs": [
    {
     "data": {
      "text/plain": [
       "CAMIS             0\n",
       "RECORD DATE       0\n",
       "feature           0\n",
       "num_vios          0\n",
       "SCORE          5010\n",
       "dtype: int64"
      ]
     },
     "execution_count": 79,
     "metadata": {},
     "output_type": "execute_result"
    }
   ],
   "source": [
    "violation_type_and_scores.isna().sum()"
   ]
  },
  {
   "cell_type": "code",
   "execution_count": 80,
   "metadata": {},
   "outputs": [
    {
     "data": {
      "image/png": "[encoded data removed]",
      "text/plain": [
       "<Figure size 720x1080 with 5 Axes>"
      ]
     },
     "metadata": {
      "needs_background": "light"
     },
     "output_type": "display_data"
    }
   ],
   "source": [
    "sns.catplot(x='num_vios', y='SCORE',\n",
    "               col='feature', col_wrap=2,\n",
    "               kind='box',\n",
    "               data=violation_type_and_scores);"
   ]
  },
  {
   "cell_type": "markdown",
   "metadata": {},
   "source": [
    "Above we see, for example, that if a restaurant inspection involved 2 violation with the keyword \"vermin\", the average score for that inspection would be around 25"
   ]
  },
  {
   "cell_type": "code",
   "execution_count": null,
   "metadata": {},
   "outputs": [],
   "source": []
  },
  {
   "cell_type": "code",
   "execution_count": null,
   "metadata": {},
   "outputs": [],
   "source": []
  }
 ],
 "metadata": {
  "kernelspec": {
   "display_name": "Python [conda env:dsua-112]",
   "language": "python",
   "name": "conda-env-dsua-112-py"
  },
  "language_info": {
   "codemirror_mode": {
    "name": "ipython",
    "version": 3
   },
   "file_extension": ".py",
   "mimetype": "text/x-python",
   "name": "python",
   "nbconvert_exporter": "python",
   "pygments_lexer": "ipython3",
   "version": "3.7.6"
  }
 },
 "nbformat": 4,
 "nbformat_minor": 2
}
