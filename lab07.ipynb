{
 "cells": [
  {
   "cell_type": "markdown",
   "metadata": {
    "deletable": false,
    "editable": false,
    "nbgrader": {
     "cell_type": "markdown",
     "checksum": "c89148712da649cdd172ca6e493339cc",
     "grade": false,
     "grade_id": "cell-898f55667c4bdeec",
     "locked": true,
     "schema_version": 3,
     "solution": false,
     "task": false
    },
    "slideshow": {
     "slide_type": "slide"
    }
   },
   "source": [
    "\n",
    "## Lab 7: Working with Dates and Times \n",
    "\n",
    "\n",
    "\n",
    "**Due Date: Friday March 27, 2020 at 11:59 AM.**\n",
    "\n",
    "`pandas` supports many methods for manipulating dates and times. For Project 1, we will need to understand timestamps of data scraped from the internet. While we could work with dates and times as strings, it will be helpful for us to understand  \n",
    "\n",
    "* Objects for storing dates / times \n",
    "* Methods for accessing and modifying dates / times\n",
    "* Switching between timezones\n",
    "\n",
    "We will use a financial dataset consisting of information about stock movements."
   ]
  },
  {
   "cell_type": "code",
   "execution_count": 1,
   "metadata": {
    "deletable": false,
    "editable": false,
    "nbgrader": {
     "cell_type": "code",
     "checksum": "fc3af97dc13f40c5531c365bef183665",
     "grade": false,
     "grade_id": "cell-ca8adc765a8827a5",
     "locked": true,
     "schema_version": 3,
     "solution": false,
     "task": false
    },
    "slideshow": {
     "slide_type": "fragment"
    }
   },
   "outputs": [],
   "source": [
    "import datetime\n",
    "from datetime import datetime\n",
    "from datetime import timedelta\n",
    "import pytz\n",
    "\n",
    "import numpy as np\n",
    "import pandas as pd\n",
    "\n",
    "import sys\n",
    "from IPython.display import Image"
   ]
  },
  {
   "cell_type": "code",
   "execution_count": 2,
   "metadata": {
    "deletable": false,
    "editable": false,
    "nbgrader": {
     "cell_type": "code",
     "checksum": "0b871ca3ba6a08a4eecc423f52633412",
     "grade": true,
     "grade_id": "cell-23b5588cba5f3408",
     "locked": true,
     "points": 0,
     "schema_version": 3,
     "solution": false,
     "task": false
    }
   },
   "outputs": [],
   "source": [
    "# TEST \n",
    "\n",
    "assert 'pandas' in sys.modules and \"pd\" in locals()\n",
    "assert 'numpy' in sys.modules and \"np\" in locals()\n",
    "assert 'pytz' in sys.modules \n",
    "assert 'datetime' in sys.modules "
   ]
  },
  {
   "cell_type": "markdown",
   "metadata": {
    "deletable": false,
    "editable": false,
    "nbgrader": {
     "cell_type": "markdown",
     "checksum": "7ee8a7d2afee763638e2a1afdbe6d1db",
     "grade": false,
     "grade_id": "cell-460920357c3086d4",
     "locked": true,
     "schema_version": 3,
     "solution": false,
     "task": false
    },
    "slideshow": {
     "slide_type": "subslide"
    }
   },
   "source": [
    "### 1. Date and Time Data Types\n",
    "\n",
    "Before studying dates and times in the `pandas` package, we will try to understand objects for storing dates and times. We will use the `datetime` package. \n",
    "\n",
    "Each `datetime` object consists of year, month and day in the [Gregorian calendar](https://en.wikipedia.org/wiki/Gregorian_calendar).  "
   ]
  },
  {
   "cell_type": "code",
   "execution_count": 3,
   "metadata": {
    "deletable": false,
    "editable": false,
    "nbgrader": {
     "cell_type": "code",
     "checksum": "0f4d419bf84511ff6592b4cee2190efc",
     "grade": false,
     "grade_id": "cell-522e06f9a028be4d",
     "locked": true,
     "schema_version": 3,
     "solution": false,
     "task": false
    },
    "slideshow": {
     "slide_type": "fragment"
    }
   },
   "outputs": [
    {
     "name": "stdout",
     "output_type": "stream",
     "text": [
      "2020 3 23\n"
     ]
    }
   ],
   "source": [
    "now = datetime.now()\n",
    "print(now.year, now.month, now.day)\n"
   ]
  },
  {
   "cell_type": "markdown",
   "metadata": {
    "deletable": false,
    "editable": false,
    "nbgrader": {
     "cell_type": "markdown",
     "checksum": "62f51f8fa58c8728a9956e50cbf5e64a",
     "grade": false,
     "grade_id": "cell-8a2ad3e2cdb231c2",
     "locked": true,
     "schema_version": 3,
     "solution": false,
     "task": false
    },
    "slideshow": {
     "slide_type": "subslide"
    }
   },
   "source": [
    "Moreover `datetime` objects can store time of day as hours, minutes, seconds, and microseconds  "
   ]
  },
  {
   "cell_type": "code",
   "execution_count": 4,
   "metadata": {
    "deletable": false,
    "editable": false,
    "nbgrader": {
     "cell_type": "code",
     "checksum": "75a88695859ba1d42a17c6aceed6f0c6",
     "grade": false,
     "grade_id": "cell-3d50a533b8f27218",
     "locked": true,
     "schema_version": 3,
     "solution": false,
     "task": false
    }
   },
   "outputs": [
    {
     "name": "stdout",
     "output_type": "stream",
     "text": [
      "9 26 24 547640\n"
     ]
    }
   ],
   "source": [
    "print(now.hour, now.minute, now.second, now.microsecond)"
   ]
  },
  {
   "cell_type": "markdown",
   "metadata": {
    "deletable": false,
    "editable": false,
    "nbgrader": {
     "cell_type": "markdown",
     "checksum": "396c4cbbd0691a174415762326ac71d6",
     "grade": false,
     "grade_id": "cell-a6d73d9291e8d710",
     "locked": true,
     "schema_version": 3,
     "solution": false,
     "task": false
    }
   },
   "source": [
    "The package allows us to [overload](https://en.wikipedia.org/wiki/Function_overloading) arithmetic operations. \n",
    "\n",
    "For example, we can determine the elapsed time between two dates by applying subtraction."
   ]
  },
  {
   "cell_type": "code",
   "execution_count": 5,
   "metadata": {
    "deletable": false,
    "editable": false,
    "nbgrader": {
     "cell_type": "code",
     "checksum": "acbe8e09f1f918c0aefa810918c22377",
     "grade": false,
     "grade_id": "cell-406e15445290911c",
     "locked": true,
     "schema_version": 3,
     "solution": false,
     "task": false
    },
    "slideshow": {
     "slide_type": "subslide"
    }
   },
   "outputs": [
    {
     "name": "stdout",
     "output_type": "stream",
     "text": [
      "Days  926\n",
      "Seconds  56700\n"
     ]
    }
   ],
   "source": [
    "delta = datetime(2011, 1, 7) - datetime(2008, 6, 24, 8, 15)\n",
    "print(\"Days \", delta.days)\n",
    "print(\"Seconds \", delta.seconds)"
   ]
  },
  {
   "cell_type": "markdown",
   "metadata": {
    "deletable": false,
    "editable": false,
    "nbgrader": {
     "cell_type": "markdown",
     "checksum": "3968889c24495d34546df7d3cba4b04e",
     "grade": false,
     "grade_id": "cell-76160be139976814",
     "locked": true,
     "schema_version": 3,
     "solution": false,
     "task": false
    }
   },
   "source": [
    "Note that the difference between two dates is a `timedelta` object."
   ]
  },
  {
   "cell_type": "code",
   "execution_count": 6,
   "metadata": {
    "deletable": false,
    "editable": false,
    "nbgrader": {
     "cell_type": "code",
     "checksum": "75e11cb908c93233781b40802dee8c64",
     "grade": false,
     "grade_id": "cell-a07d239c5dfd62ad",
     "locked": true,
     "schema_version": 3,
     "solution": false,
     "task": false
    }
   },
   "outputs": [
    {
     "data": {
      "text/plain": [
       "datetime.timedelta"
      ]
     },
     "execution_count": 6,
     "metadata": {},
     "output_type": "execute_result"
    }
   ],
   "source": [
    "type(delta)"
   ]
  },
  {
   "cell_type": "markdown",
   "metadata": {
    "deletable": false,
    "editable": false,
    "nbgrader": {
     "cell_type": "markdown",
     "checksum": "e98ab267ebf878339ccdc4700afcaa7b",
     "grade": false,
     "grade_id": "cell-f3989095c509b622",
     "locked": true,
     "schema_version": 3,
     "solution": false,
     "task": false
    }
   },
   "source": [
    "We can incorporate `timedelta` objects into arithmetic operations"
   ]
  },
  {
   "cell_type": "code",
   "execution_count": 7,
   "metadata": {
    "deletable": false,
    "editable": false,
    "nbgrader": {
     "cell_type": "code",
     "checksum": "7ef5af56c8e39f597e3e2bd354efba32",
     "grade": false,
     "grade_id": "cell-35804d0c48d675a0",
     "locked": true,
     "schema_version": 3,
     "solution": false,
     "task": false
    },
    "slideshow": {
     "slide_type": "subslide"
    }
   },
   "outputs": [
    {
     "name": "stdout",
     "output_type": "stream",
     "text": [
      "2011 1 15\n"
     ]
    }
   ],
   "source": [
    "start = datetime(2011, 1, 7)\n",
    "finish = start + 2 * timedelta(days = 4)\n",
    "print(finish.year, finish.month, finish.day)"
   ]
  },
  {
   "cell_type": "markdown",
   "metadata": {
    "deletable": false,
    "editable": false,
    "nbgrader": {
     "cell_type": "markdown",
     "checksum": "838b1374275df8129db4b77450fb3bbf",
     "grade": false,
     "grade_id": "cell-12b1ac2805c573cc",
     "locked": true,
     "schema_version": 3,
     "solution": false,
     "task": false
    },
    "slideshow": {
     "slide_type": "slide"
    }
   },
   "source": [
    "### 1.1 Coverting between string and datetime\n",
    "\n",
    "We can cast a string to a `datetime` object or cast a `datetime` object to a string. For example, if we print a `datetime` object then we get a representation as a string.  "
   ]
  },
  {
   "cell_type": "code",
   "execution_count": 8,
   "metadata": {
    "deletable": false,
    "editable": false,
    "nbgrader": {
     "cell_type": "code",
     "checksum": "1f190f0221b625c7db8e3f9f5e5c8a9c",
     "grade": false,
     "grade_id": "cell-62fae1108c25bddc",
     "locked": true,
     "schema_version": 3,
     "solution": false,
     "task": false
    },
    "slideshow": {
     "slide_type": "fragment"
    }
   },
   "outputs": [
    {
     "data": {
      "text/plain": [
       "'2011-01-03 00:00:00'"
      ]
     },
     "execution_count": 8,
     "metadata": {},
     "output_type": "execute_result"
    }
   ],
   "source": [
    "stamp = datetime(2011, 1, 3)\n",
    "str(stamp)"
   ]
  },
  {
   "cell_type": "code",
   "execution_count": 9,
   "metadata": {
    "deletable": false,
    "editable": false,
    "nbgrader": {
     "cell_type": "code",
     "checksum": "de5f931d519f6036e5c2730ff755a793",
     "grade": false,
     "grade_id": "cell-259af071fcccae67",
     "locked": true,
     "schema_version": 3,
     "solution": false,
     "task": false
    },
    "slideshow": {
     "slide_type": "fragment"
    }
   },
   "outputs": [
    {
     "name": "stdout",
     "output_type": "stream",
     "text": [
      "Format: (4 digit year) - (2 digit month) - (2 digit day)\n",
      " 2011-01-03\n"
     ]
    }
   ],
   "source": [
    "print(\"Format: (4 digit year) - (2 digit month) - (2 digit day)\\n\",stamp.strftime('%Y-%m-%d'))"
   ]
  },
  {
   "cell_type": "markdown",
   "metadata": {
    "deletable": false,
    "editable": false,
    "nbgrader": {
     "cell_type": "markdown",
     "checksum": "d1e1a6b0db73ef228a02d95d914ce06b",
     "grade": false,
     "grade_id": "cell-13eeb81555f0f696",
     "locked": true,
     "schema_version": 3,
     "solution": false,
     "task": false
    }
   },
   "source": [
    "If we know the format of a string, then we can convert it to a `datetime` object."
   ]
  },
  {
   "cell_type": "code",
   "execution_count": 10,
   "metadata": {
    "deletable": false,
    "editable": false,
    "nbgrader": {
     "cell_type": "code",
     "checksum": "b353293253e71d612e5b7bccc8f203d4",
     "grade": false,
     "grade_id": "cell-18dba35d7e1acc6b",
     "locked": true,
     "schema_version": 3,
     "solution": false,
     "task": false
    },
    "slideshow": {
     "slide_type": "subslide"
    }
   },
   "outputs": [
    {
     "data": {
      "text/plain": [
       "datetime.datetime(2011, 1, 3, 0, 0)"
      ]
     },
     "execution_count": 10,
     "metadata": {},
     "output_type": "execute_result"
    }
   ],
   "source": [
    "str_date = '201101/03'\n",
    "datetime.strptime(str_date, '%Y%m/%d')"
   ]
  },
  {
   "cell_type": "markdown",
   "metadata": {
    "slideshow": {
     "slide_type": "slide"
    }
   },
   "source": [
    "### 1.2 Using datetime with pandas\n",
    "\n",
    "Often we want to use `datetime` objects in the index of a `pandas` series or dataframe."
   ]
  },
  {
   "cell_type": "code",
   "execution_count": 11,
   "metadata": {
    "deletable": false,
    "editable": false,
    "nbgrader": {
     "cell_type": "code",
     "checksum": "e1d3ef95b9f351526c4ee8a37889cb4d",
     "grade": false,
     "grade_id": "cell-5a33b75da9b7dabf",
     "locked": true,
     "schema_version": 3,
     "solution": false,
     "task": false
    },
    "slideshow": {
     "slide_type": "subslide"
    }
   },
   "outputs": [
    {
     "data": {
      "text/plain": [
       "2011-01-02   -0.568634\n",
       "2011-01-05   -0.563891\n",
       "2011-01-07   -0.354992\n",
       "2011-01-08    0.363780\n",
       "2011-01-10   -0.813957\n",
       "2011-01-12    0.273905\n",
       "dtype: float64"
      ]
     },
     "execution_count": 11,
     "metadata": {},
     "output_type": "execute_result"
    }
   ],
   "source": [
    "dates = [datetime(2011, 1, 2), datetime(2011, 1, 5), datetime(2011, 1, 7),\n",
    "         datetime(2011, 1, 8), datetime(2011, 1, 10), datetime(2011, 1, 12)]\n",
    "\n",
    "ts = pd.Series(np.random.randn(6), index=dates)\n",
    "ts"
   ]
  },
  {
   "cell_type": "markdown",
   "metadata": {},
   "source": [
    "Note that the index is a `DatetimeIndex` meaning a `pandas` data structure that support operations like substraction. "
   ]
  },
  {
   "cell_type": "code",
   "execution_count": 12,
   "metadata": {
    "deletable": false,
    "editable": false,
    "nbgrader": {
     "cell_type": "code",
     "checksum": "efaf277835ce27acc33aff4fb6070022",
     "grade": false,
     "grade_id": "cell-5e930f53350e735d",
     "locked": true,
     "schema_version": 3,
     "solution": false,
     "task": false
    }
   },
   "outputs": [
    {
     "name": "stdout",
     "output_type": "stream",
     "text": [
      "Index type <class 'pandas.core.indexes.datetimes.DatetimeIndex'>\n"
     ]
    }
   ],
   "source": [
    "print(\"Index type\", type(ts.index))"
   ]
  },
  {
   "cell_type": "markdown",
   "metadata": {
    "deletable": false,
    "editable": false,
    "nbgrader": {
     "cell_type": "markdown",
     "checksum": "1d7ad3cd72eb5061dca57ee53ac41b5c",
     "grade": false,
     "grade_id": "cell-c412ce5a4c9070b0",
     "locked": true,
     "schema_version": 3,
     "solution": false,
     "task": false
    }
   },
   "source": [
    "Alternatively, we can skip the `datetime` package to convert from a string using `to_datetime` method."
   ]
  },
  {
   "cell_type": "code",
   "execution_count": 13,
   "metadata": {
    "deletable": false,
    "editable": false,
    "nbgrader": {
     "cell_type": "code",
     "checksum": "84980a74ddc1d32c959adb1026863a64",
     "grade": false,
     "grade_id": "cell-df46cd19010b4df6",
     "locked": true,
     "schema_version": 3,
     "solution": false,
     "task": false
    },
    "slideshow": {
     "slide_type": "subslide"
    }
   },
   "outputs": [
    {
     "data": {
      "text/plain": [
       "DatetimeIndex(['2011-07-06', '2011-08-06'], dtype='datetime64[ns]', freq=None)"
      ]
     },
     "execution_count": 13,
     "metadata": {},
     "output_type": "execute_result"
    }
   ],
   "source": [
    "datestrs = ['7/6/2011', '8/6/2011']\n",
    "pd.to_datetime(datestrs)"
   ]
  },
  {
   "cell_type": "markdown",
   "metadata": {
    "deletable": false,
    "editable": false,
    "nbgrader": {
     "cell_type": "markdown",
     "checksum": "16d323b08eb05be05012f1b88564d7b7",
     "grade": false,
     "grade_id": "cell-ba7d555f3c0e7301",
     "locked": true,
     "schema_version": 3,
     "solution": false,
     "task": false
    }
   },
   "source": [
    "Note that we can handle missing dates like missing numbers. Instead of `NaN` we have `NaT`."
   ]
  },
  {
   "cell_type": "code",
   "execution_count": 14,
   "metadata": {
    "deletable": false,
    "editable": false,
    "nbgrader": {
     "cell_type": "code",
     "checksum": "ae37ab6599226e853105eb055835715a",
     "grade": false,
     "grade_id": "cell-d82edfcab8a5aadb",
     "locked": true,
     "schema_version": 3,
     "solution": false,
     "task": false
    },
    "slideshow": {
     "slide_type": "fragment"
    }
   },
   "outputs": [
    {
     "data": {
      "text/plain": [
       "DatetimeIndex(['2011-07-06', '2011-08-06', 'NaT'], dtype='datetime64[ns]', freq=None)"
      ]
     },
     "execution_count": 14,
     "metadata": {},
     "output_type": "execute_result"
    }
   ],
   "source": [
    "date_index = pd.to_datetime(datestrs + [None])\n",
    "date_index"
   ]
  },
  {
   "cell_type": "markdown",
   "metadata": {
    "deletable": false,
    "editable": false,
    "nbgrader": {
     "cell_type": "markdown",
     "checksum": "9265228f0ac184811b6bef69b836f756",
     "grade": false,
     "grade_id": "cell-987bce424fbb0bb9",
     "locked": true,
     "schema_version": 3,
     "solution": false,
     "task": false
    }
   },
   "source": [
    "We can check for missing values with `isna`"
   ]
  },
  {
   "cell_type": "code",
   "execution_count": 15,
   "metadata": {
    "deletable": false,
    "editable": false,
    "nbgrader": {
     "cell_type": "code",
     "checksum": "5ce7bf296596f67c565dd351721657d2",
     "grade": false,
     "grade_id": "cell-38cdd806e9057af3",
     "locked": true,
     "schema_version": 3,
     "solution": false,
     "task": false
    },
    "slideshow": {
     "slide_type": "fragment"
    }
   },
   "outputs": [
    {
     "data": {
      "text/plain": [
       "array([False, False,  True])"
      ]
     },
     "execution_count": 15,
     "metadata": {},
     "output_type": "execute_result"
    }
   ],
   "source": [
    "pd.isna(date_index)"
   ]
  },
  {
   "cell_type": "markdown",
   "metadata": {
    "deletable": false,
    "editable": false,
    "nbgrader": {
     "cell_type": "markdown",
     "checksum": "c7e9879d3b0a76770ddd347b76ba568d",
     "grade": false,
     "grade_id": "cell-4282d02aa1ed01f6",
     "locked": true,
     "schema_version": 3,
     "solution": false,
     "task": false
    },
    "slideshow": {
     "slide_type": "slide"
    }
   },
   "source": [
    "### 2. Date Ranges\n",
    "\n",
    "Often we want to generate many dates according to a pattern. "
   ]
  },
  {
   "cell_type": "markdown",
   "metadata": {
    "deletable": false,
    "editable": false,
    "nbgrader": {
     "cell_type": "markdown",
     "checksum": "73a62b4b96065617f2652cd2ca936bec",
     "grade": false,
     "grade_id": "cell-f1331a67fb7f59db",
     "locked": true,
     "schema_version": 3,
     "solution": false,
     "task": false
    }
   },
   "source": [
    "#### 2.1 Ranges\n",
    "\n",
    "If we have a starting date and ending date, then we can fill in intermediate dates according to a frequency. "
   ]
  },
  {
   "cell_type": "code",
   "execution_count": 16,
   "metadata": {
    "deletable": false,
    "editable": false,
    "nbgrader": {
     "cell_type": "code",
     "checksum": "68b5620e1dccc1243a3105f2e095c2a7",
     "grade": false,
     "grade_id": "cell-9a7f91b91be610a5",
     "locked": true,
     "schema_version": 3,
     "solution": false,
     "task": false
    },
    "slideshow": {
     "slide_type": "fragment"
    }
   },
   "outputs": [
    {
     "data": {
      "text/plain": [
       "DatetimeIndex(['2012-04-01', '2012-04-02', '2012-04-03'], dtype='datetime64[ns]', freq='D')"
      ]
     },
     "execution_count": 16,
     "metadata": {},
     "output_type": "execute_result"
    }
   ],
   "source": [
    "date_index = pd.date_range('4/1/2012', '6/1/2012', freq=\"D\")\n",
    "date_index[:3]"
   ]
  },
  {
   "cell_type": "markdown",
   "metadata": {
    "deletable": false,
    "editable": false,
    "nbgrader": {
     "cell_type": "markdown",
     "checksum": "2d07df87c7c62a2f303c6e3eb2c1c693",
     "grade": false,
     "grade_id": "cell-44553adab1fa1d28",
     "locked": true,
     "schema_version": 3,
     "solution": false,
     "task": false
    }
   },
   "source": [
    "If we have a starting date, then we can add a certain number of periods according to a frequency. "
   ]
  },
  {
   "cell_type": "code",
   "execution_count": 17,
   "metadata": {
    "deletable": false,
    "editable": false,
    "nbgrader": {
     "cell_type": "code",
     "checksum": "2c71101a5809b5b79608eb3e009002ff",
     "grade": false,
     "grade_id": "cell-57396c752f851bd7",
     "locked": true,
     "schema_version": 3,
     "solution": false,
     "task": false
    },
    "slideshow": {
     "slide_type": "subslide"
    }
   },
   "outputs": [
    {
     "data": {
      "text/plain": [
       "DatetimeIndex(['2012-04-30', '2012-05-31', '2012-06-30'], dtype='datetime64[ns]', freq='M')"
      ]
     },
     "execution_count": 17,
     "metadata": {},
     "output_type": "execute_result"
    }
   ],
   "source": [
    "pd.date_range(start='4/1/2012', periods=20, freq=\"M\")[:3]"
   ]
  },
  {
   "cell_type": "markdown",
   "metadata": {
    "deletable": false,
    "editable": false,
    "nbgrader": {
     "cell_type": "markdown",
     "checksum": "d538e5f91578be953e57b70012d915a9",
     "grade": false,
     "grade_id": "cell-f1331a19048067fb7f59db",
     "locked": true,
     "schema_version": 3,
     "solution": false,
     "task": false
    }
   },
   "source": [
    "#### 2.2 Access\n",
    "\n",
    "We have different ways to access the dates. For example, we could specify either a string or a `datetime` object corresponding to a particular entry"
   ]
  },
  {
   "cell_type": "code",
   "execution_count": 18,
   "metadata": {
    "deletable": false,
    "editable": false,
    "nbgrader": {
     "cell_type": "code",
     "checksum": "378f311c5aa45cc25356cb1ec2eb1b69",
     "grade": false,
     "grade_id": "cell-ac3d6c4ad96a41be",
     "locked": true,
     "schema_version": 3,
     "solution": false,
     "task": false
    },
    "slideshow": {
     "slide_type": "fragment"
    }
   },
   "outputs": [
    {
     "data": {
      "text/plain": [
       "2000-01-01    1.180810\n",
       "2000-01-02   -1.809522\n",
       "2000-01-03   -0.688946\n",
       "2000-01-04   -1.057039\n",
       "2000-01-05    1.538986\n",
       "Freq: D, dtype: float64"
      ]
     },
     "execution_count": 18,
     "metadata": {},
     "output_type": "execute_result"
    }
   ],
   "source": [
    "ts = pd.Series(np.random.randn(1000),\n",
    "                   index=pd.date_range('1/1/2000', periods=1000))\n",
    "ts.head() "
   ]
  },
  {
   "cell_type": "code",
   "execution_count": 19,
   "metadata": {
    "deletable": false,
    "editable": false,
    "nbgrader": {
     "cell_type": "code",
     "checksum": "a60c54ad01011860ff59e8850168b6b2",
     "grade": false,
     "grade_id": "cell-86a6eabc17407bf5",
     "locked": true,
     "schema_version": 3,
     "solution": false,
     "task": false
    }
   },
   "outputs": [
    {
     "data": {
      "text/plain": [
       "-0.047685476519646226"
      ]
     },
     "execution_count": 19,
     "metadata": {},
     "output_type": "execute_result"
    }
   ],
   "source": [
    "ts['2000-01-10']"
   ]
  },
  {
   "cell_type": "code",
   "execution_count": 20,
   "metadata": {
    "deletable": false,
    "editable": false,
    "nbgrader": {
     "cell_type": "code",
     "checksum": "f3ab40500b371a27592e4b50a52a1a33",
     "grade": false,
     "grade_id": "cell-fb4b34e6fb918735",
     "locked": true,
     "schema_version": 3,
     "solution": false,
     "task": false
    },
    "slideshow": {
     "slide_type": "subslide"
    }
   },
   "outputs": [
    {
     "data": {
      "text/plain": [
       "-1.1814149636280205"
      ]
     },
     "execution_count": 20,
     "metadata": {},
     "output_type": "execute_result"
    }
   ],
   "source": [
    "ts[datetime(2000, 1, 7)]"
   ]
  },
  {
   "cell_type": "markdown",
   "metadata": {
    "deletable": false,
    "editable": false,
    "nbgrader": {
     "cell_type": "markdown",
     "checksum": "f8d94300bde26eeeb334c2df3583ecd6",
     "grade": false,
     "grade_id": "cell-5059c91693ff1a49",
     "locked": true,
     "schema_version": 3,
     "solution": false,
     "task": false
    }
   },
   "source": [
    "If we want a collection of dates, then we could specify less information."
   ]
  },
  {
   "cell_type": "code",
   "execution_count": 21,
   "metadata": {
    "deletable": false,
    "editable": false,
    "nbgrader": {
     "cell_type": "code",
     "checksum": "af58deadb28ab38d91e2b47a3c53834e",
     "grade": false,
     "grade_id": "cell-324c5fd9deb789ad",
     "locked": true,
     "schema_version": 3,
     "solution": false,
     "task": false
    },
    "slideshow": {
     "slide_type": "subslide"
    }
   },
   "outputs": [
    {
     "data": {
      "text/plain": [
       "2001-01-01   -1.286989\n",
       "2001-01-02   -0.654462\n",
       "2001-01-03   -0.319370\n",
       "2001-01-04    2.514183\n",
       "2001-01-05   -0.761371\n",
       "Freq: D, dtype: float64"
      ]
     },
     "execution_count": 21,
     "metadata": {},
     "output_type": "execute_result"
    }
   ],
   "source": [
    "ts['2001'].head()"
   ]
  },
  {
   "cell_type": "code",
   "execution_count": 22,
   "metadata": {
    "deletable": false,
    "editable": false,
    "nbgrader": {
     "cell_type": "code",
     "checksum": "736f63b0f6e091acf5cca8a6997a1d76",
     "grade": false,
     "grade_id": "cell-1f48f1fc2afcd45f",
     "locked": true,
     "schema_version": 3,
     "solution": false,
     "task": false
    },
    "slideshow": {
     "slide_type": "subslide"
    }
   },
   "outputs": [
    {
     "data": {
      "text/plain": [
       "2001-05-01   -0.455765\n",
       "2001-05-02    1.734610\n",
       "2001-05-03    3.615094\n",
       "2001-05-04   -1.021075\n",
       "2001-05-05    0.678843\n",
       "Freq: D, dtype: float64"
      ]
     },
     "execution_count": 22,
     "metadata": {},
     "output_type": "execute_result"
    }
   ],
   "source": [
    "ts['2001-05'].head()  "
   ]
  },
  {
   "cell_type": "markdown",
   "metadata": {
    "deletable": false,
    "editable": false,
    "nbgrader": {
     "cell_type": "markdown",
     "checksum": "104ce5c0a0dc85a75b7858b7834492cf",
     "grade": false,
     "grade_id": "cell-6f10b8384a86d732",
     "locked": true,
     "schema_version": 3,
     "solution": false,
     "task": false
    }
   },
   "source": [
    "Or we could specify a slice of dates like a slice of numbers."
   ]
  },
  {
   "cell_type": "code",
   "execution_count": 23,
   "metadata": {
    "deletable": false,
    "editable": false,
    "nbgrader": {
     "cell_type": "code",
     "checksum": "08080573a234757461e641a054e6ecc5",
     "grade": false,
     "grade_id": "cell-d38ec0cd631fb0b4",
     "locked": true,
     "schema_version": 3,
     "solution": false,
     "task": false
    },
    "slideshow": {
     "slide_type": "subslide"
    }
   },
   "outputs": [
    {
     "data": {
      "text/plain": [
       "2001-01-07    0.222355\n",
       "2001-01-08    1.577949\n",
       "2001-01-09    0.851727\n",
       "2001-01-10   -0.173389\n",
       "2001-01-11   -0.265508\n",
       "Freq: D, dtype: float64"
      ]
     },
     "execution_count": 23,
     "metadata": {},
     "output_type": "execute_result"
    }
   ],
   "source": [
    "ts[datetime(2001, 1, 7):].head()"
   ]
  },
  {
   "cell_type": "code",
   "execution_count": 24,
   "metadata": {
    "deletable": false,
    "editable": false,
    "nbgrader": {
     "cell_type": "code",
     "checksum": "94da0774411840c5c8b846d82c0d3d79",
     "grade": false,
     "grade_id": "cell-e8535d5fdecd399f",
     "locked": true,
     "schema_version": 3,
     "solution": false,
     "task": false
    },
    "slideshow": {
     "slide_type": "subslide"
    }
   },
   "outputs": [
    {
     "data": {
      "text/plain": [
       "2001-01-06   -1.263251\n",
       "2001-01-07    0.222355\n",
       "2001-01-08    1.577949\n",
       "2001-01-09    0.851727\n",
       "2001-01-10   -0.173389\n",
       "Freq: D, dtype: float64"
      ]
     },
     "execution_count": 24,
     "metadata": {},
     "output_type": "execute_result"
    }
   ],
   "source": [
    "ts['1/6/2001':'2/10/2001'].head()"
   ]
  },
  {
   "cell_type": "markdown",
   "metadata": {
    "deletable": false,
    "editable": false,
    "nbgrader": {
     "cell_type": "markdown",
     "checksum": "d1fb8bbb1aaee180b198d86fadceaa62",
     "grade": false,
     "grade_id": "cell-283889c4443b13c5",
     "locked": true,
     "schema_version": 3,
     "solution": false,
     "task": false
    },
    "slideshow": {
     "slide_type": "slide"
    }
   },
   "source": [
    "### 3. Time Zones\n",
    "\n",
    "We will use the `pytz` package to deal with timezones. The package recognizes timezones according to strings."
   ]
  },
  {
   "cell_type": "code",
   "execution_count": 25,
   "metadata": {
    "deletable": false,
    "editable": false,
    "nbgrader": {
     "cell_type": "code",
     "checksum": "de656f24040024d75dfeaa13b70c8ab6",
     "grade": false,
     "grade_id": "cell-ade30727b9b12a36",
     "locked": true,
     "schema_version": 3,
     "solution": false,
     "task": false
    },
    "slideshow": {
     "slide_type": "fragment"
    }
   },
   "outputs": [
    {
     "data": {
      "text/plain": [
       "['US/Eastern', 'US/Hawaii', 'US/Mountain', 'US/Pacific', 'UTC']"
      ]
     },
     "execution_count": 25,
     "metadata": {},
     "output_type": "execute_result"
    }
   ],
   "source": [
    "pytz.common_timezones[-5:]"
   ]
  },
  {
   "cell_type": "code",
   "execution_count": 26,
   "metadata": {
    "deletable": false,
    "editable": false,
    "nbgrader": {
     "cell_type": "code",
     "checksum": "48bd109da33701d11696f6a58ed701a1",
     "grade": false,
     "grade_id": "cell-c3b2023e0c15b447",
     "locked": true,
     "schema_version": 3,
     "solution": false,
     "task": false
    },
    "slideshow": {
     "slide_type": "fragment"
    }
   },
   "outputs": [
    {
     "data": {
      "text/plain": [
       "<DstTzInfo 'US/Eastern' LMT-1 day, 19:04:00 STD>"
      ]
     },
     "execution_count": 26,
     "metadata": {},
     "output_type": "execute_result"
    }
   ],
   "source": [
    "est_tz = pytz.timezone('US/Eastern')\n",
    "est_tz"
   ]
  },
  {
   "cell_type": "markdown",
   "metadata": {
    "deletable": false,
    "editable": false,
    "nbgrader": {
     "cell_type": "markdown",
     "checksum": "c599221522607b20b9cf3a8cbd91edbf",
     "grade": false,
     "grade_id": "cell-0c434de2120b4c5c",
     "locked": true,
     "schema_version": 3,
     "solution": false,
     "task": false
    }
   },
   "source": [
    "By default a `DatetimeIndex` does not have an associated timezone. We can check by accessing the `tz` attribute of the index. "
   ]
  },
  {
   "cell_type": "code",
   "execution_count": 27,
   "metadata": {
    "deletable": false,
    "editable": false,
    "nbgrader": {
     "cell_type": "code",
     "checksum": "b8ef0a9270d32b6b11048ae7b2a62d96",
     "grade": false,
     "grade_id": "cell-57753d5f39bed794",
     "locked": true,
     "schema_version": 3,
     "solution": false,
     "task": false
    },
    "slideshow": {
     "slide_type": "fragment"
    }
   },
   "outputs": [
    {
     "name": "stdout",
     "output_type": "stream",
     "text": [
      "None\n"
     ]
    }
   ],
   "source": [
    "rng = pd.date_range('3/9/2012 9:30', periods=6, freq='D')\n",
    "print(rng.tz)"
   ]
  },
  {
   "cell_type": "code",
   "execution_count": 28,
   "metadata": {
    "deletable": false,
    "editable": false,
    "nbgrader": {
     "cell_type": "code",
     "checksum": "0f6aece6fb90454468471abd83b60c50",
     "grade": false,
     "grade_id": "cell-420c7972a0a14984",
     "locked": true,
     "schema_version": 3,
     "solution": false,
     "task": false
    },
    "slideshow": {
     "slide_type": "subslide"
    }
   },
   "outputs": [
    {
     "name": "stdout",
     "output_type": "stream",
     "text": [
      "UTC\n"
     ]
    }
   ],
   "source": [
    "rng = pd.date_range('3/9/2012 9:30', periods=10, freq='D', tz='UTC')\n",
    "print(rng.tz)"
   ]
  },
  {
   "cell_type": "markdown",
   "metadata": {
    "deletable": false,
    "editable": false,
    "nbgrader": {
     "cell_type": "markdown",
     "checksum": "0636c21b22de9fc697789db457acc6fa",
     "grade": false,
     "grade_id": "cell-790b6947e0f4a1c3",
     "locked": true,
     "schema_version": 3,
     "solution": false,
     "task": false
    }
   },
   "source": [
    "We can add timezones to an existing `DatetimeIndex` using the `tz_localize` method."
   ]
  },
  {
   "cell_type": "code",
   "execution_count": 29,
   "metadata": {
    "deletable": false,
    "editable": false,
    "nbgrader": {
     "cell_type": "code",
     "checksum": "75bd1c0e512aeb899eb0d67b3c56e309",
     "grade": false,
     "grade_id": "cell-bef6a9b959f9da42",
     "locked": true,
     "schema_version": 3,
     "solution": false,
     "task": false
    },
    "slideshow": {
     "slide_type": "fragment"
    }
   },
   "outputs": [
    {
     "data": {
      "text/plain": [
       "DatetimeIndex(['2012-03-09 09:30:00+00:00', '2012-03-10 09:30:00+00:00',\n",
       "               '2012-03-11 09:30:00+00:00'],\n",
       "              dtype='datetime64[ns, UTC]', freq='D')"
      ]
     },
     "execution_count": 29,
     "metadata": {},
     "output_type": "execute_result"
    }
   ],
   "source": [
    "rng = pd.date_range('3/9/2012 9:30', periods=6, freq='D')\n",
    "rng_utc = rng.tz_localize('UTC')\n",
    "rng_utc[:3]"
   ]
  },
  {
   "cell_type": "markdown",
   "metadata": {
    "deletable": false,
    "editable": false,
    "nbgrader": {
     "cell_type": "markdown",
     "checksum": "4837eec14320b41aeea48baec7858876",
     "grade": false,
     "grade_id": "cell-aff20354e2e827a1",
     "locked": true,
     "schema_version": 3,
     "solution": false,
     "task": false
    }
   },
   "source": [
    "If we have included the timezone, then we can convert using the `tz_convert` method. "
   ]
  },
  {
   "cell_type": "code",
   "execution_count": 30,
   "metadata": {
    "deletable": false,
    "editable": false,
    "nbgrader": {
     "cell_type": "code",
     "checksum": "85b63315ad035683ae87b6e2a5685fbc",
     "grade": false,
     "grade_id": "cell-9965a8e3efd1bf4d",
     "locked": true,
     "schema_version": 3,
     "solution": false,
     "task": false
    },
    "slideshow": {
     "slide_type": "subslide"
    }
   },
   "outputs": [
    {
     "data": {
      "text/plain": [
       "DatetimeIndex(['2012-03-09 04:30:00-05:00', '2012-03-10 04:30:00-05:00',\n",
       "               '2012-03-11 05:30:00-04:00'],\n",
       "              dtype='datetime64[ns, US/Eastern]', freq='D')"
      ]
     },
     "execution_count": 30,
     "metadata": {},
     "output_type": "execute_result"
    }
   ],
   "source": [
    "rng_utc.tz_convert('US/Eastern')[:3]"
   ]
  },
  {
   "cell_type": "markdown",
   "metadata": {
    "deletable": false,
    "editable": false,
    "nbgrader": {
     "cell_type": "markdown",
     "checksum": "4b608fc4f912c5a8ff1d78c741470ed4",
     "grade": false,
     "grade_id": "cell-908ce47a60303849",
     "locked": true,
     "schema_version": 3,
     "solution": false,
     "task": false
    }
   },
   "source": [
    "## Questions \n",
    "\n",
    "We have stock market data in ```raw_data.csv```"
   ]
  },
  {
   "cell_type": "code",
   "execution_count": 100,
   "metadata": {
    "deletable": false,
    "editable": false,
    "nbgrader": {
     "cell_type": "code",
     "checksum": "4d448d354828b56ec8be973521118e7e",
     "grade": false,
     "grade_id": "cell-3b1d40b03e4422a7",
     "locked": true,
     "schema_version": 3,
     "solution": false,
     "task": false
    }
   },
   "outputs": [
    {
     "data": {
      "text/html": [
       "<div>\n",
       "<style scoped>\n",
       "    .dataframe tbody tr th:only-of-type {\n",
       "        vertical-align: middle;\n",
       "    }\n",
       "\n",
       "    .dataframe tbody tr th {\n",
       "        vertical-align: top;\n",
       "    }\n",
       "\n",
       "    .dataframe thead th {\n",
       "        text-align: right;\n",
       "    }\n",
       "</style>\n",
       "<table border=\"1\" class=\"dataframe\">\n",
       "  <thead>\n",
       "    <tr style=\"text-align: right;\">\n",
       "      <th></th>\n",
       "      <th>Volume</th>\n",
       "      <th>Price</th>\n",
       "      <th>times_of_trade</th>\n",
       "    </tr>\n",
       "  </thead>\n",
       "  <tbody>\n",
       "    <tr>\n",
       "      <th>0</th>\n",
       "      <td>29184000</td>\n",
       "      <td>222.149994</td>\n",
       "      <td>16-10-2018 13:00:00</td>\n",
       "    </tr>\n",
       "    <tr>\n",
       "      <th>1</th>\n",
       "      <td>40925500</td>\n",
       "      <td>215.089996</td>\n",
       "      <td>24-10-2018 22:00:00</td>\n",
       "    </tr>\n",
       "    <tr>\n",
       "      <th>2</th>\n",
       "      <td>53124400</td>\n",
       "      <td>214.449997</td>\n",
       "      <td>11-10-2018 16:00:00</td>\n",
       "    </tr>\n",
       "  </tbody>\n",
       "</table>\n",
       "</div>"
      ],
      "text/plain": [
       "     Volume       Price       times_of_trade\n",
       "0  29184000  222.149994  16-10-2018 13:00:00\n",
       "1  40925500  215.089996  24-10-2018 22:00:00\n",
       "2  53124400  214.449997  11-10-2018 16:00:00"
      ]
     },
     "execution_count": 100,
     "metadata": {},
     "output_type": "execute_result"
    }
   ],
   "source": [
    "df_raw = pd.read_csv(\"raw_data.csv\")\n",
    "\n",
    "df_raw.head(3)"
   ]
  },
  {
   "cell_type": "markdown",
   "metadata": {
    "deletable": false,
    "editable": false,
    "nbgrader": {
     "cell_type": "markdown",
     "checksum": "2253634885437748e8200836b454ce3b",
     "grade": false,
     "grade_id": "cell-dd8a0225dfdb3f56",
     "locked": true,
     "schema_version": 3,
     "solution": false,
     "task": false
    }
   },
   "source": [
    "We can adjust the formatting with the following \n",
    "\n",
    "%Y 4-digit year   \n",
    "%y 2-digit year  \n",
    "%m 2-digit month [01, 12]  \n",
    "%d 2-digit day [01, 31]  \n",
    "%H Hour (24-hour clock) [00, 23]  \n",
    "%I Hour (12-hour clock) [01, 12]  \n",
    "%M 2-digit minute [00, 59]  \n",
    "%S Second [00, 61] (seconds 60, 61 account for leap seconds)  \n",
    "%w Weekday as integer [0 (Sunday), 6]  \n",
    "%z UTC time zone offset as +HHMM or -HHMM, empty if time zone naive  \n"
   ]
  },
  {
   "cell_type": "markdown",
   "metadata": {
    "deletable": false,
    "editable": false,
    "nbgrader": {
     "cell_type": "markdown",
     "checksum": "f3209a4859c81c9d04d24ff99ef37822",
     "grade": false,
     "grade_id": "cell-30584f0ff2fa0292",
     "locked": true,
     "schema_version": 3,
     "solution": false,
     "task": false
    }
   },
   "source": [
    "Note that the entries of the column ```times_of_trade``` are strings representing dates and times in the form ```dd-mm-yyyy hh:mm:ss```. While each time refers to `PST` timezone, the format is `GMT` timezone. \n",
    "\n",
    "Generate another ```pd.DataFrame``` called ```df``` from ```df_raw``` through the following operations:\n",
    "\n",
    " - Replace ```times_of_trade``` with ```Time```\n",
    " - Use ```pd.to_datetime``` to convert each string in ```Time```. Remember that the format is ```dd-mm-yyyy hh:mm:ss```\n",
    " - Add the timezone `UTC'. Set the timezone to 'US/Pacific'.\n",
    " - Apply ```sort_values``` to sort by the entries in ```Time```\n",
    " - Invoke ```set_index``` to set the index to be ```Time```"
   ]
  },
  {
   "cell_type": "code",
   "execution_count": 32,
   "metadata": {
    "deletable": false,
    "editable": false,
    "nbgrader": {
     "cell_type": "code",
     "checksum": "dc7ef45811c6b92b24362d60420cebd3",
     "grade": false,
     "grade_id": "cell-f78102bef0b29160",
     "locked": true,
     "schema_version": 3,
     "solution": false,
     "task": false
    }
   },
   "outputs": [
    {
     "data": {
      "image/png": "[encoded data removed]",
      "text/plain": [
       "<IPython.core.display.Image object>"
      ]
     },
     "execution_count": 32,
     "metadata": {},
     "output_type": "execute_result"
    }
   ],
   "source": [
    "Image(\"table.PNG\")"
   ]
  },
  {
   "cell_type": "code",
   "execution_count": 108,
   "metadata": {
    "deletable": false,
    "nbgrader": {
     "cell_type": "code",
     "checksum": "199e41e87c89047aea2600d9f330bbb5",
     "grade": false,
     "grade_id": "cell-33fde710e969d9d2",
     "locked": false,
     "schema_version": 3,
     "solution": true,
     "task": false
    }
   },
   "outputs": [
    {
     "data": {
      "text/html": [
       "<div>\n",
       "<style scoped>\n",
       "    .dataframe tbody tr th:only-of-type {\n",
       "        vertical-align: middle;\n",
       "    }\n",
       "\n",
       "    .dataframe tbody tr th {\n",
       "        vertical-align: top;\n",
       "    }\n",
       "\n",
       "    .dataframe thead th {\n",
       "        text-align: right;\n",
       "    }\n",
       "</style>\n",
       "<table border=\"1\" class=\"dataframe\">\n",
       "  <thead>\n",
       "    <tr style=\"text-align: right;\">\n",
       "      <th></th>\n",
       "      <th>Volume</th>\n",
       "      <th>Price</th>\n",
       "    </tr>\n",
       "    <tr>\n",
       "      <th>Time</th>\n",
       "      <th></th>\n",
       "      <th></th>\n",
       "    </tr>\n",
       "  </thead>\n",
       "  <tbody>\n",
       "    <tr>\n",
       "      <th>2018-10-02 03:00:00-07:00</th>\n",
       "      <td>24788200</td>\n",
       "      <td>229.279999</td>\n",
       "    </tr>\n",
       "    <tr>\n",
       "      <th>2018-10-03 12:00:00-07:00</th>\n",
       "      <td>28654800</td>\n",
       "      <td>232.070007</td>\n",
       "    </tr>\n",
       "    <tr>\n",
       "      <th>2018-10-04 14:00:00-07:00</th>\n",
       "      <td>32042000</td>\n",
       "      <td>227.990005</td>\n",
       "    </tr>\n",
       "    <tr>\n",
       "      <th>2018-10-05 15:00:00-07:00</th>\n",
       "      <td>33580500</td>\n",
       "      <td>224.289993</td>\n",
       "    </tr>\n",
       "    <tr>\n",
       "      <th>2018-10-08 08:00:00-07:00</th>\n",
       "      <td>29663900</td>\n",
       "      <td>223.770004</td>\n",
       "    </tr>\n",
       "  </tbody>\n",
       "</table>\n",
       "</div>"
      ],
      "text/plain": [
       "                             Volume       Price\n",
       "Time                                           \n",
       "2018-10-02 03:00:00-07:00  24788200  229.279999\n",
       "2018-10-03 12:00:00-07:00  28654800  232.070007\n",
       "2018-10-04 14:00:00-07:00  32042000  227.990005\n",
       "2018-10-05 15:00:00-07:00  33580500  224.289993\n",
       "2018-10-08 08:00:00-07:00  29663900  223.770004"
      ]
     },
     "execution_count": 108,
     "metadata": {},
     "output_type": "execute_result"
    }
   ],
   "source": [
    "df_raw.rename(columns = {'times_of_trade':'Time'}, inplace = True)\n",
    "df_raw\n",
    "df = df_raw[['Volume', 'Price', 'Time']]\n",
    "df\n",
    "df['Time'] = pd.to_datetime(df[\"Time\"], format = '%d-%m-%Y %H:%M:%S', utc = True).dt.tz_convert('US/Pacific')\n",
    "df\n",
    "df = df.sort_values('Time').set_index('Time')\n",
    "df.head()\n",
    "# YOUR CODE HERE\n",
    "#raise NotImplementedError()"
   ]
  },
  {
   "cell_type": "code",
   "execution_count": 109,
   "metadata": {
    "deletable": false,
    "editable": false,
    "nbgrader": {
     "cell_type": "code",
     "checksum": "22e93f9a3833a9e81893aee7e631589c",
     "grade": true,
     "grade_id": "cell-a2b42c2f977b0404",
     "locked": true,
     "points": 1,
     "schema_version": 3,
     "solution": false,
     "task": false
    }
   },
   "outputs": [],
   "source": [
    "# TEST \n",
    "\n",
    "assert set(df.columns) == {'Volume', \"Price\"}\n"
   ]
  },
  {
   "cell_type": "code",
   "execution_count": 110,
   "metadata": {
    "deletable": false,
    "editable": false,
    "nbgrader": {
     "cell_type": "code",
     "checksum": "3ae3316bd9bdde82e15ec3de3ef623f6",
     "grade": true,
     "grade_id": "cell-83ef1696d3e3c0aa",
     "locked": true,
     "points": 1,
     "schema_version": 3,
     "solution": false,
     "task": false
    }
   },
   "outputs": [],
   "source": [
    "# TEST \n",
    "\n",
    "assert df.index[0] < df.index[1]\n"
   ]
  },
  {
   "cell_type": "code",
   "execution_count": 111,
   "metadata": {
    "deletable": false,
    "editable": false,
    "nbgrader": {
     "cell_type": "code",
     "checksum": "08b4168b674c86251cab37d8edfc4fb0",
     "grade": true,
     "grade_id": "cell-a3751f2b7f1a0897",
     "locked": true,
     "points": 1,
     "schema_version": 3,
     "solution": false,
     "task": false
    }
   },
   "outputs": [],
   "source": [
    "# TEST \n",
    "\n",
    "assert type(df.index) == pd.core.indexes.datetimes.DatetimeIndex\n"
   ]
  },
  {
   "cell_type": "code",
   "execution_count": null,
   "metadata": {},
   "outputs": [],
   "source": []
  }
 ],
 "metadata": {
  "kernelspec": {
   "display_name": "Python [conda env:dsua-112]",
   "language": "python",
   "name": "conda-env-dsua-112-py"
  },
  "language_info": {
   "codemirror_mode": {
    "name": "ipython",
    "version": 3
   },
   "file_extension": ".py",
   "mimetype": "text/x-python",
   "name": "python",
   "nbconvert_exporter": "python",
   "pygments_lexer": "ipython3",
   "version": "3.7.6"
  },
  "varInspector": {
   "cols": {
    "lenName": 16,
    "lenType": 16,
    "lenVar": 40
   },
   "kernels_config": {
    "python": {
     "delete_cmd_postfix": "",
     "delete_cmd_prefix": "del ",
     "library": "var_list.py",
     "varRefreshCmd": "print(var_dic_list())"
    },
    "r": {
     "delete_cmd_postfix": ") ",
     "delete_cmd_prefix": "rm(",
     "library": "var_list.r",
     "varRefreshCmd": "cat(var_dic_list()) "
    }
   },
   "types_to_exclude": [
    "module",
    "function",
    "builtin_function_or_method",
    "instance",
    "_Feature"
   ],
   "window_display": false
  }
 },
 "nbformat": 4,
 "nbformat_minor": 2
}
