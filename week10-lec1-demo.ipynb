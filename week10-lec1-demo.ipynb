{
 "cells": [
  {
   "cell_type": "markdown",
   "metadata": {},
   "source": [
    "## Week 10 Lecture 1\n",
    "\n",
    "Following an exercise on mean absolute error, we want to explore correlation between random variables. We will study a dataset about the size of shells of crabs."
   ]
  },
  {
   "cell_type": "code",
   "execution_count": 1,
   "metadata": {},
   "outputs": [],
   "source": [
    "import numpy as np\n",
    "import pandas as pd\n",
    "pd.set_option('display.max_rows', 7)\n",
    "pd.set_option('display.max_columns', 8)\n",
    "\n",
    "import seaborn as sns\n",
    "import matplotlib.pyplot as plt\n",
    "%matplotlib inline\n",
    "\n",
    "import scipy.stats as stats"
   ]
  },
  {
   "cell_type": "code",
   "execution_count": 2,
   "metadata": {},
   "outputs": [],
   "source": [
    "def plot_pmf(xs, probs, rv_name='X'):\n",
    "    plt.plot(xs, probs, 'bo', ms=12, mec='b', color='b')\n",
    "    plt.vlines(xs, 0, probs, colors='b', lw=4)\n",
    "    plt.xlabel('$x$')\n",
    "    plt.ylabel('$P(X = x)$')\n",
    "    plt.ylim(0, 1)\n",
    "    plt.title('PMF of $X$');"
   ]
  },
  {
   "cell_type": "markdown",
   "metadata": {},
   "source": [
    "### Robust Statistics"
   ]
  },
  {
   "cell_type": "markdown",
   "metadata": {},
   "source": [
    "Recall that outliers affect the mean square error more than the mean absolute error. If we worry about the effect of outliers on the mean square error then we can switch from the mean to the median. Even with outliers the median will give us a statistics that summarizes the datas. \n",
    "\n",
    "We can describe random variables with expectation and variance. We should compare expectation to mean and variance to mean square error. Note that for expectation and variance, we work with random variables. However with expectation and mean square error, we work with data. \n",
    "\n",
    "So what are the analogues of median and mean absolute error?"
   ]
  },
  {
   "cell_type": "markdown",
   "metadata": {},
   "source": [
    "**(a)** Remember the expression we had from Week 9 Lecture 2 for the median of a dataset $x_1, \\ldots, x_n$. The median $x_{\\text{median}}$ was a number such that $$\\sum_{x_{\\text{median}} < x_i} \\; 1 = \\sum_{x_{\\text{median}} > x_i} \\; 1$$. Suppose we have a random variable $X$ related to the dataset. We can think of the values $x_1, \\ldots, x_n$ in the random sample as possible values of $X$. Each value occurs with some frequency. These frequency are the probability distribution of $X$. We could try to replace 1 in the expression with a frequency $$\\sum_{X_{\\text{median}} < x} \\; P(X = x) = \\sum_{X_{\\text{median}} > x} \\; P(X = x)$$ Here $x$ ranges over all the values of $X$. "
   ]
  },
  {
   "cell_type": "markdown",
   "metadata": {},
   "source": [
    "By the addition rule we have  $$\\sum_{X_{\\text{median}} < x} \\; P(X = x) = P(X_{\\text{median}} < X) $$ and $$\\sum_{X_{\\text{median}} > x} \\; P(X = x) = P(X_{\\text{median}} > X)$$ "
   ]
  },
  {
   "cell_type": "markdown",
   "metadata": {},
   "source": [
    "By the complement rule, we have $$P(X_{\\text{median}} < X) +  P(X_{\\text{median}} > X) + P(X_{\\text{median}} = X) = 1$$ So if $$P(X_{\\text{median}} = X) = 0 $$ then $$P(X_{\\text{median}} < X) =  P(X_{\\text{median}} > X) = 0.5$$ So it is equally likely that $X > X_{\\text{median}}$ and $X < X_{\\text{median}}$. Alternatively if $$P(X_{\\text{median}} = X) >0 $$ then $$P(X_{\\text{median}} < X) \\leq 0.5 \\text{  and  }  P(X_{\\text{median}} > X) \\leq 0.5$$ So we can take the following definition for the median of $X$."
   ]
  },
  {
   "cell_type": "markdown",
   "metadata": {},
   "source": [
    "**Definition** For a random variable $X$, the median $X_{\\text{median}}$ is the smallest value of $X$ such that $$P(X_{\\text{median}} < X) \\leq 0.5 \\text{  and  }  P(X_{\\text{median}} > X) \\leq 0.5$$"
   ]
  },
  {
   "cell_type": "markdown",
   "metadata": {},
   "source": [
    "**Question** Write a function called `median` with \n",
    "\n",
    "- Input: a list with `values` of the random variable in ascending order and a list of the corresponding `probabilities`\n",
    "- Output: the median of the random variable"
   ]
  },
  {
   "cell_type": "code",
   "execution_count": 3,
   "metadata": {},
   "outputs": [],
   "source": [
    "def median(values, probabilities):\n",
    "    keep_searching = True\n",
    "    location = 0\n",
    "    \n",
    "    while keep_searching and (location < len(probabilities) - 1):\n",
    "        location = location + 1\n",
    "        sum_over_past_values = sum(probabilities[:location])\n",
    "        sum_over_upcoming_values = sum(probabilities[location + 1:])\n",
    "    \n",
    "        if (sum_over_past_values <= 0.5) and (sum_over_upcoming_values <= 0.5):\n",
    "            keep_searching = False\n",
    "            output = values[location]\n",
    "    \n",
    "    if keep_searching:\n",
    "        output = values[-1]\n",
    "            \n",
    "    return output"
   ]
  },
  {
   "cell_type": "markdown",
   "metadata": {},
   "source": [
    "We can try a few values of the Binomial Distribution. Here we have $n=8$ and $p=0.5$."
   ]
  },
  {
   "cell_type": "code",
   "execution_count": 4,
   "metadata": {},
   "outputs": [
    {
     "data": {
      "image/png": "[encoded data removed]",
      "text/plain": [
       "<Figure size 432x288 with 1 Axes>"
      ]
     },
     "metadata": {
      "needs_background": "light"
     },
     "output_type": "display_data"
    }
   ],
   "source": [
    "n = 8\n",
    "p = 0.5\n",
    "xs = np.arange(0, n + 1)\n",
    "ys = stats.binom.pmf(xs, n, p)\n",
    "\n",
    "plot_pmf(xs, ys)\n",
    "plt.title(f'PMF of X ~ Binom({n}, {p})');"
   ]
  },
  {
   "cell_type": "code",
   "execution_count": 5,
   "metadata": {},
   "outputs": [
    {
     "data": {
      "text/plain": [
       "4"
      ]
     },
     "execution_count": 5,
     "metadata": {},
     "output_type": "execute_result"
    }
   ],
   "source": [
    "median(xs, ys)"
   ]
  },
  {
   "cell_type": "markdown",
   "metadata": {},
   "source": [
    "Here we have $n=8$ and $p=0.2$."
   ]
  },
  {
   "cell_type": "code",
   "execution_count": 6,
   "metadata": {},
   "outputs": [
    {
     "data": {
      "image/png": "[encoded data removed]",
      "text/plain": [
       "<Figure size 432x288 with 1 Axes>"
      ]
     },
     "metadata": {
      "needs_background": "light"
     },
     "output_type": "display_data"
    }
   ],
   "source": [
    "n = 8\n",
    "p = 0.2\n",
    "xs = np.arange(0, n + 1)\n",
    "ys = stats.binom.pmf(xs, n, p)\n",
    "\n",
    "plot_pmf(xs, ys)\n",
    "plt.title(f'PMF of X ~ Binom({n}, {p})');"
   ]
  },
  {
   "cell_type": "code",
   "execution_count": 7,
   "metadata": {},
   "outputs": [
    {
     "data": {
      "text/plain": [
       "1"
      ]
     },
     "execution_count": 7,
     "metadata": {},
     "output_type": "execute_result"
    }
   ],
   "source": [
    "median(xs, ys)"
   ]
  },
  {
   "cell_type": "markdown",
   "metadata": {},
   "source": [
    "**(b)**  Suppose we replace expectation with median in the definition of variance. We should obtain something analogous to mean absolute error for random variables. \n",
    "\n",
    "**Definition** For a random variable $X$ we define the median absolute derivation to be $$\\text{Median}\\left[ | X - X_{\\text{median}} | \\right]$$ "
   ]
  },
  {
   "cell_type": "markdown",
   "metadata": {},
   "source": [
    "**Question** Write a function called `median_absolute_deviation` with \n",
    "\n",
    "- Input: a list with `values` of the random variable in ascending order and a list of the corresponding `probabilities`\n",
    "- Output: the median absolute deviation of the random variable"
   ]
  },
  {
   "cell_type": "code",
   "execution_count": 8,
   "metadata": {},
   "outputs": [],
   "source": [
    "def median_absolute_deviation(values, probabilities):\n",
    "    median_value = median(values, probabilities)\n",
    "    \n",
    "    new_values = [abs(value - median_value) for value in values]\n",
    "    new_values = sorted(new_values)\n",
    "    \n",
    "    return median(new_values, probabilities)"
   ]
  },
  {
   "cell_type": "markdown",
   "metadata": {},
   "source": [
    "We can try a few values of the Binomial Distribution. Here we have $n=8$ and $p=0.5$."
   ]
  },
  {
   "cell_type": "code",
   "execution_count": 9,
   "metadata": {},
   "outputs": [
    {
     "data": {
      "image/png": "[encoded data removed]",
      "text/plain": [
       "<Figure size 432x288 with 1 Axes>"
      ]
     },
     "metadata": {
      "needs_background": "light"
     },
     "output_type": "display_data"
    }
   ],
   "source": [
    "n = 8\n",
    "p = 0.5\n",
    "xs = np.arange(0, n + 1)\n",
    "ys = stats.binom.pmf(xs, n, p)\n",
    "\n",
    "plot_pmf(xs, ys)\n",
    "plt.title(f'PMF of X ~ Binom({n}, {p})');"
   ]
  },
  {
   "cell_type": "code",
   "execution_count": 10,
   "metadata": {},
   "outputs": [
    {
     "data": {
      "text/plain": [
       "2"
      ]
     },
     "execution_count": 10,
     "metadata": {},
     "output_type": "execute_result"
    }
   ],
   "source": [
    "median_absolute_deviation(xs, ys)"
   ]
  },
  {
   "cell_type": "markdown",
   "metadata": {},
   "source": [
    "Here we have $n=8$ and $p=0.2$."
   ]
  },
  {
   "cell_type": "code",
   "execution_count": 11,
   "metadata": {},
   "outputs": [
    {
     "data": {
      "image/png": "[encoded data removed]",
      "text/plain": [
       "<Figure size 432x288 with 1 Axes>"
      ]
     },
     "metadata": {
      "needs_background": "light"
     },
     "output_type": "display_data"
    }
   ],
   "source": [
    "n = 8\n",
    "p = 0.2\n",
    "xs = np.arange(0, n + 1)\n",
    "ys = stats.binom.pmf(xs, n, p)\n",
    "\n",
    "plot_pmf(xs, ys)\n",
    "plt.title(f'PMF of X ~ Binom({n}, {p})');"
   ]
  },
  {
   "cell_type": "code",
   "execution_count": 12,
   "metadata": {},
   "outputs": [
    {
     "data": {
      "text/plain": [
       "1"
      ]
     },
     "execution_count": 12,
     "metadata": {},
     "output_type": "execute_result"
    }
   ],
   "source": [
    "median_absolute_deviation(xs, ys)"
   ]
  },
  {
   "cell_type": "markdown",
   "metadata": {},
   "source": [
    "**(c)** Supose we take the flight delay dataset to represent the probability distribution of a random variable, namely, the flight delay in minutes of an airplane voyage. "
   ]
  },
  {
   "cell_type": "code",
   "execution_count": 13,
   "metadata": {},
   "outputs": [
    {
     "data": {
      "text/html": [
       "<div>\n",
       "<style scoped>\n",
       "    .dataframe tbody tr th:only-of-type {\n",
       "        vertical-align: middle;\n",
       "    }\n",
       "\n",
       "    .dataframe tbody tr th {\n",
       "        vertical-align: top;\n",
       "    }\n",
       "\n",
       "    .dataframe thead th {\n",
       "        text-align: right;\n",
       "    }\n",
       "</style>\n",
       "<table border=\"1\" class=\"dataframe\">\n",
       "  <thead>\n",
       "    <tr style=\"text-align: right;\">\n",
       "      <th></th>\n",
       "      <th>Date</th>\n",
       "      <th>Flight Number</th>\n",
       "      <th>Destination</th>\n",
       "      <th>Delay</th>\n",
       "    </tr>\n",
       "  </thead>\n",
       "  <tbody>\n",
       "    <tr>\n",
       "      <th>0</th>\n",
       "      <td>6/1/15</td>\n",
       "      <td>73</td>\n",
       "      <td>HNL</td>\n",
       "      <td>257</td>\n",
       "    </tr>\n",
       "    <tr>\n",
       "      <th>1</th>\n",
       "      <td>6/1/15</td>\n",
       "      <td>217</td>\n",
       "      <td>EWR</td>\n",
       "      <td>28</td>\n",
       "    </tr>\n",
       "    <tr>\n",
       "      <th>2</th>\n",
       "      <td>6/1/15</td>\n",
       "      <td>237</td>\n",
       "      <td>STL</td>\n",
       "      <td>-3</td>\n",
       "    </tr>\n",
       "    <tr>\n",
       "      <th>...</th>\n",
       "      <td>...</td>\n",
       "      <td>...</td>\n",
       "      <td>...</td>\n",
       "      <td>...</td>\n",
       "    </tr>\n",
       "    <tr>\n",
       "      <th>13822</th>\n",
       "      <td>8/31/15</td>\n",
       "      <td>1994</td>\n",
       "      <td>ORD</td>\n",
       "      <td>3</td>\n",
       "    </tr>\n",
       "    <tr>\n",
       "      <th>13823</th>\n",
       "      <td>8/31/15</td>\n",
       "      <td>2000</td>\n",
       "      <td>PHX</td>\n",
       "      <td>-1</td>\n",
       "    </tr>\n",
       "    <tr>\n",
       "      <th>13824</th>\n",
       "      <td>8/31/15</td>\n",
       "      <td>2013</td>\n",
       "      <td>EWR</td>\n",
       "      <td>-2</td>\n",
       "    </tr>\n",
       "  </tbody>\n",
       "</table>\n",
       "<p>13825 rows × 4 columns</p>\n",
       "</div>"
      ],
      "text/plain": [
       "          Date  Flight Number Destination  Delay\n",
       "0       6/1/15             73         HNL    257\n",
       "1       6/1/15            217         EWR     28\n",
       "2       6/1/15            237         STL     -3\n",
       "...        ...            ...         ...    ...\n",
       "13822  8/31/15           1994         ORD      3\n",
       "13823  8/31/15           2000         PHX     -1\n",
       "13824  8/31/15           2013         EWR     -2\n",
       "\n",
       "[13825 rows x 4 columns]"
      ]
     },
     "execution_count": 13,
     "metadata": {},
     "output_type": "execute_result"
    }
   ],
   "source": [
    "delays = pd.read_csv('united_summer2015.csv')\n",
    "delays"
   ]
  },
  {
   "cell_type": "markdown",
   "metadata": {},
   "source": [
    "Plotting a histogram reminds us to group by delay, count the number of entries in each group, and divide by the total number of flights."
   ]
  },
  {
   "cell_type": "code",
   "execution_count": 14,
   "metadata": {},
   "outputs": [
    {
     "data": {
      "image/png": "[encoded data removed]",
      "text/plain": [
       "<Figure size 432x288 with 1 Axes>"
      ]
     },
     "metadata": {
      "needs_background": "light"
     },
     "output_type": "display_data"
    }
   ],
   "source": [
    "delays['Delay'].hist(density=True,);"
   ]
  },
  {
   "cell_type": "code",
   "execution_count": 15,
   "metadata": {},
   "outputs": [
    {
     "data": {
      "text/plain": [
       "-16     0.000145\n",
       "-15     0.000072\n",
       "-14     0.000072\n",
       "          ...   \n",
       " 508    0.000072\n",
       " 537    0.000072\n",
       " 580    0.000072\n",
       "Name: Delay, Length: 293, dtype: float64"
      ]
     },
     "execution_count": 15,
     "metadata": {},
     "output_type": "execute_result"
    }
   ],
   "source": [
    "delays_grouped = delays[\"Delay\"].value_counts()\n",
    "delays_grouped = delays_grouped / len(delays)\n",
    "delays_grouped = delays_grouped.sort_index()\n",
    "delays_grouped"
   ]
  },
  {
   "cell_type": "markdown",
   "metadata": {},
   "source": [
    "We can compute the median and mean absolute deviation along with the expectation and variance."
   ]
  },
  {
   "cell_type": "code",
   "execution_count": 16,
   "metadata": {},
   "outputs": [
    {
     "data": {
      "text/plain": [
       "2"
      ]
     },
     "execution_count": 16,
     "metadata": {},
     "output_type": "execute_result"
    }
   ],
   "source": [
    "median(delays_grouped.index, delays_grouped.values)"
   ]
  },
  {
   "cell_type": "code",
   "execution_count": 17,
   "metadata": {},
   "outputs": [
    {
     "data": {
      "text/plain": [
       "9"
      ]
     },
     "execution_count": 17,
     "metadata": {},
     "output_type": "execute_result"
    }
   ],
   "source": [
    "median_absolute_deviation(delays_grouped.index, delays_grouped.values)"
   ]
  },
  {
   "cell_type": "code",
   "execution_count": 18,
   "metadata": {},
   "outputs": [
    {
     "data": {
      "text/plain": [
       "16.658155515370694"
      ]
     },
     "execution_count": 18,
     "metadata": {},
     "output_type": "execute_result"
    }
   ],
   "source": [
    "expectation = sum(delays_grouped.index * delays_grouped.values) \n",
    "expectation "
   ]
  },
  {
   "cell_type": "code",
   "execution_count": 19,
   "metadata": {},
   "outputs": [
    {
     "data": {
      "text/plain": [
       "1558.6861803230108"
      ]
     },
     "execution_count": 19,
     "metadata": {},
     "output_type": "execute_result"
    }
   ],
   "source": [
    "variance = sum( delays_grouped.values * ( (delays_grouped.index - expectation)**2 ) )\n",
    "variance "
   ]
  },
  {
   "cell_type": "markdown",
   "metadata": {},
   "source": [
    "Note how these numbers change when we remove outliers. We can restrict to flights that we not delayed by more the 200 minutes. "
   ]
  },
  {
   "cell_type": "code",
   "execution_count": 20,
   "metadata": {},
   "outputs": [
    {
     "data": {
      "image/png": "[encoded data removed]",
      "text/plain": [
       "<Figure size 432x288 with 1 Axes>"
      ]
     },
     "metadata": {
      "needs_background": "light"
     },
     "output_type": "display_data"
    }
   ],
   "source": [
    "delays['Delay'].hist(density=True, bins=np.arange(-20, 201, 5));"
   ]
  },
  {
   "cell_type": "code",
   "execution_count": 125,
   "metadata": {},
   "outputs": [],
   "source": [
    "delays_no_outliers = delays[delays[\"Delay\"] < 200]\n",
    "delays_grouped = delays_no_outliers[\"Delay\"].value_counts()\n",
    "delays_grouped = delays_grouped / len(delays_no_outliers)\n",
    "delays_grouped = delays_grouped.sort_index()"
   ]
  },
  {
   "cell_type": "code",
   "execution_count": 126,
   "metadata": {},
   "outputs": [
    {
     "data": {
      "text/plain": [
       "2"
      ]
     },
     "execution_count": 126,
     "metadata": {},
     "output_type": "execute_result"
    }
   ],
   "source": [
    "median(delays_grouped.index, delays_grouped.values)"
   ]
  },
  {
   "cell_type": "code",
   "execution_count": 127,
   "metadata": {},
   "outputs": [
    {
     "data": {
      "text/plain": [
       "9"
      ]
     },
     "execution_count": 127,
     "metadata": {},
     "output_type": "execute_result"
    }
   ],
   "source": [
    "median_absolute_deviation(delays_grouped.index, delays_grouped.values)"
   ]
  },
  {
   "cell_type": "code",
   "execution_count": 128,
   "metadata": {},
   "outputs": [
    {
     "data": {
      "text/plain": [
       "14.424308747355369"
      ]
     },
     "execution_count": 128,
     "metadata": {},
     "output_type": "execute_result"
    }
   ],
   "source": [
    "expectation = sum(delays_grouped.index * delays_grouped.values) \n",
    "expectation "
   ]
  },
  {
   "cell_type": "code",
   "execution_count": 129,
   "metadata": {},
   "outputs": [
    {
     "data": {
      "text/plain": [
       "936.8462989950667"
      ]
     },
     "execution_count": 129,
     "metadata": {},
     "output_type": "execute_result"
    }
   ],
   "source": [
    "variance = sum( delays_grouped.values * ( (delays_grouped.index - expectation)**2 ) )\n",
    "variance "
   ]
  },
  {
   "cell_type": "markdown",
   "metadata": {},
   "source": [
    "The median is robust to the outliers. Note that the values do not change."
   ]
  },
  {
   "cell_type": "markdown",
   "metadata": {},
   "source": [
    "### Correlation"
   ]
  },
  {
   "cell_type": "markdown",
   "metadata": {},
   "source": [
    "We have data about the size of crab shells. The column `presz` measures the size in millimeters before molting. The column `postsz` measures the size in millimeters after molting."
   ]
  },
  {
   "cell_type": "code",
   "execution_count": 84,
   "metadata": {},
   "outputs": [
    {
     "data": {
      "text/html": [
       "<div>\n",
       "<style scoped>\n",
       "    .dataframe tbody tr th:only-of-type {\n",
       "        vertical-align: middle;\n",
       "    }\n",
       "\n",
       "    .dataframe tbody tr th {\n",
       "        vertical-align: top;\n",
       "    }\n",
       "\n",
       "    .dataframe thead th {\n",
       "        text-align: right;\n",
       "    }\n",
       "</style>\n",
       "<table border=\"1\" class=\"dataframe\">\n",
       "  <thead>\n",
       "    <tr style=\"text-align: right;\">\n",
       "      <th></th>\n",
       "      <th>presz</th>\n",
       "      <th>postsz</th>\n",
       "      <th>inc</th>\n",
       "      <th>year</th>\n",
       "      <th>lf</th>\n",
       "    </tr>\n",
       "  </thead>\n",
       "  <tbody>\n",
       "    <tr>\n",
       "      <th>0</th>\n",
       "      <td>113.6</td>\n",
       "      <td>127.7</td>\n",
       "      <td>14.1</td>\n",
       "      <td>NaN</td>\n",
       "      <td>0</td>\n",
       "    </tr>\n",
       "    <tr>\n",
       "      <th>1</th>\n",
       "      <td>118.1</td>\n",
       "      <td>133.2</td>\n",
       "      <td>15.1</td>\n",
       "      <td>NaN</td>\n",
       "      <td>0</td>\n",
       "    </tr>\n",
       "    <tr>\n",
       "      <th>2</th>\n",
       "      <td>119.9</td>\n",
       "      <td>135.3</td>\n",
       "      <td>15.4</td>\n",
       "      <td>NaN</td>\n",
       "      <td>0</td>\n",
       "    </tr>\n",
       "    <tr>\n",
       "      <th>...</th>\n",
       "      <td>...</td>\n",
       "      <td>...</td>\n",
       "      <td>...</td>\n",
       "      <td>...</td>\n",
       "      <td>...</td>\n",
       "    </tr>\n",
       "    <tr>\n",
       "      <th>469</th>\n",
       "      <td>129.6</td>\n",
       "      <td>143.5</td>\n",
       "      <td>13.9</td>\n",
       "      <td>92.0</td>\n",
       "      <td>1</td>\n",
       "    </tr>\n",
       "    <tr>\n",
       "      <th>470</th>\n",
       "      <td>134.1</td>\n",
       "      <td>148.3</td>\n",
       "      <td>14.2</td>\n",
       "      <td>92.0</td>\n",
       "      <td>1</td>\n",
       "    </tr>\n",
       "    <tr>\n",
       "      <th>471</th>\n",
       "      <td>114.4</td>\n",
       "      <td>129.2</td>\n",
       "      <td>14.8</td>\n",
       "      <td>92.0</td>\n",
       "      <td>1</td>\n",
       "    </tr>\n",
       "  </tbody>\n",
       "</table>\n",
       "<p>472 rows × 5 columns</p>\n",
       "</div>"
      ],
      "text/plain": [
       "     presz  postsz   inc  year  lf\n",
       "0    113.6   127.7  14.1   NaN   0\n",
       "1    118.1   133.2  15.1   NaN   0\n",
       "2    119.9   135.3  15.4   NaN   0\n",
       "..     ...     ...   ...   ...  ..\n",
       "469  129.6   143.5  13.9  92.0   1\n",
       "470  134.1   148.3  14.2  92.0   1\n",
       "471  114.4   129.2  14.8  92.0   1\n",
       "\n",
       "[472 rows x 5 columns]"
      ]
     },
     "execution_count": 84,
     "metadata": {},
     "output_type": "execute_result"
    }
   ],
   "source": [
    "crabs = pd.read_csv(\"crabs.tsv\", sep = r\"\\s+\", header = 0)\n",
    "\n",
    "crabs"
   ]
  },
  {
   "cell_type": "code",
   "execution_count": null,
   "metadata": {},
   "outputs": [],
   "source": [
    "We can us a scatter-plot to show the relationship between values. "
   ]
  },
  {
   "cell_type": "code",
   "execution_count": 86,
   "metadata": {},
   "outputs": [
    {
     "data": {
      "image/png": "[encoded data removed]",
      "text/plain": [
       "<Figure size 432x288 with 1 Axes>"
      ]
     },
     "metadata": {
      "needs_background": "light"
     },
     "output_type": "display_data"
    }
   ],
   "source": [
    "sns.scatterplot(crabs[\"postsz\"], crabs[\"presz\"]);"
   ]
  },
  {
   "cell_type": "markdown",
   "metadata": {},
   "source": [
    "We can compute the correlation."
   ]
  },
  {
   "cell_type": "code",
   "execution_count": 92,
   "metadata": {},
   "outputs": [],
   "source": [
    "variance_postsz = np.mean( (crabs[\"postsz\"] - np.mean(crabs[\"postsz\"]))**2 )\n",
    "variance_presz = np.mean( (crabs[\"presz\"] - np.mean(crabs[\"presz\"]))**2 )"
   ]
  },
  {
   "cell_type": "code",
   "execution_count": 93,
   "metadata": {},
   "outputs": [],
   "source": [
    "covariance = np.mean( (crabs[\"postsz\"] - np.mean(crabs[\"postsz\"])) * (crabs[\"presz\"] - np.mean(crabs[\"presz\"])) )"
   ]
  },
  {
   "cell_type": "code",
   "execution_count": 94,
   "metadata": {},
   "outputs": [],
   "source": [
    "correlation = covariance / (np.sqrt(variance_postsz) * np.sqrt(variance_presz))"
   ]
  },
  {
   "cell_type": "code",
   "execution_count": 95,
   "metadata": {},
   "outputs": [
    {
     "data": {
      "text/plain": [
       "0.9903699282533864"
      ]
     },
     "execution_count": 95,
     "metadata": {},
     "output_type": "execute_result"
    }
   ],
   "source": [
    "correlation"
   ]
  },
  {
   "cell_type": "markdown",
   "metadata": {},
   "source": [
    "Alternatively we can use pandas"
   ]
  },
  {
   "cell_type": "code",
   "execution_count": 97,
   "metadata": {},
   "outputs": [
    {
     "data": {
      "text/html": [
       "<div>\n",
       "<style scoped>\n",
       "    .dataframe tbody tr th:only-of-type {\n",
       "        vertical-align: middle;\n",
       "    }\n",
       "\n",
       "    .dataframe tbody tr th {\n",
       "        vertical-align: top;\n",
       "    }\n",
       "\n",
       "    .dataframe thead th {\n",
       "        text-align: right;\n",
       "    }\n",
       "</style>\n",
       "<table border=\"1\" class=\"dataframe\">\n",
       "  <thead>\n",
       "    <tr style=\"text-align: right;\">\n",
       "      <th></th>\n",
       "      <th>presz</th>\n",
       "      <th>postsz</th>\n",
       "    </tr>\n",
       "  </thead>\n",
       "  <tbody>\n",
       "    <tr>\n",
       "      <th>presz</th>\n",
       "      <td>1.00000</td>\n",
       "      <td>0.99037</td>\n",
       "    </tr>\n",
       "    <tr>\n",
       "      <th>postsz</th>\n",
       "      <td>0.99037</td>\n",
       "      <td>1.00000</td>\n",
       "    </tr>\n",
       "  </tbody>\n",
       "</table>\n",
       "</div>"
      ],
      "text/plain": [
       "          presz   postsz\n",
       "presz   1.00000  0.99037\n",
       "postsz  0.99037  1.00000"
      ]
     },
     "execution_count": 97,
     "metadata": {},
     "output_type": "execute_result"
    }
   ],
   "source": [
    "crabs[[\"presz\", \"postsz\"]].corr()"
   ]
  }
 ],
 "metadata": {
  "kernelspec": {
   "display_name": "Python [conda env:dsua-112]",
   "language": "python",
   "name": "conda-env-dsua-112-py"
  },
  "language_info": {
   "codemirror_mode": {
    "name": "ipython",
    "version": 3
   },
   "file_extension": ".py",
   "mimetype": "text/x-python",
   "name": "python",
   "nbconvert_exporter": "python",
   "pygments_lexer": "ipython3",
   "version": "3.7.6"
  }
 },
 "nbformat": 4,
 "nbformat_minor": 2
}
