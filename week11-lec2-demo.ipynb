{
 "cells": [
  {
   "cell_type": "markdown",
   "metadata": {},
   "source": [
    "## Week 11 Lecture 2\n",
    "\n",
    "We have studied two approaches to extending liner models. We have added independent variables by\n",
    "\n",
    "- taking polynomial transformations involving products of features or\n",
    "- applying one-hot encoding to categorical data \n",
    "\n",
    "We want to study a third approach\n",
    "\n",
    "- transforming independent variables and dependent variables with logarithms\n",
    "\n",
    "We will take another look at the text in the novel Huckleberry Finn. Remember that we can relate frequency and rank of words with a linear relationship following a logarithmic transformation. \n",
    "\n",
    "We want to add features to models to improve the predictions. However with more features, we will have more parameters. We may not be able to solve for all of the parameters. Instead we will make a guess, check the guess and try to improve the guess over many iterations. The process involves a procedure called gradient descent. "
   ]
  },
  {
   "cell_type": "code",
   "execution_count": 1,
   "metadata": {},
   "outputs": [],
   "source": [
    "# Importing packages\n",
    "\n",
    "import numpy as np\n",
    "import pandas as pd\n",
    "pd.set_option('display.max_rows', 10)\n",
    "pd.set_option('display.max_columns', 8)\n",
    "\n",
    "import re\n",
    "\n",
    "import matplotlib.pyplot as plt\n",
    "import seaborn as sns\n",
    "%matplotlib inline\n",
    "\n",
    "from scipy.optimize import minimize\n",
    "from sklearn.linear_model import LinearRegression"
   ]
  },
  {
   "cell_type": "markdown",
   "metadata": {},
   "source": [
    "### Logarithmic Transformation\n",
    "\n",
    "Remember that we studied the association between rank and frequency of words in novels. By treating text as data, we could investigate patterns in the text of Huckleberry Finn by Mark Twain.  "
   ]
  },
  {
   "cell_type": "code",
   "execution_count": 2,
   "metadata": {},
   "outputs": [
    {
     "data": {
      "text/html": [
       "<div>\n",
       "<style scoped>\n",
       "    .dataframe tbody tr th:only-of-type {\n",
       "        vertical-align: middle;\n",
       "    }\n",
       "\n",
       "    .dataframe tbody tr th {\n",
       "        vertical-align: top;\n",
       "    }\n",
       "\n",
       "    .dataframe thead th {\n",
       "        text-align: right;\n",
       "    }\n",
       "</style>\n",
       "<table border=\"1\" class=\"dataframe\">\n",
       "  <thead>\n",
       "    <tr style=\"text-align: right;\">\n",
       "      <th></th>\n",
       "      <th>rank</th>\n",
       "      <th>word</th>\n",
       "      <th>frequency</th>\n",
       "    </tr>\n",
       "  </thead>\n",
       "  <tbody>\n",
       "    <tr>\n",
       "      <th>0</th>\n",
       "      <td>1</td>\n",
       "      <td>and</td>\n",
       "      <td>0.127928</td>\n",
       "    </tr>\n",
       "    <tr>\n",
       "      <th>1</th>\n",
       "      <td>2</td>\n",
       "      <td>the</td>\n",
       "      <td>0.098413</td>\n",
       "    </tr>\n",
       "    <tr>\n",
       "      <th>2</th>\n",
       "      <td>3</td>\n",
       "      <td>I</td>\n",
       "      <td>0.064505</td>\n",
       "    </tr>\n",
       "    <tr>\n",
       "      <th>3</th>\n",
       "      <td>4</td>\n",
       "      <td>a</td>\n",
       "      <td>0.061768</td>\n",
       "    </tr>\n",
       "    <tr>\n",
       "      <th>4</th>\n",
       "      <td>5</td>\n",
       "      <td>to</td>\n",
       "      <td>0.061386</td>\n",
       "    </tr>\n",
       "    <tr>\n",
       "      <th>...</th>\n",
       "      <td>...</td>\n",
       "      <td>...</td>\n",
       "      <td>...</td>\n",
       "    </tr>\n",
       "    <tr>\n",
       "      <th>45</th>\n",
       "      <td>46</td>\n",
       "      <td>get</td>\n",
       "      <td>0.007023</td>\n",
       "    </tr>\n",
       "    <tr>\n",
       "      <th>46</th>\n",
       "      <td>47</td>\n",
       "      <td>didn't</td>\n",
       "      <td>0.006748</td>\n",
       "    </tr>\n",
       "    <tr>\n",
       "      <th>47</th>\n",
       "      <td>48</td>\n",
       "      <td>says:</td>\n",
       "      <td>0.006599</td>\n",
       "    </tr>\n",
       "    <tr>\n",
       "      <th>48</th>\n",
       "      <td>49</td>\n",
       "      <td>what</td>\n",
       "      <td>0.006578</td>\n",
       "    </tr>\n",
       "    <tr>\n",
       "      <th>49</th>\n",
       "      <td>50</td>\n",
       "      <td>come</td>\n",
       "      <td>0.006557</td>\n",
       "    </tr>\n",
       "  </tbody>\n",
       "</table>\n",
       "<p>50 rows × 3 columns</p>\n",
       "</div>"
      ],
      "text/plain": [
       "    rank    word  frequency\n",
       "0      1     and   0.127928\n",
       "1      2     the   0.098413\n",
       "2      3       I   0.064505\n",
       "3      4       a   0.061768\n",
       "4      5      to   0.061386\n",
       "..   ...     ...        ...\n",
       "45    46     get   0.007023\n",
       "46    47  didn't   0.006748\n",
       "47    48   says:   0.006599\n",
       "48    49    what   0.006578\n",
       "49    50    come   0.006557\n",
       "\n",
       "[50 rows x 3 columns]"
      ]
     },
     "execution_count": 2,
     "metadata": {},
     "output_type": "execute_result"
    }
   ],
   "source": [
    "huck_finn = pd.read_csv(\"huck_finn_counts.csv\")\n",
    "huck_finn"
   ]
  },
  {
   "cell_type": "markdown",
   "metadata": {},
   "source": [
    "We counted the occurrence of the words in novel. Based on the number of occurrences, we could compute rank and frequency \n",
    "\n",
    "- frequency was the number of occurrences of the word divided by the total number of words in the novel \n",
    "- rank was the position of the word in sorted order from most commonly occurring to least commonly occuring\n",
    "\n",
    "We can compute the correlation between rank and frequency."
   ]
  },
  {
   "cell_type": "code",
   "execution_count": 3,
   "metadata": {},
   "outputs": [
    {
     "data": {
      "text/html": [
       "<div>\n",
       "<style scoped>\n",
       "    .dataframe tbody tr th:only-of-type {\n",
       "        vertical-align: middle;\n",
       "    }\n",
       "\n",
       "    .dataframe tbody tr th {\n",
       "        vertical-align: top;\n",
       "    }\n",
       "\n",
       "    .dataframe thead th {\n",
       "        text-align: right;\n",
       "    }\n",
       "</style>\n",
       "<table border=\"1\" class=\"dataframe\">\n",
       "  <thead>\n",
       "    <tr style=\"text-align: right;\">\n",
       "      <th></th>\n",
       "      <th>rank</th>\n",
       "      <th>frequency</th>\n",
       "    </tr>\n",
       "  </thead>\n",
       "  <tbody>\n",
       "    <tr>\n",
       "      <th>rank</th>\n",
       "      <td>1.000000</td>\n",
       "      <td>-0.694268</td>\n",
       "    </tr>\n",
       "    <tr>\n",
       "      <th>frequency</th>\n",
       "      <td>-0.694268</td>\n",
       "      <td>1.000000</td>\n",
       "    </tr>\n",
       "  </tbody>\n",
       "</table>\n",
       "</div>"
      ],
      "text/plain": [
       "               rank  frequency\n",
       "rank       1.000000  -0.694268\n",
       "frequency -0.694268   1.000000"
      ]
     },
     "execution_count": 3,
     "metadata": {},
     "output_type": "execute_result"
    }
   ],
   "source": [
    "huck_finn.corr()"
   ]
  },
  {
   "cell_type": "markdown",
   "metadata": {},
   "source": [
    "We find a negative correlation between rank and frequency. However the plot does not suggest a linear relationship between the variables."
   ]
  },
  {
   "cell_type": "code",
   "execution_count": 4,
   "metadata": {},
   "outputs": [
    {
     "data": {
      "image/png": "[encoded data removed]",
      "text/plain": [
       "<Figure size 432x288 with 1 Axes>"
      ]
     },
     "metadata": {
      "needs_background": "light"
     },
     "output_type": "display_data"
    }
   ],
   "source": [
    "plt.scatter(huck_finn[\"rank\"], huck_finn['frequency'])\n",
    "plt.xlabel('Rank of Word');\n",
    "plt.ylabel('Frequency of Word');\n",
    "plt.title(\"Huck Finn\")\n",
    "plt.show();"
   ]
  },
  {
   "cell_type": "markdown",
   "metadata": {},
   "source": [
    "We seem to have different scales among the dependent variable ranging from $10^{-1}$ to $10^{-3}$. So we should apply logarithm to the frequency."
   ]
  },
  {
   "cell_type": "code",
   "execution_count": 5,
   "metadata": {},
   "outputs": [
    {
     "data": {
      "text/html": [
       "<div>\n",
       "<style scoped>\n",
       "    .dataframe tbody tr th:only-of-type {\n",
       "        vertical-align: middle;\n",
       "    }\n",
       "\n",
       "    .dataframe tbody tr th {\n",
       "        vertical-align: top;\n",
       "    }\n",
       "\n",
       "    .dataframe thead th {\n",
       "        text-align: right;\n",
       "    }\n",
       "</style>\n",
       "<table border=\"1\" class=\"dataframe\">\n",
       "  <thead>\n",
       "    <tr style=\"text-align: right;\">\n",
       "      <th></th>\n",
       "      <th>rank</th>\n",
       "      <th>word</th>\n",
       "      <th>frequency</th>\n",
       "      <th>log_frequency</th>\n",
       "    </tr>\n",
       "  </thead>\n",
       "  <tbody>\n",
       "    <tr>\n",
       "      <th>0</th>\n",
       "      <td>1</td>\n",
       "      <td>and</td>\n",
       "      <td>0.127928</td>\n",
       "      <td>-2.056286</td>\n",
       "    </tr>\n",
       "    <tr>\n",
       "      <th>1</th>\n",
       "      <td>2</td>\n",
       "      <td>the</td>\n",
       "      <td>0.098413</td>\n",
       "      <td>-2.318584</td>\n",
       "    </tr>\n",
       "    <tr>\n",
       "      <th>2</th>\n",
       "      <td>3</td>\n",
       "      <td>I</td>\n",
       "      <td>0.064505</td>\n",
       "      <td>-2.741010</td>\n",
       "    </tr>\n",
       "    <tr>\n",
       "      <th>3</th>\n",
       "      <td>4</td>\n",
       "      <td>a</td>\n",
       "      <td>0.061768</td>\n",
       "      <td>-2.784371</td>\n",
       "    </tr>\n",
       "    <tr>\n",
       "      <th>4</th>\n",
       "      <td>5</td>\n",
       "      <td>to</td>\n",
       "      <td>0.061386</td>\n",
       "      <td>-2.790573</td>\n",
       "    </tr>\n",
       "    <tr>\n",
       "      <th>...</th>\n",
       "      <td>...</td>\n",
       "      <td>...</td>\n",
       "      <td>...</td>\n",
       "      <td>...</td>\n",
       "    </tr>\n",
       "    <tr>\n",
       "      <th>45</th>\n",
       "      <td>46</td>\n",
       "      <td>get</td>\n",
       "      <td>0.007023</td>\n",
       "      <td>-4.958504</td>\n",
       "    </tr>\n",
       "    <tr>\n",
       "      <th>46</th>\n",
       "      <td>47</td>\n",
       "      <td>didn't</td>\n",
       "      <td>0.006748</td>\n",
       "      <td>-4.998571</td>\n",
       "    </tr>\n",
       "    <tr>\n",
       "      <th>47</th>\n",
       "      <td>48</td>\n",
       "      <td>says:</td>\n",
       "      <td>0.006599</td>\n",
       "      <td>-5.020830</td>\n",
       "    </tr>\n",
       "    <tr>\n",
       "      <th>48</th>\n",
       "      <td>49</td>\n",
       "      <td>what</td>\n",
       "      <td>0.006578</td>\n",
       "      <td>-5.024050</td>\n",
       "    </tr>\n",
       "    <tr>\n",
       "      <th>49</th>\n",
       "      <td>50</td>\n",
       "      <td>come</td>\n",
       "      <td>0.006557</td>\n",
       "      <td>-5.027281</td>\n",
       "    </tr>\n",
       "  </tbody>\n",
       "</table>\n",
       "<p>50 rows × 4 columns</p>\n",
       "</div>"
      ],
      "text/plain": [
       "    rank    word  frequency  log_frequency\n",
       "0      1     and   0.127928      -2.056286\n",
       "1      2     the   0.098413      -2.318584\n",
       "2      3       I   0.064505      -2.741010\n",
       "3      4       a   0.061768      -2.784371\n",
       "4      5      to   0.061386      -2.790573\n",
       "..   ...     ...        ...            ...\n",
       "45    46     get   0.007023      -4.958504\n",
       "46    47  didn't   0.006748      -4.998571\n",
       "47    48   says:   0.006599      -5.020830\n",
       "48    49    what   0.006578      -5.024050\n",
       "49    50    come   0.006557      -5.027281\n",
       "\n",
       "[50 rows x 4 columns]"
      ]
     },
     "execution_count": 5,
     "metadata": {},
     "output_type": "execute_result"
    }
   ],
   "source": [
    "huck_finn[\"log_frequency\"] = np.log(huck_finn['frequency'])\n",
    "huck_finn"
   ]
  },
  {
   "cell_type": "code",
   "execution_count": 6,
   "metadata": {},
   "outputs": [
    {
     "data": {
      "image/png": "[encoded data removed]",
      "text/plain": [
       "<Figure size 432x288 with 1 Axes>"
      ]
     },
     "metadata": {
      "needs_background": "light"
     },
     "output_type": "display_data"
    }
   ],
   "source": [
    "plt.scatter(huck_finn[\"rank\"], huck_finn['log_frequency'])\n",
    "plt.xlabel('Rank of Word');\n",
    "plt.ylabel('Frequency of Word');\n",
    "plt.title(\"Huck Finn\")\n",
    "plt.show();"
   ]
  },
  {
   "cell_type": "markdown",
   "metadata": {},
   "source": [
    "Again we can compute the correlation"
   ]
  },
  {
   "cell_type": "code",
   "execution_count": 7,
   "metadata": {},
   "outputs": [
    {
     "data": {
      "text/html": [
       "<div>\n",
       "<style scoped>\n",
       "    .dataframe tbody tr th:only-of-type {\n",
       "        vertical-align: middle;\n",
       "    }\n",
       "\n",
       "    .dataframe tbody tr th {\n",
       "        vertical-align: top;\n",
       "    }\n",
       "\n",
       "    .dataframe thead th {\n",
       "        text-align: right;\n",
       "    }\n",
       "</style>\n",
       "<table border=\"1\" class=\"dataframe\">\n",
       "  <thead>\n",
       "    <tr style=\"text-align: right;\">\n",
       "      <th></th>\n",
       "      <th>rank</th>\n",
       "      <th>frequency</th>\n",
       "      <th>log_frequency</th>\n",
       "    </tr>\n",
       "  </thead>\n",
       "  <tbody>\n",
       "    <tr>\n",
       "      <th>rank</th>\n",
       "      <td>1.000000</td>\n",
       "      <td>-0.694268</td>\n",
       "      <td>-0.902036</td>\n",
       "    </tr>\n",
       "    <tr>\n",
       "      <th>frequency</th>\n",
       "      <td>-0.694268</td>\n",
       "      <td>1.000000</td>\n",
       "      <td>0.918661</td>\n",
       "    </tr>\n",
       "    <tr>\n",
       "      <th>log_frequency</th>\n",
       "      <td>-0.902036</td>\n",
       "      <td>0.918661</td>\n",
       "      <td>1.000000</td>\n",
       "    </tr>\n",
       "  </tbody>\n",
       "</table>\n",
       "</div>"
      ],
      "text/plain": [
       "                   rank  frequency  log_frequency\n",
       "rank           1.000000  -0.694268      -0.902036\n",
       "frequency     -0.694268   1.000000       0.918661\n",
       "log_frequency -0.902036   0.918661       1.000000"
      ]
     },
     "execution_count": 7,
     "metadata": {},
     "output_type": "execute_result"
    }
   ],
   "source": [
    "huck_finn.corr()"
   ]
  },
  {
   "cell_type": "markdown",
   "metadata": {},
   "source": [
    "Note that the correlation has become closer to -1. However we still cannot find a linear relationship in the scatter-plot. We can try to take the logarithm of rank.  "
   ]
  },
  {
   "cell_type": "code",
   "execution_count": 8,
   "metadata": {},
   "outputs": [
    {
     "data": {
      "text/html": [
       "<div>\n",
       "<style scoped>\n",
       "    .dataframe tbody tr th:only-of-type {\n",
       "        vertical-align: middle;\n",
       "    }\n",
       "\n",
       "    .dataframe tbody tr th {\n",
       "        vertical-align: top;\n",
       "    }\n",
       "\n",
       "    .dataframe thead th {\n",
       "        text-align: right;\n",
       "    }\n",
       "</style>\n",
       "<table border=\"1\" class=\"dataframe\">\n",
       "  <thead>\n",
       "    <tr style=\"text-align: right;\">\n",
       "      <th></th>\n",
       "      <th>rank</th>\n",
       "      <th>word</th>\n",
       "      <th>frequency</th>\n",
       "      <th>log_frequency</th>\n",
       "      <th>log_rank</th>\n",
       "    </tr>\n",
       "  </thead>\n",
       "  <tbody>\n",
       "    <tr>\n",
       "      <th>0</th>\n",
       "      <td>1</td>\n",
       "      <td>and</td>\n",
       "      <td>0.127928</td>\n",
       "      <td>-2.056286</td>\n",
       "      <td>0.000000</td>\n",
       "    </tr>\n",
       "    <tr>\n",
       "      <th>1</th>\n",
       "      <td>2</td>\n",
       "      <td>the</td>\n",
       "      <td>0.098413</td>\n",
       "      <td>-2.318584</td>\n",
       "      <td>0.693147</td>\n",
       "    </tr>\n",
       "    <tr>\n",
       "      <th>2</th>\n",
       "      <td>3</td>\n",
       "      <td>I</td>\n",
       "      <td>0.064505</td>\n",
       "      <td>-2.741010</td>\n",
       "      <td>1.098612</td>\n",
       "    </tr>\n",
       "    <tr>\n",
       "      <th>3</th>\n",
       "      <td>4</td>\n",
       "      <td>a</td>\n",
       "      <td>0.061768</td>\n",
       "      <td>-2.784371</td>\n",
       "      <td>1.386294</td>\n",
       "    </tr>\n",
       "    <tr>\n",
       "      <th>4</th>\n",
       "      <td>5</td>\n",
       "      <td>to</td>\n",
       "      <td>0.061386</td>\n",
       "      <td>-2.790573</td>\n",
       "      <td>1.609438</td>\n",
       "    </tr>\n",
       "    <tr>\n",
       "      <th>...</th>\n",
       "      <td>...</td>\n",
       "      <td>...</td>\n",
       "      <td>...</td>\n",
       "      <td>...</td>\n",
       "      <td>...</td>\n",
       "    </tr>\n",
       "    <tr>\n",
       "      <th>45</th>\n",
       "      <td>46</td>\n",
       "      <td>get</td>\n",
       "      <td>0.007023</td>\n",
       "      <td>-4.958504</td>\n",
       "      <td>3.828641</td>\n",
       "    </tr>\n",
       "    <tr>\n",
       "      <th>46</th>\n",
       "      <td>47</td>\n",
       "      <td>didn't</td>\n",
       "      <td>0.006748</td>\n",
       "      <td>-4.998571</td>\n",
       "      <td>3.850148</td>\n",
       "    </tr>\n",
       "    <tr>\n",
       "      <th>47</th>\n",
       "      <td>48</td>\n",
       "      <td>says:</td>\n",
       "      <td>0.006599</td>\n",
       "      <td>-5.020830</td>\n",
       "      <td>3.871201</td>\n",
       "    </tr>\n",
       "    <tr>\n",
       "      <th>48</th>\n",
       "      <td>49</td>\n",
       "      <td>what</td>\n",
       "      <td>0.006578</td>\n",
       "      <td>-5.024050</td>\n",
       "      <td>3.891820</td>\n",
       "    </tr>\n",
       "    <tr>\n",
       "      <th>49</th>\n",
       "      <td>50</td>\n",
       "      <td>come</td>\n",
       "      <td>0.006557</td>\n",
       "      <td>-5.027281</td>\n",
       "      <td>3.912023</td>\n",
       "    </tr>\n",
       "  </tbody>\n",
       "</table>\n",
       "<p>50 rows × 5 columns</p>\n",
       "</div>"
      ],
      "text/plain": [
       "    rank    word  frequency  log_frequency  log_rank\n",
       "0      1     and   0.127928      -2.056286  0.000000\n",
       "1      2     the   0.098413      -2.318584  0.693147\n",
       "2      3       I   0.064505      -2.741010  1.098612\n",
       "3      4       a   0.061768      -2.784371  1.386294\n",
       "4      5      to   0.061386      -2.790573  1.609438\n",
       "..   ...     ...        ...            ...       ...\n",
       "45    46     get   0.007023      -4.958504  3.828641\n",
       "46    47  didn't   0.006748      -4.998571  3.850148\n",
       "47    48   says:   0.006599      -5.020830  3.871201\n",
       "48    49    what   0.006578      -5.024050  3.891820\n",
       "49    50    come   0.006557      -5.027281  3.912023\n",
       "\n",
       "[50 rows x 5 columns]"
      ]
     },
     "execution_count": 8,
     "metadata": {},
     "output_type": "execute_result"
    }
   ],
   "source": [
    "huck_finn[\"log_rank\"] = np.log(huck_finn['rank'])\n",
    "huck_finn"
   ]
  },
  {
   "cell_type": "code",
   "execution_count": 9,
   "metadata": {},
   "outputs": [
    {
     "data": {
      "image/png": "[encoded data removed]",
      "text/plain": [
       "<Figure size 432x288 with 1 Axes>"
      ]
     },
     "metadata": {
      "needs_background": "light"
     },
     "output_type": "display_data"
    }
   ],
   "source": [
    "plt.scatter(huck_finn[\"log_rank\"], huck_finn['log_frequency'])\n",
    "plt.xlabel('Rank of Word');\n",
    "plt.ylabel('Frequency of Word');\n",
    "plt.title(\"Huck Finn\")\n",
    "plt.show();"
   ]
  },
  {
   "cell_type": "markdown",
   "metadata": {},
   "source": [
    "We can compute the correlation. "
   ]
  },
  {
   "cell_type": "code",
   "execution_count": 10,
   "metadata": {},
   "outputs": [
    {
     "data": {
      "text/html": [
       "<div>\n",
       "<style scoped>\n",
       "    .dataframe tbody tr th:only-of-type {\n",
       "        vertical-align: middle;\n",
       "    }\n",
       "\n",
       "    .dataframe tbody tr th {\n",
       "        vertical-align: top;\n",
       "    }\n",
       "\n",
       "    .dataframe thead th {\n",
       "        text-align: right;\n",
       "    }\n",
       "</style>\n",
       "<table border=\"1\" class=\"dataframe\">\n",
       "  <thead>\n",
       "    <tr style=\"text-align: right;\">\n",
       "      <th></th>\n",
       "      <th>rank</th>\n",
       "      <th>frequency</th>\n",
       "      <th>log_frequency</th>\n",
       "      <th>log_rank</th>\n",
       "    </tr>\n",
       "  </thead>\n",
       "  <tbody>\n",
       "    <tr>\n",
       "      <th>rank</th>\n",
       "      <td>1.000000</td>\n",
       "      <td>-0.694268</td>\n",
       "      <td>-0.902036</td>\n",
       "      <td>0.908839</td>\n",
       "    </tr>\n",
       "    <tr>\n",
       "      <th>frequency</th>\n",
       "      <td>-0.694268</td>\n",
       "      <td>1.000000</td>\n",
       "      <td>0.918661</td>\n",
       "      <td>-0.925096</td>\n",
       "    </tr>\n",
       "    <tr>\n",
       "      <th>log_frequency</th>\n",
       "      <td>-0.902036</td>\n",
       "      <td>0.918661</td>\n",
       "      <td>1.000000</td>\n",
       "      <td>-0.993353</td>\n",
       "    </tr>\n",
       "    <tr>\n",
       "      <th>log_rank</th>\n",
       "      <td>0.908839</td>\n",
       "      <td>-0.925096</td>\n",
       "      <td>-0.993353</td>\n",
       "      <td>1.000000</td>\n",
       "    </tr>\n",
       "  </tbody>\n",
       "</table>\n",
       "</div>"
      ],
      "text/plain": [
       "                   rank  frequency  log_frequency  log_rank\n",
       "rank           1.000000  -0.694268      -0.902036  0.908839\n",
       "frequency     -0.694268   1.000000       0.918661 -0.925096\n",
       "log_frequency -0.902036   0.918661       1.000000 -0.993353\n",
       "log_rank       0.908839  -0.925096      -0.993353  1.000000"
      ]
     },
     "execution_count": 10,
     "metadata": {},
     "output_type": "execute_result"
    }
   ],
   "source": [
    "huck_finn.corr()"
   ]
  },
  {
   "cell_type": "markdown",
   "metadata": {},
   "source": [
    "Note that the correlation between logarithm of rank and logarithm of frequency is nearly -1. We should fit a linear model to the logarithmic transformation of the independent and dependent variables:\n",
    "\n",
    "$$\\text{log}(\\text{Frequency}) = \\text{Intercept} - \\text{Slope} \\times \\text{log}(\\text{Rank}) $$\n",
    "\n",
    "Remember that $e$ denotes a number approximately equal to 2.71. The relationship between logarithm and exponential is   \n",
    "\n",
    "$$e^{\\log c} = c \\; \\text{ for any number c}$$\n",
    "\n",
    "Moreover we have the property\n",
    "\n",
    "$$e^{a + b} = e^a \\cdot e^b$$\n",
    "\n",
    "Therefore we can rephrase the linear model with exponents  \n",
    "\n",
    "$$\n",
    "\\begin{align} \n",
    "\\text{Frequency} & = e^{\\operatorname{log}\\left(\\text{Frequency}\\right)} \\\\\n",
    "& = e^{\\text{Intercept} - \\text{Slope} \\times \\text{log}(\\text{Rank}) }\\\\\n",
    "& = e^{\\text{Intercept}} \\cdot e^{ - \\text{Slope} \\times \\text{log}(\\text{Rank}) }\\\\\n",
    "& = e^{\\text{Intercept}} \\cdot \\left(e^{ - \\text{log}(\\text{Rank}) }\\right)^{\\text{Slope}}\\\\\n",
    "& = e^{\\text{Intercept}} \\cdot \\left(\\text{Rank}^{-1}\\right)^{\\text{Slope}}\\\\\n",
    "& = \\displaystyle\\frac{e^{\\text{Intercept}}}{\\text{Rank}^{\\text{Slope}}}\n",
    "\\end{align}\n",
    "$$\n",
    "\n",
    "Remember that we called the relationship between frequency and rank the Zipf rule. We learned that the Zipf rule is a power law. Let us use the scikit-learn package to determine the slope and intercept."
   ]
  },
  {
   "cell_type": "code",
   "execution_count": 11,
   "metadata": {},
   "outputs": [],
   "source": [
    "#first arg IV [[]] so it expects a table\n",
    "#second arg is DV expects a series so []\n",
    "hf_count_reg = LinearRegression().fit(huck_finn[[\"log_rank\"]], huck_finn[\"log_frequency\"])"
   ]
  },
  {
   "cell_type": "code",
   "execution_count": 12,
   "metadata": {},
   "outputs": [
    {
     "data": {
      "text/plain": [
       "-0.8472346496668128"
      ]
     },
     "execution_count": 12,
     "metadata": {},
     "output_type": "execute_result"
    }
   ],
   "source": [
    "slope = hf_count_reg.coef_[0]\n",
    "slope"
   ]
  },
  {
   "cell_type": "code",
   "execution_count": 13,
   "metadata": {},
   "outputs": [
    {
     "data": {
      "text/plain": [
       "-1.769698134274385"
      ]
     },
     "execution_count": 13,
     "metadata": {},
     "output_type": "execute_result"
    }
   ],
   "source": [
    "intercept = hf_count_reg.intercept_\n",
    "intercept"
   ]
  },
  {
   "cell_type": "markdown",
   "metadata": {},
   "source": [
    "We can compute the residuals."
   ]
  },
  {
   "cell_type": "code",
   "execution_count": 14,
   "metadata": {},
   "outputs": [],
   "source": [
    "huck_finn[\"residuals\"] = huck_finn[\"frequency\"] - np.exp(intercept) * (huck_finn[\"rank\"]**(slope))"
   ]
  },
  {
   "cell_type": "code",
   "execution_count": 15,
   "metadata": {},
   "outputs": [
    {
     "data": {
      "image/png": "[encoded data removed]",
      "text/plain": [
       "<Figure size 432x288 with 1 Axes>"
      ]
     },
     "metadata": {
      "needs_background": "light"
     },
     "output_type": "display_data"
    }
   ],
   "source": [
    "sns.scatterplot(huck_finn[\"frequency\"], huck_finn[\"residuals\"])\n",
    "plt.axhline(y = 0, color = \"r\", linestyle=\"--\");"
   ]
  },
  {
   "cell_type": "markdown",
   "metadata": {},
   "source": [
    "With the slope and the intercept we can predict the frequency from the rank. Note that we have accurate predications for the less frequent words."
   ]
  },
  {
   "cell_type": "code",
   "execution_count": 16,
   "metadata": {},
   "outputs": [
    {
     "data": {
      "image/png": "[encoded data removed]",
      "text/plain": [
       "<Figure size 432x288 with 1 Axes>"
      ]
     },
     "metadata": {
      "needs_background": "light"
     },
     "output_type": "display_data"
    }
   ],
   "source": [
    "xvalues = np.arange(1,50,0.5)\n",
    "yvalues = np.exp(intercept) * (xvalues**(slope))\n",
    "plt.plot(xvalues, yvalues, \"g:\")\n",
    "\n",
    "plt.scatter(huck_finn[\"rank\"], huck_finn['frequency'])\n",
    "plt.xlabel('Rank of Word');\n",
    "plt.ylabel('Frequency of Word');\n",
    "plt.title(\"Huck Finn\")\n",
    "plt.show();"
   ]
  },
  {
   "cell_type": "markdown",
   "metadata": {},
   "source": [
    "### Gradient Descent"
   ]
  },
  {
   "cell_type": "markdown",
   "metadata": {},
   "source": [
    "Remember from the study of loss functions that we used the `minimize` function in the `scipy.optimize` package to find the inputs with the smallest output. How does the `minimize` function determine the inputs? "
   ]
  },
  {
   "cell_type": "code",
   "execution_count": 17,
   "metadata": {},
   "outputs": [],
   "source": [
    "def objective_function(x):\n",
    "    return (x**4 - 15*x**3 + 80*x**2 - 180*x + 144)/10"
   ]
  },
  {
   "cell_type": "markdown",
   "metadata": {},
   "source": [
    "Consider `objective_function`. It has one input and one output which we can graph in a chart."
   ]
  },
  {
   "cell_type": "code",
   "execution_count": 18,
   "metadata": {},
   "outputs": [
    {
     "data": {
      "image/png": "[encoded data removed]",
      "text/plain": [
       "<Figure size 432x288 with 1 Axes>"
      ]
     },
     "metadata": {
      "needs_background": "light"
     },
     "output_type": "display_data"
    }
   ],
   "source": [
    "x = np.linspace(1, 7, 100)\n",
    "plt.plot(x, objective_function(x))\n",
    "plt.gca().set_ylim([-1, 3]);"
   ]
  },
  {
   "cell_type": "markdown",
   "metadata": {},
   "source": [
    "We can see that the minimum is somewhere between 5 and 6. We might try to guess and check values. "
   ]
  },
  {
   "cell_type": "code",
   "execution_count": 19,
   "metadata": {},
   "outputs": [
    {
     "data": {
      "text/plain": [
       "-0.6758399999999483"
      ]
     },
     "execution_count": 19,
     "metadata": {},
     "output_type": "execute_result"
    }
   ],
   "source": [
    "objective_function(5.2)"
   ]
  },
  {
   "cell_type": "code",
   "execution_count": 20,
   "metadata": {},
   "outputs": [
    {
     "data": {
      "text/plain": [
       "-0.690689999999995"
      ]
     },
     "execution_count": 20,
     "metadata": {},
     "output_type": "execute_result"
    }
   ],
   "source": [
    "objective_function(5.3)"
   ]
  },
  {
   "cell_type": "code",
   "execution_count": 21,
   "metadata": {},
   "outputs": [
    {
     "data": {
      "text/plain": [
       "-0.6854400000000282"
      ]
     },
     "execution_count": 21,
     "metadata": {},
     "output_type": "execute_result"
    }
   ],
   "source": [
    "objective_function(5.4)"
   ]
  },
  {
   "cell_type": "markdown",
   "metadata": {},
   "source": [
    "So the minimum is around 5.3. We can generate many values and select the smallest one."
   ]
  },
  {
   "cell_type": "code",
   "execution_count": 22,
   "metadata": {},
   "outputs": [
    {
     "data": {
      "text/html": [
       "<div>\n",
       "<style scoped>\n",
       "    .dataframe tbody tr th:only-of-type {\n",
       "        vertical-align: middle;\n",
       "    }\n",
       "\n",
       "    .dataframe tbody tr th {\n",
       "        vertical-align: top;\n",
       "    }\n",
       "\n",
       "    .dataframe thead th {\n",
       "        text-align: right;\n",
       "    }\n",
       "</style>\n",
       "<table border=\"1\" class=\"dataframe\">\n",
       "  <thead>\n",
       "    <tr style=\"text-align: right;\">\n",
       "      <th></th>\n",
       "      <th>input</th>\n",
       "      <th>output</th>\n",
       "    </tr>\n",
       "  </thead>\n",
       "  <tbody>\n",
       "    <tr>\n",
       "      <th>433</th>\n",
       "      <td>5.33</td>\n",
       "      <td>-0.691396</td>\n",
       "    </tr>\n",
       "    <tr>\n",
       "      <th>432</th>\n",
       "      <td>5.32</td>\n",
       "      <td>-0.691367</td>\n",
       "    </tr>\n",
       "    <tr>\n",
       "      <th>434</th>\n",
       "      <td>5.34</td>\n",
       "      <td>-0.691212</td>\n",
       "    </tr>\n",
       "    <tr>\n",
       "      <th>431</th>\n",
       "      <td>5.31</td>\n",
       "      <td>-0.691131</td>\n",
       "    </tr>\n",
       "    <tr>\n",
       "      <th>435</th>\n",
       "      <td>5.35</td>\n",
       "      <td>-0.690812</td>\n",
       "    </tr>\n",
       "    <tr>\n",
       "      <th>...</th>\n",
       "      <td>...</td>\n",
       "      <td>...</td>\n",
       "    </tr>\n",
       "    <tr>\n",
       "      <th>795</th>\n",
       "      <td>8.95</td>\n",
       "      <td>60.384988</td>\n",
       "    </tr>\n",
       "    <tr>\n",
       "      <th>796</th>\n",
       "      <td>8.96</td>\n",
       "      <td>60.901626</td>\n",
       "    </tr>\n",
       "    <tr>\n",
       "      <th>797</th>\n",
       "      <td>8.97</td>\n",
       "      <td>61.421433</td>\n",
       "    </tr>\n",
       "    <tr>\n",
       "      <th>798</th>\n",
       "      <td>8.98</td>\n",
       "      <td>61.944423</td>\n",
       "    </tr>\n",
       "    <tr>\n",
       "      <th>799</th>\n",
       "      <td>8.99</td>\n",
       "      <td>62.470608</td>\n",
       "    </tr>\n",
       "  </tbody>\n",
       "</table>\n",
       "<p>800 rows × 2 columns</p>\n",
       "</div>"
      ],
      "text/plain": [
       "     input     output\n",
       "433   5.33  -0.691396\n",
       "432   5.32  -0.691367\n",
       "434   5.34  -0.691212\n",
       "431   5.31  -0.691131\n",
       "435   5.35  -0.690812\n",
       "..     ...        ...\n",
       "795   8.95  60.384988\n",
       "796   8.96  60.901626\n",
       "797   8.97  61.421433\n",
       "798   8.98  61.944423\n",
       "799   8.99  62.470608\n",
       "\n",
       "[800 rows x 2 columns]"
      ]
     },
     "execution_count": 22,
     "metadata": {},
     "output_type": "execute_result"
    }
   ],
   "source": [
    "df_function_values = pd.DataFrame(data = {\"input\": np.arange(1,9,0.01), \"output\": objective_function(np.arange(1,9,0.01))})\n",
    "df_function_values.sort_values(\"output\")"
   ]
  },
  {
   "cell_type": "markdown",
   "metadata": {},
   "source": [
    "Here we are picking representative numbers within a range of inputs to guess and check the outputs. "
   ]
  },
  {
   "cell_type": "code",
   "execution_count": 23,
   "metadata": {},
   "outputs": [
    {
     "data": {
      "image/png": "[encoded data removed]",
      "text/plain": [
       "<Figure size 432x288 with 1 Axes>"
      ]
     },
     "metadata": {
      "needs_background": "light"
     },
     "output_type": "display_data"
    }
   ],
   "source": [
    "xs = np.linspace(1, 7, 200)\n",
    "sparse_xs = np.linspace(1, 7, 21)\n",
    "\n",
    "ys = objective_function(xs)\n",
    "sparse_ys = objective_function(sparse_xs)\n",
    "\n",
    "plt.plot(xs, ys, label = \"f\")\n",
    "plt.plot(sparse_xs, sparse_ys, 'r*', label = \"f\");"
   ]
  },
  {
   "cell_type": "markdown",
   "metadata": {},
   "source": [
    "Besides being inefficient, the approach might fail to find the minimum.\n",
    " - If the minimum is outside our range of guesses, the answer will be wrong.\n",
    " - Even if our range of guesses is correct, if the guesses are too coarse, our answer will be inaccurate."
   ]
  },
  {
   "cell_type": "markdown",
   "metadata": {},
   "source": [
    "Instead of choosing all of our guesses ahead of time, we can start from a single guess and try to improve on our choice. However we must decide whether to increase or decrease the guess based on the value of the function. We can use the derivative to decide between the two possibilities. \n",
    "\n",
    "- If the derivative of the function is negative, that means the function is decreasing, so we should go to the right (i.e. pick a bigger x). - If the derivative of the function is positive, that means the function is increasing, so we should go to the left (i.e. pick a smaller x).\n",
    "\n",
    "So the derivative tells us which way to go."
   ]
  },
  {
   "cell_type": "code",
   "execution_count": 24,
   "metadata": {},
   "outputs": [],
   "source": [
    "def derivative_objective_function(x):\n",
    "    return (4*x**3 - 45*x**2 + 160*x - 180)/10"
   ]
  },
  {
   "cell_type": "code",
   "execution_count": 25,
   "metadata": {},
   "outputs": [
    {
     "data": {
      "image/png": "[encoded data removed]",
      "text/plain": [
       "<Figure size 432x288 with 1 Axes>"
      ]
     },
     "metadata": {
      "needs_background": "light"
     },
     "output_type": "display_data"
    }
   ],
   "source": [
    "plt.plot(x, objective_function(x))\n",
    "plt.plot(x, derivative_objective_function(x), '--')\n",
    "plt.legend(['f(x)', 'df(x)'])\n",
    "axes = plt.gca()\n",
    "axes.set_ylim([-1, 3]);"
   ]
  },
  {
   "cell_type": "markdown",
   "metadata": {},
   "source": [
    "We can write some helper functions to generate graphs of the function and the derivatives."
   ]
  },
  {
   "cell_type": "code",
   "execution_count": 26,
   "metadata": {},
   "outputs": [],
   "source": [
    "def plot_function():\n",
    "    x = np.linspace(1, 7, 100)\n",
    "    plt.plot(x, objective_function(x))\n",
    "    plt.gca().set_ylim([-1, 3]);\n",
    "    \n",
    "def plot_x_on_f(f, x):\n",
    "    y = f(x)\n",
    "    default_args = dict(zorder=3, s=200, c=\"g\")\n",
    "    plt.scatter([x], [y], **default_args)\n",
    "    \n",
    "def plot_x_on_f_empty(f, x):\n",
    "    y = f(x)\n",
    "    default_args = dict(zorder=3, s=200, c = 'none', edgecolor='green')\n",
    "    plt.scatter([x], [y], **default_args)    \n",
    "    \n",
    "def plot_tangent_on_f(f, x, eps=1e-6):\n",
    "    slope = ((f(x + eps) - f(x - eps))\n",
    "             / (2 * eps))\n",
    "    xs = np.arange(x - 1, x + 1, 0.05)\n",
    "    ys = f(x) + slope * (xs - x)\n",
    "    plt.plot(xs, ys, zorder=2, c=\"green\", linestyle='--')    "
   ]
  },
  {
   "cell_type": "markdown",
   "metadata": {},
   "source": [
    "Let's try to implement the approach starting from an initial guess of 4. We will move in the direction indicated by the derivative."
   ]
  },
  {
   "cell_type": "code",
   "execution_count": 27,
   "metadata": {},
   "outputs": [
    {
     "data": {
      "image/png": "[encoded data removed]",
      "text/plain": [
       "<Figure size 432x288 with 1 Axes>"
      ]
     },
     "metadata": {
      "needs_background": "light"
     },
     "output_type": "display_data"
    }
   ],
   "source": [
    "current_guess = 4\n",
    "\n",
    "plot_function()\n",
    "plot_x_on_f(objective_function, current_guess)\n",
    "plot_tangent_on_f(objective_function, current_guess)\n",
    "plt.xlabel('x')\n",
    "plt.ylabel('f(x)')\n",
    "plt.title(\"At input {}\".format(current_guess));"
   ]
  },
  {
   "cell_type": "code",
   "execution_count": 28,
   "metadata": {},
   "outputs": [
    {
     "data": {
      "image/png": "[encoded data removed]",
      "text/plain": [
       "<Figure size 432x288 with 1 Axes>"
      ]
     },
     "metadata": {
      "needs_background": "light"
     },
     "output_type": "display_data"
    }
   ],
   "source": [
    "current_guess = 4 + 0.5\n",
    "\n",
    "plot_function()\n",
    "plot_x_on_f(objective_function, current_guess)\n",
    "plot_tangent_on_f(objective_function, current_guess)\n",
    "plt.xlabel('x')\n",
    "plt.ylabel('f(x)')\n",
    "plt.title(\"At input {}\".format(current_guess));"
   ]
  },
  {
   "cell_type": "code",
   "execution_count": 29,
   "metadata": {},
   "outputs": [
    {
     "data": {
      "image/png": "[encoded data removed]",
      "text/plain": [
       "<Figure size 432x288 with 1 Axes>"
      ]
     },
     "metadata": {
      "needs_background": "light"
     },
     "output_type": "display_data"
    }
   ],
   "source": [
    "current_guess = 4 + 0.5 + 0.3\n",
    "\n",
    "plot_function()\n",
    "plot_x_on_f(objective_function, current_guess)\n",
    "plot_tangent_on_f(objective_function, current_guess)\n",
    "plt.xlabel('x')\n",
    "plt.ylabel('f(x)')\n",
    "plt.title(\"At input {}\".format(current_guess));"
   ]
  },
  {
   "cell_type": "markdown",
   "metadata": {},
   "source": [
    "Here we decide to move left or right depending on the value of the derivative. However, we changed the input by an arbitrary amount. Instead we should use the value of the derivative to determine the amount to change the input. "
   ]
  },
  {
   "cell_type": "code",
   "execution_count": 30,
   "metadata": {},
   "outputs": [],
   "source": [
    "def plot_one_step(x):\n",
    "    new_x = x - derivative_objective_function(x)\n",
    "    plot_function()\n",
    "    plot_x_on_f(objective_function, new_x)\n",
    "    plot_x_on_f_empty(objective_function, x)\n",
    "    print(f'old x: {x}')\n",
    "    print(f'new x: {new_x}')    "
   ]
  },
  {
   "cell_type": "code",
   "execution_count": 31,
   "metadata": {},
   "outputs": [
    {
     "name": "stdout",
     "output_type": "stream",
     "text": [
      "old x: 4\n",
      "new x: 4.4\n"
     ]
    },
    {
     "data": {
      "image/png": "[encoded data removed]",
      "text/plain": [
       "<Figure size 432x288 with 1 Axes>"
      ]
     },
     "metadata": {
      "needs_background": "light"
     },
     "output_type": "display_data"
    }
   ],
   "source": [
    "plot_one_step(4)"
   ]
  },
  {
   "cell_type": "code",
   "execution_count": 32,
   "metadata": {},
   "outputs": [
    {
     "name": "stdout",
     "output_type": "stream",
     "text": [
      "old x: 4.4\n",
      "new x: 5.0464000000000055\n"
     ]
    },
    {
     "data": {
      "image/png": "[encoded data removed]",
      "text/plain": [
       "<Figure size 432x288 with 1 Axes>"
      ]
     },
     "metadata": {
      "needs_background": "light"
     },
     "output_type": "display_data"
    }
   ],
   "source": [
    "plot_one_step(4.4)"
   ]
  },
  {
   "cell_type": "code",
   "execution_count": 33,
   "metadata": {},
   "outputs": [
    {
     "name": "stdout",
     "output_type": "stream",
     "text": [
      "old x: 5.04\n",
      "new x: 5.49757440000001\n"
     ]
    },
    {
     "data": {
      "image/png": "[encoded data removed]",
      "text/plain": [
       "<Figure size 432x288 with 1 Axes>"
      ]
     },
     "metadata": {
      "needs_background": "light"
     },
     "output_type": "display_data"
    }
   ],
   "source": [
    "plot_one_step(5.04)"
   ]
  },
  {
   "cell_type": "code",
   "execution_count": 34,
   "metadata": {},
   "outputs": [
    {
     "name": "stdout",
     "output_type": "stream",
     "text": [
      "old x: 5.49\n",
      "new x: 5.092790400000004\n"
     ]
    },
    {
     "data": {
      "image/png": "[encoded data removed]",
      "text/plain": [
       "<Figure size 432x288 with 1 Axes>"
      ]
     },
     "metadata": {
      "needs_background": "light"
     },
     "output_type": "display_data"
    }
   ],
   "source": [
    "plot_one_step(5.49)"
   ]
  },
  {
   "cell_type": "markdown",
   "metadata": {},
   "source": [
    "Note that we passed the minimum around 5.3 in going from 5.04 to 5.49. At the next iteration we turn around. However, we pass the minimum in going from 5.49 to 5.04. \n",
    "\n",
    "We need to make a smaller change to the input around the minimum. "
   ]
  },
  {
   "cell_type": "code",
   "execution_count": 35,
   "metadata": {},
   "outputs": [],
   "source": [
    "def plot_one_step_better(x):\n",
    "    new_x = x - 0.3 * derivative_objective_function(x)\n",
    "    plot_function()\n",
    "    plot_x_on_f(objective_function, new_x)\n",
    "    plot_x_on_f_empty(objective_function, x)\n",
    "    print(f'old x: {x}')\n",
    "    print(f'new x: {new_x}')    "
   ]
  },
  {
   "cell_type": "code",
   "execution_count": 36,
   "metadata": {
    "scrolled": false
   },
   "outputs": [
    {
     "name": "stdout",
     "output_type": "stream",
     "text": [
      "old x: 5.49\n",
      "new x: 5.370837120000001\n"
     ]
    },
    {
     "data": {
      "image/png": "[encoded data removed]",
      "text/plain": [
       "<Figure size 432x288 with 1 Axes>"
      ]
     },
     "metadata": {
      "needs_background": "light"
     },
     "output_type": "display_data"
    }
   ],
   "source": [
    "plot_one_step_better(5.49)"
   ]
  },
  {
   "cell_type": "markdown",
   "metadata": {},
   "source": [
    "So at each iteration, we have a rule to update the input\n",
    "\n",
    "$$\n",
    "x^{(t+1)} = x^{(t)} -  0.3 \\frac{d}{dx} f(x)\n",
    "$$\n",
    "\n",
    "Note that $\\frac{d}{dx} f(x)$ means the derivative of the function. Remember that the derivative is just the rate of change. \n",
    "\n",
    "We call the procedure **gradient descent**. Note that the value $0.3$ was arbitrary. We can choose any number to control the size of the change between iterations. \n",
    "\n",
    "$$\n",
    "x^{(t+1)} = x^{(t)} -  \\alpha \\frac{d}{dx} f(x)\n",
    "$$\n",
    "\n",
    "We call the number $\\alpha$ the **learning rate**. "
   ]
  },
  {
   "cell_type": "markdown",
   "metadata": {},
   "source": [
    "Our choice of 0.3 above was totally arbitrary. Naturally, we can generalize by replacing it with a parameter, typically represented by $\\alpha$, and often called the \"learning rate\"."
   ]
  },
  {
   "cell_type": "markdown",
   "metadata": {},
   "source": [
    "We can also write up this procedure in code as given below:"
   ]
  },
  {
   "cell_type": "code",
   "execution_count": 37,
   "metadata": {},
   "outputs": [],
   "source": [
    "def gradient_descent(df, initial_guess, alpha, maximum_iterations):\n",
    "    guesses = [initial_guess]\n",
    "    guess = initial_guess\n",
    "    \n",
    "    while len(guesses) < maximum_iterations:\n",
    "        guess = guess - alpha * df(guess)\n",
    "        guesses.append(guess)\n",
    "    \n",
    "    return np.array(guesses)"
   ]
  },
  {
   "cell_type": "markdown",
   "metadata": {},
   "source": [
    "Let us try it on the function."
   ]
  },
  {
   "cell_type": "code",
   "execution_count": 38,
   "metadata": {},
   "outputs": [
    {
     "data": {
      "text/plain": [
       "array([4.        , 4.6       , 5.6284    , 4.39841721, 5.36714058,\n",
       "       5.23345463, 5.50301118, 4.85283564, 5.77676546, 3.72284331,\n",
       "       3.96846217, 4.53018801, 5.55049763, 4.6927978 , 5.70865641,\n",
       "       4.05220573, 4.7135408 , 5.72270104, 3.98700301, 4.57133193])"
      ]
     },
     "execution_count": 38,
     "metadata": {},
     "output_type": "execute_result"
    }
   ],
   "source": [
    "trajectory = gradient_descent(derivative_objective_function, 4, 1.5, 20)\n",
    "trajectory"
   ]
  },
  {
   "cell_type": "markdown",
   "metadata": {},
   "source": [
    "Below, we see a visualization of the trajectory taken by gradient descent."
   ]
  },
  {
   "cell_type": "code",
   "execution_count": 39,
   "metadata": {
    "scrolled": true
   },
   "outputs": [
    {
     "data": {
      "image/png": "[encoded data removed]",
      "text/plain": [
       "<Figure size 432x288 with 1 Axes>"
      ]
     },
     "metadata": {
      "needs_background": "light"
     },
     "output_type": "display_data"
    }
   ],
   "source": [
    "trajectory = gradient_descent(derivative_objective_function, 1, 0.6, 20)\n",
    "plot_function()\n",
    "plt.plot(trajectory, objective_function(trajectory));"
   ]
  },
  {
   "cell_type": "code",
   "execution_count": 40,
   "metadata": {
    "scrolled": true
   },
   "outputs": [
    {
     "data": {
      "image/png": "[encoded data removed]",
      "text/plain": [
       "<Figure size 432x288 with 1 Axes>"
      ]
     },
     "metadata": {
      "needs_background": "light"
     },
     "output_type": "display_data"
    }
   ],
   "source": [
    "trajectory = gradient_descent(derivative_objective_function, 1, 0.1, 20)\n",
    "plot_function()\n",
    "plt.plot(trajectory, objective_function(trajectory));"
   ]
  },
  {
   "cell_type": "code",
   "execution_count": 41,
   "metadata": {
    "scrolled": true
   },
   "outputs": [
    {
     "data": {
      "image/png": "[encoded data removed]",
      "text/plain": [
       "<Figure size 432x288 with 1 Axes>"
      ]
     },
     "metadata": {
      "needs_background": "light"
     },
     "output_type": "display_data"
    }
   ],
   "source": [
    "trajectory = gradient_descent(derivative_objective_function, 1, 0.9, 20)\n",
    "plot_function()\n",
    "plt.plot(trajectory, objective_function(trajectory));"
   ]
  },
  {
   "cell_type": "code",
   "execution_count": null,
   "metadata": {},
   "outputs": [],
   "source": []
  }
 ],
 "metadata": {
  "kernelspec": {
   "display_name": "Python [conda env:dsua-112]",
   "language": "python",
   "name": "conda-env-dsua-112-py"
  },
  "language_info": {
   "codemirror_mode": {
    "name": "ipython",
    "version": 3
   },
   "file_extension": ".py",
   "mimetype": "text/x-python",
   "name": "python",
   "nbconvert_exporter": "python",
   "pygments_lexer": "ipython3",
   "version": "3.7.6"
  }
 },
 "nbformat": 4,
 "nbformat_minor": 2
}
