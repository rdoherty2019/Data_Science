{
 "cells": [
  {
   "cell_type": "markdown",
   "metadata": {},
   "source": [
    "## Week 13 Lecture 2\n",
    "\n",
    "Remember that we used linear regression to predict quantitative variables. We can use logistic regression to predict qualitative variables. Following an exercise about standard units, we will use logistic regression to understand some sports statistics. "
   ]
  },
  {
   "cell_type": "code",
   "execution_count": 156,
   "metadata": {},
   "outputs": [],
   "source": [
    "# import packages \n",
    "\n",
    "import numpy as np\n",
    "import pandas as pd\n",
    "\n",
    "import matplotlib.pyplot as plt\n",
    "import seaborn as sns\n",
    "\n",
    "from sklearn.linear_model import LinearRegression, Lasso, Ridge\n",
    "from scipy.optimize import minimize\n",
    "\n",
    "from helper_functions import *\n",
    "\n",
    "# change settings\n",
    "\n",
    "pd.set_option('display.max_rows', 10)\n",
    "pd.set_option('display.max_columns', 8)\n",
    "\n",
    "%matplotlib inline\n",
    "plt.rcParams['figure.figsize'] = (10, 8)\n",
    "\n",
    "# import for configuration\n",
    "\n",
    "from IPython.display import Image"
   ]
  },
  {
   "cell_type": "markdown",
   "metadata": {},
   "source": [
    "### Exercise (Standard Units)\n",
    "\n",
    "Suppose we have the following table."
   ]
  },
  {
   "cell_type": "code",
   "execution_count": 157,
   "metadata": {},
   "outputs": [
    {
     "data": {
      "text/html": [
       "<div>\n",
       "<style scoped>\n",
       "    .dataframe tbody tr th:only-of-type {\n",
       "        vertical-align: middle;\n",
       "    }\n",
       "\n",
       "    .dataframe tbody tr th {\n",
       "        vertical-align: top;\n",
       "    }\n",
       "\n",
       "    .dataframe thead th {\n",
       "        text-align: right;\n",
       "    }\n",
       "</style>\n",
       "<table border=\"1\" class=\"dataframe\">\n",
       "  <thead>\n",
       "    <tr style=\"text-align: right;\">\n",
       "      <th></th>\n",
       "      <th>Explanatory Variable Small</th>\n",
       "      <th>Explanatory Variable Large</th>\n",
       "      <th>Response Variable</th>\n",
       "    </tr>\n",
       "  </thead>\n",
       "  <tbody>\n",
       "    <tr>\n",
       "      <th>0</th>\n",
       "      <td>0.6</td>\n",
       "      <td>100</td>\n",
       "      <td>32.468</td>\n",
       "    </tr>\n",
       "    <tr>\n",
       "      <th>1</th>\n",
       "      <td>0.4</td>\n",
       "      <td>492</td>\n",
       "      <td>27.600</td>\n",
       "    </tr>\n",
       "    <tr>\n",
       "      <th>2</th>\n",
       "      <td>0.8</td>\n",
       "      <td>540</td>\n",
       "      <td>48.984</td>\n",
       "    </tr>\n",
       "    <tr>\n",
       "      <th>3</th>\n",
       "      <td>0.7</td>\n",
       "      <td>386</td>\n",
       "      <td>41.650</td>\n",
       "    </tr>\n",
       "    <tr>\n",
       "      <th>4</th>\n",
       "      <td>0.2</td>\n",
       "      <td>106</td>\n",
       "      <td>11.840</td>\n",
       "    </tr>\n",
       "    <tr>\n",
       "      <th>...</th>\n",
       "      <td>...</td>\n",
       "      <td>...</td>\n",
       "      <td>...</td>\n",
       "    </tr>\n",
       "    <tr>\n",
       "      <th>995</th>\n",
       "      <td>0.4</td>\n",
       "      <td>561</td>\n",
       "      <td>28.566</td>\n",
       "    </tr>\n",
       "    <tr>\n",
       "      <th>996</th>\n",
       "      <td>0.1</td>\n",
       "      <td>568</td>\n",
       "      <td>13.130</td>\n",
       "    </tr>\n",
       "    <tr>\n",
       "      <th>997</th>\n",
       "      <td>0.5</td>\n",
       "      <td>857</td>\n",
       "      <td>37.888</td>\n",
       "    </tr>\n",
       "    <tr>\n",
       "      <th>998</th>\n",
       "      <td>0.8</td>\n",
       "      <td>799</td>\n",
       "      <td>52.610</td>\n",
       "    </tr>\n",
       "    <tr>\n",
       "      <th>999</th>\n",
       "      <td>0.2</td>\n",
       "      <td>745</td>\n",
       "      <td>20.786</td>\n",
       "    </tr>\n",
       "  </tbody>\n",
       "</table>\n",
       "<p>1000 rows × 3 columns</p>\n",
       "</div>"
      ],
      "text/plain": [
       "     Explanatory Variable Small  Explanatory Variable Large  Response Variable\n",
       "0                           0.6                         100             32.468\n",
       "1                           0.4                         492             27.600\n",
       "2                           0.8                         540             48.984\n",
       "3                           0.7                         386             41.650\n",
       "4                           0.2                         106             11.840\n",
       "..                          ...                         ...                ...\n",
       "995                         0.4                         561             28.566\n",
       "996                         0.1                         568             13.130\n",
       "997                         0.5                         857             37.888\n",
       "998                         0.8                         799             52.610\n",
       "999                         0.2                         745             20.786\n",
       "\n",
       "[1000 rows x 3 columns]"
      ]
     },
     "execution_count": 157,
     "metadata": {},
     "output_type": "execute_result"
    }
   ],
   "source": [
    "table = pd.DataFrame(data = {\n",
    "    \"Explanatory Variable Small\" : np.random.randint(0,9, 1000) / 10,\n",
    "    \"Explanatory Variable Large\" : np.random.randint(100,999, 1000)\n",
    "})\n",
    "table[\"Response Variable\"] = np.dot(table, np.array([51.78, 0.014]))\n",
    "\n",
    "table"
   ]
  },
  {
   "cell_type": "markdown",
   "metadata": {},
   "source": [
    "Here we have 1000 records with 3 features. The relationship between features is \n",
    "\n",
    "$$\\text{Response Variable} = 51.78 * \\text{Explanatory Variable Small} + 0.014 * \\text{Explanatory Variable Large}$$\n",
    "\n",
    "Note that the features have different scales. \n",
    "\n",
    " Varaible | Order of Magnitude \n",
    " --- | ---\n",
    " `Responses Variable` | $10^1$\n",
    " `Explanatory Variable Small` | $10^{-1}$\n",
    " `Explanatory Variable Large` | $10^{2}$\n",
    "\n",
    "We can try to infer the slopes 51.78 and 0.014 with a linear model\n",
    "\n",
    "$$\\text{Response Variable} = w_0 * \\text{Explanatory Variable Small} + w_1 * \\text{Explanatory Variable Large}$$\n",
    "\n",
    "We expect $w_0 * \\text{Explanatory Variable Small}$ and $w_1 * \\text{Explanatory Variable Large}$ to have approximately the order of magnitude of $\\text{Response Variable}$. So \n",
    "\n",
    " Varaible | Order of Magnitude \n",
    " --- | ---\n",
    "$w_0$ | at least $10^1$\n",
    "$w_1$ | at most $10^{-1}$\n",
    "\n",
    "So the large features should have small slopes and the small features should have large slopes. "
   ]
  },
  {
   "cell_type": "code",
   "execution_count": 3,
   "metadata": {},
   "outputs": [
    {
     "data": {
      "text/plain": [
       "array([5.178e+01, 1.400e-02])"
      ]
     },
     "execution_count": 3,
     "metadata": {},
     "output_type": "execute_result"
    }
   ],
   "source": [
    "linear_model = LinearRegression(fit_intercept=False)\n",
    "linear_model.fit(table.drop(columns = [\"Response Variable\"]), table[\"Response Variable\"])\n",
    "linear_model.coef_"
   ]
  },
  {
   "cell_type": "markdown",
   "metadata": {},
   "source": [
    "Using the scikit-learn package we have obtained 5.17 and 0.014 for the slopes. However, if we try either Ridge Regression or Lasso Regression, then we obtain different slopes. "
   ]
  },
  {
   "cell_type": "code",
   "execution_count": 4,
   "metadata": {},
   "outputs": [
    {
     "data": {
      "image/png": "[encoded data removed]",
      "text/plain": [
       "<Figure size 432x288 with 1 Axes>"
      ]
     },
     "metadata": {
      "needs_background": "light"
     },
     "output_type": "display_data"
    }
   ],
   "source": [
    "plot_lasso_models(table)"
   ]
  },
  {
   "cell_type": "code",
   "execution_count": 5,
   "metadata": {},
   "outputs": [
    {
     "data": {
      "image/png": "[encoded data removed]",
      "text/plain": [
       "<Figure size 432x288 with 1 Axes>"
      ]
     },
     "metadata": {
      "needs_background": "light"
     },
     "output_type": "display_data"
    }
   ],
   "source": [
    "plot_ridge_models(table)"
   ]
  },
  {
   "cell_type": "markdown",
   "metadata": {},
   "source": [
    "Remember that Ridge Regression and Lasso Regression try to shrink large parameters. Since the slope for `Explanatory Variable Small` is larger than the slope for `Exaplanatory Variable Small`, the slope for `Explanatory Variable Small` changes much more than `Explanatory Variable Small`. \n",
    "\n",
    "When we use regularization in a model, we should transform features to standard units to avoid differences between scales.  "
   ]
  },
  {
   "cell_type": "code",
   "execution_count": 7,
   "metadata": {},
   "outputs": [
    {
     "data": {
      "text/html": [
       "<div>\n",
       "<style scoped>\n",
       "    .dataframe tbody tr th:only-of-type {\n",
       "        vertical-align: middle;\n",
       "    }\n",
       "\n",
       "    .dataframe tbody tr th {\n",
       "        vertical-align: top;\n",
       "    }\n",
       "\n",
       "    .dataframe thead th {\n",
       "        text-align: right;\n",
       "    }\n",
       "</style>\n",
       "<table border=\"1\" class=\"dataframe\">\n",
       "  <thead>\n",
       "    <tr style=\"text-align: right;\">\n",
       "      <th></th>\n",
       "      <th>Explanatory Variable Small</th>\n",
       "      <th>Explanatory Variable Large</th>\n",
       "      <th>Response Variable</th>\n",
       "    </tr>\n",
       "  </thead>\n",
       "  <tbody>\n",
       "    <tr>\n",
       "      <th>0</th>\n",
       "      <td>-1.566880</td>\n",
       "      <td>0.346042</td>\n",
       "      <td>-1.427841</td>\n",
       "    </tr>\n",
       "    <tr>\n",
       "      <th>1</th>\n",
       "      <td>-1.174768</td>\n",
       "      <td>0.548572</td>\n",
       "      <td>-0.994219</td>\n",
       "    </tr>\n",
       "    <tr>\n",
       "      <th>2</th>\n",
       "      <td>1.177905</td>\n",
       "      <td>-0.635450</td>\n",
       "      <td>0.974333</td>\n",
       "    </tr>\n",
       "    <tr>\n",
       "      <th>3</th>\n",
       "      <td>1.570017</td>\n",
       "      <td>0.525204</td>\n",
       "      <td>1.660815</td>\n",
       "    </tr>\n",
       "    <tr>\n",
       "      <th>4</th>\n",
       "      <td>0.393681</td>\n",
       "      <td>-0.323865</td>\n",
       "      <td>0.296220</td>\n",
       "    </tr>\n",
       "    <tr>\n",
       "      <th>...</th>\n",
       "      <td>...</td>\n",
       "      <td>...</td>\n",
       "      <td>...</td>\n",
       "    </tr>\n",
       "    <tr>\n",
       "      <th>995</th>\n",
       "      <td>-0.782656</td>\n",
       "      <td>-1.367675</td>\n",
       "      <td>-1.119768</td>\n",
       "    </tr>\n",
       "    <tr>\n",
       "      <th>996</th>\n",
       "      <td>-1.566880</td>\n",
       "      <td>1.592382</td>\n",
       "      <td>-1.098917</td>\n",
       "    </tr>\n",
       "    <tr>\n",
       "      <th>997</th>\n",
       "      <td>0.785793</td>\n",
       "      <td>0.708260</td>\n",
       "      <td>0.948782</td>\n",
       "    </tr>\n",
       "    <tr>\n",
       "      <th>998</th>\n",
       "      <td>-0.782656</td>\n",
       "      <td>-1.581889</td>\n",
       "      <td>-1.176302</td>\n",
       "    </tr>\n",
       "    <tr>\n",
       "      <th>999</th>\n",
       "      <td>1.570017</td>\n",
       "      <td>-0.670503</td>\n",
       "      <td>1.345253</td>\n",
       "    </tr>\n",
       "  </tbody>\n",
       "</table>\n",
       "<p>1000 rows × 3 columns</p>\n",
       "</div>"
      ],
      "text/plain": [
       "     Explanatory Variable Small  Explanatory Variable Large  Response Variable\n",
       "0                     -1.566880                    0.346042          -1.427841\n",
       "1                     -1.174768                    0.548572          -0.994219\n",
       "2                      1.177905                   -0.635450           0.974333\n",
       "3                      1.570017                    0.525204           1.660815\n",
       "4                      0.393681                   -0.323865           0.296220\n",
       "..                          ...                         ...                ...\n",
       "995                   -0.782656                   -1.367675          -1.119768\n",
       "996                   -1.566880                    1.592382          -1.098917\n",
       "997                    0.785793                    0.708260           0.948782\n",
       "998                   -0.782656                   -1.581889          -1.176302\n",
       "999                    1.570017                   -0.670503           1.345253\n",
       "\n",
       "[1000 rows x 3 columns]"
      ]
     },
     "execution_count": 7,
     "metadata": {},
     "output_type": "execute_result"
    }
   ],
   "source": [
    "def transform_to_standard_unit(array):\n",
    "    return (array - np.mean(array)) / np.std(array) \n",
    "\n",
    "table_standard_units = table.apply(transform_to_standard_unit)\n",
    "table_standard_units"
   ]
  },
  {
   "cell_type": "markdown",
   "metadata": {},
   "source": [
    "Now regularization affects both explanatory variables in the same way."
   ]
  },
  {
   "cell_type": "code",
   "execution_count": 8,
   "metadata": {},
   "outputs": [
    {
     "data": {
      "image/png": "[encoded data removed]",
      "text/plain": [
       "<Figure size 432x288 with 1 Axes>"
      ]
     },
     "metadata": {
      "needs_background": "light"
     },
     "output_type": "display_data"
    }
   ],
   "source": [
    "plot_ridge_models(table_standard_units)"
   ]
  },
  {
   "cell_type": "code",
   "execution_count": 9,
   "metadata": {},
   "outputs": [
    {
     "data": {
      "image/png": "[encoded data removed]",
      "text/plain": [
       "<Figure size 432x288 with 1 Axes>"
      ]
     },
     "metadata": {
      "needs_background": "light"
     },
     "output_type": "display_data"
    }
   ],
   "source": [
    "plot_lasso_models(table_standard_units)"
   ]
  },
  {
   "cell_type": "markdown",
   "metadata": {},
   "source": [
    "### Example (Binned Regression)"
   ]
  },
  {
   "cell_type": "markdown",
   "metadata": {},
   "source": [
    "We will use a dataset about the National Basketball Association."
   ]
  },
  {
   "cell_type": "code",
   "execution_count": 30,
   "metadata": {},
   "outputs": [
    {
     "data": {
      "text/html": [
       "<div>\n",
       "<style scoped>\n",
       "    .dataframe tbody tr th:only-of-type {\n",
       "        vertical-align: middle;\n",
       "    }\n",
       "\n",
       "    .dataframe tbody tr th {\n",
       "        vertical-align: top;\n",
       "    }\n",
       "\n",
       "    .dataframe thead th {\n",
       "        text-align: right;\n",
       "    }\n",
       "</style>\n",
       "<table border=\"1\" class=\"dataframe\">\n",
       "  <thead>\n",
       "    <tr style=\"text-align: right;\">\n",
       "      <th></th>\n",
       "      <th>TEAM_NAME</th>\n",
       "      <th>GAME_ID</th>\n",
       "      <th>GAME_DATE</th>\n",
       "      <th>MATCHUP</th>\n",
       "      <th>FGM</th>\n",
       "      <th>FGA</th>\n",
       "      <th>FG_PCT</th>\n",
       "      <th>WON</th>\n",
       "    </tr>\n",
       "  </thead>\n",
       "  <tbody>\n",
       "    <tr>\n",
       "      <th>0</th>\n",
       "      <td>Golden State Warriors</td>\n",
       "      <td>21800002</td>\n",
       "      <td>2018-10-16</td>\n",
       "      <td>GSW vs. OKC</td>\n",
       "      <td>42</td>\n",
       "      <td>95</td>\n",
       "      <td>0.442</td>\n",
       "      <td>1</td>\n",
       "    </tr>\n",
       "    <tr>\n",
       "      <th>1</th>\n",
       "      <td>Oklahoma City Thunder</td>\n",
       "      <td>21800002</td>\n",
       "      <td>2018-10-16</td>\n",
       "      <td>OKC @ GSW</td>\n",
       "      <td>33</td>\n",
       "      <td>91</td>\n",
       "      <td>0.363</td>\n",
       "      <td>0</td>\n",
       "    </tr>\n",
       "    <tr>\n",
       "      <th>2</th>\n",
       "      <td>Philadelphia 76ers</td>\n",
       "      <td>21800001</td>\n",
       "      <td>2018-10-16</td>\n",
       "      <td>PHI @ BOS</td>\n",
       "      <td>34</td>\n",
       "      <td>87</td>\n",
       "      <td>0.391</td>\n",
       "      <td>0</td>\n",
       "    </tr>\n",
       "    <tr>\n",
       "      <th>3</th>\n",
       "      <td>Boston Celtics</td>\n",
       "      <td>21800001</td>\n",
       "      <td>2018-10-16</td>\n",
       "      <td>BOS vs. PHI</td>\n",
       "      <td>42</td>\n",
       "      <td>97</td>\n",
       "      <td>0.433</td>\n",
       "      <td>1</td>\n",
       "    </tr>\n",
       "    <tr>\n",
       "      <th>4</th>\n",
       "      <td>Minnesota Timberwolves</td>\n",
       "      <td>21800010</td>\n",
       "      <td>2018-10-17</td>\n",
       "      <td>MIN @ SAS</td>\n",
       "      <td>39</td>\n",
       "      <td>91</td>\n",
       "      <td>0.429</td>\n",
       "      <td>0</td>\n",
       "    </tr>\n",
       "    <tr>\n",
       "      <th>...</th>\n",
       "      <td>...</td>\n",
       "      <td>...</td>\n",
       "      <td>...</td>\n",
       "      <td>...</td>\n",
       "      <td>...</td>\n",
       "      <td>...</td>\n",
       "      <td>...</td>\n",
       "      <td>...</td>\n",
       "    </tr>\n",
       "    <tr>\n",
       "      <th>2455</th>\n",
       "      <td>Denver Nuggets</td>\n",
       "      <td>21801228</td>\n",
       "      <td>2019-04-10</td>\n",
       "      <td>DEN vs. MIN</td>\n",
       "      <td>39</td>\n",
       "      <td>87</td>\n",
       "      <td>0.448</td>\n",
       "      <td>1</td>\n",
       "    </tr>\n",
       "    <tr>\n",
       "      <th>2456</th>\n",
       "      <td>Orlando Magic</td>\n",
       "      <td>21801222</td>\n",
       "      <td>2019-04-10</td>\n",
       "      <td>ORL @ CHA</td>\n",
       "      <td>48</td>\n",
       "      <td>88</td>\n",
       "      <td>0.545</td>\n",
       "      <td>1</td>\n",
       "    </tr>\n",
       "    <tr>\n",
       "      <th>2457</th>\n",
       "      <td>Charlotte Hornets</td>\n",
       "      <td>21801222</td>\n",
       "      <td>2019-04-10</td>\n",
       "      <td>CHA vs. ORL</td>\n",
       "      <td>41</td>\n",
       "      <td>78</td>\n",
       "      <td>0.526</td>\n",
       "      <td>0</td>\n",
       "    </tr>\n",
       "    <tr>\n",
       "      <th>2458</th>\n",
       "      <td>Memphis Grizzlies</td>\n",
       "      <td>21801225</td>\n",
       "      <td>2019-04-10</td>\n",
       "      <td>MEM vs. GSW</td>\n",
       "      <td>48</td>\n",
       "      <td>98</td>\n",
       "      <td>0.490</td>\n",
       "      <td>1</td>\n",
       "    </tr>\n",
       "    <tr>\n",
       "      <th>2459</th>\n",
       "      <td>Golden State Warriors</td>\n",
       "      <td>21801225</td>\n",
       "      <td>2019-04-10</td>\n",
       "      <td>GSW @ MEM</td>\n",
       "      <td>46</td>\n",
       "      <td>92</td>\n",
       "      <td>0.500</td>\n",
       "      <td>0</td>\n",
       "    </tr>\n",
       "  </tbody>\n",
       "</table>\n",
       "<p>2460 rows × 8 columns</p>\n",
       "</div>"
      ],
      "text/plain": [
       "                   TEAM_NAME   GAME_ID   GAME_DATE      MATCHUP  FGM  FGA  \\\n",
       "0      Golden State Warriors  21800002  2018-10-16  GSW vs. OKC   42   95   \n",
       "1      Oklahoma City Thunder  21800002  2018-10-16    OKC @ GSW   33   91   \n",
       "2         Philadelphia 76ers  21800001  2018-10-16    PHI @ BOS   34   87   \n",
       "3             Boston Celtics  21800001  2018-10-16  BOS vs. PHI   42   97   \n",
       "4     Minnesota Timberwolves  21800010  2018-10-17    MIN @ SAS   39   91   \n",
       "...                      ...       ...         ...          ...  ...  ...   \n",
       "2455          Denver Nuggets  21801228  2019-04-10  DEN vs. MIN   39   87   \n",
       "2456           Orlando Magic  21801222  2019-04-10    ORL @ CHA   48   88   \n",
       "2457       Charlotte Hornets  21801222  2019-04-10  CHA vs. ORL   41   78   \n",
       "2458       Memphis Grizzlies  21801225  2019-04-10  MEM vs. GSW   48   98   \n",
       "2459   Golden State Warriors  21801225  2019-04-10    GSW @ MEM   46   92   \n",
       "\n",
       "      FG_PCT  WON  \n",
       "0      0.442    1  \n",
       "1      0.363    0  \n",
       "2      0.391    0  \n",
       "3      0.433    1  \n",
       "4      0.429    0  \n",
       "...      ...  ...  \n",
       "2455   0.448    1  \n",
       "2456   0.545    1  \n",
       "2457   0.526    0  \n",
       "2458   0.490    1  \n",
       "2459   0.500    0  \n",
       "\n",
       "[2460 rows x 8 columns]"
      ]
     },
     "execution_count": 30,
     "metadata": {},
     "output_type": "execute_result"
    }
   ],
   "source": [
    "nba = pd.read_csv(\"nba.csv\")\n",
    "nba "
   ]
  },
  {
   "cell_type": "markdown",
   "metadata": {},
   "source": [
    "Note that in the `WON` column 1 indicates a win and 0 indicates a loss. Note that the `FG_PCT` column calculates \n",
    "\n",
    "$$\\displaystyle \\frac{Shots Scored}{Shots Attempted}$$\n",
    "\n",
    "So `FC_PCT` measures the accuracy of players' shots."
   ]
  },
  {
   "cell_type": "code",
   "execution_count": 32,
   "metadata": {},
   "outputs": [
    {
     "data": {
      "image/png": "[encoded data removed]",
      "text/plain": [
       "<Figure size 432x432 with 3 Axes>"
      ]
     },
     "metadata": {
      "needs_background": "light"
     },
     "output_type": "display_data"
    }
   ],
   "source": [
    "sns.jointplot(data = nba, x = \"FG_PCT\", y = \"WON\", kind = \"reg\", y_jitter = 0.1, ci = 0);"
   ]
  },
  {
   "cell_type": "markdown",
   "metadata": {},
   "source": [
    "We find that linear regression cannot capture the pattern in the data because we lack a linear shape. Before we try a transformation to bend the line, we should modify the explanatory variable `FG_PCT`. Instead of the accuracy of players' shots, we should compute the relative accuracy of players' shots between the two teams. Note that games are labeled by `GAME_ID`."
   ]
  },
  {
   "cell_type": "code",
   "execution_count": 159,
   "metadata": {},
   "outputs": [
    {
     "data": {
      "text/plain": [
       "GAME_ID\n",
       "21800001    2\n",
       "21800002    2\n",
       "21800003    2\n",
       "21800004    2\n",
       "21800005    2\n",
       "           ..\n",
       "21801226    2\n",
       "21801227    2\n",
       "21801228    2\n",
       "21801229    2\n",
       "21801230    2\n",
       "Length: 1230, dtype: int64"
      ]
     },
     "execution_count": 159,
     "metadata": {},
     "output_type": "execute_result"
    }
   ],
   "source": [
    "nba.groupby(\"GAME_ID\").size()"
   ]
  },
  {
   "cell_type": "code",
   "execution_count": null,
   "metadata": {},
   "outputs": [],
   "source": [
    "for game_id, subframe in nba.groupby(\"GAME_ID\"):\n",
    "    print(game_id)\n",
    "    print(subframe)"
   ]
  },
  {
   "cell_type": "markdown",
   "metadata": {},
   "source": [
    "So we should split the first and second entries for each number in the `GAME_ID` column. "
   ]
  },
  {
   "cell_type": "code",
   "execution_count": 163,
   "metadata": {},
   "outputs": [
    {
     "data": {
      "text/html": [
       "<div>\n",
       "<style scoped>\n",
       "    .dataframe tbody tr th:only-of-type {\n",
       "        vertical-align: middle;\n",
       "    }\n",
       "\n",
       "    .dataframe tbody tr th {\n",
       "        vertical-align: top;\n",
       "    }\n",
       "\n",
       "    .dataframe thead th {\n",
       "        text-align: right;\n",
       "    }\n",
       "</style>\n",
       "<table border=\"1\" class=\"dataframe\">\n",
       "  <thead>\n",
       "    <tr style=\"text-align: right;\">\n",
       "      <th></th>\n",
       "      <th>GAME_ID</th>\n",
       "      <th>TEAM_NAME</th>\n",
       "      <th>FG_PCT</th>\n",
       "      <th>WON</th>\n",
       "    </tr>\n",
       "  </thead>\n",
       "  <tbody>\n",
       "    <tr>\n",
       "      <th>0</th>\n",
       "      <td>21800002</td>\n",
       "      <td>Golden State Warriors</td>\n",
       "      <td>0.442</td>\n",
       "      <td>1</td>\n",
       "    </tr>\n",
       "    <tr>\n",
       "      <th>2</th>\n",
       "      <td>21800001</td>\n",
       "      <td>Philadelphia 76ers</td>\n",
       "      <td>0.391</td>\n",
       "      <td>0</td>\n",
       "    </tr>\n",
       "    <tr>\n",
       "      <th>4</th>\n",
       "      <td>21800010</td>\n",
       "      <td>Minnesota Timberwolves</td>\n",
       "      <td>0.429</td>\n",
       "      <td>0</td>\n",
       "    </tr>\n",
       "    <tr>\n",
       "      <th>6</th>\n",
       "      <td>21800007</td>\n",
       "      <td>New York Knicks</td>\n",
       "      <td>0.455</td>\n",
       "      <td>1</td>\n",
       "    </tr>\n",
       "    <tr>\n",
       "      <th>8</th>\n",
       "      <td>21800013</td>\n",
       "      <td>Dallas Mavericks</td>\n",
       "      <td>0.432</td>\n",
       "      <td>0</td>\n",
       "    </tr>\n",
       "    <tr>\n",
       "      <th>...</th>\n",
       "      <td>...</td>\n",
       "      <td>...</td>\n",
       "      <td>...</td>\n",
       "      <td>...</td>\n",
       "    </tr>\n",
       "    <tr>\n",
       "      <th>2450</th>\n",
       "      <td>21801220</td>\n",
       "      <td>Atlanta Hawks</td>\n",
       "      <td>0.417</td>\n",
       "      <td>0</td>\n",
       "    </tr>\n",
       "    <tr>\n",
       "      <th>2452</th>\n",
       "      <td>21801226</td>\n",
       "      <td>Milwaukee Bucks</td>\n",
       "      <td>0.430</td>\n",
       "      <td>0</td>\n",
       "    </tr>\n",
       "    <tr>\n",
       "      <th>2454</th>\n",
       "      <td>21801228</td>\n",
       "      <td>Minnesota Timberwolves</td>\n",
       "      <td>0.429</td>\n",
       "      <td>0</td>\n",
       "    </tr>\n",
       "    <tr>\n",
       "      <th>2456</th>\n",
       "      <td>21801222</td>\n",
       "      <td>Orlando Magic</td>\n",
       "      <td>0.545</td>\n",
       "      <td>1</td>\n",
       "    </tr>\n",
       "    <tr>\n",
       "      <th>2458</th>\n",
       "      <td>21801225</td>\n",
       "      <td>Memphis Grizzlies</td>\n",
       "      <td>0.490</td>\n",
       "      <td>1</td>\n",
       "    </tr>\n",
       "  </tbody>\n",
       "</table>\n",
       "<p>1230 rows × 4 columns</p>\n",
       "</div>"
      ],
      "text/plain": [
       "       GAME_ID               TEAM_NAME  FG_PCT  WON\n",
       "0     21800002   Golden State Warriors   0.442    1\n",
       "2     21800001      Philadelphia 76ers   0.391    0\n",
       "4     21800010  Minnesota Timberwolves   0.429    0\n",
       "6     21800007         New York Knicks   0.455    1\n",
       "8     21800013        Dallas Mavericks   0.432    0\n",
       "...        ...                     ...     ...  ...\n",
       "2450  21801220           Atlanta Hawks   0.417    0\n",
       "2452  21801226         Milwaukee Bucks   0.430    0\n",
       "2454  21801228  Minnesota Timberwolves   0.429    0\n",
       "2456  21801222           Orlando Magic   0.545    1\n",
       "2458  21801225       Memphis Grizzlies   0.490    1\n",
       "\n",
       "[1230 rows x 4 columns]"
      ]
     },
     "execution_count": 163,
     "metadata": {},
     "output_type": "execute_result"
    }
   ],
   "source": [
    "first_team = nba.groupby(\"GAME_ID\").head(1)\n",
    "first_team = first_team[[\"GAME_ID\", \"TEAM_NAME\", \"FG_PCT\", \"WON\"]]\n",
    "first_team"
   ]
  },
  {
   "cell_type": "code",
   "execution_count": 164,
   "metadata": {},
   "outputs": [
    {
     "data": {
      "text/html": [
       "<div>\n",
       "<style scoped>\n",
       "    .dataframe tbody tr th:only-of-type {\n",
       "        vertical-align: middle;\n",
       "    }\n",
       "\n",
       "    .dataframe tbody tr th {\n",
       "        vertical-align: top;\n",
       "    }\n",
       "\n",
       "    .dataframe thead th {\n",
       "        text-align: right;\n",
       "    }\n",
       "</style>\n",
       "<table border=\"1\" class=\"dataframe\">\n",
       "  <thead>\n",
       "    <tr style=\"text-align: right;\">\n",
       "      <th></th>\n",
       "      <th>GAME_ID</th>\n",
       "      <th>TEAM_NAME</th>\n",
       "      <th>FG_PCT</th>\n",
       "      <th>WON</th>\n",
       "    </tr>\n",
       "  </thead>\n",
       "  <tbody>\n",
       "    <tr>\n",
       "      <th>1</th>\n",
       "      <td>21800002</td>\n",
       "      <td>Oklahoma City Thunder</td>\n",
       "      <td>0.363</td>\n",
       "      <td>0</td>\n",
       "    </tr>\n",
       "    <tr>\n",
       "      <th>3</th>\n",
       "      <td>21800001</td>\n",
       "      <td>Boston Celtics</td>\n",
       "      <td>0.433</td>\n",
       "      <td>1</td>\n",
       "    </tr>\n",
       "    <tr>\n",
       "      <th>5</th>\n",
       "      <td>21800010</td>\n",
       "      <td>San Antonio Spurs</td>\n",
       "      <td>0.430</td>\n",
       "      <td>1</td>\n",
       "    </tr>\n",
       "    <tr>\n",
       "      <th>7</th>\n",
       "      <td>21800007</td>\n",
       "      <td>Atlanta Hawks</td>\n",
       "      <td>0.456</td>\n",
       "      <td>0</td>\n",
       "    </tr>\n",
       "    <tr>\n",
       "      <th>9</th>\n",
       "      <td>21800013</td>\n",
       "      <td>Phoenix Suns</td>\n",
       "      <td>0.543</td>\n",
       "      <td>1</td>\n",
       "    </tr>\n",
       "    <tr>\n",
       "      <th>...</th>\n",
       "      <td>...</td>\n",
       "      <td>...</td>\n",
       "      <td>...</td>\n",
       "      <td>...</td>\n",
       "    </tr>\n",
       "    <tr>\n",
       "      <th>2451</th>\n",
       "      <td>21801220</td>\n",
       "      <td>Indiana Pacers</td>\n",
       "      <td>0.459</td>\n",
       "      <td>1</td>\n",
       "    </tr>\n",
       "    <tr>\n",
       "      <th>2453</th>\n",
       "      <td>21801226</td>\n",
       "      <td>Oklahoma City Thunder</td>\n",
       "      <td>0.485</td>\n",
       "      <td>1</td>\n",
       "    </tr>\n",
       "    <tr>\n",
       "      <th>2455</th>\n",
       "      <td>21801228</td>\n",
       "      <td>Denver Nuggets</td>\n",
       "      <td>0.448</td>\n",
       "      <td>1</td>\n",
       "    </tr>\n",
       "    <tr>\n",
       "      <th>2457</th>\n",
       "      <td>21801222</td>\n",
       "      <td>Charlotte Hornets</td>\n",
       "      <td>0.526</td>\n",
       "      <td>0</td>\n",
       "    </tr>\n",
       "    <tr>\n",
       "      <th>2459</th>\n",
       "      <td>21801225</td>\n",
       "      <td>Golden State Warriors</td>\n",
       "      <td>0.500</td>\n",
       "      <td>0</td>\n",
       "    </tr>\n",
       "  </tbody>\n",
       "</table>\n",
       "<p>1230 rows × 4 columns</p>\n",
       "</div>"
      ],
      "text/plain": [
       "       GAME_ID              TEAM_NAME  FG_PCT  WON\n",
       "1     21800002  Oklahoma City Thunder   0.363    0\n",
       "3     21800001         Boston Celtics   0.433    1\n",
       "5     21800010      San Antonio Spurs   0.430    1\n",
       "7     21800007          Atlanta Hawks   0.456    0\n",
       "9     21800013           Phoenix Suns   0.543    1\n",
       "...        ...                    ...     ...  ...\n",
       "2451  21801220         Indiana Pacers   0.459    1\n",
       "2453  21801226  Oklahoma City Thunder   0.485    1\n",
       "2455  21801228         Denver Nuggets   0.448    1\n",
       "2457  21801222      Charlotte Hornets   0.526    0\n",
       "2459  21801225  Golden State Warriors   0.500    0\n",
       "\n",
       "[1230 rows x 4 columns]"
      ]
     },
     "execution_count": 164,
     "metadata": {},
     "output_type": "execute_result"
    }
   ],
   "source": [
    "second_team = nba.groupby(\"GAME_ID\").tail(1)\n",
    "second_team = second_team[[\"GAME_ID\", \"TEAM_NAME\", \"FG_PCT\", \"WON\"]]\n",
    "second_team"
   ]
  },
  {
   "cell_type": "markdown",
   "metadata": {},
   "source": [
    "Now we can take an inner join to match the two teams for each game."
   ]
  },
  {
   "cell_type": "code",
   "execution_count": 165,
   "metadata": {},
   "outputs": [
    {
     "data": {
      "text/html": [
       "<div>\n",
       "<style scoped>\n",
       "    .dataframe tbody tr th:only-of-type {\n",
       "        vertical-align: middle;\n",
       "    }\n",
       "\n",
       "    .dataframe tbody tr th {\n",
       "        vertical-align: top;\n",
       "    }\n",
       "\n",
       "    .dataframe thead th {\n",
       "        text-align: right;\n",
       "    }\n",
       "</style>\n",
       "<table border=\"1\" class=\"dataframe\">\n",
       "  <thead>\n",
       "    <tr style=\"text-align: right;\">\n",
       "      <th></th>\n",
       "      <th>GAME_ID</th>\n",
       "      <th>TEAM_NAME_FIRST</th>\n",
       "      <th>FG_PCT_FIRST</th>\n",
       "      <th>WON_FIRST</th>\n",
       "      <th>TEAM_NAME_SECOND</th>\n",
       "      <th>FG_PCT_SECOND</th>\n",
       "      <th>WON_SECOND</th>\n",
       "    </tr>\n",
       "  </thead>\n",
       "  <tbody>\n",
       "    <tr>\n",
       "      <th>0</th>\n",
       "      <td>21800002</td>\n",
       "      <td>Golden State Warriors</td>\n",
       "      <td>0.442</td>\n",
       "      <td>1</td>\n",
       "      <td>Oklahoma City Thunder</td>\n",
       "      <td>0.363</td>\n",
       "      <td>0</td>\n",
       "    </tr>\n",
       "    <tr>\n",
       "      <th>1</th>\n",
       "      <td>21800001</td>\n",
       "      <td>Philadelphia 76ers</td>\n",
       "      <td>0.391</td>\n",
       "      <td>0</td>\n",
       "      <td>Boston Celtics</td>\n",
       "      <td>0.433</td>\n",
       "      <td>1</td>\n",
       "    </tr>\n",
       "    <tr>\n",
       "      <th>2</th>\n",
       "      <td>21800010</td>\n",
       "      <td>Minnesota Timberwolves</td>\n",
       "      <td>0.429</td>\n",
       "      <td>0</td>\n",
       "      <td>San Antonio Spurs</td>\n",
       "      <td>0.430</td>\n",
       "      <td>1</td>\n",
       "    </tr>\n",
       "    <tr>\n",
       "      <th>3</th>\n",
       "      <td>21800007</td>\n",
       "      <td>New York Knicks</td>\n",
       "      <td>0.455</td>\n",
       "      <td>1</td>\n",
       "      <td>Atlanta Hawks</td>\n",
       "      <td>0.456</td>\n",
       "      <td>0</td>\n",
       "    </tr>\n",
       "    <tr>\n",
       "      <th>4</th>\n",
       "      <td>21800013</td>\n",
       "      <td>Dallas Mavericks</td>\n",
       "      <td>0.432</td>\n",
       "      <td>0</td>\n",
       "      <td>Phoenix Suns</td>\n",
       "      <td>0.543</td>\n",
       "      <td>1</td>\n",
       "    </tr>\n",
       "    <tr>\n",
       "      <th>...</th>\n",
       "      <td>...</td>\n",
       "      <td>...</td>\n",
       "      <td>...</td>\n",
       "      <td>...</td>\n",
       "      <td>...</td>\n",
       "      <td>...</td>\n",
       "      <td>...</td>\n",
       "    </tr>\n",
       "    <tr>\n",
       "      <th>1225</th>\n",
       "      <td>21801220</td>\n",
       "      <td>Atlanta Hawks</td>\n",
       "      <td>0.417</td>\n",
       "      <td>0</td>\n",
       "      <td>Indiana Pacers</td>\n",
       "      <td>0.459</td>\n",
       "      <td>1</td>\n",
       "    </tr>\n",
       "    <tr>\n",
       "      <th>1226</th>\n",
       "      <td>21801226</td>\n",
       "      <td>Milwaukee Bucks</td>\n",
       "      <td>0.430</td>\n",
       "      <td>0</td>\n",
       "      <td>Oklahoma City Thunder</td>\n",
       "      <td>0.485</td>\n",
       "      <td>1</td>\n",
       "    </tr>\n",
       "    <tr>\n",
       "      <th>1227</th>\n",
       "      <td>21801228</td>\n",
       "      <td>Minnesota Timberwolves</td>\n",
       "      <td>0.429</td>\n",
       "      <td>0</td>\n",
       "      <td>Denver Nuggets</td>\n",
       "      <td>0.448</td>\n",
       "      <td>1</td>\n",
       "    </tr>\n",
       "    <tr>\n",
       "      <th>1228</th>\n",
       "      <td>21801222</td>\n",
       "      <td>Orlando Magic</td>\n",
       "      <td>0.545</td>\n",
       "      <td>1</td>\n",
       "      <td>Charlotte Hornets</td>\n",
       "      <td>0.526</td>\n",
       "      <td>0</td>\n",
       "    </tr>\n",
       "    <tr>\n",
       "      <th>1229</th>\n",
       "      <td>21801225</td>\n",
       "      <td>Memphis Grizzlies</td>\n",
       "      <td>0.490</td>\n",
       "      <td>1</td>\n",
       "      <td>Golden State Warriors</td>\n",
       "      <td>0.500</td>\n",
       "      <td>0</td>\n",
       "    </tr>\n",
       "  </tbody>\n",
       "</table>\n",
       "<p>1230 rows × 7 columns</p>\n",
       "</div>"
      ],
      "text/plain": [
       "       GAME_ID         TEAM_NAME_FIRST  FG_PCT_FIRST  WON_FIRST  \\\n",
       "0     21800002   Golden State Warriors         0.442          1   \n",
       "1     21800001      Philadelphia 76ers         0.391          0   \n",
       "2     21800010  Minnesota Timberwolves         0.429          0   \n",
       "3     21800007         New York Knicks         0.455          1   \n",
       "4     21800013        Dallas Mavericks         0.432          0   \n",
       "...        ...                     ...           ...        ...   \n",
       "1225  21801220           Atlanta Hawks         0.417          0   \n",
       "1226  21801226         Milwaukee Bucks         0.430          0   \n",
       "1227  21801228  Minnesota Timberwolves         0.429          0   \n",
       "1228  21801222           Orlando Magic         0.545          1   \n",
       "1229  21801225       Memphis Grizzlies         0.490          1   \n",
       "\n",
       "           TEAM_NAME_SECOND  FG_PCT_SECOND  WON_SECOND  \n",
       "0     Oklahoma City Thunder          0.363           0  \n",
       "1            Boston Celtics          0.433           1  \n",
       "2         San Antonio Spurs          0.430           1  \n",
       "3             Atlanta Hawks          0.456           0  \n",
       "4              Phoenix Suns          0.543           1  \n",
       "...                     ...            ...         ...  \n",
       "1225         Indiana Pacers          0.459           1  \n",
       "1226  Oklahoma City Thunder          0.485           1  \n",
       "1227         Denver Nuggets          0.448           1  \n",
       "1228      Charlotte Hornets          0.526           0  \n",
       "1229  Golden State Warriors          0.500           0  \n",
       "\n",
       "[1230 rows x 7 columns]"
      ]
     },
     "execution_count": 165,
     "metadata": {},
     "output_type": "execute_result"
    }
   ],
   "source": [
    "games = pd.merge(left = first_team, right = second_team, left_on = \"GAME_ID\", right_on = \"GAME_ID\",\n",
    "                suffixes = [\"_FIRST\", \"_SECOND\"])\n",
    "games"
   ]
  },
  {
   "cell_type": "markdown",
   "metadata": {},
   "source": [
    "With both teams, we can compute the relative accuracy of shots as the difference of `FG_PCT`."
   ]
  },
  {
   "cell_type": "code",
   "execution_count": 166,
   "metadata": {},
   "outputs": [
    {
     "data": {
      "text/html": [
       "<div>\n",
       "<style scoped>\n",
       "    .dataframe tbody tr th:only-of-type {\n",
       "        vertical-align: middle;\n",
       "    }\n",
       "\n",
       "    .dataframe tbody tr th {\n",
       "        vertical-align: top;\n",
       "    }\n",
       "\n",
       "    .dataframe thead th {\n",
       "        text-align: right;\n",
       "    }\n",
       "</style>\n",
       "<table border=\"1\" class=\"dataframe\">\n",
       "  <thead>\n",
       "    <tr style=\"text-align: right;\">\n",
       "      <th></th>\n",
       "      <th>GAME_ID</th>\n",
       "      <th>TEAM_NAME_FIRST</th>\n",
       "      <th>FG_PCT_FIRST</th>\n",
       "      <th>WON_FIRST</th>\n",
       "      <th>TEAM_NAME_SECOND</th>\n",
       "      <th>FG_PCT_SECOND</th>\n",
       "      <th>WON_SECOND</th>\n",
       "      <th>FG_PCT_DIFF</th>\n",
       "    </tr>\n",
       "  </thead>\n",
       "  <tbody>\n",
       "    <tr>\n",
       "      <th>0</th>\n",
       "      <td>21800002</td>\n",
       "      <td>Golden State Warriors</td>\n",
       "      <td>0.442</td>\n",
       "      <td>1</td>\n",
       "      <td>Oklahoma City Thunder</td>\n",
       "      <td>0.363</td>\n",
       "      <td>0</td>\n",
       "      <td>0.079</td>\n",
       "    </tr>\n",
       "    <tr>\n",
       "      <th>1</th>\n",
       "      <td>21800001</td>\n",
       "      <td>Philadelphia 76ers</td>\n",
       "      <td>0.391</td>\n",
       "      <td>0</td>\n",
       "      <td>Boston Celtics</td>\n",
       "      <td>0.433</td>\n",
       "      <td>1</td>\n",
       "      <td>-0.042</td>\n",
       "    </tr>\n",
       "    <tr>\n",
       "      <th>2</th>\n",
       "      <td>21800010</td>\n",
       "      <td>Minnesota Timberwolves</td>\n",
       "      <td>0.429</td>\n",
       "      <td>0</td>\n",
       "      <td>San Antonio Spurs</td>\n",
       "      <td>0.430</td>\n",
       "      <td>1</td>\n",
       "      <td>-0.001</td>\n",
       "    </tr>\n",
       "    <tr>\n",
       "      <th>3</th>\n",
       "      <td>21800007</td>\n",
       "      <td>New York Knicks</td>\n",
       "      <td>0.455</td>\n",
       "      <td>1</td>\n",
       "      <td>Atlanta Hawks</td>\n",
       "      <td>0.456</td>\n",
       "      <td>0</td>\n",
       "      <td>-0.001</td>\n",
       "    </tr>\n",
       "    <tr>\n",
       "      <th>4</th>\n",
       "      <td>21800013</td>\n",
       "      <td>Dallas Mavericks</td>\n",
       "      <td>0.432</td>\n",
       "      <td>0</td>\n",
       "      <td>Phoenix Suns</td>\n",
       "      <td>0.543</td>\n",
       "      <td>1</td>\n",
       "      <td>-0.111</td>\n",
       "    </tr>\n",
       "    <tr>\n",
       "      <th>...</th>\n",
       "      <td>...</td>\n",
       "      <td>...</td>\n",
       "      <td>...</td>\n",
       "      <td>...</td>\n",
       "      <td>...</td>\n",
       "      <td>...</td>\n",
       "      <td>...</td>\n",
       "      <td>...</td>\n",
       "    </tr>\n",
       "    <tr>\n",
       "      <th>1225</th>\n",
       "      <td>21801220</td>\n",
       "      <td>Atlanta Hawks</td>\n",
       "      <td>0.417</td>\n",
       "      <td>0</td>\n",
       "      <td>Indiana Pacers</td>\n",
       "      <td>0.459</td>\n",
       "      <td>1</td>\n",
       "      <td>-0.042</td>\n",
       "    </tr>\n",
       "    <tr>\n",
       "      <th>1226</th>\n",
       "      <td>21801226</td>\n",
       "      <td>Milwaukee Bucks</td>\n",
       "      <td>0.430</td>\n",
       "      <td>0</td>\n",
       "      <td>Oklahoma City Thunder</td>\n",
       "      <td>0.485</td>\n",
       "      <td>1</td>\n",
       "      <td>-0.055</td>\n",
       "    </tr>\n",
       "    <tr>\n",
       "      <th>1227</th>\n",
       "      <td>21801228</td>\n",
       "      <td>Minnesota Timberwolves</td>\n",
       "      <td>0.429</td>\n",
       "      <td>0</td>\n",
       "      <td>Denver Nuggets</td>\n",
       "      <td>0.448</td>\n",
       "      <td>1</td>\n",
       "      <td>-0.019</td>\n",
       "    </tr>\n",
       "    <tr>\n",
       "      <th>1228</th>\n",
       "      <td>21801222</td>\n",
       "      <td>Orlando Magic</td>\n",
       "      <td>0.545</td>\n",
       "      <td>1</td>\n",
       "      <td>Charlotte Hornets</td>\n",
       "      <td>0.526</td>\n",
       "      <td>0</td>\n",
       "      <td>0.019</td>\n",
       "    </tr>\n",
       "    <tr>\n",
       "      <th>1229</th>\n",
       "      <td>21801225</td>\n",
       "      <td>Memphis Grizzlies</td>\n",
       "      <td>0.490</td>\n",
       "      <td>1</td>\n",
       "      <td>Golden State Warriors</td>\n",
       "      <td>0.500</td>\n",
       "      <td>0</td>\n",
       "      <td>-0.010</td>\n",
       "    </tr>\n",
       "  </tbody>\n",
       "</table>\n",
       "<p>1230 rows × 8 columns</p>\n",
       "</div>"
      ],
      "text/plain": [
       "       GAME_ID         TEAM_NAME_FIRST  FG_PCT_FIRST  WON_FIRST  \\\n",
       "0     21800002   Golden State Warriors         0.442          1   \n",
       "1     21800001      Philadelphia 76ers         0.391          0   \n",
       "2     21800010  Minnesota Timberwolves         0.429          0   \n",
       "3     21800007         New York Knicks         0.455          1   \n",
       "4     21800013        Dallas Mavericks         0.432          0   \n",
       "...        ...                     ...           ...        ...   \n",
       "1225  21801220           Atlanta Hawks         0.417          0   \n",
       "1226  21801226         Milwaukee Bucks         0.430          0   \n",
       "1227  21801228  Minnesota Timberwolves         0.429          0   \n",
       "1228  21801222           Orlando Magic         0.545          1   \n",
       "1229  21801225       Memphis Grizzlies         0.490          1   \n",
       "\n",
       "           TEAM_NAME_SECOND  FG_PCT_SECOND  WON_SECOND  FG_PCT_DIFF  \n",
       "0     Oklahoma City Thunder          0.363           0        0.079  \n",
       "1            Boston Celtics          0.433           1       -0.042  \n",
       "2         San Antonio Spurs          0.430           1       -0.001  \n",
       "3             Atlanta Hawks          0.456           0       -0.001  \n",
       "4              Phoenix Suns          0.543           1       -0.111  \n",
       "...                     ...            ...         ...          ...  \n",
       "1225         Indiana Pacers          0.459           1       -0.042  \n",
       "1226  Oklahoma City Thunder          0.485           1       -0.055  \n",
       "1227         Denver Nuggets          0.448           1       -0.019  \n",
       "1228      Charlotte Hornets          0.526           0        0.019  \n",
       "1229  Golden State Warriors          0.500           0       -0.010  \n",
       "\n",
       "[1230 rows x 8 columns]"
      ]
     },
     "execution_count": 166,
     "metadata": {},
     "output_type": "execute_result"
    }
   ],
   "source": [
    "games[\"FG_PCT_DIFF\"] = games[\"FG_PCT_FIRST\"] - games[\"FG_PCT_SECOND\"]\n",
    "games"
   ]
  },
  {
   "cell_type": "markdown",
   "metadata": {},
   "source": [
    "We the new feature `FG_PCT_DIFF` we find some separation between wins anad losses"
   ]
  },
  {
   "cell_type": "code",
   "execution_count": 168,
   "metadata": {},
   "outputs": [
    {
     "data": {
      "image/png": "[encoded data removed]",
      "text/plain": [
       "<Figure size 432x432 with 3 Axes>"
      ]
     },
     "metadata": {
      "needs_background": "light"
     },
     "output_type": "display_data"
    }
   ],
   "source": [
    "sns.jointplot(data = games, x = \"FG_PCT_DIFF\", y = \"WON_FIRST\", kind=\"reg\", y_jitter = 0.1, ci = 0);"
   ]
  },
  {
   "cell_type": "markdown",
   "metadata": {},
   "source": [
    "Remember from the study of crab shells that we can group together rows of the tables to summarize with statistics like the median and mean.  "
   ]
  },
  {
   "cell_type": "code",
   "execution_count": 170,
   "metadata": {},
   "outputs": [
    {
     "data": {
      "text/html": [
       "<div>\n",
       "<style scoped>\n",
       "    .dataframe tbody tr th:only-of-type {\n",
       "        vertical-align: middle;\n",
       "    }\n",
       "\n",
       "    .dataframe tbody tr th {\n",
       "        vertical-align: top;\n",
       "    }\n",
       "\n",
       "    .dataframe thead th {\n",
       "        text-align: right;\n",
       "    }\n",
       "</style>\n",
       "<table border=\"1\" class=\"dataframe\">\n",
       "  <thead>\n",
       "    <tr style=\"text-align: right;\">\n",
       "      <th></th>\n",
       "      <th>GAME_ID</th>\n",
       "      <th>TEAM_NAME_FIRST</th>\n",
       "      <th>FG_PCT_FIRST</th>\n",
       "      <th>WON_FIRST</th>\n",
       "      <th>...</th>\n",
       "      <th>FG_PCT_SECOND</th>\n",
       "      <th>WON_SECOND</th>\n",
       "      <th>FG_PCT_DIFF</th>\n",
       "      <th>bin</th>\n",
       "    </tr>\n",
       "  </thead>\n",
       "  <tbody>\n",
       "    <tr>\n",
       "      <th>0</th>\n",
       "      <td>21800002</td>\n",
       "      <td>Golden State Warriors</td>\n",
       "      <td>0.442</td>\n",
       "      <td>1</td>\n",
       "      <td>...</td>\n",
       "      <td>0.363</td>\n",
       "      <td>0</td>\n",
       "      <td>0.079</td>\n",
       "      <td>(0.0656, 0.0918]</td>\n",
       "    </tr>\n",
       "    <tr>\n",
       "      <th>1</th>\n",
       "      <td>21800001</td>\n",
       "      <td>Philadelphia 76ers</td>\n",
       "      <td>0.391</td>\n",
       "      <td>0</td>\n",
       "      <td>...</td>\n",
       "      <td>0.433</td>\n",
       "      <td>1</td>\n",
       "      <td>-0.042</td>\n",
       "      <td>(-0.0654, -0.0392]</td>\n",
       "    </tr>\n",
       "    <tr>\n",
       "      <th>2</th>\n",
       "      <td>21800010</td>\n",
       "      <td>Minnesota Timberwolves</td>\n",
       "      <td>0.429</td>\n",
       "      <td>0</td>\n",
       "      <td>...</td>\n",
       "      <td>0.430</td>\n",
       "      <td>1</td>\n",
       "      <td>-0.001</td>\n",
       "      <td>(-0.013, 0.0132]</td>\n",
       "    </tr>\n",
       "    <tr>\n",
       "      <th>3</th>\n",
       "      <td>21800007</td>\n",
       "      <td>New York Knicks</td>\n",
       "      <td>0.455</td>\n",
       "      <td>1</td>\n",
       "      <td>...</td>\n",
       "      <td>0.456</td>\n",
       "      <td>0</td>\n",
       "      <td>-0.001</td>\n",
       "      <td>(-0.013, 0.0132]</td>\n",
       "    </tr>\n",
       "    <tr>\n",
       "      <th>4</th>\n",
       "      <td>21800013</td>\n",
       "      <td>Dallas Mavericks</td>\n",
       "      <td>0.432</td>\n",
       "      <td>0</td>\n",
       "      <td>...</td>\n",
       "      <td>0.543</td>\n",
       "      <td>1</td>\n",
       "      <td>-0.111</td>\n",
       "      <td>(-0.118, -0.0916]</td>\n",
       "    </tr>\n",
       "    <tr>\n",
       "      <th>...</th>\n",
       "      <td>...</td>\n",
       "      <td>...</td>\n",
       "      <td>...</td>\n",
       "      <td>...</td>\n",
       "      <td>...</td>\n",
       "      <td>...</td>\n",
       "      <td>...</td>\n",
       "      <td>...</td>\n",
       "      <td>...</td>\n",
       "    </tr>\n",
       "    <tr>\n",
       "      <th>1225</th>\n",
       "      <td>21801220</td>\n",
       "      <td>Atlanta Hawks</td>\n",
       "      <td>0.417</td>\n",
       "      <td>0</td>\n",
       "      <td>...</td>\n",
       "      <td>0.459</td>\n",
       "      <td>1</td>\n",
       "      <td>-0.042</td>\n",
       "      <td>(-0.0654, -0.0392]</td>\n",
       "    </tr>\n",
       "    <tr>\n",
       "      <th>1226</th>\n",
       "      <td>21801226</td>\n",
       "      <td>Milwaukee Bucks</td>\n",
       "      <td>0.430</td>\n",
       "      <td>0</td>\n",
       "      <td>...</td>\n",
       "      <td>0.485</td>\n",
       "      <td>1</td>\n",
       "      <td>-0.055</td>\n",
       "      <td>(-0.0654, -0.0392]</td>\n",
       "    </tr>\n",
       "    <tr>\n",
       "      <th>1227</th>\n",
       "      <td>21801228</td>\n",
       "      <td>Minnesota Timberwolves</td>\n",
       "      <td>0.429</td>\n",
       "      <td>0</td>\n",
       "      <td>...</td>\n",
       "      <td>0.448</td>\n",
       "      <td>1</td>\n",
       "      <td>-0.019</td>\n",
       "      <td>(-0.0392, -0.013]</td>\n",
       "    </tr>\n",
       "    <tr>\n",
       "      <th>1228</th>\n",
       "      <td>21801222</td>\n",
       "      <td>Orlando Magic</td>\n",
       "      <td>0.545</td>\n",
       "      <td>1</td>\n",
       "      <td>...</td>\n",
       "      <td>0.526</td>\n",
       "      <td>0</td>\n",
       "      <td>0.019</td>\n",
       "      <td>(0.0132, 0.0394]</td>\n",
       "    </tr>\n",
       "    <tr>\n",
       "      <th>1229</th>\n",
       "      <td>21801225</td>\n",
       "      <td>Memphis Grizzlies</td>\n",
       "      <td>0.490</td>\n",
       "      <td>1</td>\n",
       "      <td>...</td>\n",
       "      <td>0.500</td>\n",
       "      <td>0</td>\n",
       "      <td>-0.010</td>\n",
       "      <td>(-0.013, 0.0132]</td>\n",
       "    </tr>\n",
       "  </tbody>\n",
       "</table>\n",
       "<p>1230 rows × 9 columns</p>\n",
       "</div>"
      ],
      "text/plain": [
       "       GAME_ID         TEAM_NAME_FIRST  FG_PCT_FIRST  WON_FIRST  ...  \\\n",
       "0     21800002   Golden State Warriors         0.442          1  ...   \n",
       "1     21800001      Philadelphia 76ers         0.391          0  ...   \n",
       "2     21800010  Minnesota Timberwolves         0.429          0  ...   \n",
       "3     21800007         New York Knicks         0.455          1  ...   \n",
       "4     21800013        Dallas Mavericks         0.432          0  ...   \n",
       "...        ...                     ...           ...        ...  ...   \n",
       "1225  21801220           Atlanta Hawks         0.417          0  ...   \n",
       "1226  21801226         Milwaukee Bucks         0.430          0  ...   \n",
       "1227  21801228  Minnesota Timberwolves         0.429          0  ...   \n",
       "1228  21801222           Orlando Magic         0.545          1  ...   \n",
       "1229  21801225       Memphis Grizzlies         0.490          1  ...   \n",
       "\n",
       "     FG_PCT_SECOND  WON_SECOND  FG_PCT_DIFF                 bin  \n",
       "0            0.363           0        0.079    (0.0656, 0.0918]  \n",
       "1            0.433           1       -0.042  (-0.0654, -0.0392]  \n",
       "2            0.430           1       -0.001    (-0.013, 0.0132]  \n",
       "3            0.456           0       -0.001    (-0.013, 0.0132]  \n",
       "4            0.543           1       -0.111   (-0.118, -0.0916]  \n",
       "...            ...         ...          ...                 ...  \n",
       "1225         0.459           1       -0.042  (-0.0654, -0.0392]  \n",
       "1226         0.485           1       -0.055  (-0.0654, -0.0392]  \n",
       "1227         0.448           1       -0.019   (-0.0392, -0.013]  \n",
       "1228         0.526           0        0.019    (0.0132, 0.0394]  \n",
       "1229         0.500           0       -0.010    (-0.013, 0.0132]  \n",
       "\n",
       "[1230 rows x 9 columns]"
      ]
     },
     "execution_count": 170,
     "metadata": {},
     "output_type": "execute_result"
    }
   ],
   "source": [
    "bins = pd.cut(games[\"FG_PCT_DIFF\"], 20)\n",
    "games[\"bin\"] = bins\n",
    "games"
   ]
  },
  {
   "cell_type": "markdown",
   "metadata": {},
   "source": [
    "The `cut` function allows use to break up the numbers in `FG_PCT_DIFF` into ranges. We can take the median value in the range."
   ]
  },
  {
   "cell_type": "code",
   "execution_count": 174,
   "metadata": {
    "scrolled": true
   },
   "outputs": [
    {
     "data": {
      "text/html": [
       "<div>\n",
       "<style scoped>\n",
       "    .dataframe tbody tr th:only-of-type {\n",
       "        vertical-align: middle;\n",
       "    }\n",
       "\n",
       "    .dataframe tbody tr th {\n",
       "        vertical-align: top;\n",
       "    }\n",
       "\n",
       "    .dataframe thead th {\n",
       "        text-align: right;\n",
       "    }\n",
       "</style>\n",
       "<table border=\"1\" class=\"dataframe\">\n",
       "  <thead>\n",
       "    <tr style=\"text-align: right;\">\n",
       "      <th></th>\n",
       "      <th>GAME_ID</th>\n",
       "      <th>TEAM_NAME_FIRST</th>\n",
       "      <th>FG_PCT_FIRST</th>\n",
       "      <th>WON_FIRST</th>\n",
       "      <th>...</th>\n",
       "      <th>FG_PCT_SECOND</th>\n",
       "      <th>WON_SECOND</th>\n",
       "      <th>FG_PCT_DIFF</th>\n",
       "      <th>bin</th>\n",
       "    </tr>\n",
       "  </thead>\n",
       "  <tbody>\n",
       "    <tr>\n",
       "      <th>0</th>\n",
       "      <td>21800002</td>\n",
       "      <td>Golden State Warriors</td>\n",
       "      <td>0.442</td>\n",
       "      <td>1</td>\n",
       "      <td>...</td>\n",
       "      <td>0.363</td>\n",
       "      <td>0</td>\n",
       "      <td>0.079</td>\n",
       "      <td>0.0787</td>\n",
       "    </tr>\n",
       "    <tr>\n",
       "      <th>1</th>\n",
       "      <td>21800001</td>\n",
       "      <td>Philadelphia 76ers</td>\n",
       "      <td>0.391</td>\n",
       "      <td>0</td>\n",
       "      <td>...</td>\n",
       "      <td>0.433</td>\n",
       "      <td>1</td>\n",
       "      <td>-0.042</td>\n",
       "      <td>-0.0523</td>\n",
       "    </tr>\n",
       "    <tr>\n",
       "      <th>2</th>\n",
       "      <td>21800010</td>\n",
       "      <td>Minnesota Timberwolves</td>\n",
       "      <td>0.429</td>\n",
       "      <td>0</td>\n",
       "      <td>...</td>\n",
       "      <td>0.430</td>\n",
       "      <td>1</td>\n",
       "      <td>-0.001</td>\n",
       "      <td>0.0001</td>\n",
       "    </tr>\n",
       "    <tr>\n",
       "      <th>3</th>\n",
       "      <td>21800007</td>\n",
       "      <td>New York Knicks</td>\n",
       "      <td>0.455</td>\n",
       "      <td>1</td>\n",
       "      <td>...</td>\n",
       "      <td>0.456</td>\n",
       "      <td>0</td>\n",
       "      <td>-0.001</td>\n",
       "      <td>0.0001</td>\n",
       "    </tr>\n",
       "    <tr>\n",
       "      <th>4</th>\n",
       "      <td>21800013</td>\n",
       "      <td>Dallas Mavericks</td>\n",
       "      <td>0.432</td>\n",
       "      <td>0</td>\n",
       "      <td>...</td>\n",
       "      <td>0.543</td>\n",
       "      <td>1</td>\n",
       "      <td>-0.111</td>\n",
       "      <td>-0.1048</td>\n",
       "    </tr>\n",
       "    <tr>\n",
       "      <th>...</th>\n",
       "      <td>...</td>\n",
       "      <td>...</td>\n",
       "      <td>...</td>\n",
       "      <td>...</td>\n",
       "      <td>...</td>\n",
       "      <td>...</td>\n",
       "      <td>...</td>\n",
       "      <td>...</td>\n",
       "      <td>...</td>\n",
       "    </tr>\n",
       "    <tr>\n",
       "      <th>1225</th>\n",
       "      <td>21801220</td>\n",
       "      <td>Atlanta Hawks</td>\n",
       "      <td>0.417</td>\n",
       "      <td>0</td>\n",
       "      <td>...</td>\n",
       "      <td>0.459</td>\n",
       "      <td>1</td>\n",
       "      <td>-0.042</td>\n",
       "      <td>-0.0523</td>\n",
       "    </tr>\n",
       "    <tr>\n",
       "      <th>1226</th>\n",
       "      <td>21801226</td>\n",
       "      <td>Milwaukee Bucks</td>\n",
       "      <td>0.430</td>\n",
       "      <td>0</td>\n",
       "      <td>...</td>\n",
       "      <td>0.485</td>\n",
       "      <td>1</td>\n",
       "      <td>-0.055</td>\n",
       "      <td>-0.0523</td>\n",
       "    </tr>\n",
       "    <tr>\n",
       "      <th>1227</th>\n",
       "      <td>21801228</td>\n",
       "      <td>Minnesota Timberwolves</td>\n",
       "      <td>0.429</td>\n",
       "      <td>0</td>\n",
       "      <td>...</td>\n",
       "      <td>0.448</td>\n",
       "      <td>1</td>\n",
       "      <td>-0.019</td>\n",
       "      <td>-0.0261</td>\n",
       "    </tr>\n",
       "    <tr>\n",
       "      <th>1228</th>\n",
       "      <td>21801222</td>\n",
       "      <td>Orlando Magic</td>\n",
       "      <td>0.545</td>\n",
       "      <td>1</td>\n",
       "      <td>...</td>\n",
       "      <td>0.526</td>\n",
       "      <td>0</td>\n",
       "      <td>0.019</td>\n",
       "      <td>0.0263</td>\n",
       "    </tr>\n",
       "    <tr>\n",
       "      <th>1229</th>\n",
       "      <td>21801225</td>\n",
       "      <td>Memphis Grizzlies</td>\n",
       "      <td>0.490</td>\n",
       "      <td>1</td>\n",
       "      <td>...</td>\n",
       "      <td>0.500</td>\n",
       "      <td>0</td>\n",
       "      <td>-0.010</td>\n",
       "      <td>0.0001</td>\n",
       "    </tr>\n",
       "  </tbody>\n",
       "</table>\n",
       "<p>1230 rows × 9 columns</p>\n",
       "</div>"
      ],
      "text/plain": [
       "       GAME_ID         TEAM_NAME_FIRST  FG_PCT_FIRST  WON_FIRST  ...  \\\n",
       "0     21800002   Golden State Warriors         0.442          1  ...   \n",
       "1     21800001      Philadelphia 76ers         0.391          0  ...   \n",
       "2     21800010  Minnesota Timberwolves         0.429          0  ...   \n",
       "3     21800007         New York Knicks         0.455          1  ...   \n",
       "4     21800013        Dallas Mavericks         0.432          0  ...   \n",
       "...        ...                     ...           ...        ...  ...   \n",
       "1225  21801220           Atlanta Hawks         0.417          0  ...   \n",
       "1226  21801226         Milwaukee Bucks         0.430          0  ...   \n",
       "1227  21801228  Minnesota Timberwolves         0.429          0  ...   \n",
       "1228  21801222           Orlando Magic         0.545          1  ...   \n",
       "1229  21801225       Memphis Grizzlies         0.490          1  ...   \n",
       "\n",
       "     FG_PCT_SECOND  WON_SECOND  FG_PCT_DIFF     bin  \n",
       "0            0.363           0        0.079  0.0787  \n",
       "1            0.433           1       -0.042 -0.0523  \n",
       "2            0.430           1       -0.001  0.0001  \n",
       "3            0.456           0       -0.001  0.0001  \n",
       "4            0.543           1       -0.111 -0.1048  \n",
       "...            ...         ...          ...     ...  \n",
       "1225         0.459           1       -0.042 -0.0523  \n",
       "1226         0.485           1       -0.055 -0.0523  \n",
       "1227         0.448           1       -0.019 -0.0261  \n",
       "1228         0.526           0        0.019  0.0263  \n",
       "1229         0.500           0       -0.010  0.0001  \n",
       "\n",
       "[1230 rows x 9 columns]"
      ]
     },
     "execution_count": 174,
     "metadata": {},
     "output_type": "execute_result"
    }
   ],
   "source": [
    "bin_centers = [(b.left + b.right)/2 for b in bins]\n",
    "games[\"bin\"] = bin_centers\n",
    "games"
   ]
  },
  {
   "cell_type": "markdown",
   "metadata": {},
   "source": [
    "\n",
    "For each range, we want to compute the fraction of games won throughout the season. "
   ]
  },
  {
   "cell_type": "code",
   "execution_count": 175,
   "metadata": {},
   "outputs": [
    {
     "data": {
      "text/html": [
       "<div>\n",
       "<style scoped>\n",
       "    .dataframe tbody tr th:only-of-type {\n",
       "        vertical-align: middle;\n",
       "    }\n",
       "\n",
       "    .dataframe tbody tr th {\n",
       "        vertical-align: top;\n",
       "    }\n",
       "\n",
       "    .dataframe thead th {\n",
       "        text-align: right;\n",
       "    }\n",
       "</style>\n",
       "<table border=\"1\" class=\"dataframe\">\n",
       "  <thead>\n",
       "    <tr style=\"text-align: right;\">\n",
       "      <th></th>\n",
       "      <th>WON</th>\n",
       "    </tr>\n",
       "    <tr>\n",
       "      <th>TEAM_NAME</th>\n",
       "      <th></th>\n",
       "    </tr>\n",
       "  </thead>\n",
       "  <tbody>\n",
       "    <tr>\n",
       "      <th>New York Knicks</th>\n",
       "      <td>0.207317</td>\n",
       "    </tr>\n",
       "    <tr>\n",
       "      <th>Phoenix Suns</th>\n",
       "      <td>0.231707</td>\n",
       "    </tr>\n",
       "    <tr>\n",
       "      <th>Cleveland Cavaliers</th>\n",
       "      <td>0.231707</td>\n",
       "    </tr>\n",
       "    <tr>\n",
       "      <th>Chicago Bulls</th>\n",
       "      <td>0.268293</td>\n",
       "    </tr>\n",
       "    <tr>\n",
       "      <th>Atlanta Hawks</th>\n",
       "      <td>0.353659</td>\n",
       "    </tr>\n",
       "    <tr>\n",
       "      <th>...</th>\n",
       "      <td>...</td>\n",
       "    </tr>\n",
       "    <tr>\n",
       "      <th>Houston Rockets</th>\n",
       "      <td>0.646341</td>\n",
       "    </tr>\n",
       "    <tr>\n",
       "      <th>Denver Nuggets</th>\n",
       "      <td>0.658537</td>\n",
       "    </tr>\n",
       "    <tr>\n",
       "      <th>Golden State Warriors</th>\n",
       "      <td>0.695122</td>\n",
       "    </tr>\n",
       "    <tr>\n",
       "      <th>Toronto Raptors</th>\n",
       "      <td>0.707317</td>\n",
       "    </tr>\n",
       "    <tr>\n",
       "      <th>Milwaukee Bucks</th>\n",
       "      <td>0.731707</td>\n",
       "    </tr>\n",
       "  </tbody>\n",
       "</table>\n",
       "<p>30 rows × 1 columns</p>\n",
       "</div>"
      ],
      "text/plain": [
       "                            WON\n",
       "TEAM_NAME                      \n",
       "New York Knicks        0.207317\n",
       "Phoenix Suns           0.231707\n",
       "Cleveland Cavaliers    0.231707\n",
       "Chicago Bulls          0.268293\n",
       "Atlanta Hawks          0.353659\n",
       "...                         ...\n",
       "Houston Rockets        0.646341\n",
       "Denver Nuggets         0.658537\n",
       "Golden State Warriors  0.695122\n",
       "Toronto Raptors        0.707317\n",
       "Milwaukee Bucks        0.731707\n",
       "\n",
       "[30 rows x 1 columns]"
      ]
     },
     "execution_count": 175,
     "metadata": {},
     "output_type": "execute_result"
    }
   ],
   "source": [
    "# determine the fraction of wins\n",
    "\n",
    "def win_rate(win_series):\n",
    "    num_wins = sum(win_series)\n",
    "    num_played = len(win_series)\n",
    "    return num_wins / num_played\n",
    "\n",
    "# win rates by team\n",
    "\n",
    "nba.groupby(\"TEAM_NAME\").agg({\"WON\" : win_rate}).sort_values(\"WON\")"
   ]
  },
  {
   "cell_type": "markdown",
   "metadata": {},
   "source": [
    "The function `win_rate` allows us to compute the fraction of games won. For example we can compute the fraction of games won by each team or for records in each bin. "
   ]
  },
  {
   "cell_type": "code",
   "execution_count": 176,
   "metadata": {
    "scrolled": true
   },
   "outputs": [
    {
     "data": {
      "text/html": [
       "<div>\n",
       "<style scoped>\n",
       "    .dataframe tbody tr th:only-of-type {\n",
       "        vertical-align: middle;\n",
       "    }\n",
       "\n",
       "    .dataframe tbody tr th {\n",
       "        vertical-align: top;\n",
       "    }\n",
       "\n",
       "    .dataframe thead th {\n",
       "        text-align: right;\n",
       "    }\n",
       "</style>\n",
       "<table border=\"1\" class=\"dataframe\">\n",
       "  <thead>\n",
       "    <tr style=\"text-align: right;\">\n",
       "      <th></th>\n",
       "      <th>WIN_RATE</th>\n",
       "    </tr>\n",
       "    <tr>\n",
       "      <th>bin</th>\n",
       "      <th></th>\n",
       "    </tr>\n",
       "  </thead>\n",
       "  <tbody>\n",
       "    <tr>\n",
       "      <th>-0.2625</th>\n",
       "      <td>0.0</td>\n",
       "    </tr>\n",
       "    <tr>\n",
       "      <th>-0.2360</th>\n",
       "      <td>0.0</td>\n",
       "    </tr>\n",
       "    <tr>\n",
       "      <th>-0.2095</th>\n",
       "      <td>0.0</td>\n",
       "    </tr>\n",
       "    <tr>\n",
       "      <th>-0.1830</th>\n",
       "      <td>0.0</td>\n",
       "    </tr>\n",
       "    <tr>\n",
       "      <th>-0.1570</th>\n",
       "      <td>0.0</td>\n",
       "    </tr>\n",
       "    <tr>\n",
       "      <th>...</th>\n",
       "      <td>...</td>\n",
       "    </tr>\n",
       "    <tr>\n",
       "      <th>0.1310</th>\n",
       "      <td>1.0</td>\n",
       "    </tr>\n",
       "    <tr>\n",
       "      <th>0.1570</th>\n",
       "      <td>1.0</td>\n",
       "    </tr>\n",
       "    <tr>\n",
       "      <th>0.1835</th>\n",
       "      <td>1.0</td>\n",
       "    </tr>\n",
       "    <tr>\n",
       "      <th>0.2100</th>\n",
       "      <td>1.0</td>\n",
       "    </tr>\n",
       "    <tr>\n",
       "      <th>0.2360</th>\n",
       "      <td>1.0</td>\n",
       "    </tr>\n",
       "  </tbody>\n",
       "</table>\n",
       "<p>20 rows × 1 columns</p>\n",
       "</div>"
      ],
      "text/plain": [
       "         WIN_RATE\n",
       "bin              \n",
       "-0.2625       0.0\n",
       "-0.2360       0.0\n",
       "-0.2095       0.0\n",
       "-0.1830       0.0\n",
       "-0.1570       0.0\n",
       "...           ...\n",
       " 0.1310       1.0\n",
       " 0.1570       1.0\n",
       " 0.1835       1.0\n",
       " 0.2100       1.0\n",
       " 0.2360       1.0\n",
       "\n",
       "[20 rows x 1 columns]"
      ]
     },
     "execution_count": 176,
     "metadata": {},
     "output_type": "execute_result"
    }
   ],
   "source": [
    "binned_win_rates = games.groupby(\"bin\").agg({\"WON_FIRST\" : win_rate})\n",
    "binned_win_rates.rename(columns = {\"WON_FIRST\" : \"WIN_RATE\"}, inplace = True)\n",
    "binned_win_rates"
   ]
  },
  {
   "cell_type": "markdown",
   "metadata": {},
   "source": [
    "So for each bin we compute the average in the `WON_FIRST` column to determine the fraction of games won among these records."
   ]
  },
  {
   "cell_type": "code",
   "execution_count": 105,
   "metadata": {},
   "outputs": [
    {
     "data": {
      "image/png": "[encoded data removed]",
      "text/plain": [
       "<Figure size 432x432 with 3 Axes>"
      ]
     },
     "metadata": {
      "needs_background": "light"
     },
     "output_type": "display_data"
    }
   ],
   "source": [
    "sns.jointplot(data = games, x = \"FG_PCT_DIFF\", y = \"WON_FIRST\", kind=\"reg\", y_jitter = 0.1, ci = 0)\n",
    "plt.plot(binned_win_rates.index, binned_win_rates[\"WIN_RATE\"], 'r^', linewidth = 2, markersize = 7);"
   ]
  },
  {
   "cell_type": "markdown",
   "metadata": {},
   "source": [
    "Plotting the values for each bin, we obtain binned regression of the data. How can we connect these points?"
   ]
  },
  {
   "cell_type": "markdown",
   "metadata": {},
   "source": [
    "### Sigmoid Function\n",
    "\n",
    "Since we cannot use a line, we need a curve to connect the points. "
   ]
  },
  {
   "cell_type": "code",
   "execution_count": 177,
   "metadata": {},
   "outputs": [],
   "source": [
    "def sigma(t):\n",
    "    return 1 / (1 + np.exp(-t))"
   ]
  },
  {
   "cell_type": "markdown",
   "metadata": {},
   "source": [
    "The sigmoid function is an S-shaped curve\n",
    "\n",
    "$$\\sigma(t) = \\displaystyle \\frac{1}{1 + e^{-t}}$$\n",
    "\n",
    "If we use $\\sigma(w \\cdot t)$ then we can change the shape of the curve."
   ]
  },
  {
   "cell_type": "code",
   "execution_count": 189,
   "metadata": {},
   "outputs": [
    {
     "data": {
      "image/png": "[encoded data removed]",
      "text/plain": [
       "<Figure size 720x432 with 6 Axes>"
      ]
     },
     "metadata": {
      "needs_background": "light"
     },
     "output_type": "display_data"
    }
   ],
   "source": [
    "def flatten(li): \n",
    "    return [item for sub in li for item in sub]\n",
    "\n",
    "bs = [-2, -1, -0.5, 2, 1, 0.5]\n",
    "xs = np.linspace(-10, 10, 100)\n",
    "\n",
    "fig, axes = plt.subplots(2, 3, sharex=True, sharey=True, figsize=(10, 6))\n",
    "for ax, w in zip(flatten(axes), bs):\n",
    "    ys = sigma(xs * w)\n",
    "    ax.plot(xs, ys)\n",
    "    ax.set_title(r'$ w = $' + str(b))\n",
    "    ax.tick_params(axis = 'x', bottom = False, top = False, left = False, right = False)    \n"
   ]
  },
  {
   "cell_type": "markdown",
   "metadata": {},
   "source": [
    "We can try the value $w = 30$. "
   ]
  },
  {
   "cell_type": "code",
   "execution_count": 107,
   "metadata": {},
   "outputs": [
    {
     "data": {
      "image/png": "[encoded data removed]",
      "text/plain": [
       "<Figure size 432x432 with 3 Axes>"
      ]
     },
     "metadata": {
      "needs_background": "light"
     },
     "output_type": "display_data"
    }
   ],
   "source": [
    "sns.jointplot(data = games, x = \"FG_PCT_DIFF\", y = \"WON_FIRST\", kind=\"reg\", y_jitter = 0.1, ci = 0)\n",
    "plt.plot(binned_win_rates.index, binned_win_rates[\"WIN_RATE\"], 'r^', linewidth = 2, markersize = 7);\n",
    "x = np.sort(games[\"FG_PCT_DIFF\"])\n",
    "plt.plot(x, sigma(x * 30), 'r:', linewidth = 2);"
   ]
  },
  {
   "cell_type": "markdown",
   "metadata": {},
   "source": [
    "We obtain a good fit."
   ]
  },
  {
   "cell_type": "code",
   "execution_count": 108,
   "metadata": {},
   "outputs": [
    {
     "data": {
      "image/png": "[encoded data removed]",
      "text/plain": [
       "<Figure size 432x288 with 1 Axes>"
      ]
     },
     "metadata": {
      "needs_background": "light"
     },
     "output_type": "display_data"
    }
   ],
   "source": [
    "plt.plot(binned_win_rates.index, binned_win_rates[\"WIN_RATE\"], 'r^', linewidth = 2, markersize = 7);\n",
    "x = np.sort(games[\"FG_PCT_DIFF\"])\n",
    "plt.plot(x, sigma(x * 30), 'r:', linewidth = 2);"
   ]
  },
  {
   "cell_type": "code",
   "execution_count": 194,
   "metadata": {},
   "outputs": [
    {
     "data": {
      "text/html": [
       "<div>\n",
       "<style scoped>\n",
       "    .dataframe tbody tr th:only-of-type {\n",
       "        vertical-align: middle;\n",
       "    }\n",
       "\n",
       "    .dataframe tbody tr th {\n",
       "        vertical-align: top;\n",
       "    }\n",
       "\n",
       "    .dataframe thead th {\n",
       "        text-align: right;\n",
       "    }\n",
       "</style>\n",
       "<table border=\"1\" class=\"dataframe\">\n",
       "  <thead>\n",
       "    <tr style=\"text-align: right;\">\n",
       "      <th></th>\n",
       "      <th>WIN_RATE</th>\n",
       "    </tr>\n",
       "    <tr>\n",
       "      <th>bin</th>\n",
       "      <th></th>\n",
       "    </tr>\n",
       "  </thead>\n",
       "  <tbody>\n",
       "    <tr>\n",
       "      <th>0.0001</th>\n",
       "      <td>0.566667</td>\n",
       "    </tr>\n",
       "    <tr>\n",
       "      <th>0.0263</th>\n",
       "      <td>0.673333</td>\n",
       "    </tr>\n",
       "    <tr>\n",
       "      <th>0.0525</th>\n",
       "      <td>0.767442</td>\n",
       "    </tr>\n",
       "    <tr>\n",
       "      <th>0.0787</th>\n",
       "      <td>0.824074</td>\n",
       "    </tr>\n",
       "    <tr>\n",
       "      <th>0.1049</th>\n",
       "      <td>0.986667</td>\n",
       "    </tr>\n",
       "    <tr>\n",
       "      <th>0.1310</th>\n",
       "      <td>1.000000</td>\n",
       "    </tr>\n",
       "    <tr>\n",
       "      <th>0.1570</th>\n",
       "      <td>1.000000</td>\n",
       "    </tr>\n",
       "    <tr>\n",
       "      <th>0.1835</th>\n",
       "      <td>1.000000</td>\n",
       "    </tr>\n",
       "    <tr>\n",
       "      <th>0.2100</th>\n",
       "      <td>1.000000</td>\n",
       "    </tr>\n",
       "    <tr>\n",
       "      <th>0.2360</th>\n",
       "      <td>1.000000</td>\n",
       "    </tr>\n",
       "  </tbody>\n",
       "</table>\n",
       "</div>"
      ],
      "text/plain": [
       "        WIN_RATE\n",
       "bin             \n",
       "0.0001  0.566667\n",
       "0.0263  0.673333\n",
       "0.0525  0.767442\n",
       "0.0787  0.824074\n",
       "0.1049  0.986667\n",
       "0.1310  1.000000\n",
       "0.1570  1.000000\n",
       "0.1835  1.000000\n",
       "0.2100  1.000000\n",
       "0.2360  1.000000"
      ]
     },
     "execution_count": 194,
     "metadata": {},
     "output_type": "execute_result"
    }
   ],
   "source": [
    "binned_win_rates.iloc[10:, :]"
   ]
  },
  {
   "cell_type": "code",
   "execution_count": 195,
   "metadata": {},
   "outputs": [
    {
     "data": {
      "text/plain": [
       "0.23299999999999998"
      ]
     },
     "execution_count": 195,
     "metadata": {},
     "output_type": "execute_result"
    }
   ],
   "source": [
    "1 - 0.767"
   ]
  },
  {
   "cell_type": "markdown",
   "metadata": {},
   "source": [
    "Consider the bin of `FG_PCT_DIFF` with median value 0.0525. We can interpret the fraction 0.767 of wins as a probability \n",
    "\n",
    "$$P(\\text{WON_FIRST} = 1 \\; | \\; \\text{FG_PCT_DIFF} = 0.15350) = 0.767$$ \n",
    "\n",
    "By the complement rule, we have\n",
    "\n",
    "$$P(\\text{WON_FIRST} = 0 \\; | \\; \\text{FG_PCT_DIFF} = 0.15350) = 1 - 0.767 = 0.2329$$ \n",
    "\n",
    "So the odds ratio of a win is\n",
    "\n",
    "$$\\displaystyle \\frac{0.767}{0.2329}$$"
   ]
  },
  {
   "cell_type": "code",
   "execution_count": 115,
   "metadata": {
    "scrolled": true
   },
   "outputs": [
    {
     "data": {
      "text/html": [
       "<div>\n",
       "<style scoped>\n",
       "    .dataframe tbody tr th:only-of-type {\n",
       "        vertical-align: middle;\n",
       "    }\n",
       "\n",
       "    .dataframe tbody tr th {\n",
       "        vertical-align: top;\n",
       "    }\n",
       "\n",
       "    .dataframe thead th {\n",
       "        text-align: right;\n",
       "    }\n",
       "</style>\n",
       "<table border=\"1\" class=\"dataframe\">\n",
       "  <thead>\n",
       "    <tr style=\"text-align: right;\">\n",
       "      <th></th>\n",
       "      <th>WIN_RATE</th>\n",
       "    </tr>\n",
       "    <tr>\n",
       "      <th>bin</th>\n",
       "      <th></th>\n",
       "    </tr>\n",
       "  </thead>\n",
       "  <tbody>\n",
       "    <tr>\n",
       "      <th>-0.2625</th>\n",
       "      <td>0.0</td>\n",
       "    </tr>\n",
       "    <tr>\n",
       "      <th>-0.2360</th>\n",
       "      <td>0.0</td>\n",
       "    </tr>\n",
       "    <tr>\n",
       "      <th>-0.2095</th>\n",
       "      <td>0.0</td>\n",
       "    </tr>\n",
       "    <tr>\n",
       "      <th>-0.1830</th>\n",
       "      <td>0.0</td>\n",
       "    </tr>\n",
       "    <tr>\n",
       "      <th>-0.1570</th>\n",
       "      <td>0.0</td>\n",
       "    </tr>\n",
       "    <tr>\n",
       "      <th>...</th>\n",
       "      <td>...</td>\n",
       "    </tr>\n",
       "    <tr>\n",
       "      <th>0.1310</th>\n",
       "      <td>inf</td>\n",
       "    </tr>\n",
       "    <tr>\n",
       "      <th>0.1570</th>\n",
       "      <td>inf</td>\n",
       "    </tr>\n",
       "    <tr>\n",
       "      <th>0.1835</th>\n",
       "      <td>inf</td>\n",
       "    </tr>\n",
       "    <tr>\n",
       "      <th>0.2100</th>\n",
       "      <td>inf</td>\n",
       "    </tr>\n",
       "    <tr>\n",
       "      <th>0.2360</th>\n",
       "      <td>inf</td>\n",
       "    </tr>\n",
       "  </tbody>\n",
       "</table>\n",
       "<p>20 rows × 1 columns</p>\n",
       "</div>"
      ],
      "text/plain": [
       "         WIN_RATE\n",
       "bin              \n",
       "-0.2625       0.0\n",
       "-0.2360       0.0\n",
       "-0.2095       0.0\n",
       "-0.1830       0.0\n",
       "-0.1570       0.0\n",
       "...           ...\n",
       " 0.1310       inf\n",
       " 0.1570       inf\n",
       " 0.1835       inf\n",
       " 0.2100       inf\n",
       " 0.2360       inf\n",
       "\n",
       "[20 rows x 1 columns]"
      ]
     },
     "execution_count": 115,
     "metadata": {},
     "output_type": "execute_result"
    }
   ],
   "source": [
    "odds_by_bin = (binned_win_rates) / (1 - binned_win_rates)\n",
    "odds_by_bin"
   ]
  },
  {
   "cell_type": "markdown",
   "metadata": {},
   "source": [
    "We can compute the odds ratio for each bin."
   ]
  },
  {
   "cell_type": "code",
   "execution_count": 198,
   "metadata": {},
   "outputs": [
    {
     "data": {
      "image/png": "[encoded data removed]",
      "text/plain": [
       "<Figure size 720x576 with 1 Axes>"
      ]
     },
     "metadata": {
      "needs_background": "light"
     },
     "output_type": "display_data"
    }
   ],
   "source": [
    "plt.plot(odds_by_bin.iloc[6:20,:])\n",
    "plt.ylabel('odds ratio')\n",
    "plt.xlabel('x');"
   ]
  },
  {
   "cell_type": "markdown",
   "metadata": {},
   "source": [
    "While the odds ration of win to loss does not resemble a line, the logarithmic transformation does resemble a line."
   ]
  },
  {
   "cell_type": "code",
   "execution_count": 199,
   "metadata": {},
   "outputs": [
    {
     "data": {
      "image/png": "[encoded data removed]",
      "text/plain": [
       "<Figure size 720x576 with 1 Axes>"
      ]
     },
     "metadata": {
      "needs_background": "light"
     },
     "output_type": "display_data"
    }
   ],
   "source": [
    "plt.plot(np.log(odds_by_bin + 1e-10).iloc[6:20,:])\n",
    "plt.ylabel('log of the odds ration')\n",
    "plt.xlabel('x');"
   ]
  },
  {
   "cell_type": "markdown",
   "metadata": {},
   "source": [
    "What does this tell us about the sigmoid function? Suppose the slope of the line is $w$. Represent `WON_FIRST` by $Y$ and `FG_PCT_DIFF` by $X$. We have the logarithmic transformation of the odds ratio is linear\n",
    "\n",
    "$$\\log \\left( \\frac{P(Y=1|X)}{P(Y=0|X)} \\right) = w X $$\n",
    "\n",
    "If we abbreviate $P(Y=1|X)$ as $p$ and $X w$ as $t$ then:\n",
    "\n",
    "\\begin{align*}\n",
    "\\log \\left( \\frac{p}{1-p} \\right) &= t && \\text{; complement rule} \\\\[10pt]\n",
    "\\frac{p}{1-p} &= \\exp(t) && \\text{; exponentiate both sides} \\\\[10pt]\n",
    "p &= \\exp(t) - p \\exp(t) && \\text{; multiply by $1-p$} \\\\[10pt]\n",
    "p (1 + \\exp(t)) &= \\exp(t) && \\text{; add $p \\exp(t)$ and factor out $p$} \\\\[10pt]\n",
    "p &= \\frac{\\exp(t)}{1 + \\exp(t)} && \\text{; divide by $1 + \\exp(t)$} \\\\[10pt]\n",
    "p &= \\frac{1}{1 + \\exp(-t)} && \\text{; multiply by $\\frac{\\exp(-t)}{\\exp(-t)}$} \\\\[10pt]\n",
    "\\end{align*}\n",
    "\n",
    "So we have \n",
    "\n",
    "$$P(Y=1|X) = \\frac{1}{1 + \\exp(- w X)} $$\n",
    "\n",
    "The probability of a win given the relative field goal percentage between the teams is the sigmoid function. We just need to determine a value of the parameter $w$ from the data."
   ]
  },
  {
   "cell_type": "markdown",
   "metadata": {},
   "source": [
    "### Logistic Loss Function"
   ]
  },
  {
   "cell_type": "markdown",
   "metadata": {},
   "source": [
    "Above, we showed that under the assumption the logarithmic transformation of the odds ratio is a line in the variable X, the relationship between our prediction $P(Y = 1 | X)$ and $X$ should be given by:\n",
    "\n",
    "$$P(Y=1 \\; | \\; X) = \\frac{1}{1 + \\exp(-X w)} = \\sigma(X w)$$\n",
    "\n",
    "We can determine $w$ with the same approaches from linear regression. We pick a loss function and we try to minimize the average loss. We could even add a regularization term."
   ]
  },
  {
   "cell_type": "code",
   "execution_count": 201,
   "metadata": {},
   "outputs": [],
   "source": [
    "def mse_loss_single_arg(w):\n",
    "    x = games[\"FG_PCT_DIFF\"]\n",
    "    y_obs = games[\"WON_FIRST\"]\n",
    "    y_hat = sigma(x * w)\n",
    "    return np.mean((y_obs - y_hat)**2)"
   ]
  },
  {
   "cell_type": "markdown",
   "metadata": {},
   "source": [
    "We could try the square loss. So each choice of $w$ would determine a mean square error. "
   ]
  },
  {
   "cell_type": "code",
   "execution_count": 204,
   "metadata": {
    "scrolled": true
   },
   "outputs": [
    {
     "data": {
      "image/png": "[encoded data removed]",
      "text/plain": [
       "<Figure size 720x576 with 1 Axes>"
      ]
     },
     "metadata": {
      "needs_background": "light"
     },
     "output_type": "display_data"
    }
   ],
   "source": [
    "w_values = np.linspace(-100, 100, 100)\n",
    "plt.plot(w_values, [mse_loss_single_arg(w) for w in w_values])\n",
    "plt.ylabel('mse')\n",
    "plt.xlabel(r'$w$');"
   ]
  },
  {
   "cell_type": "markdown",
   "metadata": {},
   "source": [
    "We can use the `minimize` function in the scipy package to find the minimum value."
   ]
  },
  {
   "cell_type": "code",
   "execution_count": 205,
   "metadata": {},
   "outputs": [
    {
     "data": {
      "text/plain": [
       "array([27.51848698])"
      ]
     },
     "execution_count": 205,
     "metadata": {},
     "output_type": "execute_result"
    }
   ],
   "source": [
    "minimize(mse_loss_single_arg, x0 = 0).x"
   ]
  },
  {
   "cell_type": "markdown",
   "metadata": {},
   "source": [
    "Note that we have a somewhat flat region for large values of $w$. For other datasets we could have a flatter function."
   ]
  },
  {
   "cell_type": "code",
   "execution_count": 210,
   "metadata": {
    "scrolled": true
   },
   "outputs": [
    {
     "data": {
      "image/png": "[encoded data removed]",
      "text/plain": [
       "<Figure size 720x576 with 1 Axes>"
      ]
     },
     "metadata": {
      "needs_background": "light"
     },
     "output_type": "display_data"
    }
   ],
   "source": [
    "example_table = pd.DataFrame({\n",
    "    'X': [-5, -4, -3, -2, -1, 1, 2, 3, 4, 5],\n",
    "    'Y': [ 0,  0,  0,  0,  1, 0, 1, 1, 1, 1]\n",
    "})\n",
    "plt.scatter(example_table['X'], example_table['Y'])\n",
    "plt.plot(toy['X'], sigma(example_table['X'] * 0.63255911));"
   ]
  },
  {
   "cell_type": "markdown",
   "metadata": {},
   "source": [
    "With square loss the mean square error as a function of $w$ can be very flat."
   ]
  },
  {
   "cell_type": "code",
   "execution_count": 211,
   "metadata": {},
   "outputs": [],
   "source": [
    "def mse_loss_single_arg_example(w):\n",
    "    x = example_table['X']\n",
    "    y_obs = example_table['Y']\n",
    "    y_hat = sigma(w * x)\n",
    "    return np.mean((y_hat - y_obs) ** 2)    "
   ]
  },
  {
   "cell_type": "code",
   "execution_count": 212,
   "metadata": {
    "scrolled": false
   },
   "outputs": [
    {
     "data": {
      "image/png": "[encoded data removed]",
      "text/plain": [
       "<Figure size 720x576 with 1 Axes>"
      ]
     },
     "metadata": {
      "needs_background": "light"
     },
     "output_type": "display_data"
    }
   ],
   "source": [
    "w_values = np.linspace(-10, 10, 100)\n",
    "plt.plot(w_values, [mse_loss_single_arg_example(w) for w in w_values])\n",
    "plt.ylabel('MSE')\n",
    "plt.xlabel(r'$w$');"
   ]
  },
  {
   "cell_type": "markdown",
   "metadata": {},
   "source": [
    "We would have trouble with gradient descent because the guesses would get stuck in the flat region where the derivative is 0. An alternate loss function often used for logistic regression is the logisitic loss.\n",
    "\n",
    "$$\\text{loss} = -y \\log(\\hat{y}) - (1-y)\\log(1-\\hat{y})$$"
   ]
  },
  {
   "cell_type": "markdown",
   "metadata": {},
   "source": [
    "Here $y$ is the observed value and $\\hat{y}$ is the predicted value. In our case, since y is always either 0 or 1, we can also write the logistic loss as:"
   ]
  },
  {
   "cell_type": "markdown",
   "metadata": {},
   "source": [
    "$$\\textrm{loss} = \\begin{cases}\n",
    "-\\log(1 - \\hat{y}) & y = 0 \\\\\n",
    "-\\log(\\hat{y}) & y = 1\n",
    "\\end{cases}$$"
   ]
  },
  {
   "cell_type": "markdown",
   "metadata": {},
   "source": [
    "These two formulations are exactly identical. Even though the second is more clear conceptually, we will tend to use the first one for consistency. To get some intuition for what this loss function means, consider the plot below of the case where $y = 1$."
   ]
  },
  {
   "cell_type": "code",
   "execution_count": 214,
   "metadata": {},
   "outputs": [
    {
     "data": {
      "image/png": "[encoded data removed]",
      "text/plain": [
       "<Figure size 720x576 with 1 Axes>"
      ]
     },
     "metadata": {
      "needs_background": "light"
     },
     "output_type": "display_data"
    }
   ],
   "source": [
    "y_hat = np.arange(0.001, 0.999, 0.01)\n",
    "loss = -np.log(y_hat)\n",
    "plt.plot(y_hat, loss, color='b')\n",
    "plt.xlabel('$\\hat{y}$: Predicted Chance of Correct Class')\n",
    "plt.ylabel('$-\\log(\\hat{y})$')\n",
    "plt.title('Logistic Loss for for $y=1$');"
   ]
  },
  {
   "cell_type": "code",
   "execution_count": 70,
   "metadata": {},
   "outputs": [
    {
     "data": {
      "text/plain": [
       "2.995732273553991"
      ]
     },
     "execution_count": 70,
     "metadata": {},
     "output_type": "execute_result"
    }
   ],
   "source": [
    "-np.log(0.05)"
   ]
  },
  {
   "cell_type": "markdown",
   "metadata": {},
   "source": [
    "How should we understand the chart? \n",
    "\n",
    "Suppose the observation $y$ we're trying to predict equals 1. \n",
    "\n",
    "- If the predicted value $\\hat{y}$ is 0.8, then the loss $-\\operatorname{log}(\\hat{y})$ is small around 0.25. \n",
    "- If the predicted value $\\hat{y}$ is 0.4, then the loss $-\\operatorname{log}(\\hat{y})$ is larger around 1. \n",
    "- If the predicted value $\\hat{y}$ is only 0.05, then the loss $-\\operatorname{log}(\\hat{y})$ is larger around 3. \n",
    "- And if we give a 0.0 probability of the value 1, then loss is infinite.\n",
    "\n",
    "So we learn that logistic loss strongly penalizes bad predictions. Let's try plotting the average logistic loss on our NBA data example. "
   ]
  },
  {
   "cell_type": "code",
   "execution_count": 215,
   "metadata": {},
   "outputs": [],
   "source": [
    "def logistic_loss(y, y_hat):\n",
    "    return -y * np.log(y_hat) - (1-y) * np.log(1-y_hat)\n",
    "\n",
    "def logistic_loss_single_arg(w):\n",
    "    x = games[\"FG_PCT_DIFF\"]\n",
    "    y_obs = games[\"WON_FIRST\"]\n",
    "    y_hat = sigma(w * x)\n",
    "    return np.mean(cross_entropy_loss(y_obs, y_hat))"
   ]
  },
  {
   "cell_type": "code",
   "execution_count": 217,
   "metadata": {},
   "outputs": [
    {
     "data": {
      "image/png": "[encoded data removed]",
      "text/plain": [
       "<Figure size 720x576 with 1 Axes>"
      ]
     },
     "metadata": {
      "needs_background": "light"
     },
     "output_type": "display_data"
    }
   ],
   "source": [
    "w_values = np.linspace(-50, 50, 100)\n",
    "plt.plot(w_values, [logistic_loss_single_arg(w) for w in w_values])\n",
    "plt.ylabel('Logistic Loss')\n",
    "plt.xlabel(r'$w$');"
   ]
  },
  {
   "cell_type": "markdown",
   "metadata": {},
   "source": [
    "The logistic loss function is convex meaning it bends upwards from its minimum value. In particular, we do not have flat regions where gradient descent gets stuck."
   ]
  },
  {
   "cell_type": "code",
   "execution_count": 153,
   "metadata": {
    "scrolled": false
   },
   "outputs": [
    {
     "data": {
      "text/plain": [
       "array([27.91536894])"
      ]
     },
     "execution_count": 153,
     "metadata": {},
     "output_type": "execute_result"
    }
   ],
   "source": [
    "minimize(cross_entropy_loss_single_arg, x0 = 0).x"
   ]
  },
  {
   "cell_type": "markdown",
   "metadata": {},
   "source": [
    "We learn that the value for the parameter $w$ should be 27.9"
   ]
  },
  {
   "cell_type": "code",
   "execution_count": 218,
   "metadata": {},
   "outputs": [
    {
     "data": {
      "image/png": "[encoded data removed]",
      "text/plain": [
       "<Figure size 432x432 with 3 Axes>"
      ]
     },
     "metadata": {
      "needs_background": "light"
     },
     "output_type": "display_data"
    }
   ],
   "source": [
    "sns.jointplot(data = games, x = \"FG_PCT_DIFF\", y = \"WON_FIRST\", kind=\"reg\", y_jitter = 0.1, ci = 0)\n",
    "x = np.sort(games[\"FG_PCT_DIFF\"])\n",
    "plt.plot(x, sigma(x * 27.91536894), 'r', linewidth = 3);"
   ]
  }
 ],
 "metadata": {
  "kernelspec": {
   "display_name": "Python 3",
   "language": "python",
   "name": "python3"
  },
  "language_info": {
   "codemirror_mode": {
    "name": "ipython",
    "version": 3
   },
   "file_extension": ".py",
   "mimetype": "text/x-python",
   "name": "python",
   "nbconvert_exporter": "python",
   "pygments_lexer": "ipython3",
   "version": "3.7.3"
  }
 },
 "nbformat": 4,
 "nbformat_minor": 4
}
