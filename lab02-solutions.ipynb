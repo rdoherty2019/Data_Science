{
 "cells": [
  {
   "cell_type": "markdown",
   "metadata": {},
   "source": [
    "## Lab 2\n",
    " - ### Release Date: Friday, February 7\n",
    " - ### Due Date: Monday, February 10 at 12:00PM\n",
    " \n",
    "#### Name: Richie Doherty\n",
    "\n",
    "#### NetId: Rd2414"
   ]
  },
  {
   "cell_type": "markdown",
   "metadata": {},
   "source": [
    "#### Rubric\n",
    "\n",
    "|Question|Points|\n",
    "|---|---|\n",
    "|1.1|1|\n",
    "|1.2|1|\n",
    "|1.3|1|\n",
    "|2.1|1|\n",
    "|2.2|1|\n",
    "|2.3|1|\n",
    "|3.1|2|\n",
    "||_________|\n",
    "|Total| 8|\n"
   ]
  },
  {
   "cell_type": "markdown",
   "metadata": {},
   "source": [
    "### Background\n",
    "\n",
    "Below is a probability table for the gender in a Hospital Bedlam's birth records database:\n",
    "\n",
    "\n",
    "|   Sex   |  Male|    Female|\n",
    "|-----------|-----------|-----------|\n",
    "| Probability      |   0.525   | 0.475  |\n",
    "| Number of births | 2,100  | 1,900 |"
   ]
  },
  {
   "cell_type": "markdown",
   "metadata": {},
   "source": [
    "### Question 1\n",
    "\n",
    "Suppose we take a simple random sample of $n = 100$ births from the 4000 births in Bedlam.\n",
    "\n",
    "- What is the expected number of male births?\n",
    "- What is the expected number of female births?\n",
    "\n",
    "To answer these questions, let $T_1$ be 1 if the first child chosen is male and 0 if female. Let $T_2$ be 1 if the second child chosen is male and 0 if female, and so on.\n",
    "\n",
    "Let's start by finding: \n",
    "$$P(T_{5} = 1)$$\n",
    "\n",
    "$$P(T_{5} = 0)$$\n",
    "\n",
    "$$\\mathbb{E}(T_{11})$$\n",
    "\n",
    "\n",
    "\n",
    "\n"
   ]
  },
  {
   "cell_type": "markdown",
   "metadata": {},
   "source": [
    "#### Part 1 ####\n",
    "$P(T_{5} = 1)$:"
   ]
  },
  {
   "cell_type": "code",
   "execution_count": 5,
   "metadata": {
    "deletable": false,
    "nbgrader": {
     "cell_type": "code",
     "checksum": "31f883ce9bde16550ae8e9e36a39710c",
     "grade": false,
     "grade_id": "cell-0e536798177576e31",
     "locked": false,
     "schema_version": 3,
     "solution": true,
     "task": false
    }
   },
   "outputs": [],
   "source": [
    "pop = 4000\n",
    "p_male = .525\n",
    "p_female = .475\n",
    "b_male = 2100\n",
    "b_female = 1900\n",
    "\n",
    "q1a_answer = .525\n",
    "\n",
    "# YOUR CODE HERE\n",
    "#raise NotImplementedError()\n",
    "\n",
    "\n"
   ]
  },
  {
   "cell_type": "code",
   "execution_count": 2,
   "metadata": {
    "deletable": false,
    "editable": false,
    "nbgrader": {
     "cell_type": "code",
     "checksum": "dfe176b83a3c9b1883a5136bbc06f29e",
     "grade": true,
     "grade_id": "cell-f056f111f481e8c8",
     "locked": true,
     "points": 1,
     "schema_version": 3,
     "solution": false,
     "task": false
    }
   },
   "outputs": [
    {
     "data": {
      "text/plain": [
       "True"
      ]
     },
     "execution_count": 2,
     "metadata": {},
     "output_type": "execute_result"
    }
   ],
   "source": [
    "# TEST\n",
    "0 <= q1a_answer <= 1\n",
    "\n"
   ]
  },
  {
   "cell_type": "markdown",
   "metadata": {},
   "source": [
    "#### Part 2 ####\n",
    "$P(T_{5} = 0)$:"
   ]
  },
  {
   "cell_type": "code",
   "execution_count": 12,
   "metadata": {
    "deletable": false,
    "nbgrader": {
     "cell_type": "code",
     "checksum": "4615a6488ddc7bbceff2efdb7e59dbe2",
     "grade": false,
     "grade_id": "cell-0e536798177576e32",
     "locked": false,
     "schema_version": 3,
     "solution": true,
     "task": false
    }
   },
   "outputs": [
    {
     "data": {
      "text/plain": [
       "0.475"
      ]
     },
     "execution_count": 12,
     "metadata": {},
     "output_type": "execute_result"
    }
   ],
   "source": [
    "q1b_answer = .475\n",
    "# YOUR CODE HERE\n",
    "#raise NotImplementedError()\n",
    "\n",
    "q1b_answer\n"
   ]
  },
  {
   "cell_type": "code",
   "execution_count": 4,
   "metadata": {
    "deletable": false,
    "editable": false,
    "nbgrader": {
     "cell_type": "code",
     "checksum": "3ca8dfddeeedda1898ae061c3b5328c1",
     "grade": true,
     "grade_id": "cell-fcd6f885bf6e1885",
     "locked": true,
     "points": 1,
     "schema_version": 3,
     "solution": false,
     "task": false
    }
   },
   "outputs": [
    {
     "data": {
      "text/plain": [
       "True"
      ]
     },
     "execution_count": 4,
     "metadata": {},
     "output_type": "execute_result"
    }
   ],
   "source": [
    "# TEST\n",
    "0 <= q1b_answer <= 1\n",
    "\n"
   ]
  },
  {
   "cell_type": "markdown",
   "metadata": {},
   "source": [
    "#### Part 3 ####\n",
    "$E(T_{11})$:\n"
   ]
  },
  {
   "cell_type": "code",
   "execution_count": 13,
   "metadata": {
    "deletable": false,
    "nbgrader": {
     "cell_type": "code",
     "checksum": "8b46421b95a70224764c821cd668d7c5",
     "grade": false,
     "grade_id": "cell-0e536798177576e33",
     "locked": false,
     "schema_version": 3,
     "solution": true,
     "task": false
    }
   },
   "outputs": [
    {
     "data": {
      "text/plain": [
       "0.525"
      ]
     },
     "execution_count": 13,
     "metadata": {},
     "output_type": "execute_result"
    }
   ],
   "source": [
    "q1c_answer = (1 * .525) + (0 * .475)\n",
    "\n",
    "# YOUR CODE HERE\n",
    "#raise NotImplementedError()\n",
    "\n",
    "q1c_answer\n"
   ]
  },
  {
   "cell_type": "code",
   "execution_count": 14,
   "metadata": {
    "deletable": false,
    "editable": false,
    "nbgrader": {
     "cell_type": "code",
     "checksum": "98355c0bdf63bf13c8fdf81712e280b4",
     "grade": true,
     "grade_id": "cell-c3736bf13dfe0029",
     "locked": true,
     "points": 1,
     "schema_version": 3,
     "solution": false,
     "task": false
    }
   },
   "outputs": [
    {
     "data": {
      "text/plain": [
       "True"
      ]
     },
     "execution_count": 14,
     "metadata": {},
     "output_type": "execute_result"
    }
   ],
   "source": [
    "# TEST\n",
    "0 <= q1c_answer <= 1\n",
    "\n"
   ]
  },
  {
   "cell_type": "markdown",
   "metadata": {},
   "source": [
    "### Question 2\n",
    "\n",
    "For each birth chosen for the sample, let's keep track of whether it is male or female.\n",
    "\n",
    "We can do this with the tuple $(M_i, F_i, O_i)$, $i = 1, 2, \\ldots, 1500$, where \n",
    "\n",
    "- $M_i = 1$ if the $i$th birth sampled is male and 0 otherwise (this is the same random variable as in Question 1), <br>\n",
    "- $F_i = 1$ if the $i$th birth sampled is female and 0 otherwise, and <br>\n",
    "\n",
    "#### Part 1 ####\n",
    "\n",
    "Find\n",
    "\n",
    "$$ M_{11} + F_{11} = ?$$\n",
    "\n"
   ]
  },
  {
   "cell_type": "code",
   "execution_count": 10,
   "metadata": {
    "deletable": false,
    "nbgrader": {
     "cell_type": "code",
     "checksum": "2a8896210e932ae7862769438c57aa57",
     "grade": false,
     "grade_id": "cell-0e536798177576e34",
     "locked": false,
     "schema_version": 3,
     "solution": true,
     "task": false
    }
   },
   "outputs": [
    {
     "data": {
      "text/plain": [
       "1"
      ]
     },
     "execution_count": 10,
     "metadata": {},
     "output_type": "execute_result"
    }
   ],
   "source": [
    "q2a_answer = 1\n",
    "\n",
    "# YOUR CODE HERE\n",
    "#raise NotImplementedError()\n",
    "\n",
    "q2a_answer\n"
   ]
  },
  {
   "cell_type": "code",
   "execution_count": 8,
   "metadata": {
    "deletable": false,
    "editable": false,
    "nbgrader": {
     "cell_type": "code",
     "checksum": "a98571837a0919179efb400c1896de5f",
     "grade": true,
     "grade_id": "cell-4ba485b553555541",
     "locked": true,
     "points": 1,
     "schema_version": 3,
     "solution": false,
     "task": false
    }
   },
   "outputs": [
    {
     "data": {
      "text/plain": [
       "True"
      ]
     },
     "execution_count": 8,
     "metadata": {},
     "output_type": "execute_result"
    }
   ],
   "source": [
    "# TEST\n",
    "0 <= q2a_answer <= 1\n",
    "\n"
   ]
  },
  {
   "cell_type": "markdown",
   "metadata": {},
   "source": [
    "#### Part 2 ####\n",
    "\n",
    "Define $N_M = \\sum_{i=1}^{100} M_i$ and $N_F = \\sum_{i=1}^{100} F_i$\n",
    "\n",
    "Notice that because they are sums of random variables, $N_M$ and $N_F$ are random variables, too.\n",
    "\n",
    "Find the expected value of $N_M$, i.e.,\n",
    "\n",
    "$$\\mathbb{E}(N_M)$$\n",
    "\n",
    "In other words, find the expected number of male births in our simple random sample of 100 births from Bedlam."
   ]
  },
  {
   "cell_type": "code",
   "execution_count": 15,
   "metadata": {
    "deletable": false,
    "nbgrader": {
     "cell_type": "code",
     "checksum": "8649f166014ab4df079ff297f4ec2440",
     "grade": false,
     "grade_id": "cell-0e536798177576e35",
     "locked": false,
     "schema_version": 3,
     "solution": true,
     "task": false
    }
   },
   "outputs": [
    {
     "data": {
      "text/plain": [
       "52.5"
      ]
     },
     "execution_count": 15,
     "metadata": {},
     "output_type": "execute_result"
    }
   ],
   "source": [
    "q2b_answer = (.525 * 1) * 100\n",
    "\n",
    "# YOUR CODE HERE\n",
    "#raise NotImplementedError()\n",
    "\n",
    "q2b_answer"
   ]
  },
  {
   "cell_type": "code",
   "execution_count": 16,
   "metadata": {
    "deletable": false,
    "editable": false,
    "nbgrader": {
     "cell_type": "code",
     "checksum": "fc73d44ed3df0eaeeea5b6d551cae8a1",
     "grade": true,
     "grade_id": "cell-33dab5631b51085b6",
     "locked": true,
     "points": 1,
     "schema_version": 3,
     "solution": false,
     "task": false
    }
   },
   "outputs": [
    {
     "data": {
      "text/plain": [
       "True"
      ]
     },
     "execution_count": 16,
     "metadata": {},
     "output_type": "execute_result"
    }
   ],
   "source": [
    "# TEST\n",
    "0 <= q2b_answer <= 100\n",
    "\n"
   ]
  },
  {
   "cell_type": "markdown",
   "metadata": {},
   "source": [
    "#### Part 3 ####\n",
    "Find\n",
    "$$N_M + N_F = ?$$\n"
   ]
  },
  {
   "cell_type": "code",
   "execution_count": 9,
   "metadata": {
    "deletable": false,
    "nbgrader": {
     "cell_type": "code",
     "checksum": "643c56ac3c444df976ed66e731efb5d2",
     "grade": false,
     "grade_id": "cell-0e536798177576e37",
     "locked": false,
     "schema_version": 3,
     "solution": true,
     "task": false
    }
   },
   "outputs": [
    {
     "data": {
      "text/plain": [
       "100.0"
      ]
     },
     "execution_count": 9,
     "metadata": {},
     "output_type": "execute_result"
    }
   ],
   "source": [
    "q2c_answer = 100\n",
    "# YOUR CODE HERE\n",
    "#raise NotImplementedError()\n",
    "((.525 * 1) * 100) + ((.475 * 1) * 100)\n",
    "q2c_answer\n",
    "\n"
   ]
  },
  {
   "cell_type": "code",
   "execution_count": 2,
   "metadata": {
    "deletable": false,
    "editable": false,
    "nbgrader": {
     "cell_type": "code",
     "checksum": "c6c7db058634f3ada197e6f7813c80e1",
     "grade": true,
     "grade_id": "cell-f25e9512af1d4e67",
     "locked": true,
     "points": 1,
     "schema_version": 3,
     "solution": false,
     "task": false
    }
   },
   "outputs": [
    {
     "data": {
      "text/plain": [
       "True"
      ]
     },
     "execution_count": 2,
     "metadata": {},
     "output_type": "execute_result"
    }
   ],
   "source": [
    "# TEST\n",
    "0 <= q2c_answer <= 100\n",
    "\n"
   ]
  },
  {
   "cell_type": "markdown",
   "metadata": {},
   "source": [
    "### Question 3\n",
    "\n",
    "Given our population of births in Bedlam, every possible SRS has a certain well defined probability of occurring. For example, if we collected a SRS of only 2 births without replacement (instead of 100), the chance of each SRS is given in the probability distribution table below:\n",
    "\n",
    "|   $N_M$   |  $N_F$    |   $p$    |\n",
    "|-----------|-----------|-----------|\n",
    "|    0      |   2       | 0.225   |\n",
    "|    1      |   1       | 0.49875 |\n",
    "|    2      |   0       | 0.275   |\n",
    "\n",
    "\n",
    "\n",
    "As an exercise in probability, we will have you compute similar probabilities for a simple random sample of 3 births without replacement.\n",
    "\n",
    "#### Part 1 ####\n",
    "\n",
    "Find the following probability. \n",
    "\n",
    "$$ P(N_M = 3, N_F = 0)$$\n",
    "\n",
    "Hint: It is a product of two fractions, each of which has a distinct numerator and denominator."
   ]
  },
  {
   "cell_type": "code",
   "execution_count": 17,
   "metadata": {
    "deletable": false,
    "nbgrader": {
     "cell_type": "code",
     "checksum": "f5b3344f268c32297c3c97329b892728",
     "grade": false,
     "grade_id": "cell-0e536798177576e38",
     "locked": false,
     "schema_version": 3,
     "solution": true,
     "task": false
    }
   },
   "outputs": [
    {
     "data": {
      "text/plain": [
       "0.14470312500000002"
      ]
     },
     "execution_count": 17,
     "metadata": {},
     "output_type": "execute_result"
    }
   ],
   "source": [
    "q3a_answer = p_male ** 3\n",
    "# YOUR CODE HERE\n",
    "#raise NotImplementedError()\n",
    "\n",
    "q3a_answer\n"
   ]
  },
  {
   "cell_type": "code",
   "execution_count": 18,
   "metadata": {
    "deletable": false,
    "editable": false,
    "nbgrader": {
     "cell_type": "code",
     "checksum": "5f1c5b04d7d63d7e6b4d49bacb3b1596",
     "grade": true,
     "grade_id": "cell-bde13b9818d1aa46",
     "locked": true,
     "points": 2,
     "schema_version": 3,
     "solution": false,
     "task": false
    }
   },
   "outputs": [
    {
     "data": {
      "text/plain": [
       "True"
      ]
     },
     "execution_count": 18,
     "metadata": {},
     "output_type": "execute_result"
    }
   ],
   "source": [
    "# TEST\n",
    "0 <= q3a_answer <= 1\n",
    "\n"
   ]
  },
  {
   "cell_type": "markdown",
   "metadata": {},
   "source": [
    "## Lab 2 Complete! Congratulations\n",
    "\n",
    "Ensure you submit this on JupyterHub after validating all the visible tests."
   ]
  }
 ],
 "metadata": {
  "kernelspec": {
   "display_name": "Python [conda env:dsua-112]",
   "language": "python",
   "name": "conda-env-dsua-112-py"
  },
  "language_info": {
   "codemirror_mode": {
    "name": "ipython",
    "version": 3
   },
   "file_extension": ".py",
   "mimetype": "text/x-python",
   "name": "python",
   "nbconvert_exporter": "python",
   "pygments_lexer": "ipython3",
   "version": "3.7.6"
  }
 },
 "nbformat": 4,
 "nbformat_minor": 4
}
