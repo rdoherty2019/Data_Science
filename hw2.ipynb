{
 "cells": [
  {
   "cell_type": "markdown",
   "metadata": {
    "deletable": false,
    "editable": false,
    "nbgrader": {
     "cell_type": "markdown",
     "checksum": "3322915f5f2cce791e85444be08d936b",
     "grade": false,
     "grade_id": "cell-fcd4079a6368ebfe",
     "locked": true,
     "schema_version": 3,
     "solution": false,
     "task": false
    }
   },
   "source": [
    "## Homework 2\n",
    " - ### Release Date: Friday, February 14\n",
    " - ### Due Date: Tuesday, February 25 at 12:00PM\n",
    "\n",
    "### Introduction\n",
    "\n",
    "In this homework, we will use data provided by the New York City Department of Health and Mental Hygiene. The table contains information about inspections of each of New York City's 24,000 restaurants. Each restaurant receives a grade of A,B,C based on a score that tallies points from health violations. \n",
    "\n",
    "Please see the following [link](https://www1.nyc.gov/assets/doh/downloads/pdf/rii/how-we-score-grade.pdf) for information. We have made the data available to you in `/shared` folder on JupyterHub (refer csv file: `nyc_restaurant_inspections.csv`). \n",
    "\n",
    "We want to understand the scoring of restaurants. We will walk through the various steps of exploratory data analysis with you providing insights along the way to give you a sense for each discovery and its implication.\n",
    "\n",
    "As we clean and explore data, you will gain practice with:\n",
    "* Reading simple csv files\n",
    "* Working with data at different levels of granularity\n",
    "* Identifying the type of data collected, missing values, outliers, etc.\n",
    "\n",
    "We will guide you through the problems step by step. However, we encourage you to discuss with us in Office Hours and on Piazza so that we can work together through these steps. \n",
    "\n",
    "#### Submission Instructions\n",
    "\n",
    "Submission of homework requires two steps. See **Homework 0** for more information.\n",
    "\n",
    "##### _Step 1_\n",
    "You are required to **submit your notebook on JupyterHub**. Please navigate to the `Assignments` tab to  \n",
    "- fetch\n",
    "- modify \n",
    "- validate\n",
    "- submit \n",
    "\n",
    "your notebook. Consult the [instructional video](https://nbgrader.readthedocs.io/en/stable/user_guide/highlights.html#student-assignment-list-extension-for-jupyter-notebooks) for more information about JupyterHub.\n",
    "\n",
    "##### _Step 2_\n",
    "You are required to **submit a copy of your notebook to Gradescope**. Follow these steps\n",
    "\n",
    "##### _Formatting Instructions_\n",
    "\n",
    "\n",
    "1. Download as HTML (`File->Download As->HTML(.html)`). \n",
    "1. Open the HTML in the browser. Print to .pdf \n",
    "1. Upload to Gradescope. Consult the [instructional video](https://www.gradescope.com/get_started#student-submission) for more information about Gradescope. \n",
    "1. Indicate the location of your responses on Gradescope. You must tag your answer's page numbers to the appropriate question on Gradescope. See instructional video for more information.\n",
    "\n",
    "Note that \n",
    "\n",
    "- You should break long lines of code into multiple lines. Otherwise your code will extend out of view from the cell. Consider using `\\` followed by a new line. \n",
    "- For each textual response, please include relevant code that informed your response. \n",
    "- For each plotting question, please include the code used to generate the plot. If your plot does not appear in the HTML / pdf output, then use `Image('name_of_file')` to embed it.\n",
    "- You should not display large output cells such as all rows of a table. Instead convert the input cell from Code to Markdown back to Code to remove the output cell.\n",
    "\n",
    "**Important**: Gradescope points will be awarded if and only if all the formatting instructions are followed. \n",
    "\n",
    "#### Collaboration Policy\n",
    "\n",
    "Data science is a collaborative activity. While you may talk with others about\n",
    "the homework, we ask that you **write your solutions individually**. If you do\n",
    "discuss the assignments with others please **include their names** below."
   ]
  },
  {
   "cell_type": "markdown",
   "metadata": {},
   "source": [
    "**Name:** Richie Doherty"
   ]
  },
  {
   "cell_type": "markdown",
   "metadata": {},
   "source": [
    "**NetId:** rd2414"
   ]
  },
  {
   "cell_type": "markdown",
   "metadata": {},
   "source": [
    "**Collaborators:** Madi Ella-Deane Perez"
   ]
  },
  {
   "cell_type": "markdown",
   "metadata": {
    "deletable": false,
    "editable": false,
    "nbgrader": {
     "cell_type": "markdown",
     "checksum": "1b511926671637111f7347ca987eed5f",
     "grade": false,
     "grade_id": "cell-ab6a00e0ebce11d1",
     "locked": true,
     "schema_version": 3,
     "solution": false,
     "task": false
    }
   },
   "source": [
    "#### Rubric\n",
    "\n",
    "Question | Points\n",
    "--- | ---\n",
    "Gradescope | 2 \n",
    "1a | 0\n",
    "1b | 0\n",
    "2a | 1\n",
    "2b | 1\n",
    "2c | 2\n",
    "3a | 1\n",
    "3b | 2\n",
    "3c | 3\n",
    "4a | 1\n",
    "4b | 1\n",
    "4c | 2\n",
    "Total | 16"
   ]
  },
  {
   "cell_type": "markdown",
   "metadata": {
    "deletable": false,
    "editable": false,
    "nbgrader": {
     "cell_type": "markdown",
     "checksum": "fc724b39bb940bef36c90c97df630dbe",
     "grade": false,
     "grade_id": "cell-603dc7ca92153c0b",
     "locked": true,
     "schema_version": 3,
     "solution": false,
     "task": false
    }
   },
   "source": [
    "To start the assignment, run the cell below to set up some imports. In many of these assignments (and your future adventures as a data scientist) you will use `pandas`, `numpy` and `matplotlib.pyplot`. Import each of these libraries `as` their commonly used abbreviations (e.g., `pd`, `np` and `plt`).  "
   ]
  },
  {
   "cell_type": "code",
   "execution_count": 83,
   "metadata": {
    "deletable": false,
    "editable": false,
    "nbgrader": {
     "cell_type": "code",
     "checksum": "7ce08de0e86620207abc598c17c6ee94",
     "grade": false,
     "grade_id": "cell-dc70fd5fbabfa835",
     "locked": true,
     "schema_version": 3,
     "solution": false,
     "task": false
    }
   },
   "outputs": [],
   "source": [
    "import pandas as pd\n",
    "import numpy as np\n",
    "import matplotlib.pyplot as plt\n",
    "\n",
    "# Set some parameters in the packages \n",
    "%matplotlib inline\n",
    "plt.rcParams['figure.figsize'] = (16,8)\n",
    "plt.rcParams['figure.dpi'] = 150\n",
    "\n",
    "pd.options.display.max_rows = 20  \n",
    "pd.options.display.max_columns = 15\n",
    "\n",
    "# Some packages to help with configuration\n",
    "from IPython.display import display, Latex, Markdown, Image\n",
    "import os"
   ]
  },
  {
   "cell_type": "code",
   "execution_count": 84,
   "metadata": {
    "ExecuteTime": {
     "end_time": "2018-08-18T01:21:52.935736Z",
     "start_time": "2018-08-18T01:21:52.932610Z"
    },
    "deletable": false,
    "editable": false,
    "nbgrader": {
     "cell_type": "code",
     "checksum": "ac5358dd2661f76c38328e242ba18b44",
     "grade": true,
     "grade_id": "cell-90d4ec4aaefd797f",
     "locked": true,
     "points": 0,
     "schema_version": 3,
     "solution": false,
     "task": false
    }
   },
   "outputs": [],
   "source": [
    "# TEST \n",
    "\n",
    "import sys\n",
    "assert 'pandas' in sys.modules and pd\n",
    "assert 'numpy' in sys.modules and np\n",
    "assert 'matplotlib' in sys.modules and plt\n",
    "assert 'os' in sys.modules and os"
   ]
  },
  {
   "cell_type": "markdown",
   "metadata": {
    "deletable": false,
    "editable": false,
    "nbgrader": {
     "cell_type": "markdown",
     "checksum": "2fe0528cf343c7d59fa2ea9529eb096b",
     "grade": false,
     "grade_id": "cell-7e61c865bb965802",
     "locked": true,
     "schema_version": 3,
     "solution": false,
     "task": false
    }
   },
   "source": [
    "---\n",
    "## 1: Loading NYC restaurant data\n",
    "\n",
    "Let's start with understanding the structure of the data. Recall this involves answering questions such as \n",
    "\n",
    "* Is the data organized in records?\n",
    "* What are the fields in each record?"
   ]
  },
  {
   "cell_type": "markdown",
   "metadata": {
    "deletable": false,
    "editable": false,
    "nbgrader": {
     "cell_type": "markdown",
     "checksum": "0487b0700b543c86d64f52baf4652b04",
     "grade": false,
     "grade_id": "cell-fdebe0262191c130",
     "locked": true,
     "schema_version": 3,
     "solution": false,
     "task": false
    }
   },
   "source": [
    "### Question 1a: Reading CSV file\n",
    "\n",
    "Let's attempt to load `nyc_restaurant_inspections.csv` into pandas data frame with the following name: `res`. "
   ]
  },
  {
   "cell_type": "code",
   "execution_count": 85,
   "metadata": {
    "ExecuteTime": {
     "end_time": "2018-08-18T01:21:53.438446Z",
     "start_time": "2018-08-18T01:21:53.280442Z"
    },
    "deletable": false,
    "editable": false,
    "nbgrader": {
     "cell_type": "code",
     "checksum": "dcd0d650b1d1e62ed71e80eb4a8bb384",
     "grade": false,
     "grade_id": "cell-2eca3029cdf585da",
     "locked": true,
     "schema_version": 3,
     "solution": false,
     "task": false
    },
    "tags": [
     "solution"
    ]
   },
   "outputs": [],
   "source": [
    "dsDir = os.environ[\"HOME\"] + \"/shared/\"\n",
    "fileName = 'nyc_restaurant_inspections.csv'\n",
    "\n",
    "res = pd.read_csv(dsDir + fileName)"
   ]
  },
  {
   "cell_type": "markdown",
   "metadata": {
    "deletable": false,
    "editable": false,
    "nbgrader": {
     "cell_type": "markdown",
     "checksum": "5b10353a43264e69f9bbfb2362d344fd",
     "grade": false,
     "grade_id": "cell-2ac151b90667d7a7",
     "locked": true,
     "schema_version": 3,
     "solution": false,
     "task": false
    }
   },
   "source": [
    "Now that you've read in the files, let's try some `pd.DataFrame` methods.\n",
    "Use the `DataFrame.head` command to show the top few lines of the `res` dataframe."
   ]
  },
  {
   "cell_type": "code",
   "execution_count": 86,
   "metadata": {
    "deletable": false,
    "editable": false,
    "nbgrader": {
     "cell_type": "code",
     "checksum": "5ec933ae0b0c33b2f3dbdaa87629facf",
     "grade": false,
     "grade_id": "cell-bc8df5a1eef0784a",
     "locked": true,
     "schema_version": 3,
     "solution": false,
     "task": false
    }
   },
   "outputs": [
    {
     "data": {
      "text/html": [
       "<div>\n",
       "<style scoped>\n",
       "    .dataframe tbody tr th:only-of-type {\n",
       "        vertical-align: middle;\n",
       "    }\n",
       "\n",
       "    .dataframe tbody tr th {\n",
       "        vertical-align: top;\n",
       "    }\n",
       "\n",
       "    .dataframe thead th {\n",
       "        text-align: right;\n",
       "    }\n",
       "</style>\n",
       "<table border=\"1\" class=\"dataframe\">\n",
       "  <thead>\n",
       "    <tr style=\"text-align: right;\">\n",
       "      <th></th>\n",
       "      <th>CAMIS</th>\n",
       "      <th>DBA</th>\n",
       "      <th>BORO</th>\n",
       "      <th>BUILDING</th>\n",
       "      <th>STREET</th>\n",
       "      <th>ZIPCODE</th>\n",
       "      <th>PHONE</th>\n",
       "      <th>...</th>\n",
       "      <th>VIOLATION DESCRIPTION</th>\n",
       "      <th>CRITICAL FLAG</th>\n",
       "      <th>SCORE</th>\n",
       "      <th>GRADE</th>\n",
       "      <th>GRADE DATE</th>\n",
       "      <th>RECORD DATE</th>\n",
       "      <th>INSPECTION TYPE</th>\n",
       "    </tr>\n",
       "  </thead>\n",
       "  <tbody>\n",
       "    <tr>\n",
       "      <th>0</th>\n",
       "      <td>50042763</td>\n",
       "      <td>MULTISERVICIOS INCOME TAX (HERBALIFE)</td>\n",
       "      <td>QUEENS</td>\n",
       "      <td>9752</td>\n",
       "      <td>CORONA AVE</td>\n",
       "      <td>11368.0</td>\n",
       "      <td>3478589910</td>\n",
       "      <td>...</td>\n",
       "      <td>Facility not vermin proof. Harborage or condit...</td>\n",
       "      <td>Not Critical</td>\n",
       "      <td>21.0</td>\n",
       "      <td>B</td>\n",
       "      <td>12/13/2017</td>\n",
       "      <td>11/05/2018</td>\n",
       "      <td>Cycle Inspection / Re-inspection</td>\n",
       "    </tr>\n",
       "    <tr>\n",
       "      <th>1</th>\n",
       "      <td>41435182</td>\n",
       "      <td>LA GRAN URUGUAYA BAKERY &amp; RESTAURANT</td>\n",
       "      <td>QUEENS</td>\n",
       "      <td>8506</td>\n",
       "      <td>37 AVENUE</td>\n",
       "      <td>11372.0</td>\n",
       "      <td>7185050404</td>\n",
       "      <td>...</td>\n",
       "      <td>Food contact surface not properly washed, rins...</td>\n",
       "      <td>Critical</td>\n",
       "      <td>27.0</td>\n",
       "      <td>B</td>\n",
       "      <td>07/09/2018</td>\n",
       "      <td>11/05/2018</td>\n",
       "      <td>Cycle Inspection / Re-inspection</td>\n",
       "    </tr>\n",
       "    <tr>\n",
       "      <th>2</th>\n",
       "      <td>50057067</td>\n",
       "      <td>PEPPA'S JERK CHICKEN RESTAURANT</td>\n",
       "      <td>BROOKLYN</td>\n",
       "      <td>689</td>\n",
       "      <td>UTICA AVE</td>\n",
       "      <td>11203.0</td>\n",
       "      <td>3473833127</td>\n",
       "      <td>...</td>\n",
       "      <td>Wiping cloths soiled or not stored in sanitizi...</td>\n",
       "      <td>Critical</td>\n",
       "      <td>32.0</td>\n",
       "      <td>NaN</td>\n",
       "      <td>NaN</td>\n",
       "      <td>11/05/2018</td>\n",
       "      <td>Pre-permit (Operational) / Initial Inspection</td>\n",
       "    </tr>\n",
       "  </tbody>\n",
       "</table>\n",
       "<p>3 rows × 18 columns</p>\n",
       "</div>"
      ],
      "text/plain": [
       "      CAMIS                                    DBA      BORO BUILDING  \\\n",
       "0  50042763  MULTISERVICIOS INCOME TAX (HERBALIFE)    QUEENS     9752   \n",
       "1  41435182   LA GRAN URUGUAYA BAKERY & RESTAURANT    QUEENS     8506   \n",
       "2  50057067        PEPPA'S JERK CHICKEN RESTAURANT  BROOKLYN      689   \n",
       "\n",
       "       STREET  ZIPCODE       PHONE  ...  \\\n",
       "0  CORONA AVE  11368.0  3478589910  ...   \n",
       "1   37 AVENUE  11372.0  7185050404  ...   \n",
       "2   UTICA AVE  11203.0  3473833127  ...   \n",
       "\n",
       "                               VIOLATION DESCRIPTION CRITICAL FLAG SCORE  \\\n",
       "0  Facility not vermin proof. Harborage or condit...  Not Critical  21.0   \n",
       "1  Food contact surface not properly washed, rins...      Critical  27.0   \n",
       "2  Wiping cloths soiled or not stored in sanitizi...      Critical  32.0   \n",
       "\n",
       "  GRADE  GRADE DATE RECORD DATE                                INSPECTION TYPE  \n",
       "0     B  12/13/2017  11/05/2018               Cycle Inspection / Re-inspection  \n",
       "1     B  07/09/2018  11/05/2018               Cycle Inspection / Re-inspection  \n",
       "2   NaN         NaN  11/05/2018  Pre-permit (Operational) / Initial Inspection  \n",
       "\n",
       "[3 rows x 18 columns]"
      ]
     },
     "execution_count": 86,
     "metadata": {},
     "output_type": "execute_result"
    }
   ],
   "source": [
    "res.head(3)"
   ]
  },
  {
   "cell_type": "markdown",
   "metadata": {
    "deletable": false,
    "editable": false,
    "nbgrader": {
     "cell_type": "markdown",
     "checksum": "f1a70421201274ee7f04a9ac6caf18ac",
     "grade": false,
     "grade_id": "cell-82bac6e398c5ce05",
     "locked": true,
     "schema_version": 3,
     "solution": false,
     "task": false
    }
   },
   "source": [
    "The `DataFrame.describe` method can also be handy for computing summaries of various statistics of our dataframes. Try it out the dataframe."
   ]
  },
  {
   "cell_type": "code",
   "execution_count": 87,
   "metadata": {
    "deletable": false,
    "editable": false,
    "nbgrader": {
     "cell_type": "code",
     "checksum": "24722dcfa8301451ecfa50ad6d0b1b52",
     "grade": false,
     "grade_id": "cell-712c738f6d621f48",
     "locked": true,
     "schema_version": 3,
     "solution": false,
     "task": false
    }
   },
   "outputs": [
    {
     "data": {
      "text/html": [
       "<div>\n",
       "<style scoped>\n",
       "    .dataframe tbody tr th:only-of-type {\n",
       "        vertical-align: middle;\n",
       "    }\n",
       "\n",
       "    .dataframe tbody tr th {\n",
       "        vertical-align: top;\n",
       "    }\n",
       "\n",
       "    .dataframe thead th {\n",
       "        text-align: right;\n",
       "    }\n",
       "</style>\n",
       "<table border=\"1\" class=\"dataframe\">\n",
       "  <thead>\n",
       "    <tr style=\"text-align: right;\">\n",
       "      <th></th>\n",
       "      <th>CAMIS</th>\n",
       "      <th>ZIPCODE</th>\n",
       "      <th>SCORE</th>\n",
       "    </tr>\n",
       "  </thead>\n",
       "  <tbody>\n",
       "    <tr>\n",
       "      <th>mean</th>\n",
       "      <td>4.543635e+07</td>\n",
       "      <td>10676.178303</td>\n",
       "      <td>19.544726</td>\n",
       "    </tr>\n",
       "    <tr>\n",
       "      <th>max</th>\n",
       "      <td>5.008574e+07</td>\n",
       "      <td>11697.000000</td>\n",
       "      <td>156.000000</td>\n",
       "    </tr>\n",
       "    <tr>\n",
       "      <th>min</th>\n",
       "      <td>3.007544e+07</td>\n",
       "      <td>10000.000000</td>\n",
       "      <td>-1.000000</td>\n",
       "    </tr>\n",
       "    <tr>\n",
       "      <th>std</th>\n",
       "      <td>4.419835e+06</td>\n",
       "      <td>596.709899</td>\n",
       "      <td>13.910111</td>\n",
       "    </tr>\n",
       "  </tbody>\n",
       "</table>\n",
       "</div>"
      ],
      "text/plain": [
       "             CAMIS       ZIPCODE       SCORE\n",
       "mean  4.543635e+07  10676.178303   19.544726\n",
       "max   5.008574e+07  11697.000000  156.000000\n",
       "min   3.007544e+07  10000.000000   -1.000000\n",
       "std   4.419835e+06    596.709899   13.910111"
      ]
     },
     "execution_count": 87,
     "metadata": {},
     "output_type": "execute_result"
    }
   ],
   "source": [
    "stats = ['mean', 'max', 'min', 'std']\n",
    "res.describe().loc[stats]"
   ]
  },
  {
   "cell_type": "markdown",
   "metadata": {
    "deletable": false,
    "editable": false,
    "nbgrader": {
     "cell_type": "markdown",
     "checksum": "e9e834b57faf8f694da60f502863bf49",
     "grade": false,
     "grade_id": "cell-156c7a5a90c1248b",
     "locked": true,
     "schema_version": 3,
     "solution": false,
     "task": false
    }
   },
   "source": [
    "### Question 1b: Verify your file was read correctly"
   ]
  },
  {
   "cell_type": "markdown",
   "metadata": {
    "deletable": false,
    "editable": false,
    "nbgrader": {
     "cell_type": "markdown",
     "checksum": "d94e90d7035f4857f83f226d96357d02",
     "grade": false,
     "grade_id": "cell-d50605c911e05818",
     "locked": true,
     "schema_version": 3,
     "solution": false,
     "task": false
    }
   },
   "source": [
    "Now, we perform some checks for you to verify that you loaded the data with the right structure. Run the following cells to load some basic utilities (you do not need to change these at all):"
   ]
  },
  {
   "cell_type": "markdown",
   "metadata": {
    "deletable": false,
    "editable": false,
    "nbgrader": {
     "cell_type": "markdown",
     "checksum": "dc805aa9784bd81a91c1f20a55daa3b4",
     "grade": false,
     "grade_id": "cell-70c105800589cd29",
     "locked": true,
     "schema_version": 3,
     "solution": false
    }
   },
   "source": [
    "First, we check the size of the table you created:"
   ]
  },
  {
   "cell_type": "code",
   "execution_count": 88,
   "metadata": {
    "ExecuteTime": {
     "end_time": "2018-08-18T01:21:53.479700Z",
     "start_time": "2018-08-18T01:21:53.468578Z"
    },
    "deletable": false,
    "editable": false,
    "nbgrader": {
     "cell_type": "code",
     "checksum": "0aa854a41561178abe59bf016b0bdaf0",
     "grade": true,
     "grade_id": "cell-713fbaabda95e089",
     "locked": true,
     "points": 0,
     "schema_version": 3,
     "solution": false,
     "task": false
    }
   },
   "outputs": [],
   "source": [
    "# TEST\n",
    "\n",
    "assert all(res.columns == ['CAMIS', 'DBA', 'BORO', 'BUILDING', 'STREET','ZIPCODE',\n",
    "                               'PHONE','CUISINE DESCRIPTION','INSPECTION DATE','ACTION',\n",
    "                                   'VIOLATION CODE','VIOLATION DESCRIPTION','CRITICAL FLAG','SCORE',\n",
    "                                       'GRADE','GRADE DATE','RECORD DATE','INSPECTION TYPE'])\n",
    "assert 381834 <= len(res) <= 381834"
   ]
  },
  {
   "cell_type": "markdown",
   "metadata": {
    "deletable": false,
    "editable": false,
    "nbgrader": {
     "cell_type": "markdown",
     "checksum": "587d7a8903253b54b01d28a42ac8f74e",
     "grade": false,
     "grade_id": "cell-b0cca547d2ab2113",
     "locked": true,
     "schema_version": 3,
     "solution": false,
     "task": false
    }
   },
   "source": [
    "Next we'll check that the statistics match what we expect. The following are hard-coded statistical summaries of the correct data. ."
   ]
  },
  {
   "cell_type": "code",
   "execution_count": 89,
   "metadata": {
    "ExecuteTime": {
     "end_time": "2018-08-18T01:21:53.518953Z",
     "start_time": "2018-08-18T01:21:53.482277Z"
    },
    "deletable": false,
    "editable": false,
    "nbgrader": {
     "cell_type": "code",
     "checksum": "d819de08c22db216a62da62a3f0f57d4",
     "grade": true,
     "grade_id": "cell-dfsumms",
     "locked": true,
     "points": 0,
     "schema_version": 3,
     "solution": false,
     "task": false
    }
   },
   "outputs": [
    {
     "name": "stdout",
     "output_type": "stream",
     "text": [
      "What we expect from your dataframe:\n"
     ]
    },
    {
     "data": {
      "text/html": [
       "<div>\n",
       "<style scoped>\n",
       "    .dataframe tbody tr th:only-of-type {\n",
       "        vertical-align: middle;\n",
       "    }\n",
       "\n",
       "    .dataframe tbody tr th {\n",
       "        vertical-align: top;\n",
       "    }\n",
       "\n",
       "    .dataframe thead th {\n",
       "        text-align: right;\n",
       "    }\n",
       "</style>\n",
       "<table border=\"1\" class=\"dataframe\">\n",
       "  <thead>\n",
       "    <tr style=\"text-align: right;\">\n",
       "      <th></th>\n",
       "      <th>SCORE</th>\n",
       "    </tr>\n",
       "  </thead>\n",
       "  <tbody>\n",
       "    <tr>\n",
       "      <th>mean</th>\n",
       "      <td>19.544726</td>\n",
       "    </tr>\n",
       "    <tr>\n",
       "      <th>max</th>\n",
       "      <td>156.000000</td>\n",
       "    </tr>\n",
       "    <tr>\n",
       "      <th>min</th>\n",
       "      <td>-1.000000</td>\n",
       "    </tr>\n",
       "    <tr>\n",
       "      <th>std</th>\n",
       "      <td>13.910111</td>\n",
       "    </tr>\n",
       "  </tbody>\n",
       "</table>\n",
       "</div>"
      ],
      "text/plain": [
       "           SCORE\n",
       "mean   19.544726\n",
       "max   156.000000\n",
       "min    -1.000000\n",
       "std    13.910111"
      ]
     },
     "execution_count": 89,
     "metadata": {},
     "output_type": "execute_result"
    }
   ],
   "source": [
    "# TEST \n",
    "\n",
    "res_summary = pd.DataFrame(columns = ['SCORE'],\n",
    " data =  [19.544726, 156.000000, -1.000000,  13.910111],\n",
    " index = ['mean', 'max', 'min', 'std'])\n",
    "\n",
    "assert all(np.isclose(res[[\"SCORE\"]].describe().loc[stats].values, res_summary.values))\n",
    "\n",
    "print('What we expect from your dataframe:')\n",
    "res_summary"
   ]
  },
  {
   "cell_type": "markdown",
   "metadata": {
    "deletable": false,
    "editable": false,
    "nbgrader": {
     "cell_type": "markdown",
     "checksum": "c35bdcc5d37d1a906eab157dadaf4c69",
     "grade": false,
     "grade_id": "cell-370bf4dd6dfe6b3f",
     "locked": true,
     "schema_version": 3,
     "solution": false,
     "task": false
    }
   },
   "source": [
    "---\n",
    "## 2: Examining the data\n",
    "\n",
    "We will explore the table to better understand the information behind it. \n",
    "\n",
    "### Question 2a\n",
    "\n",
    "Examining the entries in the data frame `res`, we notice the `CAMIS` columns. Are the values in the `CAMIS` column value unique amongst records? \n",
    "\n",
    "1. Use `value_counts` to count the values in the `CAMIS` column\n",
    "1. Use `max` to check the largest count from among the values. \n",
    "\n",
    "Note that maximum greater than 1 indicates the presence of duplicates values in the `CAMIS` column \n",
    "\n",
    "Your code should compute the answer. Please don't just hard code \"True/False\"."
   ]
  },
  {
   "cell_type": "code",
   "execution_count": 90,
   "metadata": {
    "ExecuteTime": {
     "end_time": "2018-08-18T01:21:53.936572Z",
     "start_time": "2018-08-18T01:21:53.927344Z"
    },
    "deletable": false,
    "nbgrader": {
     "cell_type": "code",
     "checksum": "0066e6ab09d16d6d13eef454a0ce67e1",
     "grade": false,
     "grade_id": "cell-b12eca2a1ea7b264",
     "locked": false,
     "schema_version": 3,
     "solution": true,
     "task": false
    },
    "tags": [
     "solution"
    ]
   },
   "outputs": [
    {
     "data": {
      "text/plain": [
       "False"
      ]
     },
     "execution_count": 90,
     "metadata": {},
     "output_type": "execute_result"
    }
   ],
   "source": [
    "CAMIS_COUNTS = res['CAMIS'].value_counts().max()\n",
    "if CAMIS_COUNTS > 1:\n",
    "    is_camis_id_unique = False\n",
    "\n",
    "else:\n",
    "    is_camis_id_unique = True\n",
    "\n",
    "\n",
    "is_camis_id_unique\n",
    "# YOUR CODE HERE\n",
    "#raise NotImplementedError()"
   ]
  },
  {
   "cell_type": "code",
   "execution_count": 91,
   "metadata": {},
   "outputs": [
    {
     "data": {
      "text/plain": [
       "94"
      ]
     },
     "execution_count": 91,
     "metadata": {},
     "output_type": "execute_result"
    }
   ],
   "source": [
    "res['CAMIS'].value_counts().max()"
   ]
  },
  {
   "cell_type": "code",
   "execution_count": 92,
   "metadata": {
    "deletable": false,
    "editable": false,
    "nbgrader": {
     "cell_type": "code",
     "checksum": "7d201cf3739d8e3ccb8149d163ee0454",
     "grade": true,
     "grade_id": "cell-591980c4c674f154",
     "locked": true,
     "points": 1,
     "schema_version": 3,
     "solution": false,
     "task": false
    }
   },
   "outputs": [],
   "source": [
    "# TEST\n",
    "assert is_camis_id_unique in [True, False]\n"
   ]
  },
  {
   "cell_type": "markdown",
   "metadata": {
    "deletable": false,
    "editable": false,
    "nbgrader": {
     "cell_type": "markdown",
     "checksum": "5ee0279180231d82f7aaafd5cbc0546e",
     "grade": false,
     "grade_id": "cell-2fb5f57f234d7511",
     "locked": true,
     "schema_version": 3,
     "solution": false,
     "task": false
    },
    "tags": [
     "written"
    ]
   },
   "source": [
    "### Question 2b\n",
    "\n",
    "Determine the distinct number of grades (`GRADE`) in the dataframe `res`. Call it `count_distinct_grades`.\n",
    "\n",
    "1. Use `unique` to determine the collection of unique values in the `GRADE` column"
   ]
  },
  {
   "cell_type": "code",
   "execution_count": 93,
   "metadata": {
    "ExecuteTime": {
     "end_time": "2018-08-18T01:21:53.987051Z",
     "start_time": "2018-08-18T01:21:53.949344Z"
    },
    "deletable": false,
    "nbgrader": {
     "cell_type": "code",
     "checksum": "b52081942ec5f7029cc1f2ef85dfde60",
     "grade": false,
     "grade_id": "cell-d5e152552a41e14d1",
     "locked": false,
     "schema_version": 3,
     "solution": true
    },
    "tags": [
     "student"
    ]
   },
   "outputs": [
    {
     "data": {
      "text/plain": [
       "6"
      ]
     },
     "execution_count": 93,
     "metadata": {},
     "output_type": "execute_result"
    }
   ],
   "source": [
    "count_distinct_grades = res['GRADE'].nunique()\n",
    "count_distinct_grades\n",
    "# YOUR CODE HERE\n",
    "#raise NotImplementedError()"
   ]
  },
  {
   "cell_type": "code",
   "execution_count": 94,
   "metadata": {},
   "outputs": [
    {
     "data": {
      "text/plain": [
       "array(['B', nan, 'A', 'Not Yet Graded', 'Z', 'C', 'P'], dtype=object)"
      ]
     },
     "execution_count": 94,
     "metadata": {},
     "output_type": "execute_result"
    }
   ],
   "source": [
    "res['GRADE'].unique()"
   ]
  },
  {
   "cell_type": "code",
   "execution_count": 95,
   "metadata": {
    "ExecuteTime": {
     "end_time": "2018-08-18T01:21:53.987051Z",
     "start_time": "2018-08-18T01:21:53.949344Z"
    },
    "deletable": false,
    "editable": false,
    "nbgrader": {
     "cell_type": "code",
     "checksum": "85bd48d1a815c71a09cdb3ab1ecbbd97",
     "grade": true,
     "grade_id": "cell-d5e152552a41e14d",
     "locked": true,
     "points": 1,
     "schema_version": 3,
     "solution": false,
     "task": false
    },
    "tags": [
     "student"
    ]
   },
   "outputs": [],
   "source": [
    "# TEST\n",
    "\n",
    "assert 1 < count_distinct_grades < 10\n"
   ]
  },
  {
   "cell_type": "markdown",
   "metadata": {
    "deletable": false,
    "editable": false,
    "nbgrader": {
     "cell_type": "markdown",
     "checksum": "c9f9f3c53d43d64ad5108cb5d1290209",
     "grade": false,
     "grade_id": "cell-1e54b3a287d05577",
     "locked": true,
     "schema_version": 3,
     "solution": false,
     "task": false
    },
    "tags": [
     "written"
    ]
   },
   "source": [
    "### Question 2c\n",
    "\n",
    "What kind of values are in the `ZIPCODE` column in the `res` data frame?  \n",
    "\n",
    "$1.$ Are zip codes quantitative or qualitative? If qualitative, is it ordinal or nominal? If quantitative, is it continuous or discrete? "
   ]
  },
  {
   "cell_type": "code",
   "execution_count": 96,
   "metadata": {
    "ExecuteTime": {
     "end_time": "2018-08-18T01:21:54.015633Z",
     "start_time": "2018-08-18T01:21:54.007576Z"
    },
    "deletable": false,
    "nbgrader": {
     "cell_type": "code",
     "checksum": "1f6ba4129145c9d6085287c684bf0765",
     "grade": false,
     "grade_id": "cell-5bfd7e571fc9b2c3",
     "locked": false,
     "schema_version": 3,
     "solution": true,
     "task": false
    },
    "tags": [
     "student",
     "written"
    ]
   },
   "outputs": [
    {
     "data": {
      "text/html": [
       "<div>\n",
       "<style scoped>\n",
       "    .dataframe tbody tr th:only-of-type {\n",
       "        vertical-align: middle;\n",
       "    }\n",
       "\n",
       "    .dataframe tbody tr th {\n",
       "        vertical-align: top;\n",
       "    }\n",
       "\n",
       "    .dataframe thead th {\n",
       "        text-align: right;\n",
       "    }\n",
       "</style>\n",
       "<table border=\"1\" class=\"dataframe\">\n",
       "  <thead>\n",
       "    <tr style=\"text-align: right;\">\n",
       "      <th></th>\n",
       "      <th>ZIPCODE</th>\n",
       "    </tr>\n",
       "  </thead>\n",
       "  <tbody>\n",
       "    <tr>\n",
       "      <th>0</th>\n",
       "      <td>11368.0</td>\n",
       "    </tr>\n",
       "    <tr>\n",
       "      <th>1</th>\n",
       "      <td>11372.0</td>\n",
       "    </tr>\n",
       "    <tr>\n",
       "      <th>2</th>\n",
       "      <td>11203.0</td>\n",
       "    </tr>\n",
       "    <tr>\n",
       "      <th>3</th>\n",
       "      <td>11418.0</td>\n",
       "    </tr>\n",
       "    <tr>\n",
       "      <th>4</th>\n",
       "      <td>11417.0</td>\n",
       "    </tr>\n",
       "  </tbody>\n",
       "</table>\n",
       "</div>"
      ],
      "text/plain": [
       "   ZIPCODE\n",
       "0  11368.0\n",
       "1  11372.0\n",
       "2  11203.0\n",
       "3  11418.0\n",
       "4  11417.0"
      ]
     },
     "execution_count": 96,
     "metadata": {},
     "output_type": "execute_result"
    }
   ],
   "source": [
    "q2c1_answer = \"qualitative and nominal\"\n",
    "res[[\"ZIPCODE\"]].head()\n",
    "# YOUR CODE HERE\n",
    "#raise NotImplementedError()"
   ]
  },
  {
   "cell_type": "code",
   "execution_count": 97,
   "metadata": {
    "deletable": false,
    "editable": false,
    "nbgrader": {
     "cell_type": "code",
     "checksum": "91d60ac0b6f9bb3253840b17c06c6802",
     "grade": true,
     "grade_id": "cell-aa7024609ccf03bd",
     "locked": true,
     "points": 0,
     "schema_version": 3,
     "solution": false,
     "task": false
    }
   },
   "outputs": [],
   "source": [
    "# TEST \n",
    "\n",
    "assert q2c1_answer in [\"qualitative and ordinal\", \"qualitative and nominal\", \"quantitative and continuous\", \"quantitative and discrete\"]\n",
    "\n"
   ]
  },
  {
   "cell_type": "markdown",
   "metadata": {
    "deletable": false,
    "editable": false,
    "nbgrader": {
     "cell_type": "markdown",
     "checksum": "4345470a80417dacdc4367272c374948",
     "grade": false,
     "grade_id": "cell-1e54b3a287d055779",
     "locked": true,
     "schema_version": 3,
     "solution": false,
     "task": false
    },
    "tags": [
     "written"
    ]
   },
   "source": [
    "$2.$ How are the zip code values encoded in python: ints, floats, strings, booleans? You should use  `dtypes` command on dataframe."
   ]
  },
  {
   "cell_type": "code",
   "execution_count": 98,
   "metadata": {
    "ExecuteTime": {
     "end_time": "2018-08-18T01:21:54.015633Z",
     "start_time": "2018-08-18T01:21:54.007576Z"
    },
    "deletable": false,
    "nbgrader": {
     "cell_type": "code",
     "checksum": "d98cfab8c92405ba4fe5fa4bce4e0653",
     "grade": false,
     "grade_id": "cell-979694ef7826f73a",
     "locked": false,
     "schema_version": 3,
     "solution": true,
     "task": false
    },
    "tags": [
     "student",
     "written"
    ]
   },
   "outputs": [
    {
     "data": {
      "text/plain": [
       "numpy.float64"
      ]
     },
     "execution_count": 98,
     "metadata": {},
     "output_type": "execute_result"
    }
   ],
   "source": [
    "q2c2_answer = \"float\"\n",
    "type(res[\"ZIPCODE\"][0])\n",
    "# YOUR CODE HERE\n",
    "#raise NotImplementedError()"
   ]
  },
  {
   "cell_type": "code",
   "execution_count": 99,
   "metadata": {
    "deletable": false,
    "editable": false,
    "nbgrader": {
     "cell_type": "code",
     "checksum": "2895a99fdd0faee33c996f3ce2287a37",
     "grade": true,
     "grade_id": "cell-d45347b4c9646f10",
     "locked": true,
     "points": 1,
     "schema_version": 3,
     "solution": false,
     "task": false
    }
   },
   "outputs": [],
   "source": [
    "# TEST \n",
    "\n",
    "assert q2c2_answer in [\"float\", \"int\", \"bool\", \"string\"]\n",
    "\n"
   ]
  },
  {
   "cell_type": "markdown",
   "metadata": {
    "deletable": false,
    "editable": false,
    "nbgrader": {
     "cell_type": "markdown",
     "checksum": "3283e220995d314b87bcb4f256b12000",
     "grade": false,
     "grade_id": "cell-c68c996061218943",
     "locked": true,
     "schema_version": 3,
     "solution": false,
     "task": false
    }
   },
   "source": [
    "$3$. To explore the zip code values, it makes sense to examine counts, i.e., the number of records  that have the same zip code value. This is essentially answering the question: How many restaurants are in each zip code? \n",
    "\n",
    "In the cell below, create a series where the index is the zipcode and the value is the number of restaurants in that zipcode. For example, in zip code 10003, there should be 10,014 restaurants. \n",
    "\n",
    "1. Use `groupby` with `ZIPCODE` to group the records by zipcode\n",
    "1. Apply `size` to determine the number of records in each group\n",
    "1. Use `sort_values`with `ascending = False` to order the zipcodes by the number of records\n",
    "\n",
    "Your series should be in descending order meaning the value 10014 should be at the top corresponding to zipcode 10003. \n",
    "\n",
    "If you get stuck, then look at the code in the Question 2c-4 below."
   ]
  },
  {
   "cell_type": "code",
   "execution_count": 100,
   "metadata": {
    "deletable": false,
    "nbgrader": {
     "cell_type": "code",
     "checksum": "b08513f36a685cfe3d64c00824167114",
     "grade": false,
     "grade_id": "cell-d2151d673e6c36a1",
     "locked": false,
     "schema_version": 3,
     "solution": true
    }
   },
   "outputs": [
    {
     "data": {
      "text/plain": [
       "ZIPCODE\n",
       "10003.0    10014\n",
       "10019.0     9164\n",
       "10036.0     8407\n",
       "10013.0     8153\n",
       "10002.0     7441\n",
       "           ...  \n",
       "10110.0        6\n",
       "10107.0        6\n",
       "10172.0        5\n",
       "10080.0        3\n",
       "10155.0        2\n",
       "Length: 223, dtype: int64"
      ]
     },
     "execution_count": 100,
     "metadata": {},
     "output_type": "execute_result"
    }
   ],
   "source": [
    "zip_counts = res.groupby(\"ZIPCODE\").size().sort_values(ascending = False)\n",
    "\n",
    "# YOUR CODE HERE\n",
    "#raise NotImplementedError()\n",
    "zip_counts"
   ]
  },
  {
   "cell_type": "code",
   "execution_count": null,
   "metadata": {
    "deletable": false,
    "editable": false,
    "nbgrader": {
     "cell_type": "code",
     "checksum": "eb7e347a5dc404bc9bb32f054a729c62",
     "grade": true,
     "grade_id": "cell-98fa39649b7e93c7",
     "locked": true,
     "points": 1,
     "schema_version": 3,
     "solution": false,
     "task": false
    }
   },
   "outputs": [],
   "source": []
  },
  {
   "cell_type": "markdown",
   "metadata": {
    "deletable": false,
    "editable": false,
    "nbgrader": {
     "cell_type": "markdown",
     "checksum": "17b6b456d8fd8e04c1ee8ef6995f4416",
     "grade": false,
     "grade_id": "cell-bf6a7fc2384bf533",
     "locked": true,
     "schema_version": 3,
     "solution": false
    }
   },
   "source": [
    "$4$. Unless you know pandas well already, your answer probably has one subtle flaw in it: it fails to take into account restaurants with missing zip codes. Unfortunately, missing data is just a reality when we're working with real data.\n",
    "\n",
    "There are a couple of ways to include null zip codes in the zip_counts series above. One approach is to use `fillna`, which will replace all null (a.k.a. NaN) values with a string of our choosing. In the example below, we picked \"?????\". When you run the code below, you should see that there are 5884 restaurants with missing zip code."
   ]
  },
  {
   "cell_type": "code",
   "execution_count": 101,
   "metadata": {
    "deletable": false,
    "editable": false,
    "nbgrader": {
     "cell_type": "code",
     "checksum": "15764350373a9471f1c33e0d7faaad73",
     "grade": false,
     "grade_id": "cell-e7169177fd00d200",
     "locked": true,
     "schema_version": 3,
     "solution": false
    }
   },
   "outputs": [
    {
     "data": {
      "text/plain": [
       "ZIPCODE\n",
       "10003.0    10014\n",
       "10019.0     9164\n",
       "10036.0     8407\n",
       "10013.0     8153\n",
       "10002.0     7441\n",
       "10016.0     7000\n",
       "10001.0     6857\n",
       "10022.0     6310\n",
       "11220.0     6289\n",
       "11354.0     6275\n",
       "10011.0     6236\n",
       "?????       5884\n",
       "10012.0     5872\n",
       "11372.0     5713\n",
       "11201.0     5673\n",
       "dtype: int64"
      ]
     },
     "execution_count": 101,
     "metadata": {},
     "output_type": "execute_result"
    }
   ],
   "source": [
    "zip_counts = res.fillna(\"?????\").groupby(\"ZIPCODE\").size().sort_values(ascending=False)\n",
    "zip_counts.head(15)"
   ]
  },
  {
   "cell_type": "markdown",
   "metadata": {
    "deletable": false,
    "editable": false,
    "nbgrader": {
     "cell_type": "markdown",
     "checksum": "ab74643beebfd7e32f14da73dbc8e7ac",
     "grade": false,
     "grade_id": "cell-0713c8ffce2adef3",
     "locked": true,
     "schema_version": 3,
     "solution": false,
     "task": false
    }
   },
   "source": [
    "## 3: Understanding Restaurant Scores\n",
    "\n",
    "We want to get a better understanding for how the New York City Department of Health and Mental Hygiene assigns scores. Let's start by determining missing score.\n",
    "\n",
    "### Question 3a\n",
    "\n",
    "How many restaurants are missing `SCORE` values?\n",
    "\n",
    "1. Use `isnull` to assign \n",
    "        - `True` for missing value \n",
    "        - `False` for present value\n",
    "2. Use `sum` to count the number of missing values \n",
    "        - Python will convert `True` to 1 and `False` to 0\n",
    "        - For example, `sum([True, False])` equals 1\n",
    " \n",
    "If you get stuck then see the code for Question 3b below."
   ]
  },
  {
   "cell_type": "code",
   "execution_count": 102,
   "metadata": {
    "deletable": false,
    "nbgrader": {
     "cell_type": "code",
     "checksum": "3062839c2eb17f1a3d1631d0c5308066",
     "grade": false,
     "grade_id": "cell-1e1e2cdc19e211c1",
     "locked": false,
     "schema_version": 3,
     "solution": true,
     "task": false
    }
   },
   "outputs": [],
   "source": [
    "pd.isnull(res['SCORE'])\n",
    "missing_scores = pd.isnull(res['SCORE']).sum()\n",
    "\n",
    "# YOUR CODE HERE\n",
    "#raise NotImplementedError()"
   ]
  },
  {
   "cell_type": "code",
   "execution_count": 103,
   "metadata": {},
   "outputs": [
    {
     "data": {
      "text/plain": [
       "19327"
      ]
     },
     "execution_count": 103,
     "metadata": {},
     "output_type": "execute_result"
    }
   ],
   "source": [
    "pd.isnull(res['SCORE']).sum()"
   ]
  },
  {
   "cell_type": "code",
   "execution_count": 104,
   "metadata": {
    "deletable": false,
    "editable": false,
    "nbgrader": {
     "cell_type": "code",
     "checksum": "a13dbcda8d042c0b90875d9443a64abb",
     "grade": true,
     "grade_id": "cell-16e0297198ab4277",
     "locked": true,
     "points": 1,
     "schema_version": 3,
     "solution": false,
     "task": false
    }
   },
   "outputs": [],
   "source": [
    "# TEST \n",
    "\n",
    "assert 10000 < missing_scores < 20000\n"
   ]
  },
  {
   "cell_type": "markdown",
   "metadata": {
    "deletable": false,
    "editable": false,
    "nbgrader": {
     "cell_type": "markdown",
     "checksum": "6179c50b40e02959d0ce0b47e09b5b20",
     "grade": false,
     "grade_id": "cell-df11393dbee18e91",
     "locked": true,
     "schema_version": 3,
     "solution": false,
     "task": false
    }
   },
   "source": [
    "### Question 3b\n",
    "\n",
    "Having studied zipcodes in Question 2c, let's try to identify which zip codes that are missing the most score values.\n",
    "\n",
    "Create a series where the index is `ZIPCODE`, and the value is the number of restaurants with missing score in that zip code. Your series should be in descending order meaning zipcode 10003 should be at the top of the series, with the value 592.\n",
    "\n",
    "1. Access the `SCORE` column\n",
    "1. Group by the `ZIPCODE` column \n",
    "1. We have provided you code for a function called `count_null` that counts the number of missing values. You can compare it  to Question 3a. Use `agg` on the groups from Step 2 with `count_null`. If you get stuck with `agg` then see Question 3c-2 below for an example.\n",
    "1. Use `sort_values` with `ascending = False`    "
   ]
  },
  {
   "cell_type": "code",
   "execution_count": 105,
   "metadata": {
    "deletable": false,
    "nbgrader": {
     "cell_type": "code",
     "checksum": "2092c70c3b702b033eeac85ca8cb3e7b",
     "grade": false,
     "grade_id": "cell-8a3630860075e51c",
     "locked": false,
     "schema_version": 3,
     "solution": true,
     "task": false
    }
   },
   "outputs": [
    {
     "data": {
      "text/plain": [
       "ZIPCODE\n",
       "10003.0    592.0\n",
       "10019.0    411.0\n",
       "10002.0    398.0\n",
       "10036.0    376.0\n",
       "10013.0    370.0\n",
       "           ...  \n",
       "10048.0      0.0\n",
       "10107.0      0.0\n",
       "10155.0      0.0\n",
       "10110.0      0.0\n",
       "10080.0      0.0\n",
       "Name: SCORE, Length: 223, dtype: float64"
      ]
     },
     "execution_count": 105,
     "metadata": {},
     "output_type": "execute_result"
    }
   ],
   "source": [
    "\n",
    "\n",
    "def count_null(s):\n",
    "    return len(s[s.isnull()])\n",
    "\n",
    "missing_zipcode = res[\"SCORE\"].groupby(res[\"ZIPCODE\"]).agg(count_null)\n",
    "num_missing_in_each_zip = missing_zipcode.sort_values(ascending = False)\n",
    "\n",
    "# YOUR CODE HERE\n",
    "#raise NotImplementedError()\n",
    "num_missing_in_each_zip"
   ]
  },
  {
   "cell_type": "code",
   "execution_count": null,
   "metadata": {
    "deletable": false,
    "editable": false,
    "nbgrader": {
     "cell_type": "code",
     "checksum": "5aaad1dcf9cbebd10473151b8bc38c09",
     "grade": true,
     "grade_id": "cell-2742febcf29920bc",
     "locked": true,
     "points": 1,
     "schema_version": 3,
     "solution": false,
     "task": false
    }
   },
   "outputs": [],
   "source": []
  },
  {
   "cell_type": "markdown",
   "metadata": {
    "deletable": false,
    "editable": false,
    "nbgrader": {
     "cell_type": "markdown",
     "checksum": "a99e5ee09f0d501d9f2b6477fbddc8f8",
     "grade": false,
     "grade_id": "cell-eecdb3896ae36e7811",
     "locked": true,
     "schema_version": 3,
     "solution": false,
     "task": false
    }
   },
   "source": [
    "### Question 3c\n",
    "\n",
    "$1$ Having counted the number of null values per zip code, we want to count the proportion of null values per zipcode. We need to write two functions comparable to `count_null`.\n",
    "\n",
    "1. `count_non_null`: Input is a Series. Output is the number of values in the Series that are not null.\n",
    "1. `fraction_null`: Input is a Series. Output is the fraction of values in the Series that are null.\n",
    "\n",
    "Note that `notnull` complements `isnull`"
   ]
  },
  {
   "cell_type": "code",
   "execution_count": 106,
   "metadata": {
    "deletable": false,
    "nbgrader": {
     "cell_type": "code",
     "checksum": "c933e1a0d489cedcbbd49a049c95c366",
     "grade": false,
     "grade_id": "cell-41514177a8065215",
     "locked": false,
     "schema_version": 3,
     "solution": true,
     "task": false
    }
   },
   "outputs": [],
   "source": [
    "def count_non_null(s):\n",
    "    return len(s[s.notnull()])\n",
    "# YOUR CODE HERE\n",
    "#raise NotImplementedError()\n",
    "\n",
    "def fraction_null(s):\n",
    "    return count_null(s)/ (count_non_null(s) + count_null(s))\n",
    "# YOUR CODE HERE\n",
    "#raise NotImplementedError()"
   ]
  },
  {
   "cell_type": "code",
   "execution_count": 107,
   "metadata": {
    "deletable": false,
    "editable": false,
    "nbgrader": {
     "cell_type": "code",
     "checksum": "a1b89df71dca2f58513422e487002dc8",
     "grade": true,
     "grade_id": "cell-2f6505f637ef93a7",
     "locked": true,
     "points": 0,
     "schema_version": 3,
     "solution": false,
     "task": false
    }
   },
   "outputs": [],
   "source": [
    "# TEST\n",
    "\n",
    "assert callable(count_non_null) and callable(fraction_null)"
   ]
  },
  {
   "cell_type": "markdown",
   "metadata": {
    "deletable": false,
    "editable": false,
    "nbgrader": {
     "cell_type": "markdown",
     "checksum": "1111e0d4b77d79f0940192e42320b17d",
     "grade": false,
     "grade_id": "cell-eecdb3896ae36e78",
     "locked": true,
     "schema_version": 3,
     "solution": false,
     "task": false
    }
   },
   "source": [
    "$2$ Now we create a new dataframe `fraction_missing_df`. It contains counts of the null values, not null values and proportion of null values. It has an index called `ZIPCODE` along with 3 columns:"
   ]
  },
  {
   "cell_type": "code",
   "execution_count": 108,
   "metadata": {
    "deletable": false,
    "editable": false,
    "nbgrader": {
     "cell_type": "code",
     "checksum": "1aef409649caccb80dbbe7a90ee0c640",
     "grade": false,
     "grade_id": "cell-db6d24dc3447bc5f",
     "locked": true,
     "schema_version": 3,
     "solution": false,
     "task": false
    }
   },
   "outputs": [
    {
     "data": {
      "text/html": [
       "<div>\n",
       "<style scoped>\n",
       "    .dataframe tbody tr th:only-of-type {\n",
       "        vertical-align: middle;\n",
       "    }\n",
       "\n",
       "    .dataframe tbody tr th {\n",
       "        vertical-align: top;\n",
       "    }\n",
       "\n",
       "    .dataframe thead th {\n",
       "        text-align: right;\n",
       "    }\n",
       "</style>\n",
       "<table border=\"1\" class=\"dataframe\">\n",
       "  <thead>\n",
       "    <tr style=\"text-align: right;\">\n",
       "      <th></th>\n",
       "      <th>count_non_null</th>\n",
       "      <th>count_null</th>\n",
       "      <th>fraction_null</th>\n",
       "    </tr>\n",
       "    <tr>\n",
       "      <th>ZIPCODE</th>\n",
       "      <th></th>\n",
       "      <th></th>\n",
       "      <th></th>\n",
       "    </tr>\n",
       "  </thead>\n",
       "  <tbody>\n",
       "    <tr>\n",
       "      <th>10000.0</th>\n",
       "      <td>27.0</td>\n",
       "      <td>1.0</td>\n",
       "      <td>0.035714</td>\n",
       "    </tr>\n",
       "    <tr>\n",
       "      <th>10001.0</th>\n",
       "      <td>6522.0</td>\n",
       "      <td>335.0</td>\n",
       "      <td>0.048855</td>\n",
       "    </tr>\n",
       "    <tr>\n",
       "      <th>10002.0</th>\n",
       "      <td>7043.0</td>\n",
       "      <td>398.0</td>\n",
       "      <td>0.053487</td>\n",
       "    </tr>\n",
       "  </tbody>\n",
       "</table>\n",
       "</div>"
      ],
      "text/plain": [
       "         count_non_null  count_null  fraction_null\n",
       "ZIPCODE                                           \n",
       "10000.0            27.0         1.0       0.035714\n",
       "10001.0          6522.0       335.0       0.048855\n",
       "10002.0          7043.0       398.0       0.053487"
      ]
     },
     "execution_count": 108,
     "metadata": {},
     "output_type": "execute_result"
    }
   ],
   "source": [
    "fraction_missing_df = res['SCORE'].groupby(res['ZIPCODE']).agg([count_non_null, count_null, fraction_null])\n",
    "fraction_missing_df.head(3)"
   ]
  },
  {
   "cell_type": "markdown",
   "metadata": {
    "deletable": false,
    "editable": false,
    "nbgrader": {
     "cell_type": "markdown",
     "checksum": "2af092ffb007b575429a33826ed25ff7",
     "grade": false,
     "grade_id": "cell-8d7e2a986c0e69c7",
     "locked": true,
     "schema_version": 3,
     "solution": false,
     "task": false
    }
   },
   "source": [
    "Use the method `rename` to replace `count_non_null`, `count_null`, `fraction_null` with `Count Valid`, `Count Missing` and `Proportion Missing`."
   ]
  },
  {
   "cell_type": "code",
   "execution_count": 109,
   "metadata": {
    "deletable": false,
    "nbgrader": {
     "cell_type": "code",
     "checksum": "05cfc8a82f60ad2c6f30b345b1baa08c",
     "grade": false,
     "grade_id": "cell-983a3bab8d1e8024",
     "locked": false,
     "schema_version": 3,
     "solution": true,
     "task": false
    }
   },
   "outputs": [],
   "source": [
    "# YOUR CODE HERE\n",
    "fraction_missing_df.rename(columns = {'count_non_null': 'Count Valid', \\\n",
    "                                            'count_null':'Count Missing', \\\n",
    "                                            'fraction_null': 'Proportion Missing'}, inplace = True)\n",
    "#raise NotImplementedError()\n"
   ]
  },
  {
   "cell_type": "code",
   "execution_count": 110,
   "metadata": {
    "deletable": false,
    "editable": false,
    "nbgrader": {
     "cell_type": "code",
     "checksum": "585700e921594bfa67f47e4d030bcaf7",
     "grade": true,
     "grade_id": "cell-17efa984913d0432",
     "locked": true,
     "points": 0,
     "schema_version": 3,
     "solution": false,
     "task": false
    }
   },
   "outputs": [],
   "source": [
    "# TEST \n",
    "\n",
    "assert set(fraction_missing_df.columns) == set([\"Count Valid\",\"Count Missing\", \"Proportion Missing\"])"
   ]
  },
  {
   "cell_type": "markdown",
   "metadata": {
    "deletable": false,
    "editable": false,
    "nbgrader": {
     "cell_type": "markdown",
     "checksum": "9ec37944abced5c9d86b519bf8754d86",
     "grade": false,
     "grade_id": "cell-eecdb3896ae36e78122",
     "locked": true,
     "schema_version": 3,
     "solution": false,
     "task": false
    }
   },
   "source": [
    "$3.$ Create a new data frame called `fraction_missing_df_sorted` by sorting `fraction_missing_df` with the fraction of null values. The order should be descending meaning that zipcode 10158 should be on top corresponding to 0.3333333 "
   ]
  },
  {
   "cell_type": "code",
   "execution_count": 111,
   "metadata": {
    "deletable": false,
    "nbgrader": {
     "cell_type": "code",
     "checksum": "da5cdbf55308730edaf97d949917780b",
     "grade": false,
     "grade_id": "cell-2041cb592ae01104",
     "locked": false,
     "schema_version": 3,
     "solution": true,
     "task": false
    }
   },
   "outputs": [
    {
     "data": {
      "text/html": [
       "<div>\n",
       "<style scoped>\n",
       "    .dataframe tbody tr th:only-of-type {\n",
       "        vertical-align: middle;\n",
       "    }\n",
       "\n",
       "    .dataframe tbody tr th {\n",
       "        vertical-align: top;\n",
       "    }\n",
       "\n",
       "    .dataframe thead th {\n",
       "        text-align: right;\n",
       "    }\n",
       "</style>\n",
       "<table border=\"1\" class=\"dataframe\">\n",
       "  <thead>\n",
       "    <tr style=\"text-align: right;\">\n",
       "      <th></th>\n",
       "      <th>Count Valid</th>\n",
       "      <th>Count Missing</th>\n",
       "      <th>Proportion Missing</th>\n",
       "    </tr>\n",
       "    <tr>\n",
       "      <th>ZIPCODE</th>\n",
       "      <th></th>\n",
       "      <th></th>\n",
       "      <th></th>\n",
       "    </tr>\n",
       "  </thead>\n",
       "  <tbody>\n",
       "    <tr>\n",
       "      <th>10158.0</th>\n",
       "      <td>4.0</td>\n",
       "      <td>2.0</td>\n",
       "      <td>0.333333</td>\n",
       "    </tr>\n",
       "    <tr>\n",
       "      <th>10176.0</th>\n",
       "      <td>9.0</td>\n",
       "      <td>4.0</td>\n",
       "      <td>0.307692</td>\n",
       "    </tr>\n",
       "    <tr>\n",
       "      <th>11371.0</th>\n",
       "      <td>11.0</td>\n",
       "      <td>3.0</td>\n",
       "      <td>0.214286</td>\n",
       "    </tr>\n",
       "    <tr>\n",
       "      <th>10170.0</th>\n",
       "      <td>29.0</td>\n",
       "      <td>5.0</td>\n",
       "      <td>0.147059</td>\n",
       "    </tr>\n",
       "    <tr>\n",
       "      <th>10173.0</th>\n",
       "      <td>7.0</td>\n",
       "      <td>1.0</td>\n",
       "      <td>0.125000</td>\n",
       "    </tr>\n",
       "    <tr>\n",
       "      <th>...</th>\n",
       "      <td>...</td>\n",
       "      <td>...</td>\n",
       "      <td>...</td>\n",
       "    </tr>\n",
       "    <tr>\n",
       "      <th>10168.0</th>\n",
       "      <td>18.0</td>\n",
       "      <td>0.0</td>\n",
       "      <td>0.000000</td>\n",
       "    </tr>\n",
       "    <tr>\n",
       "      <th>10178.0</th>\n",
       "      <td>29.0</td>\n",
       "      <td>0.0</td>\n",
       "      <td>0.000000</td>\n",
       "    </tr>\n",
       "    <tr>\n",
       "      <th>10171.0</th>\n",
       "      <td>10.0</td>\n",
       "      <td>0.0</td>\n",
       "      <td>0.000000</td>\n",
       "    </tr>\n",
       "    <tr>\n",
       "      <th>10172.0</th>\n",
       "      <td>5.0</td>\n",
       "      <td>0.0</td>\n",
       "      <td>0.000000</td>\n",
       "    </tr>\n",
       "    <tr>\n",
       "      <th>10174.0</th>\n",
       "      <td>22.0</td>\n",
       "      <td>0.0</td>\n",
       "      <td>0.000000</td>\n",
       "    </tr>\n",
       "  </tbody>\n",
       "</table>\n",
       "<p>223 rows × 3 columns</p>\n",
       "</div>"
      ],
      "text/plain": [
       "         Count Valid  Count Missing  Proportion Missing\n",
       "ZIPCODE                                                \n",
       "10158.0          4.0            2.0            0.333333\n",
       "10176.0          9.0            4.0            0.307692\n",
       "11371.0         11.0            3.0            0.214286\n",
       "10170.0         29.0            5.0            0.147059\n",
       "10173.0          7.0            1.0            0.125000\n",
       "...              ...            ...                 ...\n",
       "10168.0         18.0            0.0            0.000000\n",
       "10178.0         29.0            0.0            0.000000\n",
       "10171.0         10.0            0.0            0.000000\n",
       "10172.0          5.0            0.0            0.000000\n",
       "10174.0         22.0            0.0            0.000000\n",
       "\n",
       "[223 rows x 3 columns]"
      ]
     },
     "execution_count": 111,
     "metadata": {},
     "output_type": "execute_result"
    }
   ],
   "source": [
    "fraction_missing_df_sorted = fraction_missing_df.sort_values('Proportion Missing', ascending = False)\n",
    "fraction_missing_df_sorted\n",
    "# YOUR CODE HERE\n",
    "#raise NotImplementedError()"
   ]
  },
  {
   "cell_type": "code",
   "execution_count": 112,
   "metadata": {
    "deletable": false,
    "editable": false,
    "nbgrader": {
     "cell_type": "code",
     "checksum": "f4a1be5315a198db7526b03fda62d86f",
     "grade": true,
     "grade_id": "cell-b0c2bfff3bbe0c1b",
     "locked": true,
     "points": 2,
     "schema_version": 3,
     "solution": false,
     "task": false
    }
   },
   "outputs": [],
   "source": [
    "# TEST \n",
    "\n",
    "assert abs(fraction_missing_df_sorted.iloc[0,2] - 1.0/3.0) < 1e-3\n"
   ]
  },
  {
   "cell_type": "markdown",
   "metadata": {
    "deletable": false,
    "editable": false,
    "nbgrader": {
     "cell_type": "markdown",
     "checksum": "2fb51d201d148340a37793bcae666693",
     "grade": false,
     "grade_id": "cell-54e7ec928902e42d",
     "locked": true,
     "schema_version": 3,
     "solution": false,
     "task": false
    }
   },
   "source": [
    "### 4: Distribution of Scores across New York "
   ]
  },
  {
   "cell_type": "markdown",
   "metadata": {
    "deletable": false,
    "editable": false,
    "nbgrader": {
     "cell_type": "markdown",
     "checksum": "8b9472dcf07526f11d8bd93859ef9f54",
     "grade": false,
     "grade_id": "cell-83587ea94f51c06f",
     "locked": true,
     "schema_version": 3,
     "solution": false,
     "task": false
    }
   },
   "source": [
    "### Question 4a\n",
    "\n",
    "Read all rows from the `GRADE` and `BORO` column into a DataFrame called `inspection`. "
   ]
  },
  {
   "cell_type": "code",
   "execution_count": 113,
   "metadata": {
    "deletable": false,
    "nbgrader": {
     "cell_type": "code",
     "checksum": "69920aacd7e97fd2a6225f370d1dad79",
     "grade": false,
     "grade_id": "cell-73249727a7d29604",
     "locked": false,
     "schema_version": 3,
     "solution": true,
     "task": false
    }
   },
   "outputs": [
    {
     "data": {
      "text/html": [
       "<div>\n",
       "<style scoped>\n",
       "    .dataframe tbody tr th:only-of-type {\n",
       "        vertical-align: middle;\n",
       "    }\n",
       "\n",
       "    .dataframe tbody tr th {\n",
       "        vertical-align: top;\n",
       "    }\n",
       "\n",
       "    .dataframe thead th {\n",
       "        text-align: right;\n",
       "    }\n",
       "</style>\n",
       "<table border=\"1\" class=\"dataframe\">\n",
       "  <thead>\n",
       "    <tr style=\"text-align: right;\">\n",
       "      <th></th>\n",
       "      <th>GRADE</th>\n",
       "      <th>BORO</th>\n",
       "    </tr>\n",
       "  </thead>\n",
       "  <tbody>\n",
       "    <tr>\n",
       "      <th>0</th>\n",
       "      <td>B</td>\n",
       "      <td>QUEENS</td>\n",
       "    </tr>\n",
       "    <tr>\n",
       "      <th>1</th>\n",
       "      <td>B</td>\n",
       "      <td>QUEENS</td>\n",
       "    </tr>\n",
       "    <tr>\n",
       "      <th>2</th>\n",
       "      <td>NaN</td>\n",
       "      <td>BROOKLYN</td>\n",
       "    </tr>\n",
       "    <tr>\n",
       "      <th>3</th>\n",
       "      <td>NaN</td>\n",
       "      <td>QUEENS</td>\n",
       "    </tr>\n",
       "    <tr>\n",
       "      <th>4</th>\n",
       "      <td>A</td>\n",
       "      <td>QUEENS</td>\n",
       "    </tr>\n",
       "    <tr>\n",
       "      <th>...</th>\n",
       "      <td>...</td>\n",
       "      <td>...</td>\n",
       "    </tr>\n",
       "    <tr>\n",
       "      <th>381829</th>\n",
       "      <td>NaN</td>\n",
       "      <td>MANHATTAN</td>\n",
       "    </tr>\n",
       "    <tr>\n",
       "      <th>381830</th>\n",
       "      <td>A</td>\n",
       "      <td>MANHATTAN</td>\n",
       "    </tr>\n",
       "    <tr>\n",
       "      <th>381831</th>\n",
       "      <td>NaN</td>\n",
       "      <td>MANHATTAN</td>\n",
       "    </tr>\n",
       "    <tr>\n",
       "      <th>381832</th>\n",
       "      <td>A</td>\n",
       "      <td>BRONX</td>\n",
       "    </tr>\n",
       "    <tr>\n",
       "      <th>381833</th>\n",
       "      <td>A</td>\n",
       "      <td>BRONX</td>\n",
       "    </tr>\n",
       "  </tbody>\n",
       "</table>\n",
       "<p>381834 rows × 2 columns</p>\n",
       "</div>"
      ],
      "text/plain": [
       "       GRADE       BORO\n",
       "0          B     QUEENS\n",
       "1          B     QUEENS\n",
       "2        NaN   BROOKLYN\n",
       "3        NaN     QUEENS\n",
       "4          A     QUEENS\n",
       "...      ...        ...\n",
       "381829   NaN  MANHATTAN\n",
       "381830     A  MANHATTAN\n",
       "381831   NaN  MANHATTAN\n",
       "381832     A      BRONX\n",
       "381833     A      BRONX\n",
       "\n",
       "[381834 rows x 2 columns]"
      ]
     },
     "execution_count": 113,
     "metadata": {},
     "output_type": "execute_result"
    }
   ],
   "source": [
    "inspection = res[[\"GRADE\", \"BORO\"]]\n",
    "inspection\n",
    "# YOUR CODE HERE\n",
    "#raise NotImplementedError()"
   ]
  },
  {
   "cell_type": "code",
   "execution_count": 114,
   "metadata": {
    "deletable": false,
    "editable": false,
    "nbgrader": {
     "cell_type": "code",
     "checksum": "2814ad0a972b465993bb37e197faace4",
     "grade": true,
     "grade_id": "cell-e91c3353311668e5",
     "locked": true,
     "points": 1,
     "schema_version": 3,
     "solution": false,
     "task": false
    }
   },
   "outputs": [],
   "source": [
    "# TEST \n",
    "\n",
    "assert inspection.shape[1] == 2\n"
   ]
  },
  {
   "cell_type": "markdown",
   "metadata": {
    "deletable": false,
    "editable": false,
    "nbgrader": {
     "cell_type": "markdown",
     "checksum": "f8b2ba8277d898cb4a2303990a0e7cb0",
     "grade": false,
     "grade_id": "cell-dee2de55a09fb50a",
     "locked": true,
     "schema_version": 3,
     "solution": false,
     "task": false
    }
   },
   "source": [
    "### Question 4b\n",
    "\n",
    "Filter `inspection` to contain rows with grade A,B, or C in the `GRADE` column. Call the resulting Data Frame `inspection_cleaned_grades`.\n",
    "\n",
    "1. Access the `GRADE` column of `inspection`.\n",
    "1. Use `isin` to check whether the value is contained in `['A','B','C']`"
   ]
  },
  {
   "cell_type": "code",
   "execution_count": 115,
   "metadata": {
    "deletable": false,
    "nbgrader": {
     "cell_type": "code",
     "checksum": "292f83bc53c18d69661dfea287cdd542",
     "grade": false,
     "grade_id": "cell-6b9ac03665a9c391",
     "locked": false,
     "schema_version": 3,
     "solution": true,
     "task": false
    }
   },
   "outputs": [
    {
     "data": {
      "text/html": [
       "<div>\n",
       "<style scoped>\n",
       "    .dataframe tbody tr th:only-of-type {\n",
       "        vertical-align: middle;\n",
       "    }\n",
       "\n",
       "    .dataframe tbody tr th {\n",
       "        vertical-align: top;\n",
       "    }\n",
       "\n",
       "    .dataframe thead th {\n",
       "        text-align: right;\n",
       "    }\n",
       "</style>\n",
       "<table border=\"1\" class=\"dataframe\">\n",
       "  <thead>\n",
       "    <tr style=\"text-align: right;\">\n",
       "      <th></th>\n",
       "      <th>GRADE</th>\n",
       "      <th>BORO</th>\n",
       "    </tr>\n",
       "  </thead>\n",
       "  <tbody>\n",
       "    <tr>\n",
       "      <th>0</th>\n",
       "      <td>B</td>\n",
       "      <td>QUEENS</td>\n",
       "    </tr>\n",
       "    <tr>\n",
       "      <th>1</th>\n",
       "      <td>B</td>\n",
       "      <td>QUEENS</td>\n",
       "    </tr>\n",
       "    <tr>\n",
       "      <th>4</th>\n",
       "      <td>A</td>\n",
       "      <td>QUEENS</td>\n",
       "    </tr>\n",
       "    <tr>\n",
       "      <th>6</th>\n",
       "      <td>A</td>\n",
       "      <td>MANHATTAN</td>\n",
       "    </tr>\n",
       "    <tr>\n",
       "      <th>8</th>\n",
       "      <td>A</td>\n",
       "      <td>MANHATTAN</td>\n",
       "    </tr>\n",
       "    <tr>\n",
       "      <th>...</th>\n",
       "      <td>...</td>\n",
       "      <td>...</td>\n",
       "    </tr>\n",
       "    <tr>\n",
       "      <th>381826</th>\n",
       "      <td>A</td>\n",
       "      <td>QUEENS</td>\n",
       "    </tr>\n",
       "    <tr>\n",
       "      <th>381827</th>\n",
       "      <td>A</td>\n",
       "      <td>BRONX</td>\n",
       "    </tr>\n",
       "    <tr>\n",
       "      <th>381830</th>\n",
       "      <td>A</td>\n",
       "      <td>MANHATTAN</td>\n",
       "    </tr>\n",
       "    <tr>\n",
       "      <th>381832</th>\n",
       "      <td>A</td>\n",
       "      <td>BRONX</td>\n",
       "    </tr>\n",
       "    <tr>\n",
       "      <th>381833</th>\n",
       "      <td>A</td>\n",
       "      <td>BRONX</td>\n",
       "    </tr>\n",
       "  </tbody>\n",
       "</table>\n",
       "<p>183718 rows × 2 columns</p>\n",
       "</div>"
      ],
      "text/plain": [
       "       GRADE       BORO\n",
       "0          B     QUEENS\n",
       "1          B     QUEENS\n",
       "4          A     QUEENS\n",
       "6          A  MANHATTAN\n",
       "8          A  MANHATTAN\n",
       "...      ...        ...\n",
       "381826     A     QUEENS\n",
       "381827     A      BRONX\n",
       "381830     A  MANHATTAN\n",
       "381832     A      BRONX\n",
       "381833     A      BRONX\n",
       "\n",
       "[183718 rows x 2 columns]"
      ]
     },
     "execution_count": 115,
     "metadata": {},
     "output_type": "execute_result"
    }
   ],
   "source": [
    "inspection_cleaned_grades = inspection[inspection['GRADE'].isin([\"A\",\"B\",\"C\"])]\n",
    "\n",
    "\n",
    "# YOUR CODE HERE\n",
    "#raise NotImplementedError()\n",
    "inspection_cleaned_grades"
   ]
  },
  {
   "cell_type": "code",
   "execution_count": 116,
   "metadata": {
    "deletable": false,
    "editable": false,
    "nbgrader": {
     "cell_type": "code",
     "checksum": "520c9d38e66692ef9a6f2d9f197f78ee",
     "grade": true,
     "grade_id": "cell-a477cfcc9271c3fa",
     "locked": true,
     "points": 1,
     "schema_version": 3,
     "solution": false,
     "task": false
    }
   },
   "outputs": [],
   "source": [
    "# TEST\n",
    "assert inspection_cleaned_grades.shape[1] == 2\n"
   ]
  },
  {
   "cell_type": "markdown",
   "metadata": {
    "deletable": false,
    "editable": false,
    "nbgrader": {
     "cell_type": "markdown",
     "checksum": "9477b2661aaf7a9e07603837e75b0c65",
     "grade": false,
     "grade_id": "cell-dee2de55a09fb50a11",
     "locked": true,
     "schema_version": 3,
     "solution": false,
     "task": false
    }
   },
   "source": [
    "### Question 4c\n",
    "\n",
    "Some of the entries in `BORO` column contain the value `Missing`. Filter `inspection_cleaned_grades` to remove rows containing `Missing`. Call the resulting Data Frame `inspection_cleaned`. \n",
    "\n",
    "1. We have provided you with a function called `check_contains_missing`. \n",
    "1. Use the function with `applymap` to determine the rows in `BORO` column containing the value 'Missing'. \n",
    "1. Use `~` to access the rows with the value `Missing`."
   ]
  },
  {
   "cell_type": "code",
   "execution_count": 117,
   "metadata": {
    "deletable": false,
    "nbgrader": {
     "cell_type": "code",
     "checksum": "d4fcb2b0d0a257c9b79dc03544a5f2a9",
     "grade": false,
     "grade_id": "cell-c4062bd4535e6a0b",
     "locked": false,
     "schema_version": 3,
     "solution": true,
     "task": false
    }
   },
   "outputs": [
    {
     "data": {
      "text/html": [
       "<div>\n",
       "<style scoped>\n",
       "    .dataframe tbody tr th:only-of-type {\n",
       "        vertical-align: middle;\n",
       "    }\n",
       "\n",
       "    .dataframe tbody tr th {\n",
       "        vertical-align: top;\n",
       "    }\n",
       "\n",
       "    .dataframe thead th {\n",
       "        text-align: right;\n",
       "    }\n",
       "</style>\n",
       "<table border=\"1\" class=\"dataframe\">\n",
       "  <thead>\n",
       "    <tr style=\"text-align: right;\">\n",
       "      <th></th>\n",
       "      <th>GRADE</th>\n",
       "      <th>BORO</th>\n",
       "    </tr>\n",
       "  </thead>\n",
       "  <tbody>\n",
       "    <tr>\n",
       "      <th>0</th>\n",
       "      <td>B</td>\n",
       "      <td>QUEENS</td>\n",
       "    </tr>\n",
       "    <tr>\n",
       "      <th>1</th>\n",
       "      <td>B</td>\n",
       "      <td>QUEENS</td>\n",
       "    </tr>\n",
       "    <tr>\n",
       "      <th>4</th>\n",
       "      <td>A</td>\n",
       "      <td>QUEENS</td>\n",
       "    </tr>\n",
       "    <tr>\n",
       "      <th>6</th>\n",
       "      <td>A</td>\n",
       "      <td>MANHATTAN</td>\n",
       "    </tr>\n",
       "    <tr>\n",
       "      <th>8</th>\n",
       "      <td>A</td>\n",
       "      <td>MANHATTAN</td>\n",
       "    </tr>\n",
       "    <tr>\n",
       "      <th>...</th>\n",
       "      <td>...</td>\n",
       "      <td>...</td>\n",
       "    </tr>\n",
       "    <tr>\n",
       "      <th>381826</th>\n",
       "      <td>A</td>\n",
       "      <td>QUEENS</td>\n",
       "    </tr>\n",
       "    <tr>\n",
       "      <th>381827</th>\n",
       "      <td>A</td>\n",
       "      <td>BRONX</td>\n",
       "    </tr>\n",
       "    <tr>\n",
       "      <th>381830</th>\n",
       "      <td>A</td>\n",
       "      <td>MANHATTAN</td>\n",
       "    </tr>\n",
       "    <tr>\n",
       "      <th>381832</th>\n",
       "      <td>A</td>\n",
       "      <td>BRONX</td>\n",
       "    </tr>\n",
       "    <tr>\n",
       "      <th>381833</th>\n",
       "      <td>A</td>\n",
       "      <td>BRONX</td>\n",
       "    </tr>\n",
       "  </tbody>\n",
       "</table>\n",
       "<p>183706 rows × 2 columns</p>\n",
       "</div>"
      ],
      "text/plain": [
       "       GRADE       BORO\n",
       "0          B     QUEENS\n",
       "1          B     QUEENS\n",
       "4          A     QUEENS\n",
       "6          A  MANHATTAN\n",
       "8          A  MANHATTAN\n",
       "...      ...        ...\n",
       "381826     A     QUEENS\n",
       "381827     A      BRONX\n",
       "381830     A  MANHATTAN\n",
       "381832     A      BRONX\n",
       "381833     A      BRONX\n",
       "\n",
       "[183706 rows x 2 columns]"
      ]
     },
     "execution_count": 117,
     "metadata": {},
     "output_type": "execute_result"
    }
   ],
   "source": [
    "def check_contains_missing(s):\n",
    "    return \"Missing\" in s\n",
    "\n",
    "inspection_cleaned = inspection_cleaned_grades[~inspection_cleaned_grades['BORO'].map(check_contains_missing)]\n",
    "inspection_cleaned\n",
    "# YOUR CODE HERE\n",
    "#raise NotImplementedError()"
   ]
  },
  {
   "cell_type": "code",
   "execution_count": 118,
   "metadata": {
    "deletable": false,
    "editable": false,
    "nbgrader": {
     "cell_type": "code",
     "checksum": "1814cc938c325f033b2885591ae73121",
     "grade": true,
     "grade_id": "cell-4d00ab245c357450",
     "locked": true,
     "points": 1,
     "schema_version": 3,
     "solution": false,
     "task": false
    }
   },
   "outputs": [],
   "source": [
    "# TEST \n",
    "\n",
    "assert inspection_cleaned[~inspection_cleaned['BORO'].isin(['QUEENS', 'BROOKLYN', 'BRONX', 'MANHATTAN', 'STATEN ISLAND'])].shape[0] == 0\n"
   ]
  },
  {
   "cell_type": "markdown",
   "metadata": {},
   "source": [
    "### Question 4c"
   ]
  },
  {
   "cell_type": "markdown",
   "metadata": {
    "deletable": false,
    "editable": false,
    "nbgrader": {
     "cell_type": "markdown",
     "checksum": "f668dc2e6c43a7eb658278f695b11550",
     "grade": false,
     "grade_id": "cell-fe8c571d269d702f",
     "locked": true,
     "schema_version": 3,
     "solution": false,
     "task": false
    }
   },
   "source": [
    "We want to determine the number of grades `A`,`B`,`C` amongst the five boroughs. We need to group by both `GRADE` and `BORO`.\n",
    " \n",
    "1. Use `groupby` to group `inspection_cleaned` by `[\"GRADE\", \"BORO\"]`.\n",
    "1. Use `size` to count the number of restaurants in each group.\n",
    "\n",
    "Name the resulting Data Frame `inspection_cleaned_groups`."
   ]
  },
  {
   "cell_type": "code",
   "execution_count": 119,
   "metadata": {
    "deletable": false,
    "nbgrader": {
     "cell_type": "code",
     "checksum": "805616f6b0c5433b5bb5f21bd4db6c4c",
     "grade": false,
     "grade_id": "cell-47d5c311f98473a5",
     "locked": false,
     "schema_version": 3,
     "solution": true,
     "task": false
    }
   },
   "outputs": [
    {
     "data": {
      "text/plain": [
       "GRADE  BORO         \n",
       "A      BRONX            13687\n",
       "       BROOKLYN         37468\n",
       "       MANHATTAN        60752\n",
       "       QUEENS           34828\n",
       "       STATEN ISLAND     5232\n",
       "B      BRONX             2417\n",
       "       BROOKLYN          6302\n",
       "       MANHATTAN         9285\n",
       "       QUEENS            5481\n",
       "       STATEN ISLAND      909\n",
       "C      BRONX              841\n",
       "       BROOKLYN          1863\n",
       "       MANHATTAN         2900\n",
       "       QUEENS            1527\n",
       "       STATEN ISLAND      214\n",
       "dtype: int64"
      ]
     },
     "execution_count": 119,
     "metadata": {},
     "output_type": "execute_result"
    }
   ],
   "source": [
    "inspection_cleaned_groups = inspection_cleaned.groupby([\"GRADE\", \"BORO\"]).size()\n",
    "\n",
    "# YOUR CODE HERE\n",
    "#raise NotImplementedError()\n",
    "inspection_cleaned_groups"
   ]
  },
  {
   "cell_type": "markdown",
   "metadata": {
    "deletable": false,
    "editable": false,
    "nbgrader": {
     "cell_type": "markdown",
     "checksum": "6aa5ce3f441e622e41683dbe75cf1f2f",
     "grade": false,
     "grade_id": "cell-6014b2b9345853e6",
     "locked": true,
     "schema_version": 3,
     "solution": false,
     "task": false
    }
   },
   "source": [
    "Run the following code to generate a bar chart. Remember that a bar chart and histogram both capture counts or frequencies of a single variable. However, bar charts plot qualitative data with the height indicating the count or frequency for each category."
   ]
  },
  {
   "cell_type": "code",
   "execution_count": 120,
   "metadata": {
    "deletable": false,
    "editable": false,
    "nbgrader": {
     "cell_type": "code",
     "checksum": "c2f8a92d100451607ef673e1d8bae904",
     "grade": false,
     "grade_id": "cell-2036d7f8ac12a3ff",
     "locked": true,
     "schema_version": 3,
     "solution": false,
     "task": false
    }
   },
   "outputs": [
    {
     "data": {
      "image/png": "[encoded data removed]",
      "text/plain": [
       "<Figure size 2400x1200 with 1 Axes>"
      ]
     },
     "metadata": {
      "needs_background": "light"
     },
     "output_type": "display_data"
    }
   ],
   "source": [
    "inspection_cleaned_groups.unstack(level=0).plot(kind=\"bar\");"
   ]
  },
  {
   "cell_type": "markdown",
   "metadata": {
    "deletable": false,
    "editable": false,
    "nbgrader": {
     "cell_type": "markdown",
     "checksum": "34564704a3b45d11ce09ee8f978b42d2",
     "grade": false,
     "grade_id": "cell-e6656f42279a7919",
     "locked": true,
     "schema_version": 3,
     "solution": false,
     "task": false
    }
   },
   "source": [
    "Based on the bar chart, where would you prefer to find a restaurant? In other words, which boroughs have the most sanitary food?"
   ]
  },
  {
   "cell_type": "markdown",
   "metadata": {},
   "source": [
    "**YOUR ANSWER HERE**\n",
    "Just by looking at the visual it apears that manhattan has the highest proportion and number of grade A restuarants. I would most likely choose manhattan just because they have the highest proportion of grade A restuarants."
   ]
  },
  {
   "cell_type": "markdown",
   "metadata": {},
   "source": [
    "## Congrats !\n",
    "\n",
    "You are finished with HW2. We have covered many components of the `pandas` package. Please see the [documentation](https://pandas.pydata.org/pandas-docs/stable/) for more information about these methods from the assignment:\n",
    "\n",
    "- `read_csv`\n",
    "- `value_counts`\n",
    "- `sort_values`\n",
    "- `unique`\n",
    "- `groupby`\n",
    "- `agg`\n",
    "- `isnull`\n",
    "- `notnull`\n",
    "- `fillna`\n",
    "- `rename`\n",
    "- `isin`"
   ]
  }
 ],
 "metadata": {
  "kernelspec": {
   "display_name": "Python [conda env:dsua-112]",
   "language": "python",
   "name": "conda-env-dsua-112-py"
  },
  "language_info": {
   "codemirror_mode": {
    "name": "ipython",
    "version": 3
   },
   "file_extension": ".py",
   "mimetype": "text/x-python",
   "name": "python",
   "nbconvert_exporter": "python",
   "pygments_lexer": "ipython3",
   "version": "3.7.6"
  },
  "varInspector": {
   "cols": {
    "lenName": 16,
    "lenType": 16,
    "lenVar": 40
   },
   "kernels_config": {
    "python": {
     "delete_cmd_postfix": "",
     "delete_cmd_prefix": "del ",
     "library": "var_list.py",
     "varRefreshCmd": "print(var_dic_list())"
    },
    "r": {
     "delete_cmd_postfix": ") ",
     "delete_cmd_prefix": "rm(",
     "library": "var_list.r",
     "varRefreshCmd": "cat(var_dic_list()) "
    }
   },
   "types_to_exclude": [
    "module",
    "function",
    "builtin_function_or_method",
    "instance",
    "_Feature"
   ],
   "window_display": false
  }
 },
 "nbformat": 4,
 "nbformat_minor": 4
}
