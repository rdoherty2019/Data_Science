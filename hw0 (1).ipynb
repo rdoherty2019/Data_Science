{
 "cells": [
  {
   "cell_type": "markdown",
   "metadata": {},
   "source": [
    "## General Information\n",
    "\n",
    "We have gathered together some general information that should help you navigate the educational technologies needed for the semester \n",
    "\n",
    " -  JupyterHub \n",
    " - Gradescope \n",
    " - Piazza \n",
    " \n",
    "We have provided you two coding questions to allow you to get experience using them. While we will evaluate the questions for correctness, we will not grade you. This assignment is intended to help you\n",
    "\n",
    "1. Understand and modify Jupyter Notebooks on JupyterHub \n",
    "1. Submit a completed Jupyter Notebook on JupyterHub and Gradescope\n",
    "1. Properly format your submissions for grading"
   ]
  },
  {
   "cell_type": "markdown",
   "metadata": {},
   "source": [
    "### Gradescope\n",
    "\n",
    "The platform facilitates grading of assignment and exams. Note that we will not use NYU Classes Gradebook. \n",
    "\n",
    " - **Submission**\n",
    "    * Students submit their homework and projects on Gradescope. However, students are not responsible for submitting their labs on Gradescope. \n",
    "    * Note that Gradescope supports files in Portable Document Format (.pdf). For example, you need to convert files in Jupyter Notebook format (.ipynb) to Portable Document Format (.pdf) before uploading your submission. See the instructions below for more information on formatting.\n",
    "    * For each question on the assignment, you need to indicate the location of your answer. Failure to map your responses on Gradescope will cause deduction of points. \n",
    " - **Grades**   \n",
    "    * Students access their grades on Gradescope for homework, projects, and labs along with midterm and final. \n",
    "    * Note that you can raise a regrade request through Gradescope. If you encounter an issue with the grading of assignments or exams, then please come to grader office hours to follow up on the regrade request. \n",
    "\n",
    "Please see the [instructional video](https://www.gradescope.com/get_started#student-submission) for more information about Gradescope."
   ]
  },
  {
   "cell_type": "markdown",
   "metadata": {},
   "source": [
    "### JupyterHub\n",
    "\n",
    "The platform provides a computing environment. Students can use an interface to combine code, text and charts.\n",
    "\n",
    " - **Usage**\n",
    "    * Access JupyterHub with your NYU credentials. Note that you need Multi-Factor Authentication. Please use the Chrome browser\n",
    "    * Under `Control Panel` you can start or stop your server to begin or end a session. Note that `Logout` will not stop your server.\n",
    "    * Sessions are terminated following a half hour of idleness. Session are limited to three hours. You are encouraged to log in before lecture or section to avoid waiting for the server to start the session.    \n",
    "    * If you experience any issues, then please post to Piazza indicating your NetId. Your NetId will allow us to identify your session. \n",
    " - **Organization**\n",
    "    * Your folders should look like \n",
    "        - `shared/` : You have read access to the folder. We will add data to the folder needed for assignments.\n",
    "        - `class_materials/from_github/` : Materials from lecture and sections including slides and notebooks. Note that the folder updates periodically with changes or additions. Any modifications to files in the folder will be lost.\n",
    "        - `your_materials/`: Copies of the materials from lecture and section including slides and notebooks. You are encouraged to modify these files. Any modifications in the folder will be stored throughout the semester.\n",
    "        - `Lab1`... : For each lab, homework and project you will have a folder with your work. Any modifications in folder will be stored throughout the semester.\n",
    "    * `Assignments` tab\n",
    "        - Besides the `Files` tab, you have the `Assignments` tab. Under the `Assignments` tab you can fetch labs, homework or projects. For example, if your fectch the assignment `Lab1`, then the folder `Lab1` will appear under he `Files` tab.\n",
    " - **Environments**\n",
    "    * Package are installed under the environment `dsua-112`. If you use the `base` environment instead of the `dsua-112` environment you might have missing packages. \n",
    " - **Grading**\n",
    "    * Under the `Assignments` tab you can perform the following actions on your labs, homework and projects \n",
    "        - fetch \n",
    "        - modify \n",
    "        - validate\n",
    "        - submit \n",
    "    * Please see the [instructional video](https://nbgrader.readthedocs.io/en/stable/user_guide/highlights.html#student-assignment-list-extension-for-jupyter-notebooks) for more information.    \n",
    "    * Scores on labs, homework and projects will appear on Gradescope.  "
   ]
  },
  {
   "cell_type": "markdown",
   "metadata": {},
   "source": [
    "### Piazza \n",
    "\n",
    "Please post any questions or comments on Piazza. If you have personal questions, then please use a private post instead of email. We are glad to help you resolve issues with the assignments, exams or logistics. However we need to enable you to solve problems. So before posting to Piazza:\n",
    " - Searching Piazza for existing posts. Use the folder/filter system\n",
    " - Read the documentation \n",
    " - Searching the Web particularly [forums](https://stackoverflow.com/)\n",
    " - Experiment with different possibilities through trial and error informed by your experiences in class\n",
    "\n",
    "We want to encourage students to help each other. Of course, we will still comment on logistics, typos, tricky material, etc. However we want should not give away the answers. We want to allow for discussion between students to foster collaboration. In order to make Piazza a better resource for everyone, we've outlined some guidelines for you to follow when posting your questions. Remember that we will increase your letter grade based on participation in class, section, office hour and Piazza. Questions and comments that follow these guidelines contribute to your participation.\n",
    "\n",
    "1. Designated Posts\n",
    "     * Ask assignment questions only in the designated posts. We've created individual posts for each problem. Please ask questions, discuss problems, or help out in those posts only. Before asking a question, read through (or search) the whole thread to see if your question has been answered.\n",
    "2. No answers in Posts\n",
    "    * Please don't give away the answer on Piazza. You can explain things in a way that still lets other students figure out the essence of the problem on their own, but don't spoil the problem. If you are not sure about the appropriateness of a post, then post privately to instructors and then we will inform you.\n",
    "3. Try to make Posts Public\n",
    "    * While not divulging answers, try to make your questions public because others might have the same question. \n",
    "4. Posts are not a substittute for Office Hours\n",
    "    * If you think your questions may require lengthy answers, then please come to instructor, teaching assistant or grader office hours.\n",
    "5. Posts are for grading.\n",
    "    * Please do not post questions of the form: \"Is this the correct solution to HW X problem Y?\" or \"Is this the right level of detail for hw X problem Y?\" Please do not use Piazza as a channel for grading. Feel free to ask questions of clarification, or ask questions about the course content to achieve a deeper understanding, but at a certain point, you must apply your knowledge, give it your best shot, and submit your answers with confidence.\n",
    "7. Posts should be self-contained\n",
    "    * Please explain the steps in your reasoning:  \"Starting out, we have: .... Then, I do ..., and I get ... Now, I get confused, and this makes no sense.\" Posting screen shots will help us to understand the bugs"
   ]
  },
  {
   "cell_type": "markdown",
   "metadata": {},
   "source": [
    "## Homework 0\n",
    "### Due Date: Monday February 3, 12PM\n",
    "\n",
    "### Submission Instructions\n",
    "\n",
    "Submission of homework and projects requires Step 1 and Step 2. Note that submission of labs just requires Step 1. \n",
    "\n",
    "##### Step 1\n",
    "You are required to \n",
    "**submit your notebook on JupyterHub**. Please navigate to the `Assignments` tab to  \n",
    "- fetch\n",
    "- modify \n",
    "- validate\n",
    "- submit \n",
    "\n",
    "your notebook. Consult the [instructional video](https://nbgrader.readthedocs.io/en/stable/user_guide/highlights.html#student-assignment-list-extension-for-jupyter-notebooks) for more information about JupyterHub.\n",
    "\n",
    "##### Step 2\n",
    "You are required to **submit a copy of your notebook to Gradescope**. Follow these steps\n",
    "\n",
    "##### Formatting Instructions\n",
    "\n",
    "\n",
    "1. Download as HTML (`File->Download As->HTML(.html)`). \n",
    "1. Open the HTML in the browser. Print to .pdf \n",
    "1. Upload to Gradescope. Consult the [instructional video](https://www.gradescope.com/get_started#student-submission) for more information about Gradescope. \n",
    "1. Map your responses on Gradescope. i.e. Tag your answer's page numbers to the appropriate question on Gradescope. See instructional video for more information.\n",
    "\n",
    "Note that \n",
    "\n",
    "- You should break long lines of code into multiple lines. Otherwise your code will extend out of view from the cell. Consider using `\\` followed by a new line. \n",
    "- For each textual response, please include relevant code that informed your response. \n",
    "- For each plotting question, please include the code used to generate the plot. If your plot does not appear in the HTML / pdf output, then use `Image('name_of_file')` to embed it.\n",
    "- You should not display large output cells such as all rows of a table. Instead convert the input cell from Code to Markdown back to Code to remove the output cell.\n",
    "\n",
    "**Gradescope** points will be awarded if and only if all the formatting instructions are followed.\n",
    "\n",
    "### Collaboration Policy\n",
    "\n",
    "Data science is a collaborative activity. While you may talk with others about\n",
    "the homework, we ask that you **write your solutions individually**. If you do\n",
    "discuss the assignments with others please **include their names** at the top\n",
    "of your solution.\n",
    "\n",
    "**Collaborators:** *list names here*\n",
    "\n",
    "### Rubric\n",
    "\n",
    "Question | Points\n",
    "--- | ---\n",
    "Gradescope | 1\n",
    "Question 1 | 2\n",
    "Question 2 | 1\n",
    "Total | 4"
   ]
  },
  {
   "cell_type": "markdown",
   "metadata": {},
   "source": [
    "## Question 1\n",
    "\n",
    "In the cell below, complete the function `is_prime(x)` by filling in the missing code. The function `is_prime(x)` returns `True` when a number `x` is prime. It returns `False` otherwise.\n",
    "Ensure you pass the visible tests which follow. Remember there will be hidden tests that your function will be evaluated upon. Your grade for this lab assignment will be determined by the hidden tests you pass."
   ]
  },
  {
   "cell_type": "code",
   "execution_count": 20,
   "metadata": {
    "deletable": false,
    "nbgrader": {
     "cell_type": "code",
     "checksum": "2a7a52753b72771ff6e2809d376e4f16",
     "grade": false,
     "grade_id": "cell-bf3df6e24476df3d",
     "locked": false,
     "schema_version": 3,
     "solution": true,
     "task": false
    }
   },
   "outputs": [],
   "source": [
    "def is_prime(x): \n",
    "    # Defining function called is_prime\n",
    "    if x < 2: \n",
    "        #Smallest prime number is true so we can start after 2\n",
    "        return False\n",
    "    else: \n",
    "        #For anything larger than 2 \n",
    "        for i in range(2, x): \n",
    "            #Create a range that starts at two and ends at the input\n",
    "            \n",
    "            if x % i == 0: \n",
    "                \n",
    "                #If an input has no remainder it is not prime\n",
    "                return False \n",
    "            \n",
    "            # All non_prime numbers will have a remainder\n",
    "        return True \n",
    "    \n",
    "    #If the input has a remainder is it prime and will return true\n",
    "    \n",
    "    \n",
    "    #raise NotImplementedError()\n",
    "    "
   ]
  },
  {
   "cell_type": "code",
   "execution_count": 21,
   "metadata": {
    "deletable": false,
    "editable": false,
    "nbgrader": {
     "cell_type": "code",
     "checksum": "12cfcef49659514a2dbe9544c62c0760",
     "grade": true,
     "grade_id": "cell-b16e081287972480",
     "locked": true,
     "points": 1,
     "schema_version": 3,
     "solution": false,
     "task": false
    }
   },
   "outputs": [],
   "source": [
    "# TEST\n",
    "assert is_prime(2)==True\n",
    "assert is_prime(4)==False"
   ]
  },
  {
   "cell_type": "code",
   "execution_count": null,
   "metadata": {
    "deletable": false,
    "editable": false,
    "nbgrader": {
     "cell_type": "code",
     "checksum": "5625f4de1eb36bf343e255041e0a8bdf",
     "grade": true,
     "grade_id": "cell-d5375e733d308169",
     "locked": true,
     "points": 1,
     "schema_version": 3,
     "solution": false,
     "task": false
    }
   },
   "outputs": [],
   "source": []
  },
  {
   "cell_type": "markdown",
   "metadata": {},
   "source": [
    "## Question 2\n",
    "\n",
    "Write examples of two mutable datatypes and two immutable datatypes in Python"
   ]
  },
  {
   "cell_type": "markdown",
   "metadata": {},
   "source": [
    "##### Write Your Answer Here\n",
    "Mutalable: Lists and Dictionaries\n",
    "\n",
    "Immutable: Tuples and Strings"
   ]
  },
  {
   "cell_type": "markdown",
   "metadata": {},
   "source": [
    "------\n",
    "### HW0 Complete! Congratulations.\n",
    "##### Ensure you follow the submission instructions. Please submit this file on JupyterHub and Gradescope in the appropriate formats as mentioned above.\n",
    "------"
   ]
  }
 ],
 "metadata": {
  "kernelspec": {
   "display_name": "Python 3",
   "language": "python",
   "name": "python3"
  },
  "language_info": {
   "codemirror_mode": {
    "name": "ipython",
    "version": 3
   },
   "file_extension": ".py",
   "mimetype": "text/x-python",
   "name": "python",
   "nbconvert_exporter": "python",
   "pygments_lexer": "ipython3",
   "version": "3.7.6"
  }
 },
 "nbformat": 4,
 "nbformat_minor": 4
}
